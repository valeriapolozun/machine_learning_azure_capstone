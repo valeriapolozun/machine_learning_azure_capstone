{
 "cells": [
  {
   "cell_type": "markdown",
   "metadata": {},
   "source": [
    "# Automated ML\n",
    "\n",
    "TODO: Import Dependencies. In the cell below, import all the dependencies that you will need to complete the project."
   ]
  },
  {
   "cell_type": "code",
   "execution_count": 1,
   "metadata": {
    "gather": {
     "logged": 1598423888013
    },
    "jupyter": {
     "outputs_hidden": false,
     "source_hidden": false
    },
    "nteract": {
     "transient": {
      "deleting": false
     }
    }
   },
   "outputs": [
    {
     "name": "stdout",
     "output_type": "stream",
     "text": [
      "SDK version: 1.26.0\n"
     ]
    }
   ],
   "source": [
    "import logging\n",
    "import os\n",
    "import csv\n",
    "import joblib, pickle\n",
    "\n",
    "from matplotlib import pyplot as plt\n",
    "import numpy as np\n",
    "import pandas as pd\n",
    "\n",
    "import azureml.core\n",
    "from azureml.core.experiment import Experiment\n",
    "from azureml.core.workspace import Workspace\n",
    "from azureml.train.automl import AutoMLConfig\n",
    "from azureml.core.dataset import Dataset\n",
    "from azureml.data.datapath import DataPath\n",
    "from azureml.data.dataset_factory import TabularDatasetFactory\n",
    "\n",
    "# Check core SDK version number\n",
    "print(\"SDK version:\", azureml.core.VERSION)"
   ]
  },
  {
   "cell_type": "markdown",
   "metadata": {},
   "source": [
    "## Dataset\n",
    "\n",
    "### Overview\n",
    "TODO: In this markdown cell, give an overview of the dataset you are using. Also mention the task you will be performing.\n",
    "\n",
    "\n",
    "TODO: Get data. In the cell below, write code to access the data you will be using in this project. Remember that the dataset needs to be external."
   ]
  },
  {
   "cell_type": "code",
   "execution_count": 16,
   "metadata": {
    "gather": {
     "logged": 1598423890461
    },
    "jupyter": {
     "outputs_hidden": false,
     "source_hidden": false
    },
    "nteract": {
     "transient": {
      "deleting": false
     }
    }
   },
   "outputs": [],
   "source": [
    "ws = Workspace.from_config()\n",
    "\n",
    "# choose a name for experiment\n",
    "experiment_name = 'mobile_price_prediction'\n",
    "\n",
    "experiment=Experiment(ws, experiment_name)"
   ]
  },
  {
   "cell_type": "code",
   "execution_count": 17,
   "metadata": {},
   "outputs": [
    {
     "name": "stdout",
     "output_type": "stream",
     "text": [
      "Cluster already exists\n"
     ]
    }
   ],
   "source": [
    "from azureml.core.compute import ComputeTarget, AmlCompute\n",
    "from azureml.core.compute_target import ComputeTargetException\n",
    "\n",
    "compute_cluster = 'automl-cluster'\n",
    "\n",
    "try:\n",
    "    comp_trget = ComputeTarget(workspace=ws, name=compute_cluster)\n",
    "    print('Cluster already exists')\n",
    "except ComputeTargetException:\n",
    "    compute_confg = AmlCompute.provisioning_configuration(vm_size=\"STANDARD_D3_V2\",max_nodes=4)\n",
    "    comp_trget = ComputeTarget.create(ws,compute_cluster,compute_confg)"
   ]
  },
  {
   "cell_type": "code",
   "execution_count": 18,
   "metadata": {},
   "outputs": [],
   "source": [
    "input_data = pd.read_csv(\"https://raw.githubusercontent.com/valeriapolozun/machine_learning_azure_capstone/803e04124532b8921a0b19d70aa71abaccf74a1f/Mobile_Price_Classification.csv\")"
   ]
  },
  {
   "cell_type": "code",
   "execution_count": 19,
   "metadata": {},
   "outputs": [],
   "source": [
    "#input_data=pd.read_csv('Mobile_Price_Classification.csv')"
   ]
  },
  {
   "cell_type": "code",
   "execution_count": 20,
   "metadata": {},
   "outputs": [
    {
     "data": {
      "text/html": [
       "<div>\n",
       "<style scoped>\n",
       "    .dataframe tbody tr th:only-of-type {\n",
       "        vertical-align: middle;\n",
       "    }\n",
       "\n",
       "    .dataframe tbody tr th {\n",
       "        vertical-align: top;\n",
       "    }\n",
       "\n",
       "    .dataframe thead th {\n",
       "        text-align: right;\n",
       "    }\n",
       "</style>\n",
       "<table border=\"1\" class=\"dataframe\">\n",
       "  <thead>\n",
       "    <tr style=\"text-align: right;\">\n",
       "      <th></th>\n",
       "      <th>battery_power</th>\n",
       "      <th>blue</th>\n",
       "      <th>clock_speed</th>\n",
       "      <th>dual_sim</th>\n",
       "      <th>fc</th>\n",
       "      <th>four_g</th>\n",
       "      <th>int_memory</th>\n",
       "      <th>m_dep</th>\n",
       "      <th>mobile_wt</th>\n",
       "      <th>n_cores</th>\n",
       "      <th>...</th>\n",
       "      <th>px_height</th>\n",
       "      <th>px_width</th>\n",
       "      <th>ram</th>\n",
       "      <th>sc_h</th>\n",
       "      <th>sc_w</th>\n",
       "      <th>talk_time</th>\n",
       "      <th>three_g</th>\n",
       "      <th>touch_screen</th>\n",
       "      <th>wifi</th>\n",
       "      <th>price_range</th>\n",
       "    </tr>\n",
       "  </thead>\n",
       "  <tbody>\n",
       "    <tr>\n",
       "      <th>0</th>\n",
       "      <td>842</td>\n",
       "      <td>0</td>\n",
       "      <td>2.2</td>\n",
       "      <td>0.0</td>\n",
       "      <td>1</td>\n",
       "      <td>0</td>\n",
       "      <td>7</td>\n",
       "      <td>0.6</td>\n",
       "      <td>188.0</td>\n",
       "      <td>2</td>\n",
       "      <td>...</td>\n",
       "      <td>20</td>\n",
       "      <td>756</td>\n",
       "      <td>2549</td>\n",
       "      <td>9</td>\n",
       "      <td>7</td>\n",
       "      <td>19</td>\n",
       "      <td>0</td>\n",
       "      <td>0</td>\n",
       "      <td>1</td>\n",
       "      <td>1</td>\n",
       "    </tr>\n",
       "    <tr>\n",
       "      <th>1</th>\n",
       "      <td>1021</td>\n",
       "      <td>1</td>\n",
       "      <td>0.5</td>\n",
       "      <td>1.0</td>\n",
       "      <td>0</td>\n",
       "      <td>1</td>\n",
       "      <td>53</td>\n",
       "      <td>0.7</td>\n",
       "      <td>136.0</td>\n",
       "      <td>3</td>\n",
       "      <td>...</td>\n",
       "      <td>905</td>\n",
       "      <td>1988</td>\n",
       "      <td>2631</td>\n",
       "      <td>17</td>\n",
       "      <td>3</td>\n",
       "      <td>7</td>\n",
       "      <td>1</td>\n",
       "      <td>1</td>\n",
       "      <td>0</td>\n",
       "      <td>2</td>\n",
       "    </tr>\n",
       "    <tr>\n",
       "      <th>2</th>\n",
       "      <td>563</td>\n",
       "      <td>1</td>\n",
       "      <td>0.5</td>\n",
       "      <td>1.0</td>\n",
       "      <td>2</td>\n",
       "      <td>1</td>\n",
       "      <td>41</td>\n",
       "      <td>0.9</td>\n",
       "      <td>145.0</td>\n",
       "      <td>5</td>\n",
       "      <td>...</td>\n",
       "      <td>1263</td>\n",
       "      <td>1716</td>\n",
       "      <td>2603</td>\n",
       "      <td>11</td>\n",
       "      <td>2</td>\n",
       "      <td>9</td>\n",
       "      <td>1</td>\n",
       "      <td>1</td>\n",
       "      <td>0</td>\n",
       "      <td>2</td>\n",
       "    </tr>\n",
       "    <tr>\n",
       "      <th>3</th>\n",
       "      <td>615</td>\n",
       "      <td>1</td>\n",
       "      <td>2.5</td>\n",
       "      <td>0.0</td>\n",
       "      <td>0</td>\n",
       "      <td>0</td>\n",
       "      <td>10</td>\n",
       "      <td>0.8</td>\n",
       "      <td>131.0</td>\n",
       "      <td>6</td>\n",
       "      <td>...</td>\n",
       "      <td>1216</td>\n",
       "      <td>1786</td>\n",
       "      <td>2769</td>\n",
       "      <td>16</td>\n",
       "      <td>8</td>\n",
       "      <td>11</td>\n",
       "      <td>1</td>\n",
       "      <td>0</td>\n",
       "      <td>0</td>\n",
       "      <td>2</td>\n",
       "    </tr>\n",
       "    <tr>\n",
       "      <th>4</th>\n",
       "      <td>1821</td>\n",
       "      <td>1</td>\n",
       "      <td>1.2</td>\n",
       "      <td>0.0</td>\n",
       "      <td>13</td>\n",
       "      <td>1</td>\n",
       "      <td>44</td>\n",
       "      <td>0.6</td>\n",
       "      <td>141.0</td>\n",
       "      <td>2</td>\n",
       "      <td>...</td>\n",
       "      <td>1208</td>\n",
       "      <td>1212</td>\n",
       "      <td>1411</td>\n",
       "      <td>8</td>\n",
       "      <td>2</td>\n",
       "      <td>15</td>\n",
       "      <td>1</td>\n",
       "      <td>1</td>\n",
       "      <td>0</td>\n",
       "      <td>1</td>\n",
       "    </tr>\n",
       "    <tr>\n",
       "      <th>...</th>\n",
       "      <td>...</td>\n",
       "      <td>...</td>\n",
       "      <td>...</td>\n",
       "      <td>...</td>\n",
       "      <td>...</td>\n",
       "      <td>...</td>\n",
       "      <td>...</td>\n",
       "      <td>...</td>\n",
       "      <td>...</td>\n",
       "      <td>...</td>\n",
       "      <td>...</td>\n",
       "      <td>...</td>\n",
       "      <td>...</td>\n",
       "      <td>...</td>\n",
       "      <td>...</td>\n",
       "      <td>...</td>\n",
       "      <td>...</td>\n",
       "      <td>...</td>\n",
       "      <td>...</td>\n",
       "      <td>...</td>\n",
       "      <td>...</td>\n",
       "    </tr>\n",
       "    <tr>\n",
       "      <th>2995</th>\n",
       "      <td>996</td>\n",
       "      <td>1700</td>\n",
       "      <td>1.0</td>\n",
       "      <td>1.9</td>\n",
       "      <td>0</td>\n",
       "      <td>0</td>\n",
       "      <td>1</td>\n",
       "      <td>54.0</td>\n",
       "      <td>0.5</td>\n",
       "      <td>170</td>\n",
       "      <td>...</td>\n",
       "      <td>17</td>\n",
       "      <td>644</td>\n",
       "      <td>913</td>\n",
       "      <td>2121</td>\n",
       "      <td>14</td>\n",
       "      <td>8</td>\n",
       "      <td>15</td>\n",
       "      <td>1</td>\n",
       "      <td>1</td>\n",
       "      <td>0</td>\n",
       "    </tr>\n",
       "    <tr>\n",
       "      <th>2996</th>\n",
       "      <td>997</td>\n",
       "      <td>609</td>\n",
       "      <td>0.0</td>\n",
       "      <td>1.8</td>\n",
       "      <td>1</td>\n",
       "      <td>0</td>\n",
       "      <td>0</td>\n",
       "      <td>13.0</td>\n",
       "      <td>0.9</td>\n",
       "      <td>186</td>\n",
       "      <td>...</td>\n",
       "      <td>2</td>\n",
       "      <td>1152</td>\n",
       "      <td>1632</td>\n",
       "      <td>1933</td>\n",
       "      <td>8</td>\n",
       "      <td>1</td>\n",
       "      <td>19</td>\n",
       "      <td>0</td>\n",
       "      <td>1</td>\n",
       "      <td>1</td>\n",
       "    </tr>\n",
       "    <tr>\n",
       "      <th>2997</th>\n",
       "      <td>998</td>\n",
       "      <td>1185</td>\n",
       "      <td>0.0</td>\n",
       "      <td>1.4</td>\n",
       "      <td>0</td>\n",
       "      <td>1</td>\n",
       "      <td>1</td>\n",
       "      <td>8.0</td>\n",
       "      <td>0.5</td>\n",
       "      <td>80</td>\n",
       "      <td>...</td>\n",
       "      <td>12</td>\n",
       "      <td>477</td>\n",
       "      <td>825</td>\n",
       "      <td>1223</td>\n",
       "      <td>5</td>\n",
       "      <td>0</td>\n",
       "      <td>14</td>\n",
       "      <td>1</td>\n",
       "      <td>0</td>\n",
       "      <td>0</td>\n",
       "    </tr>\n",
       "    <tr>\n",
       "      <th>2998</th>\n",
       "      <td>999</td>\n",
       "      <td>1533</td>\n",
       "      <td>1.0</td>\n",
       "      <td>0.5</td>\n",
       "      <td>1</td>\n",
       "      <td>0</td>\n",
       "      <td>0</td>\n",
       "      <td>50.0</td>\n",
       "      <td>0.4</td>\n",
       "      <td>171</td>\n",
       "      <td>...</td>\n",
       "      <td>12</td>\n",
       "      <td>38</td>\n",
       "      <td>832</td>\n",
       "      <td>2509</td>\n",
       "      <td>15</td>\n",
       "      <td>11</td>\n",
       "      <td>6</td>\n",
       "      <td>0</td>\n",
       "      <td>1</td>\n",
       "      <td>0</td>\n",
       "    </tr>\n",
       "    <tr>\n",
       "      <th>2999</th>\n",
       "      <td>1000</td>\n",
       "      <td>1270</td>\n",
       "      <td>1.0</td>\n",
       "      <td>0.5</td>\n",
       "      <td>0</td>\n",
       "      <td>4</td>\n",
       "      <td>1</td>\n",
       "      <td>35.0</td>\n",
       "      <td>0.1</td>\n",
       "      <td>140</td>\n",
       "      <td>...</td>\n",
       "      <td>19</td>\n",
       "      <td>457</td>\n",
       "      <td>608</td>\n",
       "      <td>2828</td>\n",
       "      <td>9</td>\n",
       "      <td>2</td>\n",
       "      <td>3</td>\n",
       "      <td>1</td>\n",
       "      <td>0</td>\n",
       "      <td>1</td>\n",
       "    </tr>\n",
       "  </tbody>\n",
       "</table>\n",
       "<p>3000 rows × 21 columns</p>\n",
       "</div>"
      ],
      "text/plain": [
       "      battery_power  blue  clock_speed  dual_sim  fc  four_g  int_memory  \\\n",
       "0               842     0          2.2       0.0   1       0           7   \n",
       "1              1021     1          0.5       1.0   0       1          53   \n",
       "2               563     1          0.5       1.0   2       1          41   \n",
       "3               615     1          2.5       0.0   0       0          10   \n",
       "4              1821     1          1.2       0.0  13       1          44   \n",
       "...             ...   ...          ...       ...  ..     ...         ...   \n",
       "2995            996  1700          1.0       1.9   0       0           1   \n",
       "2996            997   609          0.0       1.8   1       0           0   \n",
       "2997            998  1185          0.0       1.4   0       1           1   \n",
       "2998            999  1533          1.0       0.5   1       0           0   \n",
       "2999           1000  1270          1.0       0.5   0       4           1   \n",
       "\n",
       "      m_dep  mobile_wt  n_cores  ...  px_height  px_width   ram  sc_h  sc_w  \\\n",
       "0       0.6      188.0        2  ...         20       756  2549     9     7   \n",
       "1       0.7      136.0        3  ...        905      1988  2631    17     3   \n",
       "2       0.9      145.0        5  ...       1263      1716  2603    11     2   \n",
       "3       0.8      131.0        6  ...       1216      1786  2769    16     8   \n",
       "4       0.6      141.0        2  ...       1208      1212  1411     8     2   \n",
       "...     ...        ...      ...  ...        ...       ...   ...   ...   ...   \n",
       "2995   54.0        0.5      170  ...         17       644   913  2121    14   \n",
       "2996   13.0        0.9      186  ...          2      1152  1632  1933     8   \n",
       "2997    8.0        0.5       80  ...         12       477   825  1223     5   \n",
       "2998   50.0        0.4      171  ...         12        38   832  2509    15   \n",
       "2999   35.0        0.1      140  ...         19       457   608  2828     9   \n",
       "\n",
       "      talk_time  three_g  touch_screen  wifi  price_range  \n",
       "0            19        0             0     1            1  \n",
       "1             7        1             1     0            2  \n",
       "2             9        1             1     0            2  \n",
       "3            11        1             0     0            2  \n",
       "4            15        1             1     0            1  \n",
       "...         ...      ...           ...   ...          ...  \n",
       "2995          8       15             1     1            0  \n",
       "2996          1       19             0     1            1  \n",
       "2997          0       14             1     0            0  \n",
       "2998         11        6             0     1            0  \n",
       "2999          2        3             1     0            1  \n",
       "\n",
       "[3000 rows x 21 columns]"
      ]
     },
     "execution_count": 20,
     "metadata": {},
     "output_type": "execute_result"
    }
   ],
   "source": [
    "input_data"
   ]
  },
  {
   "cell_type": "code",
   "execution_count": 21,
   "metadata": {},
   "outputs": [
    {
     "data": {
      "text/html": [
       "<div>\n",
       "<style scoped>\n",
       "    .dataframe tbody tr th:only-of-type {\n",
       "        vertical-align: middle;\n",
       "    }\n",
       "\n",
       "    .dataframe tbody tr th {\n",
       "        vertical-align: top;\n",
       "    }\n",
       "\n",
       "    .dataframe thead th {\n",
       "        text-align: right;\n",
       "    }\n",
       "</style>\n",
       "<table border=\"1\" class=\"dataframe\">\n",
       "  <thead>\n",
       "    <tr style=\"text-align: right;\">\n",
       "      <th></th>\n",
       "      <th>battery_power</th>\n",
       "      <th>blue</th>\n",
       "      <th>clock_speed</th>\n",
       "      <th>dual_sim</th>\n",
       "      <th>fc</th>\n",
       "      <th>four_g</th>\n",
       "      <th>int_memory</th>\n",
       "      <th>m_dep</th>\n",
       "      <th>mobile_wt</th>\n",
       "      <th>n_cores</th>\n",
       "      <th>...</th>\n",
       "      <th>px_height</th>\n",
       "      <th>px_width</th>\n",
       "      <th>ram</th>\n",
       "      <th>sc_h</th>\n",
       "      <th>sc_w</th>\n",
       "      <th>talk_time</th>\n",
       "      <th>three_g</th>\n",
       "      <th>touch_screen</th>\n",
       "      <th>wifi</th>\n",
       "      <th>price_range</th>\n",
       "    </tr>\n",
       "  </thead>\n",
       "  <tbody>\n",
       "    <tr>\n",
       "      <th>2971</th>\n",
       "      <td>972</td>\n",
       "      <td>1207</td>\n",
       "      <td>0.0</td>\n",
       "      <td>1.1</td>\n",
       "      <td>1</td>\n",
       "      <td>9</td>\n",
       "      <td>1</td>\n",
       "      <td>56.0</td>\n",
       "      <td>0.1</td>\n",
       "      <td>141</td>\n",
       "      <td>...</td>\n",
       "      <td>11</td>\n",
       "      <td>93</td>\n",
       "      <td>560</td>\n",
       "      <td>2293</td>\n",
       "      <td>12</td>\n",
       "      <td>4</td>\n",
       "      <td>19</td>\n",
       "      <td>1</td>\n",
       "      <td>1</td>\n",
       "      <td>0</td>\n",
       "    </tr>\n",
       "    <tr>\n",
       "      <th>1056</th>\n",
       "      <td>812</td>\n",
       "      <td>0</td>\n",
       "      <td>0.5</td>\n",
       "      <td>1.0</td>\n",
       "      <td>1</td>\n",
       "      <td>0</td>\n",
       "      <td>64</td>\n",
       "      <td>1.0</td>\n",
       "      <td>106.0</td>\n",
       "      <td>4</td>\n",
       "      <td>...</td>\n",
       "      <td>35</td>\n",
       "      <td>1309</td>\n",
       "      <td>3102</td>\n",
       "      <td>6</td>\n",
       "      <td>0</td>\n",
       "      <td>2</td>\n",
       "      <td>0</td>\n",
       "      <td>0</td>\n",
       "      <td>0</td>\n",
       "      <td>2</td>\n",
       "    </tr>\n",
       "    <tr>\n",
       "      <th>2848</th>\n",
       "      <td>849</td>\n",
       "      <td>1170</td>\n",
       "      <td>1.0</td>\n",
       "      <td>2.2</td>\n",
       "      <td>0</td>\n",
       "      <td>4</td>\n",
       "      <td>1</td>\n",
       "      <td>63.0</td>\n",
       "      <td>0.7</td>\n",
       "      <td>83</td>\n",
       "      <td>...</td>\n",
       "      <td>5</td>\n",
       "      <td>442</td>\n",
       "      <td>1905</td>\n",
       "      <td>2658</td>\n",
       "      <td>11</td>\n",
       "      <td>10</td>\n",
       "      <td>11</td>\n",
       "      <td>1</td>\n",
       "      <td>0</td>\n",
       "      <td>1</td>\n",
       "    </tr>\n",
       "    <tr>\n",
       "      <th>1217</th>\n",
       "      <td>1451</td>\n",
       "      <td>1</td>\n",
       "      <td>0.5</td>\n",
       "      <td>0.0</td>\n",
       "      <td>5</td>\n",
       "      <td>1</td>\n",
       "      <td>57</td>\n",
       "      <td>0.6</td>\n",
       "      <td>181.0</td>\n",
       "      <td>8</td>\n",
       "      <td>...</td>\n",
       "      <td>812</td>\n",
       "      <td>1456</td>\n",
       "      <td>3038</td>\n",
       "      <td>15</td>\n",
       "      <td>7</td>\n",
       "      <td>18</td>\n",
       "      <td>1</td>\n",
       "      <td>0</td>\n",
       "      <td>1</td>\n",
       "      <td>3</td>\n",
       "    </tr>\n",
       "    <tr>\n",
       "      <th>2505</th>\n",
       "      <td>506</td>\n",
       "      <td>532</td>\n",
       "      <td>0.0</td>\n",
       "      <td>0.5</td>\n",
       "      <td>0</td>\n",
       "      <td>7</td>\n",
       "      <td>0</td>\n",
       "      <td>51.0</td>\n",
       "      <td>0.6</td>\n",
       "      <td>180</td>\n",
       "      <td>...</td>\n",
       "      <td>14</td>\n",
       "      <td>406</td>\n",
       "      <td>1249</td>\n",
       "      <td>1525</td>\n",
       "      <td>7</td>\n",
       "      <td>6</td>\n",
       "      <td>2</td>\n",
       "      <td>0</td>\n",
       "      <td>1</td>\n",
       "      <td>1</td>\n",
       "    </tr>\n",
       "  </tbody>\n",
       "</table>\n",
       "<p>5 rows × 21 columns</p>\n",
       "</div>"
      ],
      "text/plain": [
       "      battery_power  blue  clock_speed  dual_sim  fc  four_g  int_memory  \\\n",
       "2971            972  1207          0.0       1.1   1       9           1   \n",
       "1056            812     0          0.5       1.0   1       0          64   \n",
       "2848            849  1170          1.0       2.2   0       4           1   \n",
       "1217           1451     1          0.5       0.0   5       1          57   \n",
       "2505            506   532          0.0       0.5   0       7           0   \n",
       "\n",
       "      m_dep  mobile_wt  n_cores  ...  px_height  px_width   ram  sc_h  sc_w  \\\n",
       "2971   56.0        0.1      141  ...         11        93   560  2293    12   \n",
       "1056    1.0      106.0        4  ...         35      1309  3102     6     0   \n",
       "2848   63.0        0.7       83  ...          5       442  1905  2658    11   \n",
       "1217    0.6      181.0        8  ...        812      1456  3038    15     7   \n",
       "2505   51.0        0.6      180  ...         14       406  1249  1525     7   \n",
       "\n",
       "      talk_time  three_g  touch_screen  wifi  price_range  \n",
       "2971          4       19             1     1            0  \n",
       "1056          2        0             0     0            2  \n",
       "2848         10       11             1     0            1  \n",
       "1217         18        1             0     1            3  \n",
       "2505          6        2             0     1            1  \n",
       "\n",
       "[5 rows x 21 columns]"
      ]
     },
     "execution_count": 21,
     "metadata": {},
     "output_type": "execute_result"
    }
   ],
   "source": [
    "# split data into training and test data\n",
    "from sklearn.model_selection import train_test_split\n",
    "train_data, test_data = train_test_split(input_data,test_size=0.2)\n",
    "train_data.head()"
   ]
  },
  {
   "cell_type": "code",
   "execution_count": 22,
   "metadata": {},
   "outputs": [],
   "source": [
    "if \"data\" not in os.listdir():\n",
    "    #os.mkdir(\"./training\")if \"training\" not in os.listdir():\n",
    "    os.mkdir(\"./data\")"
   ]
  },
  {
   "cell_type": "code",
   "execution_count": 23,
   "metadata": {},
   "outputs": [],
   "source": [
    "# Save training data to a csv file \n",
    "train_data.to_csv(\"data/mobile_price_traindata.csv\", index=False)"
   ]
  },
  {
   "cell_type": "code",
   "execution_count": 24,
   "metadata": {},
   "outputs": [
    {
     "data": {
      "text/plain": [
       "{\n",
       "  \"name\": \"workspaceblobstore\",\n",
       "  \"container_name\": \"azureml-blobstore-0b49a19a-37f6-4737-ab05-a7102ad81896\",\n",
       "  \"account_name\": \"mlstrg143627\",\n",
       "  \"protocol\": \"https\",\n",
       "  \"endpoint\": \"core.windows.net\"\n",
       "}"
      ]
     },
     "execution_count": 24,
     "metadata": {},
     "output_type": "execute_result"
    }
   ],
   "source": [
    "data_store = ws.get_default_datastore()\n",
    "data_store"
   ]
  },
  {
   "cell_type": "code",
   "execution_count": 25,
   "metadata": {},
   "outputs": [
    {
     "name": "stdout",
     "output_type": "stream",
     "text": [
      "Uploading an estimated of 1 files\n",
      "Uploading data/mobile_price_traindata.csv\n",
      "Uploaded data/mobile_price_traindata.csv, 1 files out of an estimated total of 1\n",
      "Uploaded 1 files\n"
     ]
    },
    {
     "data": {
      "text/plain": [
       "$AZUREML_DATAREFERENCE_c2a5613704234991afd9fc3db2de458e"
      ]
     },
     "execution_count": 25,
     "metadata": {},
     "output_type": "execute_result"
    }
   ],
   "source": [
    "data_store.upload(src_dir='data/',target_path='pricing', overwrite=True, show_progress=True)\n"
   ]
  },
  {
   "cell_type": "code",
   "execution_count": 26,
   "metadata": {},
   "outputs": [],
   "source": [
    "train_data = Dataset.Tabular.from_delimited_files(path = [(data_store, 'pricing/mobile_price_traindata.csv')])"
   ]
  },
  {
   "cell_type": "code",
   "execution_count": 27,
   "metadata": {},
   "outputs": [
    {
     "data": {
      "text/plain": [
       "{\n",
       "  \"source\": [\n",
       "    \"('workspaceblobstore', 'pricing/mobile_price_traindata.csv')\"\n",
       "  ],\n",
       "  \"definition\": [\n",
       "    \"GetDatastoreFiles\",\n",
       "    \"ParseDelimited\",\n",
       "    \"DropColumns\",\n",
       "    \"SetColumnTypes\"\n",
       "  ]\n",
       "}"
      ]
     },
     "execution_count": 27,
     "metadata": {},
     "output_type": "execute_result"
    }
   ],
   "source": [
    "train_data"
   ]
  },
  {
   "cell_type": "markdown",
   "metadata": {},
   "source": [
    "## AutoML Configuration\n",
    "\n",
    "TODO: Explain why you chose the automl settings and cofiguration you used below."
   ]
  },
  {
   "cell_type": "code",
   "execution_count": 28,
   "metadata": {
    "gather": {
     "logged": 1598429217746
    },
    "jupyter": {
     "outputs_hidden": false,
     "source_hidden": false
    },
    "nteract": {
     "transient": {
      "deleting": false
     }
    }
   },
   "outputs": [],
   "source": [
    "# TODO: Put your automl settings here\n",
    "automl_settings = {\n",
    "    \"experiment_timeout_minutes\": 25,\n",
    "    \"max_concurrent_iterations\": 4,\n",
    "    \"primary_metric\" : 'accuracy'\n",
    "}\n",
    "\n",
    "# TODO: Put your automl config here\n",
    "automl_config = AutoMLConfig(\n",
    "                             compute_target=comp_trget,\n",
    "                             task = \"classification\",\n",
    "                             training_data=train_data,\n",
    "                             label_column_name=\"price_range\",   \n",
    "                             enable_early_stopping= True,\n",
    "                             featurization= 'auto',\n",
    "                             n_cross_validations=5,\n",
    "                             **automl_settings\n",
    ")"
   ]
  },
  {
   "cell_type": "code",
   "execution_count": 29,
   "metadata": {
    "gather": {
     "logged": 1598431107951
    },
    "jupyter": {
     "outputs_hidden": false,
     "source_hidden": false
    },
    "nteract": {
     "transient": {
      "deleting": false
     }
    }
   },
   "outputs": [
    {
     "name": "stdout",
     "output_type": "stream",
     "text": [
      "Submitting remote run.\n"
     ]
    },
    {
     "data": {
      "text/html": [
       "<table style=\"width:100%\"><tr><th>Experiment</th><th>Id</th><th>Type</th><th>Status</th><th>Details Page</th><th>Docs Page</th></tr><tr><td>mobile_price_prediction</td><td>AutoML_4c763df7-6fab-4009-9e8c-7b581d7a4ce6</td><td>automl</td><td>NotStarted</td><td><a href=\"https://ml.azure.com/runs/AutoML_4c763df7-6fab-4009-9e8c-7b581d7a4ce6?wsid=/subscriptions/6971f5ac-8af1-446e-8034-05acea24681f/resourcegroups/aml-quickstarts-143627/workspaces/quick-starts-ws-143627&amp;tid=660b3398-b80e-49d2-bc5b-ac1dc93b5254\" target=\"_blank\" rel=\"noopener\">Link to Azure Machine Learning studio</a></td><td><a href=\"https://docs.microsoft.com/en-us/python/api/overview/azure/ml/intro?view=azure-ml-py\" target=\"_blank\" rel=\"noopener\">Link to Documentation</a></td></tr></table>"
      ],
      "text/plain": [
       "<IPython.core.display.HTML object>"
      ]
     },
     "metadata": {},
     "output_type": "display_data"
    }
   ],
   "source": [
    "# TODO: Submit your experiment\n",
    "#remote_run = experiment.submit(automl_config, show_output = True)\n",
    "remote_run = experiment.submit(automl_config)"
   ]
  },
  {
   "cell_type": "markdown",
   "metadata": {},
   "source": [
    "## Run Details\n",
    "\n",
    "OPTIONAL: Write about the different models trained and their performance. Why do you think some models did better than others?\n",
    "\n",
    "\n",
    "TODO: In the cell below, use the `RunDetails` widget to show the different experiments."
   ]
  },
  {
   "cell_type": "code",
   "execution_count": 30,
   "metadata": {
    "gather": {
     "logged": 1598431121770
    },
    "jupyter": {
     "outputs_hidden": false,
     "source_hidden": false
    },
    "nteract": {
     "transient": {
      "deleting": false
     }
    }
   },
   "outputs": [
    {
     "data": {
      "application/vnd.jupyter.widget-view+json": {
       "model_id": "7c8fa0ed3eb0437eaec4434e074009d5",
       "version_major": 2,
       "version_minor": 0
      },
      "text/plain": [
       "_AutoMLWidget(widget_settings={'childWidgetDisplay': 'popup', 'send_telemetry': False, 'log_level': 'INFO', 's…"
      ]
     },
     "metadata": {},
     "output_type": "display_data"
    },
    {
     "data": {
      "application/aml.mini.widget.v1": "{\"status\": \"Completed\", \"workbench_run_details_uri\": \"https://ml.azure.com/runs/AutoML_4c763df7-6fab-4009-9e8c-7b581d7a4ce6?wsid=/subscriptions/6971f5ac-8af1-446e-8034-05acea24681f/resourcegroups/aml-quickstarts-143627/workspaces/quick-starts-ws-143627&tid=660b3398-b80e-49d2-bc5b-ac1dc93b5254\", \"run_id\": \"AutoML_4c763df7-6fab-4009-9e8c-7b581d7a4ce6\", \"run_properties\": {\"run_id\": \"AutoML_4c763df7-6fab-4009-9e8c-7b581d7a4ce6\", \"created_utc\": \"2021-04-27T13:41:05.034791Z\", \"properties\": {\"num_iterations\": \"1000\", \"training_type\": \"TrainFull\", \"acquisition_function\": \"EI\", \"primary_metric\": \"accuracy\", \"train_split\": \"0\", \"acquisition_parameter\": \"0\", \"num_cross_validation\": \"5\", \"target\": \"automl-cluster\", \"AMLSettingsJsonString\": \"{\\\"path\\\":null,\\\"name\\\":\\\"mobile_price_prediction\\\",\\\"subscription_id\\\":\\\"6971f5ac-8af1-446e-8034-05acea24681f\\\",\\\"resource_group\\\":\\\"aml-quickstarts-143627\\\",\\\"workspace_name\\\":\\\"quick-starts-ws-143627\\\",\\\"region\\\":\\\"southcentralus\\\",\\\"compute_target\\\":\\\"automl-cluster\\\",\\\"spark_service\\\":null,\\\"azure_service\\\":\\\"remote\\\",\\\"many_models\\\":false,\\\"pipeline_fetch_max_batch_size\\\":1,\\\"enable_batch_run\\\":false,\\\"enable_run_restructure\\\":false,\\\"iterations\\\":1000,\\\"primary_metric\\\":\\\"accuracy\\\",\\\"task_type\\\":\\\"classification\\\",\\\"data_script\\\":null,\\\"test_size\\\":0.0,\\\"validation_size\\\":0.0,\\\"n_cross_validations\\\":5,\\\"y_min\\\":null,\\\"y_max\\\":null,\\\"num_classes\\\":null,\\\"featurization\\\":\\\"auto\\\",\\\"_ignore_package_version_incompatibilities\\\":false,\\\"is_timeseries\\\":false,\\\"max_cores_per_iteration\\\":1,\\\"max_concurrent_iterations\\\":4,\\\"iteration_timeout_minutes\\\":null,\\\"mem_in_mb\\\":null,\\\"enforce_time_on_windows\\\":false,\\\"experiment_timeout_minutes\\\":25,\\\"experiment_exit_score\\\":null,\\\"whitelist_models\\\":null,\\\"blacklist_algos\\\":[\\\"TensorFlowLinearClassifier\\\",\\\"TensorFlowDNN\\\"],\\\"supported_models\\\":[\\\"DecisionTree\\\",\\\"LightGBM\\\",\\\"XGBoostClassifier\\\",\\\"GradientBoosting\\\",\\\"TensorFlowDNN\\\",\\\"SGD\\\",\\\"KNN\\\",\\\"MultinomialNaiveBayes\\\",\\\"SVM\\\",\\\"ExtremeRandomTrees\\\",\\\"LinearSVM\\\",\\\"TensorFlowLinearClassifier\\\",\\\"LogisticRegression\\\",\\\"BernoulliNaiveBayes\\\",\\\"AveragedPerceptronClassifier\\\",\\\"RandomForest\\\"],\\\"private_models\\\":[],\\\"auto_blacklist\\\":true,\\\"blacklist_samples_reached\\\":false,\\\"exclude_nan_labels\\\":true,\\\"verbosity\\\":20,\\\"_debug_log\\\":\\\"azureml_automl.log\\\",\\\"show_warnings\\\":false,\\\"model_explainability\\\":true,\\\"service_url\\\":null,\\\"sdk_url\\\":null,\\\"sdk_packages\\\":null,\\\"enable_onnx_compatible_models\\\":false,\\\"enable_split_onnx_featurizer_estimator_models\\\":false,\\\"vm_type\\\":\\\"STANDARD_D3_V2\\\",\\\"telemetry_verbosity\\\":20,\\\"send_telemetry\\\":true,\\\"enable_dnn\\\":false,\\\"scenario\\\":\\\"SDK-1.13.0\\\",\\\"environment_label\\\":null,\\\"save_mlflow\\\":false,\\\"force_text_dnn\\\":false,\\\"enable_feature_sweeping\\\":true,\\\"enable_early_stopping\\\":true,\\\"early_stopping_n_iters\\\":10,\\\"metrics\\\":null,\\\"enable_metric_confidence\\\":false,\\\"enable_ensembling\\\":true,\\\"enable_stack_ensembling\\\":true,\\\"ensemble_iterations\\\":15,\\\"enable_tf\\\":false,\\\"enable_subsampling\\\":null,\\\"subsample_seed\\\":null,\\\"enable_nimbusml\\\":false,\\\"enable_streaming\\\":false,\\\"force_streaming\\\":false,\\\"track_child_runs\\\":true,\\\"allowed_private_models\\\":[],\\\"label_column_name\\\":\\\"price_range\\\",\\\"weight_column_name\\\":null,\\\"cv_split_column_names\\\":null,\\\"enable_local_managed\\\":false,\\\"_local_managed_run_id\\\":null,\\\"cost_mode\\\":1,\\\"lag_length\\\":0,\\\"metric_operation\\\":\\\"maximize\\\",\\\"preprocess\\\":true}\", \"DataPrepJsonString\": \"{\\\\\\\"training_data\\\\\\\": {\\\\\\\"datasetId\\\\\\\": \\\\\\\"195c7af2-89be-48a5-955d-d3a1d47b4f92\\\\\\\"}, \\\\\\\"datasets\\\\\\\": 0}\", \"EnableSubsampling\": null, \"runTemplate\": \"AutoML\", \"azureml.runsource\": \"automl\", \"display_task_type\": \"classification\", \"dependencies_versions\": \"{\\\"azureml-widgets\\\": \\\"1.26.0\\\", \\\"azureml-train\\\": \\\"1.26.0\\\", \\\"azureml-train-restclients-hyperdrive\\\": \\\"1.26.0\\\", \\\"azureml-train-core\\\": \\\"1.26.0\\\", \\\"azureml-train-automl\\\": \\\"1.26.0\\\", \\\"azureml-train-automl-runtime\\\": \\\"1.26.0\\\", \\\"azureml-train-automl-client\\\": \\\"1.26.0\\\", \\\"azureml-tensorboard\\\": \\\"1.26.0\\\", \\\"azureml-telemetry\\\": \\\"1.26.0\\\", \\\"azureml-sdk\\\": \\\"1.26.0\\\", \\\"azureml-samples\\\": \\\"0+unknown\\\", \\\"azureml-pipeline\\\": \\\"1.26.0\\\", \\\"azureml-pipeline-steps\\\": \\\"1.26.0\\\", \\\"azureml-pipeline-core\\\": \\\"1.26.0\\\", \\\"azureml-opendatasets\\\": \\\"1.26.0\\\", \\\"azureml-model-management-sdk\\\": \\\"1.0.1b6.post1\\\", \\\"azureml-mlflow\\\": \\\"1.26.0\\\", \\\"azureml-interpret\\\": \\\"1.26.0\\\", \\\"azureml-explain-model\\\": \\\"1.26.0\\\", \\\"azureml-defaults\\\": \\\"1.26.0\\\", \\\"azureml-dataset-runtime\\\": \\\"1.26.0\\\", \\\"azureml-dataprep\\\": \\\"2.13.2\\\", \\\"azureml-dataprep-rslex\\\": \\\"1.11.2\\\", \\\"azureml-dataprep-native\\\": \\\"32.0.0\\\", \\\"azureml-datadrift\\\": \\\"1.26.0\\\", \\\"azureml-core\\\": \\\"1.26.0\\\", \\\"azureml-contrib-services\\\": \\\"1.26.0\\\", \\\"azureml-contrib-server\\\": \\\"1.26.0\\\", \\\"azureml-contrib-reinforcementlearning\\\": \\\"1.26.0\\\", \\\"azureml-contrib-pipeline-steps\\\": \\\"1.26.0\\\", \\\"azureml-contrib-notebook\\\": \\\"1.26.0\\\", \\\"azureml-contrib-gbdt\\\": \\\"1.26.0\\\", \\\"azureml-contrib-fairness\\\": \\\"1.26.0\\\", \\\"azureml-contrib-dataset\\\": \\\"1.26.0\\\", \\\"azureml-cli-common\\\": \\\"1.26.0\\\", \\\"azureml-automl-runtime\\\": \\\"1.26.0\\\", \\\"azureml-automl-dnn-nlp\\\": \\\"1.26.0\\\", \\\"azureml-automl-core\\\": \\\"1.26.0\\\", \\\"azureml-accel-models\\\": \\\"1.26.0\\\"}\", \"_aml_system_scenario_identification\": \"Remote.Parent\", \"ClientType\": \"SDK\", \"environment_cpu_name\": \"AzureML-AutoML\", \"environment_cpu_label\": \"prod\", \"environment_gpu_name\": \"AzureML-AutoML-GPU\", \"environment_gpu_label\": \"prod\", \"root_attribution\": \"automl\", \"attribution\": \"AutoML\", \"Orchestrator\": \"AutoML\", \"CancelUri\": \"https://southcentralus.api.azureml.ms/jasmine/v1.0/subscriptions/6971f5ac-8af1-446e-8034-05acea24681f/resourceGroups/aml-quickstarts-143627/providers/Microsoft.MachineLearningServices/workspaces/quick-starts-ws-143627/experimentids/7393a710-1398-4412-abc6-f9fa68a2ec74/cancel/AutoML_4c763df7-6fab-4009-9e8c-7b581d7a4ce6\", \"ClientSdkVersion\": \"1.27.0.post1\", \"snapshotId\": \"00000000-0000-0000-0000-000000000000\", \"SetupRunId\": \"AutoML_4c763df7-6fab-4009-9e8c-7b581d7a4ce6_setup\", \"SetupRunContainerId\": \"dcid.AutoML_4c763df7-6fab-4009-9e8c-7b581d7a4ce6_setup\", \"FeaturizationRunJsonPath\": \"featurizer_container.json\", \"FeaturizationRunId\": \"AutoML_4c763df7-6fab-4009-9e8c-7b581d7a4ce6_featurize\", \"ProblemInfoJsonString\": \"{\\\"dataset_num_categorical\\\": 0, \\\"is_sparse\\\": true, \\\"subsampling\\\": false, \\\"dataset_classes\\\": 4, \\\"dataset_features\\\": 136, \\\"dataset_samples\\\": 2400, \\\"single_frequency_class_detected\\\": false}\", \"ModelExplainRunId\": \"AutoML_4c763df7-6fab-4009-9e8c-7b581d7a4ce6_ModelExplain\"}, \"tags\": {\"model_explain_run\": \"best_run\", \"_aml_system_azureml.automlComponent\": \"AutoML\", \"pipeline_id\": \"\", \"score\": \"\", \"predicted_cost\": \"\", \"fit_time\": \"\", \"training_percent\": \"\", \"iteration\": \"\", \"run_preprocessor\": \"\", \"run_algorithm\": \"\", \"dynamic_whitelisting_iterations\": \"<25>;<30>;<35>;\", \"automl_best_child_run_id\": \"AutoML_4c763df7-6fab-4009-9e8c-7b581d7a4ce6_37\", \"model_explain_best_run_child_id\": \"AutoML_4c763df7-6fab-4009-9e8c-7b581d7a4ce6_37\"}, \"end_time_utc\": \"2021-04-27T14:05:44.912878Z\", \"status\": \"Completed\", \"log_files\": {}, \"log_groups\": [], \"run_duration\": \"0:24:39\", \"run_number\": \"3\", \"run_queued_details\": {\"status\": \"Completed\", \"details\": null}}, \"child_runs\": [{\"run_id\": \"AutoML_4c763df7-6fab-4009-9e8c-7b581d7a4ce6_0\", \"run_number\": 7, \"metric\": null, \"status\": \"Completed\", \"run_type\": \"azureml.scriptrun\", \"training_percent\": \"100\", \"start_time\": \"2021-04-27T13:53:28.857Z\", \"end_time\": \"2021-04-27T13:54:17.719495Z\", \"created_time\": \"2021-04-27T13:50:11.141531Z\", \"created_time_dt\": \"2021-04-27T13:50:11.141531Z\", \"duration\": \"0:04:06\", \"iteration\": \"0\", \"goal\": \"accuracy_max\", \"run_name\": \"MaxAbsScaler, LightGBM\", \"run_properties\": \"copy=True\", \"primary_metric\": 0.76625, \"best_metric\": 0.76625}, {\"run_id\": \"AutoML_4c763df7-6fab-4009-9e8c-7b581d7a4ce6_2\", \"run_number\": 8, \"metric\": null, \"status\": \"Completed\", \"run_type\": \"azureml.scriptrun\", \"training_percent\": \"100\", \"start_time\": \"2021-04-27T13:50:23.254501Z\", \"end_time\": \"2021-04-27T13:51:14.474112Z\", \"created_time\": \"2021-04-27T13:50:11.151598Z\", \"created_time_dt\": \"2021-04-27T13:50:11.151598Z\", \"duration\": \"0:01:03\", \"iteration\": \"2\", \"goal\": \"accuracy_max\", \"run_name\": \"MaxAbsScaler, RandomForest\", \"run_properties\": \"copy=True\", \"primary_metric\": 0.60375, \"best_metric\": 0.76666667}, {\"run_id\": \"AutoML_4c763df7-6fab-4009-9e8c-7b581d7a4ce6_1\", \"run_number\": 9, \"metric\": null, \"status\": \"Completed\", \"run_type\": \"azureml.scriptrun\", \"training_percent\": \"100\", \"start_time\": \"2021-04-27T13:51:20.824556Z\", \"end_time\": \"2021-04-27T13:52:12.871536Z\", \"created_time\": \"2021-04-27T13:50:11.175489Z\", \"created_time_dt\": \"2021-04-27T13:50:11.175489Z\", \"duration\": \"0:02:01\", \"iteration\": \"1\", \"goal\": \"accuracy_max\", \"run_name\": \"MaxAbsScaler, XGBoostClassifier\", \"run_properties\": \"copy=True\", \"primary_metric\": 0.76666667, \"best_metric\": 0.76666667}, {\"run_id\": \"AutoML_4c763df7-6fab-4009-9e8c-7b581d7a4ce6_3\", \"run_number\": 10, \"metric\": null, \"status\": \"Completed\", \"run_type\": \"azureml.scriptrun\", \"training_percent\": \"100\", \"start_time\": \"2021-04-27T13:52:28.972152Z\", \"end_time\": \"2021-04-27T13:53:13.663005Z\", \"created_time\": \"2021-04-27T13:50:11.189204Z\", \"created_time_dt\": \"2021-04-27T13:50:11.189204Z\", \"duration\": \"0:03:02\", \"iteration\": \"3\", \"goal\": \"accuracy_max\", \"run_name\": \"MaxAbsScaler, RandomForest\", \"run_properties\": \"copy=True\", \"primary_metric\": 0.59125, \"best_metric\": 0.76666667}, {\"run_id\": \"AutoML_4c763df7-6fab-4009-9e8c-7b581d7a4ce6_4\", \"run_number\": 11, \"metric\": null, \"status\": \"Completed\", \"run_type\": \"azureml.scriptrun\", \"training_percent\": \"100\", \"start_time\": \"2021-04-27T13:53:49.926742Z\", \"end_time\": \"2021-04-27T13:56:55.835412Z\", \"created_time\": \"2021-04-27T13:51:17.053908Z\", \"created_time_dt\": \"2021-04-27T13:51:17.053908Z\", \"duration\": \"0:05:38\", \"iteration\": \"4\", \"goal\": \"accuracy_max\", \"run_name\": \"MaxAbsScaler, RandomForest\", \"run_properties\": \"copy=True\", \"primary_metric\": 0.51208333, \"best_metric\": 0.76666667}, {\"run_id\": \"AutoML_4c763df7-6fab-4009-9e8c-7b581d7a4ce6_5\", \"run_number\": 12, \"metric\": null, \"status\": \"Completed\", \"run_type\": \"azureml.scriptrun\", \"training_percent\": \"100\", \"start_time\": \"2021-04-27T13:53:51.830131Z\", \"end_time\": \"2021-04-27T13:56:58.603646Z\", \"created_time\": \"2021-04-27T13:52:15.717904Z\", \"created_time_dt\": \"2021-04-27T13:52:15.717904Z\", \"duration\": \"0:04:42\", \"iteration\": \"5\", \"goal\": \"accuracy_max\", \"run_name\": \"MaxAbsScaler, RandomForest\", \"run_properties\": \"copy=True\", \"primary_metric\": 0.43666667, \"best_metric\": 0.76666667}, {\"run_id\": \"AutoML_4c763df7-6fab-4009-9e8c-7b581d7a4ce6_6\", \"run_number\": 13, \"metric\": null, \"status\": \"Completed\", \"run_type\": \"azureml.scriptrun\", \"training_percent\": \"100\", \"start_time\": \"2021-04-27T13:53:49.917857Z\", \"end_time\": \"2021-04-27T13:57:10.412358Z\", \"created_time\": \"2021-04-27T13:53:16.028163Z\", \"created_time_dt\": \"2021-04-27T13:53:16.028163Z\", \"duration\": \"0:03:54\", \"iteration\": \"6\", \"goal\": \"accuracy_max\", \"run_name\": \"SparseNormalizer, XGBoostClassifier\", \"run_properties\": \"<azureml.automl.runtime.shared.model_wrappers.SparseNormalizer object at 0x7efbab5ef1d0\", \"primary_metric\": 0.78625, \"best_metric\": 0.78625}, {\"run_id\": \"AutoML_4c763df7-6fab-4009-9e8c-7b581d7a4ce6_7\", \"run_number\": 14, \"metric\": null, \"status\": \"Completed\", \"run_type\": \"azureml.scriptrun\", \"training_percent\": \"100\", \"start_time\": \"2021-04-27T13:54:32.819128Z\", \"end_time\": \"2021-04-27T13:55:23.450947Z\", \"created_time\": \"2021-04-27T13:54:20.970614Z\", \"created_time_dt\": \"2021-04-27T13:54:20.970614Z\", \"duration\": \"0:01:02\", \"iteration\": \"7\", \"goal\": \"accuracy_max\", \"run_name\": \"SparseNormalizer, XGBoostClassifier\", \"run_properties\": \"<azureml.automl.runtime.shared.model_wrappers.SparseNormalizer object at 0x7f160b77b160\", \"primary_metric\": 0.775, \"best_metric\": 0.78625}, {\"run_id\": \"AutoML_4c763df7-6fab-4009-9e8c-7b581d7a4ce6_8\", \"run_number\": 15, \"metric\": null, \"status\": \"Completed\", \"run_type\": \"azureml.scriptrun\", \"training_percent\": \"100\", \"start_time\": \"2021-04-27T13:55:37.802637Z\", \"end_time\": \"2021-04-27T13:56:29.608147Z\", \"created_time\": \"2021-04-27T13:55:26.049324Z\", \"created_time_dt\": \"2021-04-27T13:55:26.049324Z\", \"duration\": \"0:01:03\", \"iteration\": \"8\", \"goal\": \"accuracy_max\", \"run_name\": \"MaxAbsScaler, LogisticRegression\", \"run_properties\": \"copy=True\", \"primary_metric\": 0.63208333, \"best_metric\": 0.78625}, {\"run_id\": \"AutoML_4c763df7-6fab-4009-9e8c-7b581d7a4ce6_9\", \"run_number\": 16, \"metric\": null, \"status\": \"Completed\", \"run_type\": \"azureml.scriptrun\", \"training_percent\": \"100\", \"start_time\": \"2021-04-27T13:56:41.869679Z\", \"end_time\": \"2021-04-27T13:57:38.342064Z\", \"created_time\": \"2021-04-27T13:56:32.13571Z\", \"created_time_dt\": \"2021-04-27T13:56:32.13571Z\", \"duration\": \"0:01:06\", \"iteration\": \"9\", \"goal\": \"accuracy_max\", \"run_name\": \"MaxAbsScaler, RandomForest\", \"run_properties\": \"copy=True\", \"primary_metric\": 0.64208333, \"best_metric\": 0.78625}, {\"run_id\": \"AutoML_4c763df7-6fab-4009-9e8c-7b581d7a4ce6_10\", \"run_number\": 17, \"metric\": null, \"status\": \"Completed\", \"run_type\": \"azureml.scriptrun\", \"training_percent\": \"100\", \"start_time\": \"2021-04-27T13:57:05.528576Z\", \"end_time\": \"2021-04-27T13:57:55.290311Z\", \"created_time\": \"2021-04-27T13:56:58.113534Z\", \"created_time_dt\": \"2021-04-27T13:56:58.113534Z\", \"duration\": \"0:00:57\", \"iteration\": \"10\", \"goal\": \"accuracy_max\", \"run_name\": \"MaxAbsScaler, GradientBoosting\", \"run_properties\": \"copy=True\", \"primary_metric\": 0.68958333, \"best_metric\": 0.78625}, {\"run_id\": \"AutoML_4c763df7-6fab-4009-9e8c-7b581d7a4ce6_11\", \"run_number\": 18, \"metric\": null, \"status\": \"Completed\", \"run_type\": \"azureml.scriptrun\", \"training_percent\": \"100\", \"start_time\": \"2021-04-27T13:57:11.789005Z\", \"end_time\": \"2021-04-27T13:57:59.384478Z\", \"created_time\": \"2021-04-27T13:57:01.520844Z\", \"created_time_dt\": \"2021-04-27T13:57:01.520844Z\", \"duration\": \"0:00:57\", \"iteration\": \"11\", \"goal\": \"accuracy_max\", \"run_name\": \"StandardScalerWrapper, RandomForest\", \"run_properties\": \"<azureml.automl.runtime.shared.model_wrappers.StandardScalerWrapper object at 0x7f8255c9b128\", \"primary_metric\": 0.6975, \"best_metric\": 0.78625}, {\"run_id\": \"AutoML_4c763df7-6fab-4009-9e8c-7b581d7a4ce6_12\", \"run_number\": 19, \"metric\": null, \"status\": \"Completed\", \"run_type\": \"azureml.scriptrun\", \"training_percent\": \"100\", \"start_time\": \"2021-04-27T13:57:21.747125Z\", \"end_time\": \"2021-04-27T13:58:03.693721Z\", \"created_time\": \"2021-04-27T13:57:12.505854Z\", \"created_time_dt\": \"2021-04-27T13:57:12.505854Z\", \"duration\": \"0:00:51\", \"iteration\": \"12\", \"goal\": \"accuracy_max\", \"run_name\": \"MaxAbsScaler, RandomForest\", \"run_properties\": \"copy=True\", \"primary_metric\": 0.68125, \"best_metric\": 0.78625}, {\"run_id\": \"AutoML_4c763df7-6fab-4009-9e8c-7b581d7a4ce6_13\", \"run_number\": 20, \"metric\": null, \"status\": \"Completed\", \"run_type\": \"azureml.scriptrun\", \"training_percent\": \"100\", \"start_time\": \"2021-04-27T13:57:56.416075Z\", \"end_time\": \"2021-04-27T13:58:55.606744Z\", \"created_time\": \"2021-04-27T13:57:40.304202Z\", \"created_time_dt\": \"2021-04-27T13:57:40.304202Z\", \"duration\": \"0:01:15\", \"iteration\": \"13\", \"goal\": \"accuracy_max\", \"run_name\": \"MaxAbsScaler, RandomForest\", \"run_properties\": \"copy=True\", \"primary_metric\": 0.67375, \"best_metric\": 0.78625}, {\"run_id\": \"AutoML_4c763df7-6fab-4009-9e8c-7b581d7a4ce6_14\", \"run_number\": 21, \"metric\": null, \"status\": \"Completed\", \"run_type\": \"azureml.scriptrun\", \"training_percent\": \"100\", \"start_time\": \"2021-04-27T13:58:10.876291Z\", \"end_time\": \"2021-04-27T13:58:54.188525Z\", \"created_time\": \"2021-04-27T13:57:57.025995Z\", \"created_time_dt\": \"2021-04-27T13:57:57.025995Z\", \"duration\": \"0:00:57\", \"iteration\": \"14\", \"goal\": \"accuracy_max\", \"run_name\": \"MaxAbsScaler, LightGBM\", \"run_properties\": \"copy=True\", \"primary_metric\": 0.67625, \"best_metric\": 0.78625}, {\"run_id\": \"AutoML_4c763df7-6fab-4009-9e8c-7b581d7a4ce6_15\", \"run_number\": 22, \"metric\": null, \"status\": \"Completed\", \"run_type\": \"azureml.scriptrun\", \"training_percent\": \"100\", \"start_time\": \"2021-04-27T13:58:15.60999Z\", \"end_time\": \"2021-04-27T13:59:07.716633Z\", \"created_time\": \"2021-04-27T13:58:01.84743Z\", \"created_time_dt\": \"2021-04-27T13:58:01.84743Z\", \"duration\": \"0:01:05\", \"iteration\": \"15\", \"goal\": \"accuracy_max\", \"run_name\": \"SparseNormalizer, XGBoostClassifier\", \"run_properties\": \"<azureml.automl.runtime.shared.model_wrappers.SparseNormalizer object at 0x7f49417becf8\", \"primary_metric\": 0.71583333, \"best_metric\": 0.78625}, {\"run_id\": \"AutoML_4c763df7-6fab-4009-9e8c-7b581d7a4ce6_16\", \"run_number\": 23, \"metric\": null, \"status\": \"Completed\", \"run_type\": \"azureml.scriptrun\", \"training_percent\": \"100\", \"start_time\": \"2021-04-27T13:58:21.638238Z\", \"end_time\": \"2021-04-27T13:59:27.275672Z\", \"created_time\": \"2021-04-27T13:58:05.567726Z\", \"created_time_dt\": \"2021-04-27T13:58:05.567726Z\", \"duration\": \"0:01:21\", \"iteration\": \"16\", \"goal\": \"accuracy_max\", \"run_name\": \"SparseNormalizer, XGBoostClassifier\", \"run_properties\": \"<azureml.automl.runtime.shared.model_wrappers.SparseNormalizer object at 0x7f2c3fc43ef0\", \"primary_metric\": 0.77958333, \"best_metric\": 0.78625}, {\"run_id\": \"AutoML_4c763df7-6fab-4009-9e8c-7b581d7a4ce6_17\", \"run_number\": 24, \"metric\": null, \"status\": \"Completed\", \"run_type\": \"azureml.scriptrun\", \"training_percent\": \"100\", \"start_time\": \"2021-04-27T13:59:10.070434Z\", \"end_time\": \"2021-04-27T14:00:11.603993Z\", \"created_time\": \"2021-04-27T13:58:56.356869Z\", \"created_time_dt\": \"2021-04-27T13:58:56.356869Z\", \"duration\": \"0:01:15\", \"iteration\": \"17\", \"goal\": \"accuracy_max\", \"run_name\": \"SparseNormalizer, XGBoostClassifier\", \"run_properties\": \"<azureml.automl.runtime.shared.model_wrappers.SparseNormalizer object at 0x7ff7d2448278\", \"primary_metric\": 0.7725, \"best_metric\": 0.78625}, {\"run_id\": \"AutoML_4c763df7-6fab-4009-9e8c-7b581d7a4ce6_18\", \"run_number\": 25, \"metric\": null, \"status\": \"Completed\", \"run_type\": \"azureml.scriptrun\", \"training_percent\": \"100\", \"start_time\": \"2021-04-27T13:59:10.655734Z\", \"end_time\": \"2021-04-27T13:59:53.195638Z\", \"created_time\": \"2021-04-27T13:58:59.214252Z\", \"created_time_dt\": \"2021-04-27T13:58:59.214252Z\", \"duration\": \"0:00:53\", \"iteration\": \"18\", \"goal\": \"accuracy_max\", \"run_name\": \"MaxAbsScaler, LogisticRegression\", \"run_properties\": \"copy=True\", \"primary_metric\": 0.61458333, \"best_metric\": 0.78625}, {\"run_id\": \"AutoML_4c763df7-6fab-4009-9e8c-7b581d7a4ce6_19\", \"run_number\": 26, \"metric\": null, \"status\": \"Completed\", \"run_type\": \"azureml.scriptrun\", \"training_percent\": \"100\", \"start_time\": \"2021-04-27T13:59:23.490299Z\", \"end_time\": \"2021-04-27T14:00:18.609332Z\", \"created_time\": \"2021-04-27T13:59:09.977456Z\", \"created_time_dt\": \"2021-04-27T13:59:09.977456Z\", \"duration\": \"0:01:08\", \"iteration\": \"19\", \"goal\": \"accuracy_max\", \"run_name\": \"MaxAbsScaler, LogisticRegression\", \"run_properties\": \"copy=True\", \"primary_metric\": 0.63291667, \"best_metric\": 0.78625}, {\"run_id\": \"AutoML_4c763df7-6fab-4009-9e8c-7b581d7a4ce6_20\", \"run_number\": 27, \"metric\": null, \"status\": \"Completed\", \"run_type\": \"azureml.scriptrun\", \"training_percent\": \"100\", \"start_time\": \"2021-04-27T13:59:41.550088Z\", \"end_time\": \"2021-04-27T14:00:29.893006Z\", \"created_time\": \"2021-04-27T13:59:29.216831Z\", \"created_time_dt\": \"2021-04-27T13:59:29.216831Z\", \"duration\": \"0:01:00\", \"iteration\": \"20\", \"goal\": \"accuracy_max\", \"run_name\": \"SparseNormalizer, XGBoostClassifier\", \"run_properties\": \"<azureml.automl.runtime.shared.model_wrappers.SparseNormalizer object at 0x7f9e83fbcf60\", \"primary_metric\": 0.78083333, \"best_metric\": 0.78625}, {\"run_id\": \"AutoML_4c763df7-6fab-4009-9e8c-7b581d7a4ce6_21\", \"run_number\": 28, \"metric\": null, \"status\": \"Completed\", \"run_type\": \"azureml.scriptrun\", \"training_percent\": \"100\", \"start_time\": \"2021-04-27T14:00:08.717391Z\", \"end_time\": \"2021-04-27T14:00:54.826053Z\", \"created_time\": \"2021-04-27T13:59:55.08486Z\", \"created_time_dt\": \"2021-04-27T13:59:55.08486Z\", \"duration\": \"0:00:59\", \"iteration\": \"21\", \"goal\": \"accuracy_max\", \"run_name\": \"SparseNormalizer, XGBoostClassifier\", \"run_properties\": \"<azureml.automl.runtime.shared.model_wrappers.SparseNormalizer object at 0x7f2f353f5630\", \"primary_metric\": 0.75166667, \"best_metric\": 0.78625}, {\"run_id\": \"AutoML_4c763df7-6fab-4009-9e8c-7b581d7a4ce6_22\", \"run_number\": 29, \"metric\": null, \"status\": \"Completed\", \"run_type\": \"azureml.scriptrun\", \"training_percent\": \"100\", \"start_time\": \"2021-04-27T14:00:27.346194Z\", \"end_time\": \"2021-04-27T14:01:10.59821Z\", \"created_time\": \"2021-04-27T14:00:13.569535Z\", \"created_time_dt\": \"2021-04-27T14:00:13.569535Z\", \"duration\": \"0:00:57\", \"iteration\": \"22\", \"goal\": \"accuracy_max\", \"run_name\": \"StandardScalerWrapper, XGBoostClassifier\", \"run_properties\": \"<azureml.automl.runtime.shared.model_wrappers.StandardScalerWrapper object at 0x7f890efc75c0\", \"primary_metric\": 0.66625, \"best_metric\": 0.78625}, {\"run_id\": \"AutoML_4c763df7-6fab-4009-9e8c-7b581d7a4ce6_23\", \"run_number\": 30, \"metric\": null, \"status\": \"Completed\", \"run_type\": \"azureml.scriptrun\", \"training_percent\": \"100\", \"start_time\": \"2021-04-27T14:00:32.043465Z\", \"end_time\": \"2021-04-27T14:01:20.985251Z\", \"created_time\": \"2021-04-27T14:00:20.433152Z\", \"created_time_dt\": \"2021-04-27T14:00:20.433152Z\", \"duration\": \"0:01:00\", \"iteration\": \"23\", \"goal\": \"accuracy_max\", \"run_name\": \"StandardScalerWrapper, XGBoostClassifier\", \"run_properties\": \"<azureml.automl.runtime.shared.model_wrappers.StandardScalerWrapper object at 0x7f2dcfc966a0\", \"primary_metric\": 0.66791667, \"best_metric\": 0.78625}, {\"run_id\": \"AutoML_4c763df7-6fab-4009-9e8c-7b581d7a4ce6_24\", \"run_number\": 31, \"metric\": null, \"status\": \"Completed\", \"run_type\": \"azureml.scriptrun\", \"training_percent\": \"100\", \"start_time\": \"2021-04-27T14:00:48.248345Z\", \"end_time\": \"2021-04-27T14:01:32.16719Z\", \"created_time\": \"2021-04-27T14:00:31.454407Z\", \"created_time_dt\": \"2021-04-27T14:00:31.454407Z\", \"duration\": \"0:01:00\", \"iteration\": \"24\", \"goal\": \"accuracy_max\", \"run_name\": \"MaxAbsScaler, LightGBM\", \"run_properties\": \"copy=True\", \"primary_metric\": 0.68083333, \"best_metric\": 0.78625}, {\"run_id\": \"AutoML_4c763df7-6fab-4009-9e8c-7b581d7a4ce6_25\", \"run_number\": 32, \"metric\": null, \"status\": \"Completed\", \"run_type\": \"azureml.scriptrun\", \"training_percent\": \"100\", \"start_time\": \"2021-04-27T14:01:12.078271Z\", \"end_time\": \"2021-04-27T14:01:52.315498Z\", \"created_time\": \"2021-04-27T14:00:57.948663Z\", \"created_time_dt\": \"2021-04-27T14:00:57.948663Z\", \"duration\": \"0:00:54\", \"iteration\": \"25\", \"goal\": \"accuracy_max\", \"run_name\": \"StandardScalerWrapper, XGBoostClassifier\", \"run_properties\": \"<azureml.automl.runtime.shared.model_wrappers.StandardScalerWrapper object at 0x7fd2dab16c50\", \"primary_metric\": 0.315, \"best_metric\": 0.78625}, {\"run_id\": \"AutoML_4c763df7-6fab-4009-9e8c-7b581d7a4ce6_26\", \"run_number\": 33, \"metric\": null, \"status\": \"Completed\", \"run_type\": \"azureml.scriptrun\", \"training_percent\": \"100\", \"start_time\": \"2021-04-27T14:01:25.97151Z\", \"end_time\": \"2021-04-27T14:02:11.44056Z\", \"created_time\": \"2021-04-27T14:01:12.368323Z\", \"created_time_dt\": \"2021-04-27T14:01:12.368323Z\", \"duration\": \"0:00:59\", \"iteration\": \"26\", \"goal\": \"accuracy_max\", \"run_name\": \"SparseNormalizer, XGBoostClassifier\", \"run_properties\": \"<azureml.automl.runtime.shared.model_wrappers.SparseNormalizer object at 0x7f830b54b780\", \"primary_metric\": 0.64, \"best_metric\": 0.78625}, {\"run_id\": \"AutoML_4c763df7-6fab-4009-9e8c-7b581d7a4ce6_27\", \"run_number\": 34, \"metric\": null, \"status\": \"Completed\", \"run_type\": \"azureml.scriptrun\", \"training_percent\": \"100\", \"start_time\": \"2021-04-27T14:01:39.049235Z\", \"end_time\": \"2021-04-27T14:02:44.622317Z\", \"created_time\": \"2021-04-27T14:01:22.946119Z\", \"created_time_dt\": \"2021-04-27T14:01:22.946119Z\", \"duration\": \"0:01:21\", \"iteration\": \"27\", \"goal\": \"accuracy_max\", \"run_name\": \"SparseNormalizer, XGBoostClassifier\", \"run_properties\": \"<azureml.automl.runtime.shared.model_wrappers.SparseNormalizer object at 0x7f01300effd0\", \"primary_metric\": 0.73333333, \"best_metric\": 0.78625}, {\"run_id\": \"AutoML_4c763df7-6fab-4009-9e8c-7b581d7a4ce6_28\", \"run_number\": 35, \"metric\": null, \"status\": \"Completed\", \"run_type\": \"azureml.scriptrun\", \"training_percent\": \"100\", \"start_time\": \"2021-04-27T14:01:48.382057Z\", \"end_time\": \"2021-04-27T14:02:31.623993Z\", \"created_time\": \"2021-04-27T14:01:33.93684Z\", \"created_time_dt\": \"2021-04-27T14:01:33.93684Z\", \"duration\": \"0:00:57\", \"iteration\": \"28\", \"goal\": \"accuracy_max\", \"run_name\": \"MaxAbsScaler, LightGBM\", \"run_properties\": \"copy=True\", \"primary_metric\": 0.66791667, \"best_metric\": 0.78625}, {\"run_id\": \"AutoML_4c763df7-6fab-4009-9e8c-7b581d7a4ce6_29\", \"run_number\": 36, \"metric\": null, \"status\": \"Completed\", \"run_type\": \"azureml.scriptrun\", \"training_percent\": \"100\", \"start_time\": \"2021-04-27T14:02:12.733653Z\", \"end_time\": \"2021-04-27T14:02:59.616033Z\", \"created_time\": \"2021-04-27T14:01:54.165889Z\", \"created_time_dt\": \"2021-04-27T14:01:54.165889Z\", \"duration\": \"0:01:05\", \"iteration\": \"29\", \"goal\": \"accuracy_max\", \"run_name\": \"SparseNormalizer, XGBoostClassifier\", \"run_properties\": \"<azureml.automl.runtime.shared.model_wrappers.SparseNormalizer object at 0x7f83d9eee898\", \"primary_metric\": 0.76916667, \"best_metric\": 0.78625}, {\"run_id\": \"AutoML_4c763df7-6fab-4009-9e8c-7b581d7a4ce6_30\", \"run_number\": 37, \"metric\": null, \"status\": \"Completed\", \"run_type\": \"azureml.scriptrun\", \"training_percent\": \"100\", \"start_time\": \"2021-04-27T14:02:26.496495Z\", \"end_time\": \"2021-04-27T14:03:25.082221Z\", \"created_time\": \"2021-04-27T14:02:14.429116Z\", \"created_time_dt\": \"2021-04-27T14:02:14.429116Z\", \"duration\": \"0:01:10\", \"iteration\": \"30\", \"goal\": \"accuracy_max\", \"run_name\": \"SparseNormalizer, XGBoostClassifier\", \"run_properties\": \"<azureml.automl.runtime.shared.model_wrappers.SparseNormalizer object at 0x7f4e8e0e5128\", \"primary_metric\": 0.77166667, \"best_metric\": 0.78625}, {\"run_id\": \"AutoML_4c763df7-6fab-4009-9e8c-7b581d7a4ce6_31\", \"run_number\": 38, \"metric\": null, \"status\": \"Completed\", \"run_type\": \"azureml.scriptrun\", \"training_percent\": \"100\", \"start_time\": \"2021-04-27T14:02:48.110494Z\", \"end_time\": \"2021-04-27T14:03:43.381833Z\", \"created_time\": \"2021-04-27T14:02:33.462828Z\", \"created_time_dt\": \"2021-04-27T14:02:33.462828Z\", \"duration\": \"0:01:09\", \"iteration\": \"31\", \"goal\": \"accuracy_max\", \"run_name\": \"SparseNormalizer, XGBoostClassifier\", \"run_properties\": \"<azureml.automl.runtime.shared.model_wrappers.SparseNormalizer object at 0x7f5ddc622cc0\", \"primary_metric\": 0.67166667, \"best_metric\": 0.78625}, {\"run_id\": \"AutoML_4c763df7-6fab-4009-9e8c-7b581d7a4ce6_32\", \"run_number\": 39, \"metric\": null, \"status\": \"Completed\", \"run_type\": \"azureml.scriptrun\", \"training_percent\": \"100\", \"start_time\": \"2021-04-27T14:02:58.181882Z\", \"end_time\": \"2021-04-27T14:03:46.65337Z\", \"created_time\": \"2021-04-27T14:02:46.407524Z\", \"created_time_dt\": \"2021-04-27T14:02:46.407524Z\", \"duration\": \"0:01:00\", \"iteration\": \"32\", \"goal\": \"accuracy_max\", \"run_name\": \"StandardScalerWrapper, LightGBM\", \"run_properties\": \"<azureml.automl.runtime.shared.model_wrappers.StandardScalerWrapper object at 0x7f08881e6ba8\", \"primary_metric\": 0.75833333, \"best_metric\": 0.78625}, {\"run_id\": \"AutoML_4c763df7-6fab-4009-9e8c-7b581d7a4ce6_33\", \"run_number\": 40, \"metric\": null, \"status\": \"Canceled\", \"run_type\": \"azureml.scriptrun\", \"training_percent\": \"100\", \"start_time\": \"2021-04-27T14:03:15.712982Z\", \"end_time\": \"2021-04-27T14:03:56.363534Z\", \"created_time\": \"2021-04-27T14:03:01.632627Z\", \"created_time_dt\": \"2021-04-27T14:03:01.632627Z\", \"duration\": \"0:00:54\", \"iteration\": \"33\", \"goal\": \"accuracy_max\", \"run_name\": \"SparseNormalizer, XGBoostClassifier\", \"run_properties\": \"<azureml.automl.runtime.shared.model_wrappers.SparseNormalizer object at 0x7faeb3e46748\", \"primary_metric\": 0.69083333, \"best_metric\": 0.78625}, {\"run_id\": \"AutoML_4c763df7-6fab-4009-9e8c-7b581d7a4ce6_34\", \"run_number\": 41, \"metric\": null, \"status\": \"Canceled\", \"run_type\": \"azureml.scriptrun\", \"training_percent\": \"100\", \"start_time\": \"2021-04-27T14:03:38.804036Z\", \"end_time\": \"2021-04-27T14:03:56.332997Z\", \"created_time\": \"2021-04-27T14:03:26.972005Z\", \"created_time_dt\": \"2021-04-27T14:03:26.972005Z\", \"duration\": \"0:00:29\", \"iteration\": \"34\", \"goal\": null, \"run_name\": \"Canceled\", \"run_properties\": null}, {\"run_id\": \"AutoML_4c763df7-6fab-4009-9e8c-7b581d7a4ce6_35\", \"run_number\": 42, \"metric\": null, \"status\": \"Canceled\", \"run_type\": \"azureml.scriptrun\", \"training_percent\": \"100\", \"start_time\": \"2021-04-27T14:03:46.535791Z\", \"end_time\": \"2021-04-27T14:04:02.4334Z\", \"created_time\": \"2021-04-27T14:03:46.535791Z\", \"created_time_dt\": \"2021-04-27T14:03:46.535791Z\", \"duration\": \"0:00:15\", \"iteration\": \"35\", \"goal\": null, \"run_name\": \"Canceled\", \"run_properties\": null}, {\"run_id\": \"AutoML_4c763df7-6fab-4009-9e8c-7b581d7a4ce6_36\", \"run_number\": 43, \"metric\": null, \"status\": \"Completed\", \"run_type\": \"azureml.scriptrun\", \"training_percent\": \"100\", \"start_time\": \"2021-04-27T14:04:12.645808Z\", \"end_time\": \"2021-04-27T14:05:17.448838Z\", \"created_time\": \"2021-04-27T14:04:03.251423Z\", \"created_time_dt\": \"2021-04-27T14:04:03.251423Z\", \"duration\": \"0:01:14\", \"iteration\": \"36\", \"goal\": \"accuracy_max\", \"run_name\": \"VotingEnsemble\", \"run_properties\": \"classification_labels=None,\\n                              estimators=[('6',\\n                                           Pipeline(memory=None,\\n                                                    steps=[('sparsenormalizer',\\n                                                            <azureml.automl.runtime.shared.model_wrappers.SparseNormalizer object at 0x7f421412f7f0>\", \"primary_metric\": 0.79875, \"best_metric\": 0.79875}, {\"run_id\": \"AutoML_4c763df7-6fab-4009-9e8c-7b581d7a4ce6_37\", \"run_number\": 44, \"metric\": null, \"status\": \"Completed\", \"run_type\": \"azureml.scriptrun\", \"training_percent\": \"100\", \"start_time\": \"2021-04-27T14:04:10.503936Z\", \"end_time\": \"2021-04-27T14:05:41.808779Z\", \"created_time\": \"2021-04-27T14:04:03.266294Z\", \"created_time_dt\": \"2021-04-27T14:04:03.266294Z\", \"duration\": \"0:01:38\", \"iteration\": \"37\", \"goal\": \"accuracy_max\", \"run_name\": \"StackEnsemble\", \"run_properties\": \"base_learners=[('6',\\n                                        Pipeline(memory=None,\\n                                                 steps=[('sparsenormalizer',\\n                                                         <azureml.automl.runtime.shared.model_wrappers.SparseNormalizer object at 0x7fa9d46ad5c0>\", \"primary_metric\": 0.80041667, \"best_metric\": 0.80041667}], \"children_metrics\": {\"categories\": [0], \"series\": {\"AUC_macro\": [{\"categories\": [\"0\", \"1\", \"2\", \"3\", \"4\", \"5\", \"6\", \"7\", \"8\", \"9\", \"10\", \"11\", \"12\", \"13\", \"14\", \"15\", \"16\", \"17\", \"18\", \"19\", \"20\", \"21\", \"22\", \"23\", \"24\", \"25\", \"26\", \"27\", \"28\", \"29\", \"30\", \"31\", \"32\", \"33\", \"36\", \"37\"], \"mode\": \"markers\", \"name\": \"AUC_macro\", \"stepped\": false, \"type\": \"scatter\", \"data\": [0.9480401317300006, 0.9463690335407385, 0.8550524456923474, 0.8469739290192584, 0.8395293432105438, 0.8021973178514891, 0.9560671675907779, 0.953110953485913, 0.8550008618190439, 0.8689209828603769, 0.9142537566932027, 0.8980866845901174, 0.9038151279652672, 0.9046348237570176, 0.9003938377156331, 0.9254782139644944, 0.9536312397484673, 0.9519497548235382, 0.8486310535115184, 0.8549862459897788, 0.9554576030799199, 0.9482127853713207, 0.88694757761501, 0.8906233395707019, 0.9023735770750694, 0.5, 0.8760040085143934, 0.9346359144199787, 0.8958536291538868, 0.9514021697647598, 0.9538941829368364, 0.9088474387080842, 0.9436392855550905, 0.9166765300236548, 0.9554065953935142, 0.9622664600279748]}, {\"categories\": [\"0\", \"1\", \"2\", \"3\", \"4\", \"5\", \"6\", \"7\", \"8\", \"9\", \"10\", \"11\", \"12\", \"13\", \"14\", \"15\", \"16\", \"17\", \"18\", \"19\", \"20\", \"21\", \"22\", \"23\", \"24\", \"25\", \"26\", \"27\", \"28\", \"29\", \"30\", \"31\", \"32\", \"33\", \"36\", \"37\"], \"mode\": \"lines\", \"name\": \"AUC_macro_max\", \"stepped\": true, \"type\": \"scatter\", \"data\": [0.9480401317300006, 0.9480401317300006, 0.9480401317300006, 0.9480401317300006, 0.9480401317300006, 0.9480401317300006, 0.9560671675907779, 0.9560671675907779, 0.9560671675907779, 0.9560671675907779, 0.9560671675907779, 0.9560671675907779, 0.9560671675907779, 0.9560671675907779, 0.9560671675907779, 0.9560671675907779, 0.9560671675907779, 0.9560671675907779, 0.9560671675907779, 0.9560671675907779, 0.9560671675907779, 0.9560671675907779, 0.9560671675907779, 0.9560671675907779, 0.9560671675907779, 0.9560671675907779, 0.9560671675907779, 0.9560671675907779, 0.9560671675907779, 0.9560671675907779, 0.9560671675907779, 0.9560671675907779, 0.9560671675907779, 0.9560671675907779, 0.9560671675907779, 0.9622664600279748]}], \"AUC_micro\": [{\"categories\": [\"0\", \"1\", \"2\", \"3\", \"4\", \"5\", \"6\", \"7\", \"8\", \"9\", \"10\", \"11\", \"12\", \"13\", \"14\", \"15\", \"16\", \"17\", \"18\", \"19\", \"20\", \"21\", \"22\", \"23\", \"24\", \"25\", \"26\", \"27\", \"28\", \"29\", \"30\", \"31\", \"32\", \"33\", \"36\", \"37\"], \"mode\": \"markers\", \"name\": \"AUC_micro\", \"stepped\": false, \"type\": \"scatter\", \"data\": [0.9595031828703704, 0.9578611111111112, 0.8633454861111112, 0.8563700810185185, 0.8073622685185186, 0.7792170138888889, 0.9667641782407408, 0.9641562499999999, 0.8782942708333333, 0.8701594328703705, 0.9264375000000001, 0.9057196180555556, 0.9175066550925927, 0.9146493055555556, 0.9028188657407409, 0.9374343171296295, 0.9638443287037038, 0.9619794560185186, 0.869970486111111, 0.8783356481481481, 0.9646241319444444, 0.9579059606481483, 0.8997743055555555, 0.9067881944444445, 0.9166996527777778, 0.5977777777777777, 0.8932786458333334, 0.946851273148148, 0.9071964699074074, 0.9621166087962963, 0.963533275462963, 0.9162670717592594, 0.95715625, 0.9265451388888888, 0.9663347800925927, 0.9717528935185186]}, {\"categories\": [\"0\", \"1\", \"2\", \"3\", \"4\", \"5\", \"6\", \"7\", \"8\", \"9\", \"10\", \"11\", \"12\", \"13\", \"14\", \"15\", \"16\", \"17\", \"18\", \"19\", \"20\", \"21\", \"22\", \"23\", \"24\", \"25\", \"26\", \"27\", \"28\", \"29\", \"30\", \"31\", \"32\", \"33\", \"36\", \"37\"], \"mode\": \"lines\", \"name\": \"AUC_micro_max\", \"stepped\": true, \"type\": \"scatter\", \"data\": [0.9595031828703704, 0.9595031828703704, 0.9595031828703704, 0.9595031828703704, 0.9595031828703704, 0.9595031828703704, 0.9667641782407408, 0.9667641782407408, 0.9667641782407408, 0.9667641782407408, 0.9667641782407408, 0.9667641782407408, 0.9667641782407408, 0.9667641782407408, 0.9667641782407408, 0.9667641782407408, 0.9667641782407408, 0.9667641782407408, 0.9667641782407408, 0.9667641782407408, 0.9667641782407408, 0.9667641782407408, 0.9667641782407408, 0.9667641782407408, 0.9667641782407408, 0.9667641782407408, 0.9667641782407408, 0.9667641782407408, 0.9667641782407408, 0.9667641782407408, 0.9667641782407408, 0.9667641782407408, 0.9667641782407408, 0.9667641782407408, 0.9667641782407408, 0.9717528935185186]}], \"average_precision_score_weighted\": [{\"categories\": [\"0\", \"1\", \"2\", \"3\", \"4\", \"5\", \"6\", \"7\", \"8\", \"9\", \"10\", \"11\", \"12\", \"13\", \"14\", \"15\", \"16\", \"17\", \"18\", \"19\", \"20\", \"21\", \"22\", \"23\", \"24\", \"25\", \"26\", \"27\", \"28\", \"29\", \"30\", \"31\", \"32\", \"33\", \"36\", \"37\"], \"mode\": \"markers\", \"name\": \"average_precision_score_weighted\", \"stepped\": false, \"type\": \"scatter\", \"data\": [0.8698831793861457, 0.8608707686564584, 0.6025460210151874, 0.5884477474556541, 0.5802795009909818, 0.5156183234145364, 0.8909488560466945, 0.8891341708147478, 0.6310474994746457, 0.630250645303694, 0.7607172988663882, 0.7104349619147096, 0.7163816164318677, 0.7416822494383892, 0.7105650567919334, 0.7998759488810119, 0.8839700923815386, 0.8766770953610153, 0.613381319758189, 0.6309161904555748, 0.8874109102728136, 0.8684202306109239, 0.6740186136554376, 0.6826925221379707, 0.7121832810661651, 0.2773541666666667, 0.6682679760889743, 0.8257027738438373, 0.7048943724945154, 0.8786439957097265, 0.8835343199030502, 0.7478895282861435, 0.8570579028584783, 0.7737429754698276, 0.8817796787106842, 0.9069700447401313]}, {\"categories\": [\"0\", \"1\", \"2\", \"3\", \"4\", \"5\", \"6\", \"7\", \"8\", \"9\", \"10\", \"11\", \"12\", \"13\", \"14\", \"15\", \"16\", \"17\", \"18\", \"19\", \"20\", \"21\", \"22\", \"23\", \"24\", \"25\", \"26\", \"27\", \"28\", \"29\", \"30\", \"31\", \"32\", \"33\", \"36\", \"37\"], \"mode\": \"lines\", \"name\": \"average_precision_score_weighted_max\", \"stepped\": true, \"type\": \"scatter\", \"data\": [0.8698831793861457, 0.8698831793861457, 0.8698831793861457, 0.8698831793861457, 0.8698831793861457, 0.8698831793861457, 0.8909488560466945, 0.8909488560466945, 0.8909488560466945, 0.8909488560466945, 0.8909488560466945, 0.8909488560466945, 0.8909488560466945, 0.8909488560466945, 0.8909488560466945, 0.8909488560466945, 0.8909488560466945, 0.8909488560466945, 0.8909488560466945, 0.8909488560466945, 0.8909488560466945, 0.8909488560466945, 0.8909488560466945, 0.8909488560466945, 0.8909488560466945, 0.8909488560466945, 0.8909488560466945, 0.8909488560466945, 0.8909488560466945, 0.8909488560466945, 0.8909488560466945, 0.8909488560466945, 0.8909488560466945, 0.8909488560466945, 0.8909488560466945, 0.9069700447401313]}], \"recall_score_micro\": [{\"categories\": [\"0\", \"1\", \"2\", \"3\", \"4\", \"5\", \"6\", \"7\", \"8\", \"9\", \"10\", \"11\", \"12\", \"13\", \"14\", \"15\", \"16\", \"17\", \"18\", \"19\", \"20\", \"21\", \"22\", \"23\", \"24\", \"25\", \"26\", \"27\", \"28\", \"29\", \"30\", \"31\", \"32\", \"33\", \"36\", \"37\"], \"mode\": \"markers\", \"name\": \"recall_score_micro\", \"stepped\": false, \"type\": \"scatter\", \"data\": [0.76625, 0.7666666666666668, 0.60375, 0.5912499999999999, 0.5120833333333333, 0.43666666666666665, 0.78625, 0.775, 0.6320833333333333, 0.6420833333333333, 0.6895833333333332, 0.6975, 0.6812499999999999, 0.67375, 0.67625, 0.7158333333333333, 0.7795833333333333, 0.7725000000000001, 0.6145833333333333, 0.6329166666666667, 0.7808333333333334, 0.7516666666666667, 0.66625, 0.6679166666666667, 0.6808333333333334, 0.315, 0.64, 0.7333333333333334, 0.6679166666666666, 0.7691666666666667, 0.7716666666666667, 0.6716666666666666, 0.7583333333333333, 0.6908333333333334, 0.7987500000000001, 0.8004166666666667]}, {\"categories\": [\"0\", \"1\", \"2\", \"3\", \"4\", \"5\", \"6\", \"7\", \"8\", \"9\", \"10\", \"11\", \"12\", \"13\", \"14\", \"15\", \"16\", \"17\", \"18\", \"19\", \"20\", \"21\", \"22\", \"23\", \"24\", \"25\", \"26\", \"27\", \"28\", \"29\", \"30\", \"31\", \"32\", \"33\", \"36\", \"37\"], \"mode\": \"lines\", \"name\": \"recall_score_micro_max\", \"stepped\": true, \"type\": \"scatter\", \"data\": [0.76625, 0.7666666666666668, 0.7666666666666668, 0.7666666666666668, 0.7666666666666668, 0.7666666666666668, 0.78625, 0.78625, 0.78625, 0.78625, 0.78625, 0.78625, 0.78625, 0.78625, 0.78625, 0.78625, 0.78625, 0.78625, 0.78625, 0.78625, 0.78625, 0.78625, 0.78625, 0.78625, 0.78625, 0.78625, 0.78625, 0.78625, 0.78625, 0.78625, 0.78625, 0.78625, 0.78625, 0.78625, 0.7987500000000001, 0.8004166666666667]}], \"weighted_accuracy\": [{\"categories\": [\"0\", \"1\", \"2\", \"3\", \"4\", \"5\", \"6\", \"7\", \"8\", \"9\", \"10\", \"11\", \"12\", \"13\", \"14\", \"15\", \"16\", \"17\", \"18\", \"19\", \"20\", \"21\", \"22\", \"23\", \"24\", \"25\", \"26\", \"27\", \"28\", \"29\", \"30\", \"31\", \"32\", \"33\", \"36\", \"37\"], \"mode\": \"markers\", \"name\": \"weighted_accuracy\", \"stepped\": false, \"type\": \"scatter\", \"data\": [0.7401677450174308, 0.7403643083196775, 0.5805080138053389, 0.5726315935730814, 0.4477610681015422, 0.4051628330547576, 0.7580159128414445, 0.7470088558502284, 0.6031997143617802, 0.6144048381009944, 0.6752816242052158, 0.6789099546805757, 0.6683495618105164, 0.6600112712020954, 0.663663766884427, 0.6955523654855682, 0.751130020345759, 0.7457619489477494, 0.5909577678222814, 0.6038822261114078, 0.7550305639173631, 0.7178519110068413, 0.643548931055545, 0.6479891255738657, 0.661728705275243, 0.35797609978988104, 0.6249811214489325, 0.7099546132506805, 0.6541334862775854, 0.7407865915803221, 0.7431845305512855, 0.6458266658126568, 0.726720721332055, 0.6755944746524716, 0.7697115906825889, 0.771813755218189]}, {\"categories\": [\"0\", \"1\", \"2\", \"3\", \"4\", \"5\", \"6\", \"7\", \"8\", \"9\", \"10\", \"11\", \"12\", \"13\", \"14\", \"15\", \"16\", \"17\", \"18\", \"19\", \"20\", \"21\", \"22\", \"23\", \"24\", \"25\", \"26\", \"27\", \"28\", \"29\", \"30\", \"31\", \"32\", \"33\", \"36\", \"37\"], \"mode\": \"lines\", \"name\": \"weighted_accuracy_max\", \"stepped\": true, \"type\": \"scatter\", \"data\": [0.7401677450174308, 0.7403643083196775, 0.7403643083196775, 0.7403643083196775, 0.7403643083196775, 0.7403643083196775, 0.7580159128414445, 0.7580159128414445, 0.7580159128414445, 0.7580159128414445, 0.7580159128414445, 0.7580159128414445, 0.7580159128414445, 0.7580159128414445, 0.7580159128414445, 0.7580159128414445, 0.7580159128414445, 0.7580159128414445, 0.7580159128414445, 0.7580159128414445, 0.7580159128414445, 0.7580159128414445, 0.7580159128414445, 0.7580159128414445, 0.7580159128414445, 0.7580159128414445, 0.7580159128414445, 0.7580159128414445, 0.7580159128414445, 0.7580159128414445, 0.7580159128414445, 0.7580159128414445, 0.7580159128414445, 0.7580159128414445, 0.7697115906825889, 0.771813755218189]}], \"precision_score_macro\": [{\"categories\": [\"0\", \"1\", \"2\", \"3\", \"4\", \"5\", \"6\", \"7\", \"8\", \"9\", \"10\", \"11\", \"12\", \"13\", \"14\", \"15\", \"16\", \"17\", \"18\", \"19\", \"20\", \"21\", \"22\", \"23\", \"24\", \"25\", \"26\", \"27\", \"28\", \"29\", \"30\", \"31\", \"32\", \"33\", \"36\", \"37\"], \"mode\": \"markers\", \"name\": \"precision_score_macro\", \"stepped\": false, \"type\": \"scatter\", \"data\": [0.8001699397911709, 0.7987962571001727, 0.6211711351956917, 0.6072681829413361, 0.5393033337711306, 0.44158868004028984, 0.8204810800059171, 0.8082075691752608, 0.6641589446764504, 0.678950882295743, 0.711964507275402, 0.718110374121177, 0.6977816071779477, 0.6939567422601277, 0.7012017195213844, 0.7470212609711585, 0.8131449753211737, 0.8019880562467095, 0.6351740470227834, 0.6657806566486875, 0.8096115765678278, 0.7923079023558127, 0.6904672800452559, 0.688561134712265, 0.6994134347703321, 0.07875, 0.6644450724885971, 0.7660973862130811, 0.6936238213034792, 0.8019662303567985, 0.8033646875723924, 0.7002187997872642, 0.7946501134731714, 0.7141893465771145, 0.8321586540187538, 0.836583728731312]}, {\"categories\": [\"0\", \"1\", \"2\", \"3\", \"4\", \"5\", \"6\", \"7\", \"8\", \"9\", \"10\", \"11\", \"12\", \"13\", \"14\", \"15\", \"16\", \"17\", \"18\", \"19\", \"20\", \"21\", \"22\", \"23\", \"24\", \"25\", \"26\", \"27\", \"28\", \"29\", \"30\", \"31\", \"32\", \"33\", \"36\", \"37\"], \"mode\": \"lines\", \"name\": \"precision_score_macro_max\", \"stepped\": true, \"type\": \"scatter\", \"data\": [0.8001699397911709, 0.8001699397911709, 0.8001699397911709, 0.8001699397911709, 0.8001699397911709, 0.8001699397911709, 0.8204810800059171, 0.8204810800059171, 0.8204810800059171, 0.8204810800059171, 0.8204810800059171, 0.8204810800059171, 0.8204810800059171, 0.8204810800059171, 0.8204810800059171, 0.8204810800059171, 0.8204810800059171, 0.8204810800059171, 0.8204810800059171, 0.8204810800059171, 0.8204810800059171, 0.8204810800059171, 0.8204810800059171, 0.8204810800059171, 0.8204810800059171, 0.8204810800059171, 0.8204810800059171, 0.8204810800059171, 0.8204810800059171, 0.8204810800059171, 0.8204810800059171, 0.8204810800059171, 0.8204810800059171, 0.8204810800059171, 0.8321586540187538, 0.836583728731312]}], \"recall_score_macro\": [{\"categories\": [\"0\", \"1\", \"2\", \"3\", \"4\", \"5\", \"6\", \"7\", \"8\", \"9\", \"10\", \"11\", \"12\", \"13\", \"14\", \"15\", \"16\", \"17\", \"18\", \"19\", \"20\", \"21\", \"22\", \"23\", \"24\", \"25\", \"26\", \"27\", \"28\", \"29\", \"30\", \"31\", \"32\", \"33\", \"36\", \"37\"], \"mode\": \"markers\", \"name\": \"recall_score_macro\", \"stepped\": false, \"type\": \"scatter\", \"data\": [0.798510497868718, 0.7994261435573212, 0.6318567682737803, 0.6106090875035397, 0.5921653770590167, 0.47594200427335265, 0.8203698365993143, 0.8086805384852855, 0.6686870290230953, 0.6746599201686369, 0.7071101174341816, 0.7207823715815037, 0.6975122744040151, 0.6909463774430893, 0.6918232079278839, 0.7405622901559152, 0.8141231467242841, 0.8050134142751887, 0.644667447162009, 0.6697450000375881, 0.8124848767250622, 0.7903168561904648, 0.6950655659855627, 0.6934435671398903, 0.7043759074188432, 0.25, 0.6603954502646057, 0.7623323037041444, 0.6832332571903346, 0.8035898124202021, 0.8061916241471639, 0.7037348902986189, 0.7969780915385377, 0.7093470265061405, 0.834343018865616, 0.8350967521269625]}, {\"categories\": [\"0\", \"1\", \"2\", \"3\", \"4\", \"5\", \"6\", \"7\", \"8\", \"9\", \"10\", \"11\", \"12\", \"13\", \"14\", \"15\", \"16\", \"17\", \"18\", \"19\", \"20\", \"21\", \"22\", \"23\", \"24\", \"25\", \"26\", \"27\", \"28\", \"29\", \"30\", \"31\", \"32\", \"33\", \"36\", \"37\"], \"mode\": \"lines\", \"name\": \"recall_score_macro_max\", \"stepped\": true, \"type\": \"scatter\", \"data\": [0.798510497868718, 0.7994261435573212, 0.7994261435573212, 0.7994261435573212, 0.7994261435573212, 0.7994261435573212, 0.8203698365993143, 0.8203698365993143, 0.8203698365993143, 0.8203698365993143, 0.8203698365993143, 0.8203698365993143, 0.8203698365993143, 0.8203698365993143, 0.8203698365993143, 0.8203698365993143, 0.8203698365993143, 0.8203698365993143, 0.8203698365993143, 0.8203698365993143, 0.8203698365993143, 0.8203698365993143, 0.8203698365993143, 0.8203698365993143, 0.8203698365993143, 0.8203698365993143, 0.8203698365993143, 0.8203698365993143, 0.8203698365993143, 0.8203698365993143, 0.8203698365993143, 0.8203698365993143, 0.8203698365993143, 0.8203698365993143, 0.834343018865616, 0.8350967521269625]}], \"log_loss\": [{\"categories\": [\"0\", \"1\", \"2\", \"3\", \"4\", \"5\", \"6\", \"7\", \"8\", \"9\", \"10\", \"11\", \"12\", \"13\", \"14\", \"15\", \"16\", \"17\", \"18\", \"19\", \"20\", \"21\", \"22\", \"23\", \"24\", \"25\", \"26\", \"27\", \"28\", \"29\", \"30\", \"31\", \"32\", \"33\", \"36\", \"37\"], \"mode\": \"markers\", \"name\": \"log_loss\", \"stepped\": false, \"type\": \"scatter\", \"data\": [0.44597855315451007, 0.4427730138068031, 0.9366183971873824, 0.9837988904315585, 1.0214323282489572, 1.06092748514753, 0.3788943118704878, 0.4677676163937018, 0.7746471390819007, 0.9926273204422799, 0.6214589665760182, 0.7631711132199555, 0.6305351010649181, 0.6893217773621385, 0.9169062083917101, 0.6235766699030741, 0.41438572233613125, 0.43015127974200473, 0.8120305166446024, 0.7744646089224714, 0.435059247413277, 0.5401431141399656, 1.0254405378641867, 0.8358803670460514, 0.703498655583269, 1.3353489466495252, 1.0194164486820412, 0.5015469401721975, 0.8173232720472141, 0.4259190291446167, 0.4367732684515603, 0.8013416252360137, 0.43809146169546, 0.6403569974870964, 0.6108112591341692, 0.3470002378382843]}, {\"categories\": [\"0\", \"1\", \"2\", \"3\", \"4\", \"5\", \"6\", \"7\", \"8\", \"9\", \"10\", \"11\", \"12\", \"13\", \"14\", \"15\", \"16\", \"17\", \"18\", \"19\", \"20\", \"21\", \"22\", \"23\", \"24\", \"25\", \"26\", \"27\", \"28\", \"29\", \"30\", \"31\", \"32\", \"33\", \"36\", \"37\"], \"mode\": \"lines\", \"name\": \"log_loss_min\", \"stepped\": true, \"type\": \"scatter\", \"data\": [0.44597855315451007, 0.4427730138068031, 0.4427730138068031, 0.4427730138068031, 0.4427730138068031, 0.4427730138068031, 0.3788943118704878, 0.3788943118704878, 0.3788943118704878, 0.3788943118704878, 0.3788943118704878, 0.3788943118704878, 0.3788943118704878, 0.3788943118704878, 0.3788943118704878, 0.3788943118704878, 0.3788943118704878, 0.3788943118704878, 0.3788943118704878, 0.3788943118704878, 0.3788943118704878, 0.3788943118704878, 0.3788943118704878, 0.3788943118704878, 0.3788943118704878, 0.3788943118704878, 0.3788943118704878, 0.3788943118704878, 0.3788943118704878, 0.3788943118704878, 0.3788943118704878, 0.3788943118704878, 0.3788943118704878, 0.3788943118704878, 0.3788943118704878, 0.3470002378382843]}], \"average_precision_score_micro\": [{\"categories\": [\"0\", \"1\", \"2\", \"3\", \"4\", \"5\", \"6\", \"7\", \"8\", \"9\", \"10\", \"11\", \"12\", \"13\", \"14\", \"15\", \"16\", \"17\", \"18\", \"19\", \"20\", \"21\", \"22\", \"23\", \"24\", \"25\", \"26\", \"27\", \"28\", \"29\", \"30\", \"31\", \"32\", \"33\", \"36\", \"37\"], \"mode\": \"markers\", \"name\": \"average_precision_score_micro\", \"stepped\": false, \"type\": \"scatter\", \"data\": [0.8882613998494095, 0.8821701161103969, 0.5600850229279203, 0.5441350220329435, 0.5154429132120988, 0.46391885588550374, 0.9084407350124153, 0.9041831889182201, 0.6143945528664987, 0.551267247794672, 0.7908265503256422, 0.7116532500267059, 0.7564960528048996, 0.7634027062545456, 0.6957398504373054, 0.8263292682123019, 0.8997549514299538, 0.8941945117768866, 0.6003157638661298, 0.614425910504913, 0.9018878700156489, 0.8827739912968339, 0.6834244173996269, 0.7214277939568612, 0.7496430064625118, 0.3020211226851852, 0.6902916702636633, 0.8514976459788611, 0.7230075066379766, 0.8954532041469296, 0.8989594779452383, 0.7617251748151235, 0.880998849470385, 0.7952407202676097, 0.9025919241569069, 0.9220502123953382]}, {\"categories\": [\"0\", \"1\", \"2\", \"3\", \"4\", \"5\", \"6\", \"7\", \"8\", \"9\", \"10\", \"11\", \"12\", \"13\", \"14\", \"15\", \"16\", \"17\", \"18\", \"19\", \"20\", \"21\", \"22\", \"23\", \"24\", \"25\", \"26\", \"27\", \"28\", \"29\", \"30\", \"31\", \"32\", \"33\", \"36\", \"37\"], \"mode\": \"lines\", \"name\": \"average_precision_score_micro_max\", \"stepped\": true, \"type\": \"scatter\", \"data\": [0.8882613998494095, 0.8882613998494095, 0.8882613998494095, 0.8882613998494095, 0.8882613998494095, 0.8882613998494095, 0.9084407350124153, 0.9084407350124153, 0.9084407350124153, 0.9084407350124153, 0.9084407350124153, 0.9084407350124153, 0.9084407350124153, 0.9084407350124153, 0.9084407350124153, 0.9084407350124153, 0.9084407350124153, 0.9084407350124153, 0.9084407350124153, 0.9084407350124153, 0.9084407350124153, 0.9084407350124153, 0.9084407350124153, 0.9084407350124153, 0.9084407350124153, 0.9084407350124153, 0.9084407350124153, 0.9084407350124153, 0.9084407350124153, 0.9084407350124153, 0.9084407350124153, 0.9084407350124153, 0.9084407350124153, 0.9084407350124153, 0.9084407350124153, 0.9220502123953382]}], \"f1_score_micro\": [{\"categories\": [\"0\", \"1\", \"2\", \"3\", \"4\", \"5\", \"6\", \"7\", \"8\", \"9\", \"10\", \"11\", \"12\", \"13\", \"14\", \"15\", \"16\", \"17\", \"18\", \"19\", \"20\", \"21\", \"22\", \"23\", \"24\", \"25\", \"26\", \"27\", \"28\", \"29\", \"30\", \"31\", \"32\", \"33\", \"36\", \"37\"], \"mode\": \"markers\", \"name\": \"f1_score_micro\", \"stepped\": false, \"type\": \"scatter\", \"data\": [0.76625, 0.7666666666666667, 0.60375, 0.5912499999999999, 0.5120833333333333, 0.43666666666666665, 0.78625, 0.775, 0.6320833333333333, 0.6420833333333333, 0.6895833333333332, 0.6975, 0.6812499999999999, 0.67375, 0.67625, 0.7158333333333333, 0.7795833333333333, 0.7725000000000001, 0.6145833333333333, 0.6329166666666667, 0.7808333333333334, 0.7516666666666667, 0.66625, 0.6679166666666667, 0.6808333333333334, 0.315, 0.64, 0.7333333333333334, 0.6679166666666666, 0.7691666666666667, 0.7716666666666667, 0.6716666666666666, 0.7583333333333333, 0.6908333333333334, 0.7987500000000001, 0.8004166666666667]}, {\"categories\": [\"0\", \"1\", \"2\", \"3\", \"4\", \"5\", \"6\", \"7\", \"8\", \"9\", \"10\", \"11\", \"12\", \"13\", \"14\", \"15\", \"16\", \"17\", \"18\", \"19\", \"20\", \"21\", \"22\", \"23\", \"24\", \"25\", \"26\", \"27\", \"28\", \"29\", \"30\", \"31\", \"32\", \"33\", \"36\", \"37\"], \"mode\": \"lines\", \"name\": \"f1_score_micro_max\", \"stepped\": true, \"type\": \"scatter\", \"data\": [0.76625, 0.7666666666666667, 0.7666666666666667, 0.7666666666666667, 0.7666666666666667, 0.7666666666666667, 0.78625, 0.78625, 0.78625, 0.78625, 0.78625, 0.78625, 0.78625, 0.78625, 0.78625, 0.78625, 0.78625, 0.78625, 0.78625, 0.78625, 0.78625, 0.78625, 0.78625, 0.78625, 0.78625, 0.78625, 0.78625, 0.78625, 0.78625, 0.78625, 0.78625, 0.78625, 0.78625, 0.78625, 0.7987500000000001, 0.8004166666666667]}], \"f1_score_macro\": [{\"categories\": [\"0\", \"1\", \"2\", \"3\", \"4\", \"5\", \"6\", \"7\", \"8\", \"9\", \"10\", \"11\", \"12\", \"13\", \"14\", \"15\", \"16\", \"17\", \"18\", \"19\", \"20\", \"21\", \"22\", \"23\", \"24\", \"25\", \"26\", \"27\", \"28\", \"29\", \"30\", \"31\", \"32\", \"33\", \"36\", \"37\"], \"mode\": \"markers\", \"name\": \"f1_score_macro\", \"stepped\": false, \"type\": \"scatter\", \"data\": [0.7984324427847109, 0.7984363602659699, 0.6187436954673118, 0.592827361390518, 0.530732983896437, 0.4187783207585271, 0.8188841210379355, 0.8066155647858093, 0.6633319386579052, 0.6570932358429327, 0.7085520553837593, 0.7127382513775726, 0.6963701528504046, 0.6909087502442409, 0.6942715323826354, 0.7425395503995824, 0.812702841171207, 0.8022714419761229, 0.6355239363813995, 0.6647941134014014, 0.8098605575552998, 0.7817239925822996, 0.6901543654976057, 0.689337276636347, 0.7003885192732849, 0.11976221176807642, 0.6330299778364104, 0.7634733741354106, 0.6850044487475073, 0.8010675228321219, 0.8033817520781398, 0.6792306461643222, 0.7946752977984202, 0.7077800726702792, 0.832131720057304, 0.8340299860679894]}, {\"categories\": [\"0\", \"1\", \"2\", \"3\", \"4\", \"5\", \"6\", \"7\", \"8\", \"9\", \"10\", \"11\", \"12\", \"13\", \"14\", \"15\", \"16\", \"17\", \"18\", \"19\", \"20\", \"21\", \"22\", \"23\", \"24\", \"25\", \"26\", \"27\", \"28\", \"29\", \"30\", \"31\", \"32\", \"33\", \"36\", \"37\"], \"mode\": \"lines\", \"name\": \"f1_score_macro_max\", \"stepped\": true, \"type\": \"scatter\", \"data\": [0.7984324427847109, 0.7984363602659699, 0.7984363602659699, 0.7984363602659699, 0.7984363602659699, 0.7984363602659699, 0.8188841210379355, 0.8188841210379355, 0.8188841210379355, 0.8188841210379355, 0.8188841210379355, 0.8188841210379355, 0.8188841210379355, 0.8188841210379355, 0.8188841210379355, 0.8188841210379355, 0.8188841210379355, 0.8188841210379355, 0.8188841210379355, 0.8188841210379355, 0.8188841210379355, 0.8188841210379355, 0.8188841210379355, 0.8188841210379355, 0.8188841210379355, 0.8188841210379355, 0.8188841210379355, 0.8188841210379355, 0.8188841210379355, 0.8188841210379355, 0.8188841210379355, 0.8188841210379355, 0.8188841210379355, 0.8188841210379355, 0.832131720057304, 0.8340299860679894]}], \"matthews_correlation\": [{\"categories\": [\"0\", \"1\", \"2\", \"3\", \"4\", \"5\", \"6\", \"7\", \"8\", \"9\", \"10\", \"11\", \"12\", \"13\", \"14\", \"15\", \"16\", \"17\", \"18\", \"19\", \"20\", \"21\", \"22\", \"23\", \"24\", \"25\", \"26\", \"27\", \"28\", \"29\", \"30\", \"31\", \"32\", \"33\", \"36\", \"37\"], \"mode\": \"markers\", \"name\": \"matthews_correlation\", \"stepped\": false, \"type\": \"scatter\", \"data\": [0.6776101936039385, 0.6780992697758351, 0.4594160373429091, 0.44959076123100283, 0.3771289051343009, 0.27086722392248624, 0.7061421785695672, 0.6910389535823077, 0.49239630846499916, 0.5209166753261317, 0.5699160330055377, 0.5855081106978463, 0.5595224868356301, 0.5488165106017361, 0.5517089706671504, 0.6076762020233237, 0.696447427863758, 0.6872448774168531, 0.4694054461449017, 0.4934590552428785, 0.6984877635497941, 0.6681119100053541, 0.5419562696338295, 0.5428941347513799, 0.5603480936940428, 0.0, 0.5292296078589284, 0.6314862361548442, 0.54266555552312, 0.6828122997818508, 0.6862367295711628, 0.5684613970839864, 0.667559915882337, 0.574887085877429, 0.7233047216955409, 0.726185289665471]}, {\"categories\": [\"0\", \"1\", \"2\", \"3\", \"4\", \"5\", \"6\", \"7\", \"8\", \"9\", \"10\", \"11\", \"12\", \"13\", \"14\", \"15\", \"16\", \"17\", \"18\", \"19\", \"20\", \"21\", \"22\", \"23\", \"24\", \"25\", \"26\", \"27\", \"28\", \"29\", \"30\", \"31\", \"32\", \"33\", \"36\", \"37\"], \"mode\": \"lines\", \"name\": \"matthews_correlation_max\", \"stepped\": true, \"type\": \"scatter\", \"data\": [0.6776101936039385, 0.6780992697758351, 0.6780992697758351, 0.6780992697758351, 0.6780992697758351, 0.6780992697758351, 0.7061421785695672, 0.7061421785695672, 0.7061421785695672, 0.7061421785695672, 0.7061421785695672, 0.7061421785695672, 0.7061421785695672, 0.7061421785695672, 0.7061421785695672, 0.7061421785695672, 0.7061421785695672, 0.7061421785695672, 0.7061421785695672, 0.7061421785695672, 0.7061421785695672, 0.7061421785695672, 0.7061421785695672, 0.7061421785695672, 0.7061421785695672, 0.7061421785695672, 0.7061421785695672, 0.7061421785695672, 0.7061421785695672, 0.7061421785695672, 0.7061421785695672, 0.7061421785695672, 0.7061421785695672, 0.7061421785695672, 0.7233047216955409, 0.726185289665471]}], \"precision_score_micro\": [{\"categories\": [\"0\", \"1\", \"2\", \"3\", \"4\", \"5\", \"6\", \"7\", \"8\", \"9\", \"10\", \"11\", \"12\", \"13\", \"14\", \"15\", \"16\", \"17\", \"18\", \"19\", \"20\", \"21\", \"22\", \"23\", \"24\", \"25\", \"26\", \"27\", \"28\", \"29\", \"30\", \"31\", \"32\", \"33\", \"36\", \"37\"], \"mode\": \"markers\", \"name\": \"precision_score_micro\", \"stepped\": false, \"type\": \"scatter\", \"data\": [0.76625, 0.7666666666666668, 0.60375, 0.5912499999999999, 0.5120833333333333, 0.43666666666666665, 0.78625, 0.775, 0.6320833333333333, 0.6420833333333333, 0.6895833333333332, 0.6975, 0.6812499999999999, 0.67375, 0.67625, 0.7158333333333333, 0.7795833333333333, 0.7725000000000001, 0.6145833333333333, 0.6329166666666667, 0.7808333333333334, 0.7516666666666667, 0.66625, 0.6679166666666667, 0.6808333333333334, 0.315, 0.64, 0.7333333333333334, 0.6679166666666666, 0.7691666666666667, 0.7716666666666667, 0.6716666666666666, 0.7583333333333333, 0.6908333333333334, 0.7987500000000001, 0.8004166666666667]}, {\"categories\": [\"0\", \"1\", \"2\", \"3\", \"4\", \"5\", \"6\", \"7\", \"8\", \"9\", \"10\", \"11\", \"12\", \"13\", \"14\", \"15\", \"16\", \"17\", \"18\", \"19\", \"20\", \"21\", \"22\", \"23\", \"24\", \"25\", \"26\", \"27\", \"28\", \"29\", \"30\", \"31\", \"32\", \"33\", \"36\", \"37\"], \"mode\": \"lines\", \"name\": \"precision_score_micro_max\", \"stepped\": true, \"type\": \"scatter\", \"data\": [0.76625, 0.7666666666666668, 0.7666666666666668, 0.7666666666666668, 0.7666666666666668, 0.7666666666666668, 0.78625, 0.78625, 0.78625, 0.78625, 0.78625, 0.78625, 0.78625, 0.78625, 0.78625, 0.78625, 0.78625, 0.78625, 0.78625, 0.78625, 0.78625, 0.78625, 0.78625, 0.78625, 0.78625, 0.78625, 0.78625, 0.78625, 0.78625, 0.78625, 0.78625, 0.78625, 0.78625, 0.78625, 0.7987500000000001, 0.8004166666666667]}], \"average_precision_score_macro\": [{\"categories\": [\"0\", \"1\", \"2\", \"3\", \"4\", \"5\", \"6\", \"7\", \"8\", \"9\", \"10\", \"11\", \"12\", \"13\", \"14\", \"15\", \"16\", \"17\", \"18\", \"19\", \"20\", \"21\", \"22\", \"23\", \"24\", \"25\", \"26\", \"27\", \"28\", \"29\", \"30\", \"31\", \"32\", \"33\", \"36\", \"37\"], \"mode\": \"markers\", \"name\": \"average_precision_score_macro\", \"stepped\": false, \"type\": \"scatter\", \"data\": [0.8914579013800538, 0.8814838517815927, 0.6314726164980412, 0.6141666961039608, 0.6169323684104937, 0.5216771458642124, 0.9113123188577452, 0.9077048449703764, 0.6740102819669893, 0.6734448989826792, 0.7819834520876567, 0.7338101088517808, 0.7196222777305511, 0.7541172040633726, 0.7388045863873867, 0.8176892174652538, 0.9049443115939096, 0.8971151726403539, 0.6457455074642533, 0.6738473825089685, 0.9062268184183517, 0.8877423967737996, 0.7094485814974677, 0.7152633272548815, 0.7395240835870374, 0.25, 0.6859581644937756, 0.8447076156460064, 0.7312305039245108, 0.9004901452186408, 0.9030983196297575, 0.7644165336021145, 0.8813034756110332, 0.7898887415585464, 0.9057700764497912, 0.9257964765960495]}, {\"categories\": [\"0\", \"1\", \"2\", \"3\", \"4\", \"5\", \"6\", \"7\", \"8\", \"9\", \"10\", \"11\", \"12\", \"13\", \"14\", \"15\", \"16\", \"17\", \"18\", \"19\", \"20\", \"21\", \"22\", \"23\", \"24\", \"25\", \"26\", \"27\", \"28\", \"29\", \"30\", \"31\", \"32\", \"33\", \"36\", \"37\"], \"mode\": \"lines\", \"name\": \"average_precision_score_macro_max\", \"stepped\": true, \"type\": \"scatter\", \"data\": [0.8914579013800538, 0.8914579013800538, 0.8914579013800538, 0.8914579013800538, 0.8914579013800538, 0.8914579013800538, 0.9113123188577452, 0.9113123188577452, 0.9113123188577452, 0.9113123188577452, 0.9113123188577452, 0.9113123188577452, 0.9113123188577452, 0.9113123188577452, 0.9113123188577452, 0.9113123188577452, 0.9113123188577452, 0.9113123188577452, 0.9113123188577452, 0.9113123188577452, 0.9113123188577452, 0.9113123188577452, 0.9113123188577452, 0.9113123188577452, 0.9113123188577452, 0.9113123188577452, 0.9113123188577452, 0.9113123188577452, 0.9113123188577452, 0.9113123188577452, 0.9113123188577452, 0.9113123188577452, 0.9113123188577452, 0.9113123188577452, 0.9113123188577452, 0.9257964765960495]}], \"balanced_accuracy\": [{\"categories\": [\"0\", \"1\", \"2\", \"3\", \"4\", \"5\", \"6\", \"7\", \"8\", \"9\", \"10\", \"11\", \"12\", \"13\", \"14\", \"15\", \"16\", \"17\", \"18\", \"19\", \"20\", \"21\", \"22\", \"23\", \"24\", \"25\", \"26\", \"27\", \"28\", \"29\", \"30\", \"31\", \"32\", \"33\", \"36\", \"37\"], \"mode\": \"markers\", \"name\": \"balanced_accuracy\", \"stepped\": false, \"type\": \"scatter\", \"data\": [0.798510497868718, 0.7994261435573212, 0.6318567682737803, 0.6106090875035397, 0.5921653770590167, 0.47594200427335265, 0.8203698365993143, 0.8086805384852855, 0.6686870290230953, 0.6746599201686369, 0.7071101174341816, 0.7207823715815037, 0.6975122744040151, 0.6909463774430893, 0.6918232079278839, 0.7405622901559152, 0.8141231467242841, 0.8050134142751887, 0.644667447162009, 0.6697450000375881, 0.8124848767250622, 0.7903168561904648, 0.6950655659855627, 0.6934435671398903, 0.7043759074188432, 0.25, 0.6603954502646057, 0.7623323037041444, 0.6832332571903346, 0.8035898124202021, 0.8061916241471639, 0.7037348902986189, 0.7969780915385377, 0.7093470265061405, 0.834343018865616, 0.8350967521269625]}, {\"categories\": [\"0\", \"1\", \"2\", \"3\", \"4\", \"5\", \"6\", \"7\", \"8\", \"9\", \"10\", \"11\", \"12\", \"13\", \"14\", \"15\", \"16\", \"17\", \"18\", \"19\", \"20\", \"21\", \"22\", \"23\", \"24\", \"25\", \"26\", \"27\", \"28\", \"29\", \"30\", \"31\", \"32\", \"33\", \"36\", \"37\"], \"mode\": \"lines\", \"name\": \"balanced_accuracy_max\", \"stepped\": true, \"type\": \"scatter\", \"data\": [0.798510497868718, 0.7994261435573212, 0.7994261435573212, 0.7994261435573212, 0.7994261435573212, 0.7994261435573212, 0.8203698365993143, 0.8203698365993143, 0.8203698365993143, 0.8203698365993143, 0.8203698365993143, 0.8203698365993143, 0.8203698365993143, 0.8203698365993143, 0.8203698365993143, 0.8203698365993143, 0.8203698365993143, 0.8203698365993143, 0.8203698365993143, 0.8203698365993143, 0.8203698365993143, 0.8203698365993143, 0.8203698365993143, 0.8203698365993143, 0.8203698365993143, 0.8203698365993143, 0.8203698365993143, 0.8203698365993143, 0.8203698365993143, 0.8203698365993143, 0.8203698365993143, 0.8203698365993143, 0.8203698365993143, 0.8203698365993143, 0.834343018865616, 0.8350967521269625]}], \"AUC_weighted\": [{\"categories\": [\"0\", \"1\", \"2\", \"3\", \"4\", \"5\", \"6\", \"7\", \"8\", \"9\", \"10\", \"11\", \"12\", \"13\", \"14\", \"15\", \"16\", \"17\", \"18\", \"19\", \"20\", \"21\", \"22\", \"23\", \"24\", \"25\", \"26\", \"27\", \"28\", \"29\", \"30\", \"31\", \"32\", \"33\", \"36\", \"37\"], \"mode\": \"markers\", \"name\": \"AUC_weighted\", \"stepped\": false, \"type\": \"scatter\", \"data\": [0.9341006865852229, 0.9321568408600198, 0.8304175771052549, 0.8225516133290887, 0.8102997266968768, 0.7802674412060701, 0.9435525954667942, 0.9415636697086169, 0.8244647039818599, 0.8420671667700168, 0.8964772146382838, 0.8787481977316123, 0.8887905314819836, 0.8876190849691294, 0.879906967821729, 0.909571762486521, 0.940691421375717, 0.9391363704105006, 0.822128905825698, 0.8244376816089491, 0.9434778593056606, 0.935388598779158, 0.8647086228297349, 0.8688703073327717, 0.8820814863991722, 0.5, 0.8557905055705705, 0.9191815987909211, 0.8748739819908119, 0.937753226892117, 0.9413833298397825, 0.8915503176101648, 0.9280246351503315, 0.9012812899505178, 0.942316472346705, 0.9510807651334154]}, {\"categories\": [\"0\", \"1\", \"2\", \"3\", \"4\", \"5\", \"6\", \"7\", \"8\", \"9\", \"10\", \"11\", \"12\", \"13\", \"14\", \"15\", \"16\", \"17\", \"18\", \"19\", \"20\", \"21\", \"22\", \"23\", \"24\", \"25\", \"26\", \"27\", \"28\", \"29\", \"30\", \"31\", \"32\", \"33\", \"36\", \"37\"], \"mode\": \"lines\", \"name\": \"AUC_weighted_max\", \"stepped\": true, \"type\": \"scatter\", \"data\": [0.9341006865852229, 0.9341006865852229, 0.9341006865852229, 0.9341006865852229, 0.9341006865852229, 0.9341006865852229, 0.9435525954667942, 0.9435525954667942, 0.9435525954667942, 0.9435525954667942, 0.9435525954667942, 0.9435525954667942, 0.9435525954667942, 0.9435525954667942, 0.9435525954667942, 0.9435525954667942, 0.9435525954667942, 0.9435525954667942, 0.9435525954667942, 0.9435525954667942, 0.9435525954667942, 0.9435525954667942, 0.9435525954667942, 0.9435525954667942, 0.9435525954667942, 0.9435525954667942, 0.9435525954667942, 0.9435525954667942, 0.9435525954667942, 0.9435525954667942, 0.9435525954667942, 0.9435525954667942, 0.9435525954667942, 0.9435525954667942, 0.9435525954667942, 0.9510807651334154]}], \"norm_macro_recall\": [{\"categories\": [\"0\", \"1\", \"2\", \"3\", \"4\", \"5\", \"6\", \"7\", \"8\", \"9\", \"10\", \"11\", \"12\", \"13\", \"14\", \"15\", \"16\", \"17\", \"18\", \"19\", \"20\", \"21\", \"22\", \"23\", \"24\", \"25\", \"26\", \"27\", \"28\", \"29\", \"30\", \"31\", \"32\", \"33\", \"36\", \"37\"], \"mode\": \"markers\", \"name\": \"norm_macro_recall\", \"stepped\": false, \"type\": \"scatter\", \"data\": [0.731347330491624, 0.7325681914097615, 0.5091423576983738, 0.4808121166713863, 0.45622050274535575, 0.3012560056978036, 0.7604931154657524, 0.7449073846470473, 0.5582493720307936, 0.5662132268915158, 0.6094801565789087, 0.6277098287753383, 0.5966830325386868, 0.5879285032574525, 0.5890976105705119, 0.6540830535412202, 0.752164195632379, 0.7400178857002516, 0.5262232628826787, 0.5596600000501173, 0.749979835633416, 0.7204224749206196, 0.5934207546474168, 0.5912580895198536, 0.6058345432251242, 0.0, 0.5471939336861409, 0.6831097382721925, 0.5776443429204459, 0.7381197498936026, 0.7415888321962186, 0.6049798537314917, 0.7293041220513835, 0.6124627020081873, 0.7791240251541549, 0.7801290028359501]}, {\"categories\": [\"0\", \"1\", \"2\", \"3\", \"4\", \"5\", \"6\", \"7\", \"8\", \"9\", \"10\", \"11\", \"12\", \"13\", \"14\", \"15\", \"16\", \"17\", \"18\", \"19\", \"20\", \"21\", \"22\", \"23\", \"24\", \"25\", \"26\", \"27\", \"28\", \"29\", \"30\", \"31\", \"32\", \"33\", \"36\", \"37\"], \"mode\": \"lines\", \"name\": \"norm_macro_recall_max\", \"stepped\": true, \"type\": \"scatter\", \"data\": [0.731347330491624, 0.7325681914097615, 0.7325681914097615, 0.7325681914097615, 0.7325681914097615, 0.7325681914097615, 0.7604931154657524, 0.7604931154657524, 0.7604931154657524, 0.7604931154657524, 0.7604931154657524, 0.7604931154657524, 0.7604931154657524, 0.7604931154657524, 0.7604931154657524, 0.7604931154657524, 0.7604931154657524, 0.7604931154657524, 0.7604931154657524, 0.7604931154657524, 0.7604931154657524, 0.7604931154657524, 0.7604931154657524, 0.7604931154657524, 0.7604931154657524, 0.7604931154657524, 0.7604931154657524, 0.7604931154657524, 0.7604931154657524, 0.7604931154657524, 0.7604931154657524, 0.7604931154657524, 0.7604931154657524, 0.7604931154657524, 0.7791240251541549, 0.7801290028359501]}], \"accuracy\": [{\"categories\": [\"0\", \"1\", \"2\", \"3\", \"4\", \"5\", \"6\", \"7\", \"8\", \"9\", \"10\", \"11\", \"12\", \"13\", \"14\", \"15\", \"16\", \"17\", \"18\", \"19\", \"20\", \"21\", \"22\", \"23\", \"24\", \"25\", \"26\", \"27\", \"28\", \"29\", \"30\", \"31\", \"32\", \"33\", \"36\", \"37\"], \"mode\": \"markers\", \"name\": \"accuracy\", \"stepped\": false, \"type\": \"scatter\", \"data\": [0.76625, 0.7666666666666668, 0.60375, 0.5912499999999999, 0.5120833333333333, 0.43666666666666665, 0.78625, 0.775, 0.6320833333333333, 0.6420833333333333, 0.6895833333333332, 0.6975, 0.6812499999999999, 0.67375, 0.67625, 0.7158333333333333, 0.7795833333333333, 0.7725000000000001, 0.6145833333333333, 0.6329166666666667, 0.7808333333333334, 0.7516666666666667, 0.66625, 0.6679166666666667, 0.6808333333333334, 0.315, 0.64, 0.7333333333333334, 0.6679166666666666, 0.7691666666666667, 0.7716666666666667, 0.6716666666666666, 0.7583333333333333, 0.6908333333333334, 0.7987500000000001, 0.8004166666666667]}, {\"categories\": [\"0\", \"1\", \"2\", \"3\", \"4\", \"5\", \"6\", \"7\", \"8\", \"9\", \"10\", \"11\", \"12\", \"13\", \"14\", \"15\", \"16\", \"17\", \"18\", \"19\", \"20\", \"21\", \"22\", \"23\", \"24\", \"25\", \"26\", \"27\", \"28\", \"29\", \"30\", \"31\", \"32\", \"33\", \"36\", \"37\"], \"mode\": \"lines\", \"name\": \"accuracy_max\", \"stepped\": true, \"type\": \"scatter\", \"data\": [0.76625, 0.7666666666666668, 0.7666666666666668, 0.7666666666666668, 0.7666666666666668, 0.7666666666666668, 0.78625, 0.78625, 0.78625, 0.78625, 0.78625, 0.78625, 0.78625, 0.78625, 0.78625, 0.78625, 0.78625, 0.78625, 0.78625, 0.78625, 0.78625, 0.78625, 0.78625, 0.78625, 0.78625, 0.78625, 0.78625, 0.78625, 0.78625, 0.78625, 0.78625, 0.78625, 0.78625, 0.78625, 0.7987500000000001, 0.8004166666666667]}], \"recall_score_weighted\": [{\"categories\": [\"0\", \"1\", \"2\", \"3\", \"4\", \"5\", \"6\", \"7\", \"8\", \"9\", \"10\", \"11\", \"12\", \"13\", \"14\", \"15\", \"16\", \"17\", \"18\", \"19\", \"20\", \"21\", \"22\", \"23\", \"24\", \"25\", \"26\", \"27\", \"28\", \"29\", \"30\", \"31\", \"32\", \"33\", \"36\", \"37\"], \"mode\": \"markers\", \"name\": \"recall_score_weighted\", \"stepped\": false, \"type\": \"scatter\", \"data\": [0.76625, 0.7666666666666668, 0.60375, 0.5912499999999999, 0.5120833333333333, 0.43666666666666665, 0.78625, 0.775, 0.6320833333333333, 0.6420833333333333, 0.6895833333333332, 0.6975, 0.6812499999999999, 0.67375, 0.67625, 0.7158333333333333, 0.7795833333333333, 0.7725000000000001, 0.6145833333333333, 0.6329166666666667, 0.7808333333333334, 0.7516666666666667, 0.66625, 0.6679166666666667, 0.6808333333333334, 0.315, 0.64, 0.7333333333333334, 0.6679166666666666, 0.7691666666666667, 0.7716666666666667, 0.6716666666666666, 0.7583333333333333, 0.6908333333333334, 0.7987500000000001, 0.8004166666666667]}, {\"categories\": [\"0\", \"1\", \"2\", \"3\", \"4\", \"5\", \"6\", \"7\", \"8\", \"9\", \"10\", \"11\", \"12\", \"13\", \"14\", \"15\", \"16\", \"17\", \"18\", \"19\", \"20\", \"21\", \"22\", \"23\", \"24\", \"25\", \"26\", \"27\", \"28\", \"29\", \"30\", \"31\", \"32\", \"33\", \"36\", \"37\"], \"mode\": \"lines\", \"name\": \"recall_score_weighted_max\", \"stepped\": true, \"type\": \"scatter\", \"data\": [0.76625, 0.7666666666666668, 0.7666666666666668, 0.7666666666666668, 0.7666666666666668, 0.7666666666666668, 0.78625, 0.78625, 0.78625, 0.78625, 0.78625, 0.78625, 0.78625, 0.78625, 0.78625, 0.78625, 0.78625, 0.78625, 0.78625, 0.78625, 0.78625, 0.78625, 0.78625, 0.78625, 0.78625, 0.78625, 0.78625, 0.78625, 0.78625, 0.78625, 0.78625, 0.78625, 0.78625, 0.78625, 0.7987500000000001, 0.8004166666666667]}], \"precision_score_weighted\": [{\"categories\": [\"0\", \"1\", \"2\", \"3\", \"4\", \"5\", \"6\", \"7\", \"8\", \"9\", \"10\", \"11\", \"12\", \"13\", \"14\", \"15\", \"16\", \"17\", \"18\", \"19\", \"20\", \"21\", \"22\", \"23\", \"24\", \"25\", \"26\", \"27\", \"28\", \"29\", \"30\", \"31\", \"32\", \"33\", \"36\", \"37\"], \"mode\": \"markers\", \"name\": \"precision_score_weighted\", \"stepped\": false, \"type\": \"scatter\", \"data\": [0.7692065764740681, 0.7682060782341147, 0.6049843085967186, 0.5946334862009852, 0.5377616796092972, 0.4672628080036267, 0.7885555882784763, 0.7782225904228841, 0.6280052534116349, 0.6537485671970517, 0.6901442881043105, 0.7012427266242864, 0.6815609688730426, 0.6748561610050378, 0.6784364718986232, 0.7205437473422835, 0.7821054895419024, 0.7745154300701788, 0.6084931432280303, 0.6290370237901978, 0.7826440678115897, 0.7659063486095159, 0.6730214274839119, 0.6712516912151459, 0.6797505154666731, 0.09926909722222221, 0.644638442318675, 0.7360420829818866, 0.6753483984502308, 0.7709041340166269, 0.7741197948405567, 0.6859789248146022, 0.7606673913818303, 0.6927393727177201, 0.80066797752119, 0.8045833853335781]}, {\"categories\": [\"0\", \"1\", \"2\", \"3\", \"4\", \"5\", \"6\", \"7\", \"8\", \"9\", \"10\", \"11\", \"12\", \"13\", \"14\", \"15\", \"16\", \"17\", \"18\", \"19\", \"20\", \"21\", \"22\", \"23\", \"24\", \"25\", \"26\", \"27\", \"28\", \"29\", \"30\", \"31\", \"32\", \"33\", \"36\", \"37\"], \"mode\": \"lines\", \"name\": \"precision_score_weighted_max\", \"stepped\": true, \"type\": \"scatter\", \"data\": [0.7692065764740681, 0.7692065764740681, 0.7692065764740681, 0.7692065764740681, 0.7692065764740681, 0.7692065764740681, 0.7885555882784763, 0.7885555882784763, 0.7885555882784763, 0.7885555882784763, 0.7885555882784763, 0.7885555882784763, 0.7885555882784763, 0.7885555882784763, 0.7885555882784763, 0.7885555882784763, 0.7885555882784763, 0.7885555882784763, 0.7885555882784763, 0.7885555882784763, 0.7885555882784763, 0.7885555882784763, 0.7885555882784763, 0.7885555882784763, 0.7885555882784763, 0.7885555882784763, 0.7885555882784763, 0.7885555882784763, 0.7885555882784763, 0.7885555882784763, 0.7885555882784763, 0.7885555882784763, 0.7885555882784763, 0.7885555882784763, 0.80066797752119, 0.8045833853335781]}], \"f1_score_weighted\": [{\"categories\": [\"0\", \"1\", \"2\", \"3\", \"4\", \"5\", \"6\", \"7\", \"8\", \"9\", \"10\", \"11\", \"12\", \"13\", \"14\", \"15\", \"16\", \"17\", \"18\", \"19\", \"20\", \"21\", \"22\", \"23\", \"24\", \"25\", \"26\", \"27\", \"28\", \"29\", \"30\", \"31\", \"32\", \"33\", \"36\", \"37\"], \"mode\": \"markers\", \"name\": \"f1_score_weighted\", \"stepped\": false, \"type\": \"scatter\", \"data\": [0.7667086179812939, 0.7666406631690099, 0.5966232778212118, 0.5744885685677941, 0.4928422967999488, 0.41091940145499617, 0.7855315823521546, 0.7743348722410566, 0.627329882374015, 0.6267885036926911, 0.68905104738244, 0.6936540386718941, 0.6801982519012677, 0.6728539183267448, 0.6753217462201848, 0.7167774341427371, 0.779739640830347, 0.7720221107832809, 0.6077060380036409, 0.6283278843195645, 0.7803249887690459, 0.7462608707576563, 0.6670156802297337, 0.6677467281642964, 0.6786477491134102, 0.1509511529276943, 0.6049300572057923, 0.7339014397695257, 0.6677808116308472, 0.767963619533044, 0.7712175283197636, 0.6487430139975466, 0.7581226236587273, 0.6874130172666391, 0.7982937711006743, 0.8001502329435375]}, {\"categories\": [\"0\", \"1\", \"2\", \"3\", \"4\", \"5\", \"6\", \"7\", \"8\", \"9\", \"10\", \"11\", \"12\", \"13\", \"14\", \"15\", \"16\", \"17\", \"18\", \"19\", \"20\", \"21\", \"22\", \"23\", \"24\", \"25\", \"26\", \"27\", \"28\", \"29\", \"30\", \"31\", \"32\", \"33\", \"36\", \"37\"], \"mode\": \"lines\", \"name\": \"f1_score_weighted_max\", \"stepped\": true, \"type\": \"scatter\", \"data\": [0.7667086179812939, 0.7667086179812939, 0.7667086179812939, 0.7667086179812939, 0.7667086179812939, 0.7667086179812939, 0.7855315823521546, 0.7855315823521546, 0.7855315823521546, 0.7855315823521546, 0.7855315823521546, 0.7855315823521546, 0.7855315823521546, 0.7855315823521546, 0.7855315823521546, 0.7855315823521546, 0.7855315823521546, 0.7855315823521546, 0.7855315823521546, 0.7855315823521546, 0.7855315823521546, 0.7855315823521546, 0.7855315823521546, 0.7855315823521546, 0.7855315823521546, 0.7855315823521546, 0.7855315823521546, 0.7855315823521546, 0.7855315823521546, 0.7855315823521546, 0.7855315823521546, 0.7855315823521546, 0.7855315823521546, 0.7855315823521546, 0.7982937711006743, 0.8001502329435375]}]}, \"metricName\": null, \"primaryMetricName\": \"accuracy\", \"showLegend\": false}, \"run_metrics\": [{\"name\": \"experiment_status\", \"run_id\": \"AutoML_4c763df7-6fab-4009-9e8c-7b581d7a4ce6\", \"categories\": [0, 1, 2, 3, 4, 5, 6, 7, 8, 9, 10, 11, 12, 13], \"series\": [{\"data\": [\"DatasetEvaluation\", \"FeaturesGeneration\", \"DatasetFeaturization\", \"DatasetFeaturizationCompleted\", \"DatasetCrossValidationSplit\", \"ModelSelection\", \"BestRunExplainModel\", \"ModelExplanationDataSetSetup\", \"PickSurrogateModel\", \"EngineeredFeatureExplanations\", \"EngineeredFeatureExplanations\", \"RawFeaturesExplanations\", \"RawFeaturesExplanations\", \"BestRunExplainModel\"]}]}, {\"name\": \"experiment_status_description\", \"run_id\": \"AutoML_4c763df7-6fab-4009-9e8c-7b581d7a4ce6\", \"categories\": [0, 1, 2, 3, 4, 5, 6, 7, 8, 9, 10, 11, 12, 13], \"series\": [{\"data\": [\"Gathering dataset statistics.\", \"Generating features for the dataset.\", \"Beginning to fit featurizers and featurize the dataset.\", \"Completed fit featurizers and featurizing the dataset.\", \"Generating individually featurized CV splits.\", \"Beginning model selection.\", \"Best run model explanations started\", \"Model explanations data setup completed\", \"Choosing LightGBM as the surrogate model for explanations\", \"Computation of engineered features started\", \"Computation of engineered features completed\", \"Computation of raw features started\", \"Computation of raw features completed\", \"Best run model explanations completed\"]}]}, {\"name\": \"precision_score_weighted\", \"run_id\": \"AutoML_4c763df7-6fab-4009-9e8c-7b581d7a4ce6\", \"categories\": [0], \"series\": [{\"data\": [0.8045833853335781]}]}, {\"name\": \"balanced_accuracy\", \"run_id\": \"AutoML_4c763df7-6fab-4009-9e8c-7b581d7a4ce6\", \"categories\": [0], \"series\": [{\"data\": [0.8350967521269625]}]}, {\"name\": \"average_precision_score_micro\", \"run_id\": \"AutoML_4c763df7-6fab-4009-9e8c-7b581d7a4ce6\", \"categories\": [0], \"series\": [{\"data\": [0.9220502123953382]}]}, {\"name\": \"recall_score_weighted\", \"run_id\": \"AutoML_4c763df7-6fab-4009-9e8c-7b581d7a4ce6\", \"categories\": [0], \"series\": [{\"data\": [0.8004166666666667]}]}, {\"name\": \"AUC_weighted\", \"run_id\": \"AutoML_4c763df7-6fab-4009-9e8c-7b581d7a4ce6\", \"categories\": [0], \"series\": [{\"data\": [0.9510807651334154]}]}, {\"name\": \"f1_score_micro\", \"run_id\": \"AutoML_4c763df7-6fab-4009-9e8c-7b581d7a4ce6\", \"categories\": [0], \"series\": [{\"data\": [0.8004166666666667]}]}, {\"name\": \"average_precision_score_macro\", \"run_id\": \"AutoML_4c763df7-6fab-4009-9e8c-7b581d7a4ce6\", \"categories\": [0], \"series\": [{\"data\": [0.9257964765960495]}]}, {\"name\": \"accuracy\", \"run_id\": \"AutoML_4c763df7-6fab-4009-9e8c-7b581d7a4ce6\", \"categories\": [0], \"series\": [{\"data\": [0.8004166666666667]}]}, {\"name\": \"recall_score_macro\", \"run_id\": \"AutoML_4c763df7-6fab-4009-9e8c-7b581d7a4ce6\", \"categories\": [0], \"series\": [{\"data\": [0.8350967521269625]}]}, {\"name\": \"average_precision_score_weighted\", \"run_id\": \"AutoML_4c763df7-6fab-4009-9e8c-7b581d7a4ce6\", \"categories\": [0], \"series\": [{\"data\": [0.9069700447401313]}]}, {\"name\": \"AUC_macro\", \"run_id\": \"AutoML_4c763df7-6fab-4009-9e8c-7b581d7a4ce6\", \"categories\": [0], \"series\": [{\"data\": [0.9622664600279748]}]}, {\"name\": \"weighted_accuracy\", \"run_id\": \"AutoML_4c763df7-6fab-4009-9e8c-7b581d7a4ce6\", \"categories\": [0], \"series\": [{\"data\": [0.771813755218189]}]}, {\"name\": \"f1_score_weighted\", \"run_id\": \"AutoML_4c763df7-6fab-4009-9e8c-7b581d7a4ce6\", \"categories\": [0], \"series\": [{\"data\": [0.8001502329435375]}]}, {\"name\": \"precision_score_macro\", \"run_id\": \"AutoML_4c763df7-6fab-4009-9e8c-7b581d7a4ce6\", \"categories\": [0], \"series\": [{\"data\": [0.836583728731312]}]}, {\"name\": \"recall_score_micro\", \"run_id\": \"AutoML_4c763df7-6fab-4009-9e8c-7b581d7a4ce6\", \"categories\": [0], \"series\": [{\"data\": [0.8004166666666667]}]}, {\"name\": \"AUC_micro\", \"run_id\": \"AutoML_4c763df7-6fab-4009-9e8c-7b581d7a4ce6\", \"categories\": [0], \"series\": [{\"data\": [0.9717528935185186]}]}, {\"name\": \"f1_score_macro\", \"run_id\": \"AutoML_4c763df7-6fab-4009-9e8c-7b581d7a4ce6\", \"categories\": [0], \"series\": [{\"data\": [0.8340299860679894]}]}, {\"name\": \"precision_score_micro\", \"run_id\": \"AutoML_4c763df7-6fab-4009-9e8c-7b581d7a4ce6\", \"categories\": [0], \"series\": [{\"data\": [0.8004166666666667]}]}, {\"name\": \"matthews_correlation\", \"run_id\": \"AutoML_4c763df7-6fab-4009-9e8c-7b581d7a4ce6\", \"categories\": [0], \"series\": [{\"data\": [0.726185289665471]}]}, {\"name\": \"norm_macro_recall\", \"run_id\": \"AutoML_4c763df7-6fab-4009-9e8c-7b581d7a4ce6\", \"categories\": [0], \"series\": [{\"data\": [0.7801290028359501]}]}, {\"name\": \"log_loss\", \"run_id\": \"AutoML_4c763df7-6fab-4009-9e8c-7b581d7a4ce6\", \"categories\": [0], \"series\": [{\"data\": [0.3470002378382843]}]}], \"run_logs\": \"\\nRun is completed.\", \"graph\": {}, \"widget_settings\": {\"childWidgetDisplay\": \"popup\", \"send_telemetry\": false, \"log_level\": \"INFO\", \"sdk_version\": \"1.26.0\"}, \"loading\": false}"
     },
     "metadata": {},
     "output_type": "display_data"
    },
    {
     "data": {
      "text/html": [
       "<table style=\"width:100%\"><tr><th>Experiment</th><th>Id</th><th>Type</th><th>Status</th><th>Details Page</th><th>Docs Page</th></tr><tr><td>mobile_price_prediction</td><td>AutoML_4c763df7-6fab-4009-9e8c-7b581d7a4ce6</td><td>automl</td><td>NotStarted</td><td><a href=\"https://ml.azure.com/runs/AutoML_4c763df7-6fab-4009-9e8c-7b581d7a4ce6?wsid=/subscriptions/6971f5ac-8af1-446e-8034-05acea24681f/resourcegroups/aml-quickstarts-143627/workspaces/quick-starts-ws-143627&amp;tid=660b3398-b80e-49d2-bc5b-ac1dc93b5254\" target=\"_blank\" rel=\"noopener\">Link to Azure Machine Learning studio</a></td><td><a href=\"https://docs.microsoft.com/en-us/python/api/overview/azure/ml/intro?view=azure-ml-py\" target=\"_blank\" rel=\"noopener\">Link to Documentation</a></td></tr></table>"
      ],
      "text/plain": [
       "<IPython.core.display.HTML object>"
      ]
     },
     "metadata": {},
     "output_type": "display_data"
    },
    {
     "name": "stdout",
     "output_type": "stream",
     "text": [
      "\n",
      "Current status: FeaturesGeneration. Generating features for the dataset.\n",
      "Current status: DatasetCrossValidationSplit. Generating individually featurized CV splits.\n",
      "Current status: ModelSelection. Beginning model selection.\n",
      "\n",
      "****************************************************************************************************\n",
      "DATA GUARDRAILS: \n",
      "\n",
      "TYPE:         Class balancing detection\n",
      "STATUS:       PASSED\n",
      "DESCRIPTION:  Your inputs were analyzed, and all classes are balanced in your training data.\n",
      "              Learn more about imbalanced data: https://aka.ms/AutomatedMLImbalancedData\n",
      "\n",
      "****************************************************************************************************\n",
      "\n",
      "TYPE:         Missing feature values imputation\n",
      "STATUS:       PASSED\n",
      "DESCRIPTION:  No feature missing values were detected in the training data.\n",
      "              Learn more about missing value imputation: https://aka.ms/AutomatedMLFeaturization\n",
      "\n",
      "****************************************************************************************************\n",
      "\n",
      "TYPE:         High cardinality feature detection\n",
      "STATUS:       PASSED\n",
      "DESCRIPTION:  Your inputs were analyzed, and no high cardinality features were detected.\n",
      "              Learn more about high cardinality feature handling: https://aka.ms/AutomatedMLFeaturization\n",
      "\n",
      "****************************************************************************************************\n",
      "\n",
      "****************************************************************************************************\n",
      "ITERATION: The iteration being evaluated.\n",
      "PIPELINE: A summary description of the pipeline being evaluated.\n",
      "DURATION: Time taken for the current iteration.\n",
      "METRIC: The result of computing score on the fitted pipeline.\n",
      "BEST: The best observed score thus far.\n",
      "****************************************************************************************************\n",
      "\n",
      " ITERATION   PIPELINE                                       DURATION      METRIC      BEST\n",
      "         2   MaxAbsScaler RandomForest                      0:00:51       0.6038    0.6038\n",
      "         1   MaxAbsScaler XGBoostClassifier                 0:00:52       0.7667    0.7667\n",
      "         3   MaxAbsScaler RandomForest                      0:00:45       0.5912    0.7667\n",
      "         0   MaxAbsScaler LightGBM                          0:00:49       0.7662    0.7667\n",
      "         7   SparseNormalizer XGBoostClassifier             0:00:51       0.7750    0.7750\n",
      "         8   MaxAbsScaler LogisticRegression                0:00:52       0.6321    0.7750\n",
      "         4   MaxAbsScaler RandomForest                      0:03:06       0.5121    0.7750\n",
      "         5   MaxAbsScaler RandomForest                      0:03:07       0.4367    0.7750\n",
      "         6   SparseNormalizer XGBoostClassifier             0:03:20       0.7863    0.7863\n",
      "         9   MaxAbsScaler RandomForest                      0:00:56       0.6421    0.7863\n",
      "        10   MaxAbsScaler GradientBoosting                  0:00:50       0.6896    0.7863\n",
      "        11   StandardScalerWrapper RandomForest             0:00:48       0.6975    0.7863\n",
      "        12   MaxAbsScaler RandomForest                      0:00:42       0.6812    0.7863\n",
      "        13   MaxAbsScaler RandomForest                      0:00:59       0.6737    0.7863\n",
      "        14   MaxAbsScaler LightGBM                          0:00:43       0.6763    0.7863\n",
      "        15   SparseNormalizer XGBoostClassifier             0:00:52       0.7158    0.7863\n",
      "        16   SparseNormalizer XGBoostClassifier             0:01:06       0.7796    0.7863\n",
      "        18   MaxAbsScaler LogisticRegression                0:00:43       0.6146    0.7863\n",
      "        17   SparseNormalizer XGBoostClassifier             0:01:02       0.7725    0.7863\n",
      "        19   MaxAbsScaler LogisticRegression                0:00:55       0.6329    0.7863\n",
      "        20   SparseNormalizer XGBoostClassifier             0:00:48       0.7808    0.7863\n",
      "        21   SparseNormalizer XGBoostClassifier             0:00:46       0.7517    0.7863\n",
      "        22   StandardScalerWrapper XGBoostClassifier        0:00:43       0.6663    0.7863\n",
      "        23   StandardScalerWrapper XGBoostClassifier        0:00:49       0.6679    0.7863\n",
      "        24   MaxAbsScaler LightGBM                          0:00:44       0.6808    0.7863\n",
      "        25   StandardScalerWrapper XGBoostClassifier        0:00:40       0.3150    0.7863\n",
      "        26   SparseNormalizer XGBoostClassifier             0:00:45       0.6400    0.7863\n",
      "        28   MaxAbsScaler LightGBM                          0:00:43       0.6679    0.7863\n",
      "        27   SparseNormalizer XGBoostClassifier             0:01:06       0.7333    0.7863\n",
      "        29   SparseNormalizer XGBoostClassifier             0:00:47       0.7692    0.7863\n",
      "        30   SparseNormalizer XGBoostClassifier             0:00:59       0.7717    0.7863\n",
      "        31   SparseNormalizer XGBoostClassifier             0:00:55       0.6717    0.7863\n",
      "        32   StandardScalerWrapper LightGBM                 0:00:48       0.7583    0.7863\n",
      "        33   SparseNormalizer XGBoostClassifier             0:00:41       0.6908    0.7863\n",
      "        34                                                  0:00:18          nan    0.7863\n",
      "        35                                                  0:00:16          nan    0.7863\n",
      "        36    VotingEnsemble                                0:01:05       0.7988    0.7988\n",
      "        37    StackEnsemble                                 0:01:31       0.8004    0.8004\n"
     ]
    },
    {
     "data": {
      "text/plain": [
       "{'runId': 'AutoML_4c763df7-6fab-4009-9e8c-7b581d7a4ce6',\n",
       " 'target': 'automl-cluster',\n",
       " 'status': 'Completed',\n",
       " 'startTimeUtc': '2021-04-27T13:41:20.350187Z',\n",
       " 'endTimeUtc': '2021-04-27T14:05:44.912878Z',\n",
       " 'properties': {'num_iterations': '1000',\n",
       "  'training_type': 'TrainFull',\n",
       "  'acquisition_function': 'EI',\n",
       "  'primary_metric': 'accuracy',\n",
       "  'train_split': '0',\n",
       "  'acquisition_parameter': '0',\n",
       "  'num_cross_validation': '5',\n",
       "  'target': 'automl-cluster',\n",
       "  'AMLSettingsJsonString': '{\"path\":null,\"name\":\"mobile_price_prediction\",\"subscription_id\":\"6971f5ac-8af1-446e-8034-05acea24681f\",\"resource_group\":\"aml-quickstarts-143627\",\"workspace_name\":\"quick-starts-ws-143627\",\"region\":\"southcentralus\",\"compute_target\":\"automl-cluster\",\"spark_service\":null,\"azure_service\":\"remote\",\"many_models\":false,\"pipeline_fetch_max_batch_size\":1,\"enable_batch_run\":false,\"enable_run_restructure\":false,\"iterations\":1000,\"primary_metric\":\"accuracy\",\"task_type\":\"classification\",\"data_script\":null,\"test_size\":0.0,\"validation_size\":0.0,\"n_cross_validations\":5,\"y_min\":null,\"y_max\":null,\"num_classes\":null,\"featurization\":\"auto\",\"_ignore_package_version_incompatibilities\":false,\"is_timeseries\":false,\"max_cores_per_iteration\":1,\"max_concurrent_iterations\":4,\"iteration_timeout_minutes\":null,\"mem_in_mb\":null,\"enforce_time_on_windows\":false,\"experiment_timeout_minutes\":25,\"experiment_exit_score\":null,\"whitelist_models\":null,\"blacklist_algos\":[\"TensorFlowLinearClassifier\",\"TensorFlowDNN\"],\"supported_models\":[\"DecisionTree\",\"LightGBM\",\"XGBoostClassifier\",\"GradientBoosting\",\"TensorFlowDNN\",\"SGD\",\"KNN\",\"MultinomialNaiveBayes\",\"SVM\",\"ExtremeRandomTrees\",\"LinearSVM\",\"TensorFlowLinearClassifier\",\"LogisticRegression\",\"BernoulliNaiveBayes\",\"AveragedPerceptronClassifier\",\"RandomForest\"],\"private_models\":[],\"auto_blacklist\":true,\"blacklist_samples_reached\":false,\"exclude_nan_labels\":true,\"verbosity\":20,\"_debug_log\":\"azureml_automl.log\",\"show_warnings\":false,\"model_explainability\":true,\"service_url\":null,\"sdk_url\":null,\"sdk_packages\":null,\"enable_onnx_compatible_models\":false,\"enable_split_onnx_featurizer_estimator_models\":false,\"vm_type\":\"STANDARD_D3_V2\",\"telemetry_verbosity\":20,\"send_telemetry\":true,\"enable_dnn\":false,\"scenario\":\"SDK-1.13.0\",\"environment_label\":null,\"save_mlflow\":false,\"force_text_dnn\":false,\"enable_feature_sweeping\":true,\"enable_early_stopping\":true,\"early_stopping_n_iters\":10,\"metrics\":null,\"enable_metric_confidence\":false,\"enable_ensembling\":true,\"enable_stack_ensembling\":true,\"ensemble_iterations\":15,\"enable_tf\":false,\"enable_subsampling\":null,\"subsample_seed\":null,\"enable_nimbusml\":false,\"enable_streaming\":false,\"force_streaming\":false,\"track_child_runs\":true,\"allowed_private_models\":[],\"label_column_name\":\"price_range\",\"weight_column_name\":null,\"cv_split_column_names\":null,\"enable_local_managed\":false,\"_local_managed_run_id\":null,\"cost_mode\":1,\"lag_length\":0,\"metric_operation\":\"maximize\",\"preprocess\":true}',\n",
       "  'DataPrepJsonString': '{\\\\\"training_data\\\\\": {\\\\\"datasetId\\\\\": \\\\\"195c7af2-89be-48a5-955d-d3a1d47b4f92\\\\\"}, \\\\\"datasets\\\\\": 0}',\n",
       "  'EnableSubsampling': None,\n",
       "  'runTemplate': 'AutoML',\n",
       "  'azureml.runsource': 'automl',\n",
       "  'display_task_type': 'classification',\n",
       "  'dependencies_versions': '{\"azureml-widgets\": \"1.26.0\", \"azureml-train\": \"1.26.0\", \"azureml-train-restclients-hyperdrive\": \"1.26.0\", \"azureml-train-core\": \"1.26.0\", \"azureml-train-automl\": \"1.26.0\", \"azureml-train-automl-runtime\": \"1.26.0\", \"azureml-train-automl-client\": \"1.26.0\", \"azureml-tensorboard\": \"1.26.0\", \"azureml-telemetry\": \"1.26.0\", \"azureml-sdk\": \"1.26.0\", \"azureml-samples\": \"0+unknown\", \"azureml-pipeline\": \"1.26.0\", \"azureml-pipeline-steps\": \"1.26.0\", \"azureml-pipeline-core\": \"1.26.0\", \"azureml-opendatasets\": \"1.26.0\", \"azureml-model-management-sdk\": \"1.0.1b6.post1\", \"azureml-mlflow\": \"1.26.0\", \"azureml-interpret\": \"1.26.0\", \"azureml-explain-model\": \"1.26.0\", \"azureml-defaults\": \"1.26.0\", \"azureml-dataset-runtime\": \"1.26.0\", \"azureml-dataprep\": \"2.13.2\", \"azureml-dataprep-rslex\": \"1.11.2\", \"azureml-dataprep-native\": \"32.0.0\", \"azureml-datadrift\": \"1.26.0\", \"azureml-core\": \"1.26.0\", \"azureml-contrib-services\": \"1.26.0\", \"azureml-contrib-server\": \"1.26.0\", \"azureml-contrib-reinforcementlearning\": \"1.26.0\", \"azureml-contrib-pipeline-steps\": \"1.26.0\", \"azureml-contrib-notebook\": \"1.26.0\", \"azureml-contrib-gbdt\": \"1.26.0\", \"azureml-contrib-fairness\": \"1.26.0\", \"azureml-contrib-dataset\": \"1.26.0\", \"azureml-cli-common\": \"1.26.0\", \"azureml-automl-runtime\": \"1.26.0\", \"azureml-automl-dnn-nlp\": \"1.26.0\", \"azureml-automl-core\": \"1.26.0\", \"azureml-accel-models\": \"1.26.0\"}',\n",
       "  '_aml_system_scenario_identification': 'Remote.Parent',\n",
       "  'ClientType': 'SDK',\n",
       "  'environment_cpu_name': 'AzureML-AutoML',\n",
       "  'environment_cpu_label': 'prod',\n",
       "  'environment_gpu_name': 'AzureML-AutoML-GPU',\n",
       "  'environment_gpu_label': 'prod',\n",
       "  'root_attribution': 'automl',\n",
       "  'attribution': 'AutoML',\n",
       "  'Orchestrator': 'AutoML',\n",
       "  'CancelUri': 'https://southcentralus.api.azureml.ms/jasmine/v1.0/subscriptions/6971f5ac-8af1-446e-8034-05acea24681f/resourceGroups/aml-quickstarts-143627/providers/Microsoft.MachineLearningServices/workspaces/quick-starts-ws-143627/experimentids/7393a710-1398-4412-abc6-f9fa68a2ec74/cancel/AutoML_4c763df7-6fab-4009-9e8c-7b581d7a4ce6',\n",
       "  'ClientSdkVersion': '1.27.0.post1',\n",
       "  'snapshotId': '00000000-0000-0000-0000-000000000000',\n",
       "  'SetupRunId': 'AutoML_4c763df7-6fab-4009-9e8c-7b581d7a4ce6_setup',\n",
       "  'SetupRunContainerId': 'dcid.AutoML_4c763df7-6fab-4009-9e8c-7b581d7a4ce6_setup',\n",
       "  'FeaturizationRunJsonPath': 'featurizer_container.json',\n",
       "  'FeaturizationRunId': 'AutoML_4c763df7-6fab-4009-9e8c-7b581d7a4ce6_featurize',\n",
       "  'ProblemInfoJsonString': '{\"dataset_num_categorical\": 0, \"is_sparse\": true, \"subsampling\": false, \"dataset_classes\": 4, \"dataset_features\": 136, \"dataset_samples\": 2400, \"single_frequency_class_detected\": false}',\n",
       "  'ModelExplainRunId': 'AutoML_4c763df7-6fab-4009-9e8c-7b581d7a4ce6_ModelExplain'},\n",
       " 'inputDatasets': [{'dataset': {'id': '195c7af2-89be-48a5-955d-d3a1d47b4f92'}, 'consumptionDetails': {'type': 'RunInput', 'inputName': 'training_data', 'mechanism': 'Direct'}}],\n",
       " 'outputDatasets': [],\n",
       " 'logFiles': {},\n",
       " 'submittedBy': 'ODL_User 143627'}"
      ]
     },
     "execution_count": 30,
     "metadata": {},
     "output_type": "execute_result"
    }
   ],
   "source": [
    "#remote_run = experiment.submit(automl_config, show_output = True)\n",
    "\n",
    "from azureml.widgets import RunDetails\n",
    "\n",
    "RunDetails(remote_run).show()\n",
    "remote_run.wait_for_completion(show_output=True)"
   ]
  },
  {
   "cell_type": "markdown",
   "metadata": {},
   "source": [
    "## Best Model\n",
    "\n",
    "TODO: In the cell below, get the best model from the automl experiments and display all the properties of the model.\n",
    "\n"
   ]
  },
  {
   "cell_type": "code",
   "execution_count": 31,
   "metadata": {
    "gather": {
     "logged": 1598431425670
    },
    "jupyter": {
     "outputs_hidden": false,
     "source_hidden": false
    },
    "nteract": {
     "transient": {
      "deleting": false
     }
    }
   },
   "outputs": [
    {
     "name": "stderr",
     "output_type": "stream",
     "text": [
      "WARNING:root:The version of the SDK does not match the version the model was trained on.\n",
      "WARNING:root:The consistency in the result may not be guaranteed.\n",
      "WARNING:root:Package:azureml-automl-core, training version:1.27.0, current version:1.26.0\n",
      "Package:azureml-automl-runtime, training version:1.27.0.post1, current version:1.26.0\n",
      "Package:azureml-core, training version:1.27.0, current version:1.26.0\n",
      "Package:azureml-dataprep, training version:2.14.2, current version:2.13.2\n",
      "Package:azureml-dataprep-native, training version:33.0.0, current version:32.0.0\n",
      "Package:azureml-dataprep-rslex, training version:1.12.1, current version:1.11.2\n",
      "Package:azureml-dataset-runtime, training version:1.27.0, current version:1.26.0\n",
      "Package:azureml-defaults, training version:1.27.0, current version:1.26.0\n",
      "Package:azureml-interpret, training version:1.27.0, current version:1.26.0\n",
      "Package:azureml-mlflow, training version:1.27.0, current version:1.26.0\n",
      "Package:azureml-pipeline-core, training version:1.27.0, current version:1.26.0\n",
      "Package:azureml-telemetry, training version:1.27.0, current version:1.26.0\n",
      "Package:azureml-train-automl-client, training version:1.27.0, current version:1.26.0\n",
      "Package:azureml-train-automl-runtime, training version:1.27.0.post1, current version:1.26.0\n",
      "WARNING:root:Please ensure the version of your local conda dependencies match the version on which your model was trained in order to properly retrieve your model.\n"
     ]
    },
    {
     "name": "stdout",
     "output_type": "stream",
     "text": [
      "Pipeline(memory=None,\n",
      "         steps=[('datatransformer',\n",
      "                 DataTransformer(enable_dnn=None, enable_feature_sweeping=None,\n",
      "                                 feature_sweeping_config=None,\n",
      "                                 feature_sweeping_timeout=None,\n",
      "                                 featurization_config=None, force_text_dnn=None,\n",
      "                                 is_cross_validation=None,\n",
      "                                 is_onnx_compatible=None, logger=None,\n",
      "                                 observer=None, task=None, working_dir=None)),\n",
      "                ('stackensembleclassifier',\n",
      "                 StackE...\n",
      "                                         meta_learner=LogisticRegressionCV(Cs=10,\n",
      "                                                                           class_weight=None,\n",
      "                                                                           cv=None,\n",
      "                                                                           dual=False,\n",
      "                                                                           fit_intercept=True,\n",
      "                                                                           intercept_scaling=1.0,\n",
      "                                                                           l1_ratios=None,\n",
      "                                                                           max_iter=100,\n",
      "                                                                           multi_class='auto',\n",
      "                                                                           n_jobs=None,\n",
      "                                                                           penalty='l2',\n",
      "                                                                           random_state=None,\n",
      "                                                                           refit=True,\n",
      "                                                                           scoring=<azureml.automl.runtime.stack_ensemble_base.Scorer object at 0x7f0d0a44bdd8>,\n",
      "                                                                           solver='lbfgs',\n",
      "                                                                           tol=0.0001,\n",
      "                                                                           verbose=0),\n",
      "                                         training_cv_folds=5))],\n",
      "         verbose=False)\n"
     ]
    }
   ],
   "source": [
    "best_automl, best_fit_model = remote_run.get_output()\n",
    "print(best_fit_model)"
   ]
  },
  {
   "cell_type": "code",
   "execution_count": 108,
   "metadata": {},
   "outputs": [
    {
     "data": {
      "text/plain": [
       "{'runTemplate': 'automl_child',\n",
       " 'pipeline_id': '__AutoML_Stack_Ensemble__',\n",
       " 'pipeline_spec': '{\"pipeline_id\":\"__AutoML_Stack_Ensemble__\",\"objects\":[{\"module\":\"azureml.train.automl.stack_ensemble\",\"class_name\":\"StackEnsemble\",\"spec_class\":\"sklearn\",\"param_args\":[],\"param_kwargs\":{\"automl_settings\":\"{\\'task_type\\':\\'classification\\',\\'primary_metric\\':\\'accuracy\\',\\'verbosity\\':20,\\'ensemble_iterations\\':15,\\'is_timeseries\\':False,\\'name\\':\\'mobile_price_prediction\\',\\'compute_target\\':\\'automl-cluster\\',\\'subscription_id\\':\\'6971f5ac-8af1-446e-8034-05acea24681f\\',\\'region\\':\\'southcentralus\\',\\'spark_service\\':None}\",\"ensemble_run_id\":\"AutoML_4c763df7-6fab-4009-9e8c-7b581d7a4ce6_37\",\"experiment_name\":\"mobile_price_prediction\",\"workspace_name\":\"quick-starts-ws-143627\",\"subscription_id\":\"6971f5ac-8af1-446e-8034-05acea24681f\",\"resource_group_name\":\"aml-quickstarts-143627\"}}]}',\n",
       " 'training_percent': '100',\n",
       " 'predicted_cost': None,\n",
       " 'iteration': '37',\n",
       " '_aml_system_scenario_identification': 'Remote.Child',\n",
       " '_azureml.ComputeTargetType': 'amlcompute',\n",
       " 'ContentSnapshotId': 'adaa862b-59f2-4e75-a164-04dea6b03560',\n",
       " 'ProcessInfoFile': 'azureml-logs/process_info.json',\n",
       " 'ProcessStatusFile': 'azureml-logs/process_status.json',\n",
       " 'run_template': 'automl_child',\n",
       " 'run_preprocessor': '',\n",
       " 'run_algorithm': 'StackEnsemble',\n",
       " 'model_output_path': 'outputs/model.pkl',\n",
       " 'conda_env_data_location': 'aml://artifact/ExperimentRun/dcid.AutoML_4c763df7-6fab-4009-9e8c-7b581d7a4ce6_37/outputs/conda_env_v_1_0_0.yml',\n",
       " 'model_data_location': 'aml://artifact/ExperimentRun/dcid.AutoML_4c763df7-6fab-4009-9e8c-7b581d7a4ce6_37/outputs/model.pkl',\n",
       " 'model_size_on_disk': '2922032',\n",
       " 'scoring_data_location': 'aml://artifact/ExperimentRun/dcid.AutoML_4c763df7-6fab-4009-9e8c-7b581d7a4ce6_37/outputs/scoring_file_v_1_0_0.py',\n",
       " 'model_exp_support': 'True',\n",
       " 'pipeline_graph_version': '1.0.0',\n",
       " 'model_name': 'AutoML4c763df7637',\n",
       " 'staticProperties': '{}',\n",
       " 'score': '0.8004166666666667',\n",
       " 'score_table': 'NaN',\n",
       " 'run_properties': \"base_learners=[('6',\\n                                        Pipeline(memory=None,\\n                                                 steps=[('sparsenormalizer',\\n                                                         <azureml.automl.runtime.shared.model_wrappers.SparseNormalizer object at 0x7fa9d46ad5c0>\",\n",
       " 'pipeline_script': '{\"pipeline_id\":\"__AutoML_Stack_Ensemble__\",\"objects\":[{\"module\":\"azureml.train.automl.stack_ensemble\",\"class_name\":\"StackEnsemble\",\"spec_class\":\"sklearn\",\"param_args\":[],\"param_kwargs\":{\"automl_settings\":\"{\\'task_type\\':\\'classification\\',\\'primary_metric\\':\\'accuracy\\',\\'verbosity\\':20,\\'ensemble_iterations\\':15,\\'is_timeseries\\':False,\\'name\\':\\'mobile_price_prediction\\',\\'compute_target\\':\\'automl-cluster\\',\\'subscription_id\\':\\'6971f5ac-8af1-446e-8034-05acea24681f\\',\\'region\\':\\'southcentralus\\',\\'spark_service\\':None}\",\"ensemble_run_id\":\"AutoML_4c763df7-6fab-4009-9e8c-7b581d7a4ce6_37\",\"experiment_name\":\"mobile_price_prediction\",\"workspace_name\":\"quick-starts-ws-143627\",\"subscription_id\":\"6971f5ac-8af1-446e-8034-05acea24681f\",\"resource_group_name\":\"aml-quickstarts-143627\"}}]}',\n",
       " 'training_type': 'MeanCrossValidation',\n",
       " 'num_classes': '',\n",
       " 'framework': 'sklearn',\n",
       " 'fit_time': '41',\n",
       " 'goal': 'accuracy_max',\n",
       " 'class_labels': '',\n",
       " 'primary_metric': 'accuracy',\n",
       " 'errors': '{}',\n",
       " 'onnx_model_resource': '{}',\n",
       " 'error_code': '',\n",
       " 'failure_reason': '',\n",
       " 'dependencies_versions': '{\"azureml-train-automl-runtime\": \"1.27.0.post1\", \"azureml-train-automl-client\": \"1.27.0\", \"azureml-telemetry\": \"1.27.0\", \"azureml-pipeline-core\": \"1.27.0\", \"azureml-model-management-sdk\": \"1.0.1b6.post1\", \"azureml-mlflow\": \"1.27.0\", \"azureml-interpret\": \"1.27.0\", \"azureml-defaults\": \"1.27.0\", \"azureml-dataset-runtime\": \"1.27.0\", \"azureml-dataprep\": \"2.14.2\", \"azureml-dataprep-rslex\": \"1.12.1\", \"azureml-dataprep-native\": \"33.0.0\", \"azureml-core\": \"1.27.0\", \"azureml-automl-runtime\": \"1.27.0.post1\", \"azureml-automl-core\": \"1.27.0\"}',\n",
       " 'num_cores': '4',\n",
       " 'num_logical_cores': '4',\n",
       " 'peak_memory_usage': '726456',\n",
       " 'vm_configuration': 'Intel(R) Xeon(R) CPU E5-2673 v3 @ 2.40GHz',\n",
       " 'core_hours': '0.03632615611111111',\n",
       " 'feature_skus': 'automatedml_sdk_guardrails'}"
      ]
     },
     "execution_count": 108,
     "metadata": {},
     "output_type": "execute_result"
    }
   ],
   "source": [
    "best_automl.get_properties()\n",
    "\n"
   ]
  },
  {
   "cell_type": "code",
   "execution_count": 32,
   "metadata": {
    "gather": {
     "logged": 1598431426111
    },
    "jupyter": {
     "outputs_hidden": false,
     "source_hidden": false
    },
    "nteract": {
     "transient": {
      "deleting": false
     }
    }
   },
   "outputs": [
    {
     "data": {
      "text/plain": [
       "['best_fit_automl_model.pkl']"
      ]
     },
     "execution_count": 32,
     "metadata": {},
     "output_type": "execute_result"
    }
   ],
   "source": [
    "#TODO: Save the best model\n",
    "joblib.dump(best_fit_model, 'best_fit_automl_model.pkl')"
   ]
  },
  {
   "cell_type": "markdown",
   "metadata": {},
   "source": [
    "## Model Deployment\n",
    "\n",
    "Remember you have to deploy only one of the two models you trained.. Perform the steps in the rest of this notebook only if you wish to deploy this model.\n",
    "\n",
    "TODO: In the cell below, register the model, create an inference config and deploy the model as a web service."
   ]
  },
  {
   "cell_type": "code",
   "execution_count": 33,
   "metadata": {
    "gather": {
     "logged": 1598431435189
    },
    "jupyter": {
     "outputs_hidden": false,
     "source_hidden": false
    },
    "nteract": {
     "transient": {
      "deleting": false
     }
    }
   },
   "outputs": [
    {
     "data": {
      "text/plain": [
       "Model(workspace=Workspace.create(name='quick-starts-ws-143627', subscription_id='6971f5ac-8af1-446e-8034-05acea24681f', resource_group='aml-quickstarts-143627'), name=automl_model, id=automl_model:1, version=1, tags={'Training context': 'Auto ML'}, properties={'Accuracy': '0.8004166666666667'})"
      ]
     },
     "execution_count": 33,
     "metadata": {},
     "output_type": "execute_result"
    }
   ],
   "source": [
    "from azureml.core import Model\n",
    "\n",
    "# Register model\n",
    "best_automl.register_model(model_path='outputs/model.pkl', model_name='automl_model',\n",
    "                        tags={'Training context':'Auto ML'},\n",
    "                        properties={'Accuracy': best_automl.get_metrics()['accuracy']})\n",
    "\n"
   ]
  },
  {
   "cell_type": "code",
   "execution_count": 39,
   "metadata": {},
   "outputs": [
    {
     "name": "stdout",
     "output_type": "stream",
     "text": [
      "automl_model version: 1\n",
      "\t Training context : Auto ML\n",
      "\t Accuracy : 0.8004166666666667\n",
      "\n",
      "\n"
     ]
    }
   ],
   "source": [
    "# List registered models\n",
    "for model in Model.list(ws):\n",
    "    print(model.name, 'version:', model.version)\n",
    "    for tag_name in model.tags:\n",
    "        tag = model.tags[tag_name]\n",
    "        print ('\\t',tag_name, ':', tag)\n",
    "    for prop_name in model.properties:\n",
    "        prop = model.properties[prop_name]\n",
    "        print ('\\t',prop_name, ':', prop)\n",
    "    print('\\n')"
   ]
  },
  {
   "cell_type": "code",
   "execution_count": 40,
   "metadata": {},
   "outputs": [],
   "source": [
    "from azureml.automl.core.shared import constants\n",
    "best_automl.download_file(constants.CONDA_ENV_FILE_PATH, 'myenv.yml')"
   ]
  },
  {
   "cell_type": "code",
   "execution_count": 41,
   "metadata": {},
   "outputs": [],
   "source": [
    "# create inference_config\n",
    "from azureml.core.model import InferenceConfig\n",
    "from azureml.core.environment import Environment\n",
    "\n",
    "\n",
    "env=Environment.from_conda_specification(name='myenv',file_path='myenv.yml')\n",
    "inference_config = InferenceConfig(entry_script=\"scoring.py\",environment=env)"
   ]
  },
  {
   "cell_type": "code",
   "execution_count": 42,
   "metadata": {},
   "outputs": [],
   "source": [
    "\n",
    "from azureml.core.webservice import Webservice, AciWebservice\n",
    "deployment_config = AciWebservice.deploy_configuration(cpu_cores=1, memory_gb = 1)\n"
   ]
  },
  {
   "cell_type": "code",
   "execution_count": 44,
   "metadata": {},
   "outputs": [
    {
     "name": "stdout",
     "output_type": "stream",
     "text": [
      "Tips: You can try get_logs(): https://aka.ms/debugimage#dockerlog or local deployment: https://aka.ms/debugimage#debug-locally to debug if deployment takes longer than 10 minutes.\n",
      "Running\n",
      "2021-04-27 14:25:51+00:00 Creating Container Registry if not exists.\n",
      "2021-04-27 14:25:51+00:00 Registering the environment.\n",
      "2021-04-27 14:25:52+00:00 Use the existing image.\n",
      "2021-04-27 14:25:52+00:00 Generating deployment configuration.\n",
      "2021-04-27 14:25:53+00:00 Submitting deployment to compute..\n",
      "2021-04-27 14:25:58+00:00 Checking the status of deployment mobile-price-deploy-service..\n",
      "2021-04-27 14:29:03+00:00 Checking the status of inference endpoint mobile-price-deploy-service.\n",
      "Succeeded\n",
      "ACI service creation operation finished, operation \"Succeeded\"\n"
     ]
    }
   ],
   "source": [
    "#deploy the model\n",
    "service=Model.deploy(workspace=ws,\n",
    "                    name=\"mobile-price-deploy-service\",\n",
    "                    models=[model],\n",
    "                    inference_config=inference_config,\n",
    "                    deployment_config=deployment_config)\n",
    "service.wait_for_deployment(show_output=True)#deploy the model"
   ]
  },
  {
   "cell_type": "markdown",
   "metadata": {
    "collapsed": true,
    "gather": {
     "logged": 1598431657736
    },
    "jupyter": {
     "outputs_hidden": false,
     "source_hidden": false
    },
    "nteract": {
     "transient": {
      "deleting": false
     }
    }
   },
   "source": [
    "TODO: In the cell below, send a request to the web service you deployed to test it."
   ]
  },
  {
   "cell_type": "code",
   "execution_count": 45,
   "metadata": {
    "gather": {
     "logged": 1598432707604
    },
    "jupyter": {
     "outputs_hidden": false,
     "source_hidden": false
    },
    "nteract": {
     "transient": {
      "deleting": false
     }
    }
   },
   "outputs": [
    {
     "name": "stdout",
     "output_type": "stream",
     "text": [
      "\n",
      "service state: Healthy\n",
      "\n",
      "scoring URI: \n",
      "http://f011a20f-089f-47a3-8454-b26bda1b946a.southcentralus.azurecontainer.io/score\n",
      "\n"
     ]
    }
   ],
   "source": [
    "scoring_uri = service.scoring_uri\n",
    "\n",
    "print(f'\\nservice state: {service.state}\\n')\n",
    "print(f'scoring URI: \\n{service.scoring_uri}\\n')"
   ]
  },
  {
   "cell_type": "code",
   "execution_count": 58,
   "metadata": {},
   "outputs": [
    {
     "name": "stdout",
     "output_type": "stream",
     "text": [
      "{\"data\": [{\"battery_power\": 1043, \"blue\": 1, \"clock_speed\": 1.8, \"dual_sim\": 1, \"fc\": 14, \"four_g\": 0, \"int_memory\": 5, \"m_dep\": 0.1, \"mobile_wt\": 193, \"n_cores\": 3, \"pc\": 16, \"px_height\": 226, \"px_width\": 1412, \"ram\": 3476, \"sc_h\": 12, \"sc_w\": 7, \"talk_time\": 2, \"three_g\": 0, \"touch_screen\": 1, \"wifi\": 0}]}\n",
      "<class 'dict'>\n",
      "{'data': [{'battery_power': 1043, 'blue': 1, 'clock_speed': 1.8, 'dual_sim': 1, 'fc': 14, 'four_g': 0, 'int_memory': 5, 'm_dep': 0.1, 'mobile_wt': 193, 'n_cores': 3, 'pc': 16, 'px_height': 226, 'px_width': 1412, 'ram': 3476, 'sc_h': 12, 'sc_w': 7, 'talk_time': 2, 'three_g': 0, 'touch_screen': 1, 'wifi': 0}]}\n"
     ]
    }
   ],
   "source": [
    "print(input_data)\n",
    "arr=json.loads(input_data)\n",
    "print(type(arr))\n",
    "print(arr)"
   ]
  },
  {
   "cell_type": "code",
   "execution_count": 59,
   "metadata": {},
   "outputs": [
    {
     "name": "stdout",
     "output_type": "stream",
     "text": [
      "   battery_power  blue  clock_speed  dual_sim  fc  four_g  int_memory  m_dep  \\\n",
      "0           1043     1         1.80         1  14       0           5   0.10   \n",
      "\n",
      "   mobile_wt  n_cores  pc  px_height  px_width   ram  sc_h  sc_w  talk_time  \\\n",
      "0        193        3  16        226      1412  3476    12     7          2   \n",
      "\n",
      "   three_g  touch_screen  wifi  \n",
      "0        0             1     0  \n",
      "(1, 20)\n"
     ]
    }
   ],
   "source": [
    "data_json=json.loads(input_data)['data']\n",
    "data=pd.DataFrame(data_json)\n",
    "print(data)\n",
    "print(data.shape)"
   ]
  },
  {
   "cell_type": "code",
   "execution_count": 54,
   "metadata": {},
   "outputs": [
    {
     "data": {
      "text/plain": [
       "(1, 20)"
      ]
     },
     "execution_count": 54,
     "metadata": {},
     "output_type": "execute_result"
    }
   ],
   "source": [
    "data.shape"
   ]
  },
  {
   "cell_type": "code",
   "execution_count": 109,
   "metadata": {},
   "outputs": [],
   "source": [
    "import requests\n",
    "import json\n",
    "\n",
    "data={\"data\":\n",
    "[{'battery_power':500,\n",
    "  'blue': 1,\n",
    "  'clock_speed':1.8,\n",
    "  'dual_sim':1,\n",
    "  'fc': 14,\n",
    "  'four_g': 0,\n",
    "  'int_memory': 5,\n",
    "  'm_dep': 0.1,\n",
    "  'mobile_wt': 193,\n",
    "  'n_cores': 3,\n",
    "  'pc': 16,\n",
    "  'px_height':226,\n",
    "   'px_width':1412,\n",
    "   'ram':3476,\n",
    "   'sc_h':12,\n",
    "   'sc_w':7,\n",
    "   'talk_time':2,\n",
    "   'three_g':0,\n",
    "   'touch_screen':1,\n",
    "   'wifi':0\n",
    "   }]\n",
    "    }\n",
    "\n",
    "input_data=json.dumps(data['data'])\n",
    "#data_json=json.loads(input_data)['data']\n",
    "#data=pd.DataFrame(data_json)\n"
   ]
  },
  {
   "cell_type": "code",
   "execution_count": 110,
   "metadata": {},
   "outputs": [
    {
     "name": "stdout",
     "output_type": "stream",
     "text": [
      "The output is:  [2]\n"
     ]
    }
   ],
   "source": [
    "\n",
    "\n",
    "with open(\"data.json\",\"w\") as file:\n",
    "    file.write(input_data)\n",
    "\n",
    "headers={\"Content-Type\":\"application/json\"}\n",
    "\n",
    "result=requests.post(scoring_uri, input_data, headers=headers)\n",
    "print(\"The output is: \",result.json())\n"
   ]
  },
  {
   "cell_type": "markdown",
   "metadata": {
    "collapsed": true,
    "gather": {
     "logged": 1598432765711
    },
    "jupyter": {
     "outputs_hidden": false,
     "source_hidden": false
    },
    "nteract": {
     "transient": {
      "deleting": false
     }
    }
   },
   "source": [
    "TODO: In the cell below, print the logs of the web service and delete the service"
   ]
  },
  {
   "cell_type": "code",
   "execution_count": 99,
   "metadata": {
    "jupyter": {
     "outputs_hidden": false,
     "source_hidden": false
    },
    "nteract": {
     "transient": {
      "deleting": false
     }
    }
   },
   "outputs": [
    {
     "name": "stdout",
     "output_type": "stream",
     "text": [
      "2021-04-27T14:28:51,838191900+00:00 - rsyslog/run \n",
      "2021-04-27T14:28:51,846365600+00:00 - iot-server/run \n",
      "2021-04-27T14:28:51,865561700+00:00 - gunicorn/run \n",
      "rsyslogd: /azureml-envs/azureml_f8f5ff2f983718fa04a09abf22f98303/lib/libuuid.so.1: no version information available (required by rsyslogd)\n",
      "2021-04-27T14:28:51,890584900+00:00 - nginx/run \n",
      "/usr/sbin/nginx: /azureml-envs/azureml_f8f5ff2f983718fa04a09abf22f98303/lib/libcrypto.so.1.0.0: no version information available (required by /usr/sbin/nginx)\n",
      "/usr/sbin/nginx: /azureml-envs/azureml_f8f5ff2f983718fa04a09abf22f98303/lib/libcrypto.so.1.0.0: no version information available (required by /usr/sbin/nginx)\n",
      "/usr/sbin/nginx: /azureml-envs/azureml_f8f5ff2f983718fa04a09abf22f98303/lib/libssl.so.1.0.0: no version information available (required by /usr/sbin/nginx)\n",
      "/usr/sbin/nginx: /azureml-envs/azureml_f8f5ff2f983718fa04a09abf22f98303/lib/libssl.so.1.0.0: no version information available (required by /usr/sbin/nginx)\n",
      "/usr/sbin/nginx: /azureml-envs/azureml_f8f5ff2f983718fa04a09abf22f98303/lib/libssl.so.1.0.0: no version information available (required by /usr/sbin/nginx)\n",
      "EdgeHubConnectionString and IOTEDGE_IOTHUBHOSTNAME are not set. Exiting...\n",
      "2021-04-27T14:28:52,181977700+00:00 - iot-server/finish 1 0\n",
      "2021-04-27T14:28:52,183709000+00:00 - Exit code 1 is normal. Not restarting iot-server.\n",
      "Starting gunicorn 19.9.0\n",
      "Listening at: http://127.0.0.1:31311 (71)\n",
      "Using worker: sync\n",
      "worker timeout is set to 300\n",
      "Booting worker with pid: 100\n",
      "SPARK_HOME not set. Skipping PySpark Initialization.\n",
      "Generating new fontManager, this may take some time...\n",
      "Initializing logger\n",
      "2021-04-27 14:28:54,427 | root | INFO | Starting up app insights client\n",
      "2021-04-27 14:28:54,431 | root | INFO | Starting up request id generator\n",
      "2021-04-27 14:28:54,432 | root | INFO | Starting up app insight hooks\n",
      "2021-04-27 14:28:54,432 | root | INFO | Invoking user's init function\n",
      "2021-04-27 14:28:58,601 | azureml.core | WARNING | Failure while loading azureml_run_type_providers. Failed to load entrypoint automl = azureml.train.automl.run:AutoMLRun._from_run_dto with exception cannot import name 'RunType'.\n",
      "Failure while loading azureml_run_type_providers. Failed to load entrypoint automl = azureml.train.automl.run:AutoMLRun._from_run_dto with exception cannot import name 'RunType'.\n",
      "2021-04-27 14:28:58,771 | root | INFO | Users's init has completed successfully\n",
      "2021-04-27 14:28:58,775 | root | INFO | Skipping middleware: dbg_model_info as it's not enabled.\n",
      "2021-04-27 14:28:58,775 | root | INFO | Skipping middleware: dbg_resource_usage as it's not enabled.\n",
      "2021-04-27 14:28:58,779 | root | INFO | Scoring timeout is found from os.environ: 60000 ms\n",
      "2021-04-27 14:29:03,852 | root | INFO | Swagger file not present\n",
      "2021-04-27 14:29:03,852 | root | INFO | 404\n",
      "127.0.0.1 - - [27/Apr/2021:14:29:03 +0000] \"GET /swagger.json HTTP/1.0\" 404 19 \"-\" \"Go-http-client/1.1\"\n",
      "2021-04-27 14:29:06,913 | root | INFO | Swagger file not present\n",
      "2021-04-27 14:29:06,913 | root | INFO | 404\n",
      "127.0.0.1 - - [27/Apr/2021:14:29:06 +0000] \"GET /swagger.json HTTP/1.0\" 404 19 \"-\" \"Go-http-client/1.1\"\n",
      "2021-04-27 14:30:24,913 | root | INFO | Swagger file not present\n",
      "2021-04-27 14:30:24,914 | root | INFO | 404\n",
      "127.0.0.1 - - [27/Apr/2021:14:30:24 +0000] \"GET /swagger.json HTTP/1.0\" 404 19 \"-\" \"Go-http-client/1.1\"\n",
      "2021-04-27 14:39:00,319 | root | INFO | Validation Request Content-Type\n",
      "2021-04-27 14:39:00,321 | root | INFO | Scoring Timer is set to 60.0 seconds\n",
      "2021-04-27 14:39:00,333 | root | INFO | 200\n",
      "127.0.0.1 - - [27/Apr/2021:14:39:00 +0000] \"POST /score HTTP/1.0\" 200 896 \"-\" \"python-requests/2.25.1\"\n",
      "2021-04-27 14:39:11,384 | root | INFO | Validation Request Content-Type\n",
      "2021-04-27 14:39:11,385 | root | INFO | Scoring Timer is set to 60.0 seconds\n",
      "2021-04-27 14:39:11,387 | root | INFO | 200\n",
      "127.0.0.1 - - [27/Apr/2021:14:39:11 +0000] \"POST /score HTTP/1.0\" 200 896 \"-\" \"python-requests/2.25.1\"\n",
      "2021-04-27 14:46:48,022 | root | INFO | Validation Request Content-Type\n",
      "2021-04-27 14:46:48,024 | root | INFO | Scoring Timer is set to 60.0 seconds\n",
      "2021-04-27 14:46:48,033 | root | INFO | 200\n",
      "127.0.0.1 - - [27/Apr/2021:14:46:48 +0000] \"POST /score HTTP/1.0\" 200 896 \"-\" \"python-requests/2.25.1\"\n",
      "2021-04-27 14:51:39,558 | root | INFO | Validation Request Content-Type\n",
      "2021-04-27 14:51:39,561 | root | INFO | Scoring Timer is set to 60.0 seconds\n",
      "2021-04-27 14:51:39,568 | root | INFO | 200\n",
      "127.0.0.1 - - [27/Apr/2021:14:51:39 +0000] \"POST /score HTTP/1.0\" 200 896 \"-\" \"python-requests/2.25.1\"\n",
      "2021-04-27 14:52:29,055 | root | INFO | Validation Request Content-Type\n",
      "2021-04-27 14:52:29,056 | root | INFO | Scoring Timer is set to 60.0 seconds\n",
      "2021-04-27 14:52:29,059 | root | INFO | 200\n",
      "127.0.0.1 - - [27/Apr/2021:14:52:29 +0000] \"POST /score HTTP/1.0\" 200 896 \"-\" \"python-requests/2.25.1\"\n",
      "2021-04-27 14:53:05,706 | root | INFO | Validation Request Content-Type\n",
      "2021-04-27 14:53:05,708 | root | INFO | Scoring Timer is set to 60.0 seconds\n",
      "2021-04-27 14:53:05,710 | root | INFO | 200\n",
      "127.0.0.1 - - [27/Apr/2021:14:53:05 +0000] \"POST /score HTTP/1.0\" 200 896 \"-\" \"python-requests/2.25.1\"\n",
      "2021-04-27 14:55:13,869 | root | INFO | Validation Request Content-Type\n",
      "2021-04-27 14:55:13,869 | root | INFO | Scoring Timer is set to 60.0 seconds\n",
      "2021-04-27 14:55:13,872 | root | INFO | 200\n",
      "127.0.0.1 - - [27/Apr/2021:14:55:13 +0000] \"POST /score HTTP/1.0\" 200 896 \"-\" \"python-requests/2.25.1\"\n",
      "2021-04-27 14:56:17,896 | root | INFO | Validation Request Content-Type\n",
      "2021-04-27 14:56:17,896 | root | INFO | Scoring Timer is set to 60.0 seconds\n",
      "2021-04-27 14:56:17,899 | root | INFO | 200\n",
      "127.0.0.1 - - [27/Apr/2021:14:56:17 +0000] \"POST /score HTTP/1.0\" 200 896 \"-\" \"python-requests/2.25.1\"\n",
      "2021-04-27 14:57:56,225 | root | INFO | Validation Request Content-Type\n",
      "2021-04-27 14:57:56,225 | root | INFO | Scoring Timer is set to 60.0 seconds\n",
      "2021-04-27 14:57:56,226 | root | INFO | 200\n",
      "127.0.0.1 - - [27/Apr/2021:14:57:56 +0000] \"POST /score HTTP/1.0\" 200 77 \"-\" \"python-requests/2.25.1\"\n",
      "2021-04-27 15:04:13,510 | root | INFO | Validation Request Content-Type\n",
      "2021-04-27 15:04:13,512 | root | INFO | Scoring Timer is set to 60.0 seconds\n",
      "2021-04-27 15:04:13,523 | root | INFO | 200\n",
      "127.0.0.1 - - [27/Apr/2021:15:04:13 +0000] \"POST /score HTTP/1.0\" 200 896 \"-\" \"python-requests/2.25.1\"\n",
      "2021-04-27 15:05:16,311 | root | INFO | Validation Request Content-Type\n",
      "2021-04-27 15:05:16,312 | root | INFO | Scoring Timer is set to 60.0 seconds\n",
      "2021-04-27 15:05:16,318 | root | INFO | 200\n",
      "127.0.0.1 - - [27/Apr/2021:15:05:16 +0000] \"POST /score HTTP/1.0\" 200 896 \"-\" \"python-requests/2.25.1\"\n",
      "2021-04-27 15:10:38,733 | root | INFO | Validation Request Content-Type\n",
      "2021-04-27 15:10:38,737 | root | INFO | Scoring Timer is set to 60.0 seconds\n",
      "2021-04-27 15:10:38,754 | root | INFO | 200\n",
      "127.0.0.1 - - [27/Apr/2021:15:10:38 +0000] \"POST /score HTTP/1.0\" 200 52 \"-\" \"python-requests/2.25.1\"\n",
      "2021-04-27 15:11:15,057 | root | INFO | Validation Request Content-Type\n",
      "2021-04-27 15:11:15,058 | root | INFO | Scoring Timer is set to 60.0 seconds\n",
      "2021-04-27 15:11:15,207 | root | INFO | 200\n",
      "127.0.0.1 - - [27/Apr/2021:15:11:15 +0000] \"POST /score HTTP/1.0\" 200 3 \"-\" \"python-requests/2.25.1\"\n",
      "2021-04-27 15:13:05,994 | root | INFO | Validation Request Content-Type\n",
      "2021-04-27 15:13:05,994 | root | INFO | Scoring Timer is set to 60.0 seconds\n",
      "2021-04-27 15:13:06,104 | root | INFO | 200\n",
      "127.0.0.1 - - [27/Apr/2021:15:13:06 +0000] \"POST /score HTTP/1.0\" 200 3 \"-\" \"python-requests/2.25.1\"\n",
      "\n"
     ]
    }
   ],
   "source": [
    "print(service.get_logs())"
   ]
  },
  {
   "cell_type": "code",
   "execution_count": null,
   "metadata": {},
   "outputs": [],
   "source": [
    "\n",
    "service.delete()\n",
    "compute_target.delete()\n",
    "model.delete()"
   ]
  }
 ],
 "metadata": {
  "kernel_info": {
   "name": "python3"
  },
  "kernelspec": {
   "display_name": "Python 3",
   "language": "python",
   "name": "python3"
  },
  "language_info": {
   "codemirror_mode": {
    "name": "ipython",
    "version": 3
   },
   "file_extension": ".py",
   "mimetype": "text/x-python",
   "name": "python",
   "nbconvert_exporter": "python",
   "pygments_lexer": "ipython3",
   "version": "3.6.9"
  },
  "microsoft": {
   "host": {
    "AzureML": {
     "notebookHasBeenCompleted": true
    }
   }
  },
  "nteract": {
   "version": "nteract-front-end@1.0.0"
  }
 },
 "nbformat": 4,
 "nbformat_minor": 2
}
