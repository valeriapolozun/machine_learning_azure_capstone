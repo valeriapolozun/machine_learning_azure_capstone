{
 "cells": [
  {
   "cell_type": "markdown",
   "metadata": {},
   "source": [
    "# Automated ML\n",
    "\n",
    "TODO: Import Dependencies. In the cell below, import all the dependencies that you will need to complete the project."
   ]
  },
  {
   "cell_type": "code",
   "execution_count": 1,
   "metadata": {
    "gather": {
     "logged": 1598423888013
    },
    "jupyter": {
     "outputs_hidden": false,
     "source_hidden": false
    },
    "nteract": {
     "transient": {
      "deleting": false
     }
    }
   },
   "outputs": [
    {
     "name": "stdout",
     "output_type": "stream",
     "text": [
      "SDK version: 1.24.0\n"
     ]
    }
   ],
   "source": [
    "import logging\n",
    "import os\n",
    "import csv\n",
    "import joblib, pickle\n",
    "\n",
    "from matplotlib import pyplot as plt\n",
    "import numpy as np\n",
    "import pandas as pd\n",
    "\n",
    "import azureml.core\n",
    "from azureml.core.experiment import Experiment\n",
    "from azureml.core.workspace import Workspace\n",
    "from azureml.train.automl import AutoMLConfig\n",
    "from azureml.core.dataset import Dataset\n",
    "from azureml.data.datapath import DataPath\n",
    "from azureml.data.dataset_factory import TabularDatasetFactory\n",
    "\n",
    "# Check core SDK version number\n",
    "print(\"SDK version:\", azureml.core.VERSION)"
   ]
  },
  {
   "cell_type": "markdown",
   "metadata": {},
   "source": [
    "## Dataset\n",
    "\n",
    "### Overview\n",
    "TODO: In this markdown cell, give an overview of the dataset you are using. Also mention the task you will be performing.\n",
    "\n",
    "\n",
    "TODO: Get data. In the cell below, write code to access the data you will be using in this project. Remember that the dataset needs to be external."
   ]
  },
  {
   "cell_type": "code",
   "execution_count": 2,
   "metadata": {
    "gather": {
     "logged": 1598423890461
    },
    "jupyter": {
     "outputs_hidden": false,
     "source_hidden": false
    },
    "nteract": {
     "transient": {
      "deleting": false
     }
    }
   },
   "outputs": [],
   "source": [
    "ws = Workspace.from_config()\n",
    "\n",
    "# choose a name for experiment\n",
    "experiment_name = 'mobile_price_prediction'\n",
    "\n",
    "experiment=Experiment(ws, experiment_name)"
   ]
  },
  {
   "cell_type": "code",
   "execution_count": 3,
   "metadata": {},
   "outputs": [
    {
     "name": "stdout",
     "output_type": "stream",
     "text": [
      "Cluster already exists\n"
     ]
    }
   ],
   "source": [
    "from azureml.core.compute import ComputeTarget, AmlCompute\n",
    "from azureml.core.compute_target import ComputeTargetException\n",
    "\n",
    "compute_cluster = 'automl-cluster'\n",
    "\n",
    "try:\n",
    "    comp_trget = ComputeTarget(workspace=ws, name=compute_cluster)\n",
    "    print('Cluster already exists')\n",
    "except ComputeTargetException:\n",
    "    compute_confg = AmlCompute.provisioning_configuration(vm_size=\"STANDARD_D3_V2\",max_nodes=4)\n",
    "    comp_trget = ComputeTarget.create(ws,compute_cluster,compute_confg)"
   ]
  },
  {
   "cell_type": "code",
   "execution_count": 4,
   "metadata": {},
   "outputs": [],
   "source": [
    "input_data = pd.read_csv(\"https://raw.githubusercontent.com/valeriapolozun/machine_learning_azure_capstone/803e04124532b8921a0b19d70aa71abaccf74a1f/Mobile_Price_Classification.csv\")"
   ]
  },
  {
   "cell_type": "code",
   "execution_count": null,
   "metadata": {},
   "outputs": [],
   "source": [
    "#input_data=pd.read_csv('Mobile_Price_Classification.csv')"
   ]
  },
  {
   "cell_type": "code",
   "execution_count": 5,
   "metadata": {},
   "outputs": [
    {
     "data": {
      "text/html": [
       "<div>\n",
       "<style scoped>\n",
       "    .dataframe tbody tr th:only-of-type {\n",
       "        vertical-align: middle;\n",
       "    }\n",
       "\n",
       "    .dataframe tbody tr th {\n",
       "        vertical-align: top;\n",
       "    }\n",
       "\n",
       "    .dataframe thead th {\n",
       "        text-align: right;\n",
       "    }\n",
       "</style>\n",
       "<table border=\"1\" class=\"dataframe\">\n",
       "  <thead>\n",
       "    <tr style=\"text-align: right;\">\n",
       "      <th></th>\n",
       "      <th>battery_power</th>\n",
       "      <th>blue</th>\n",
       "      <th>clock_speed</th>\n",
       "      <th>dual_sim</th>\n",
       "      <th>fc</th>\n",
       "      <th>four_g</th>\n",
       "      <th>int_memory</th>\n",
       "      <th>m_dep</th>\n",
       "      <th>mobile_wt</th>\n",
       "      <th>n_cores</th>\n",
       "      <th>...</th>\n",
       "      <th>px_height</th>\n",
       "      <th>px_width</th>\n",
       "      <th>ram</th>\n",
       "      <th>sc_h</th>\n",
       "      <th>sc_w</th>\n",
       "      <th>talk_time</th>\n",
       "      <th>three_g</th>\n",
       "      <th>touch_screen</th>\n",
       "      <th>wifi</th>\n",
       "      <th>price_range</th>\n",
       "    </tr>\n",
       "  </thead>\n",
       "  <tbody>\n",
       "    <tr>\n",
       "      <th>0</th>\n",
       "      <td>842</td>\n",
       "      <td>0</td>\n",
       "      <td>2.2</td>\n",
       "      <td>0.0</td>\n",
       "      <td>1</td>\n",
       "      <td>0</td>\n",
       "      <td>7</td>\n",
       "      <td>0.6</td>\n",
       "      <td>188.0</td>\n",
       "      <td>2</td>\n",
       "      <td>...</td>\n",
       "      <td>20</td>\n",
       "      <td>756</td>\n",
       "      <td>2549</td>\n",
       "      <td>9</td>\n",
       "      <td>7</td>\n",
       "      <td>19</td>\n",
       "      <td>0</td>\n",
       "      <td>0</td>\n",
       "      <td>1</td>\n",
       "      <td>1</td>\n",
       "    </tr>\n",
       "    <tr>\n",
       "      <th>1</th>\n",
       "      <td>1021</td>\n",
       "      <td>1</td>\n",
       "      <td>0.5</td>\n",
       "      <td>1.0</td>\n",
       "      <td>0</td>\n",
       "      <td>1</td>\n",
       "      <td>53</td>\n",
       "      <td>0.7</td>\n",
       "      <td>136.0</td>\n",
       "      <td>3</td>\n",
       "      <td>...</td>\n",
       "      <td>905</td>\n",
       "      <td>1988</td>\n",
       "      <td>2631</td>\n",
       "      <td>17</td>\n",
       "      <td>3</td>\n",
       "      <td>7</td>\n",
       "      <td>1</td>\n",
       "      <td>1</td>\n",
       "      <td>0</td>\n",
       "      <td>2</td>\n",
       "    </tr>\n",
       "    <tr>\n",
       "      <th>2</th>\n",
       "      <td>563</td>\n",
       "      <td>1</td>\n",
       "      <td>0.5</td>\n",
       "      <td>1.0</td>\n",
       "      <td>2</td>\n",
       "      <td>1</td>\n",
       "      <td>41</td>\n",
       "      <td>0.9</td>\n",
       "      <td>145.0</td>\n",
       "      <td>5</td>\n",
       "      <td>...</td>\n",
       "      <td>1263</td>\n",
       "      <td>1716</td>\n",
       "      <td>2603</td>\n",
       "      <td>11</td>\n",
       "      <td>2</td>\n",
       "      <td>9</td>\n",
       "      <td>1</td>\n",
       "      <td>1</td>\n",
       "      <td>0</td>\n",
       "      <td>2</td>\n",
       "    </tr>\n",
       "    <tr>\n",
       "      <th>3</th>\n",
       "      <td>615</td>\n",
       "      <td>1</td>\n",
       "      <td>2.5</td>\n",
       "      <td>0.0</td>\n",
       "      <td>0</td>\n",
       "      <td>0</td>\n",
       "      <td>10</td>\n",
       "      <td>0.8</td>\n",
       "      <td>131.0</td>\n",
       "      <td>6</td>\n",
       "      <td>...</td>\n",
       "      <td>1216</td>\n",
       "      <td>1786</td>\n",
       "      <td>2769</td>\n",
       "      <td>16</td>\n",
       "      <td>8</td>\n",
       "      <td>11</td>\n",
       "      <td>1</td>\n",
       "      <td>0</td>\n",
       "      <td>0</td>\n",
       "      <td>2</td>\n",
       "    </tr>\n",
       "    <tr>\n",
       "      <th>4</th>\n",
       "      <td>1821</td>\n",
       "      <td>1</td>\n",
       "      <td>1.2</td>\n",
       "      <td>0.0</td>\n",
       "      <td>13</td>\n",
       "      <td>1</td>\n",
       "      <td>44</td>\n",
       "      <td>0.6</td>\n",
       "      <td>141.0</td>\n",
       "      <td>2</td>\n",
       "      <td>...</td>\n",
       "      <td>1208</td>\n",
       "      <td>1212</td>\n",
       "      <td>1411</td>\n",
       "      <td>8</td>\n",
       "      <td>2</td>\n",
       "      <td>15</td>\n",
       "      <td>1</td>\n",
       "      <td>1</td>\n",
       "      <td>0</td>\n",
       "      <td>1</td>\n",
       "    </tr>\n",
       "    <tr>\n",
       "      <th>...</th>\n",
       "      <td>...</td>\n",
       "      <td>...</td>\n",
       "      <td>...</td>\n",
       "      <td>...</td>\n",
       "      <td>...</td>\n",
       "      <td>...</td>\n",
       "      <td>...</td>\n",
       "      <td>...</td>\n",
       "      <td>...</td>\n",
       "      <td>...</td>\n",
       "      <td>...</td>\n",
       "      <td>...</td>\n",
       "      <td>...</td>\n",
       "      <td>...</td>\n",
       "      <td>...</td>\n",
       "      <td>...</td>\n",
       "      <td>...</td>\n",
       "      <td>...</td>\n",
       "      <td>...</td>\n",
       "      <td>...</td>\n",
       "      <td>...</td>\n",
       "    </tr>\n",
       "    <tr>\n",
       "      <th>2995</th>\n",
       "      <td>996</td>\n",
       "      <td>1700</td>\n",
       "      <td>1.0</td>\n",
       "      <td>1.9</td>\n",
       "      <td>0</td>\n",
       "      <td>0</td>\n",
       "      <td>1</td>\n",
       "      <td>54.0</td>\n",
       "      <td>0.5</td>\n",
       "      <td>170</td>\n",
       "      <td>...</td>\n",
       "      <td>17</td>\n",
       "      <td>644</td>\n",
       "      <td>913</td>\n",
       "      <td>2121</td>\n",
       "      <td>14</td>\n",
       "      <td>8</td>\n",
       "      <td>15</td>\n",
       "      <td>1</td>\n",
       "      <td>1</td>\n",
       "      <td>0</td>\n",
       "    </tr>\n",
       "    <tr>\n",
       "      <th>2996</th>\n",
       "      <td>997</td>\n",
       "      <td>609</td>\n",
       "      <td>0.0</td>\n",
       "      <td>1.8</td>\n",
       "      <td>1</td>\n",
       "      <td>0</td>\n",
       "      <td>0</td>\n",
       "      <td>13.0</td>\n",
       "      <td>0.9</td>\n",
       "      <td>186</td>\n",
       "      <td>...</td>\n",
       "      <td>2</td>\n",
       "      <td>1152</td>\n",
       "      <td>1632</td>\n",
       "      <td>1933</td>\n",
       "      <td>8</td>\n",
       "      <td>1</td>\n",
       "      <td>19</td>\n",
       "      <td>0</td>\n",
       "      <td>1</td>\n",
       "      <td>1</td>\n",
       "    </tr>\n",
       "    <tr>\n",
       "      <th>2997</th>\n",
       "      <td>998</td>\n",
       "      <td>1185</td>\n",
       "      <td>0.0</td>\n",
       "      <td>1.4</td>\n",
       "      <td>0</td>\n",
       "      <td>1</td>\n",
       "      <td>1</td>\n",
       "      <td>8.0</td>\n",
       "      <td>0.5</td>\n",
       "      <td>80</td>\n",
       "      <td>...</td>\n",
       "      <td>12</td>\n",
       "      <td>477</td>\n",
       "      <td>825</td>\n",
       "      <td>1223</td>\n",
       "      <td>5</td>\n",
       "      <td>0</td>\n",
       "      <td>14</td>\n",
       "      <td>1</td>\n",
       "      <td>0</td>\n",
       "      <td>0</td>\n",
       "    </tr>\n",
       "    <tr>\n",
       "      <th>2998</th>\n",
       "      <td>999</td>\n",
       "      <td>1533</td>\n",
       "      <td>1.0</td>\n",
       "      <td>0.5</td>\n",
       "      <td>1</td>\n",
       "      <td>0</td>\n",
       "      <td>0</td>\n",
       "      <td>50.0</td>\n",
       "      <td>0.4</td>\n",
       "      <td>171</td>\n",
       "      <td>...</td>\n",
       "      <td>12</td>\n",
       "      <td>38</td>\n",
       "      <td>832</td>\n",
       "      <td>2509</td>\n",
       "      <td>15</td>\n",
       "      <td>11</td>\n",
       "      <td>6</td>\n",
       "      <td>0</td>\n",
       "      <td>1</td>\n",
       "      <td>0</td>\n",
       "    </tr>\n",
       "    <tr>\n",
       "      <th>2999</th>\n",
       "      <td>1000</td>\n",
       "      <td>1270</td>\n",
       "      <td>1.0</td>\n",
       "      <td>0.5</td>\n",
       "      <td>0</td>\n",
       "      <td>4</td>\n",
       "      <td>1</td>\n",
       "      <td>35.0</td>\n",
       "      <td>0.1</td>\n",
       "      <td>140</td>\n",
       "      <td>...</td>\n",
       "      <td>19</td>\n",
       "      <td>457</td>\n",
       "      <td>608</td>\n",
       "      <td>2828</td>\n",
       "      <td>9</td>\n",
       "      <td>2</td>\n",
       "      <td>3</td>\n",
       "      <td>1</td>\n",
       "      <td>0</td>\n",
       "      <td>1</td>\n",
       "    </tr>\n",
       "  </tbody>\n",
       "</table>\n",
       "<p>3000 rows × 21 columns</p>\n",
       "</div>"
      ],
      "text/plain": [
       "      battery_power  blue  clock_speed  dual_sim  fc  four_g  int_memory  \\\n",
       "0               842     0          2.2       0.0   1       0           7   \n",
       "1              1021     1          0.5       1.0   0       1          53   \n",
       "2               563     1          0.5       1.0   2       1          41   \n",
       "3               615     1          2.5       0.0   0       0          10   \n",
       "4              1821     1          1.2       0.0  13       1          44   \n",
       "...             ...   ...          ...       ...  ..     ...         ...   \n",
       "2995            996  1700          1.0       1.9   0       0           1   \n",
       "2996            997   609          0.0       1.8   1       0           0   \n",
       "2997            998  1185          0.0       1.4   0       1           1   \n",
       "2998            999  1533          1.0       0.5   1       0           0   \n",
       "2999           1000  1270          1.0       0.5   0       4           1   \n",
       "\n",
       "      m_dep  mobile_wt  n_cores  ...  px_height  px_width   ram  sc_h  sc_w  \\\n",
       "0       0.6      188.0        2  ...         20       756  2549     9     7   \n",
       "1       0.7      136.0        3  ...        905      1988  2631    17     3   \n",
       "2       0.9      145.0        5  ...       1263      1716  2603    11     2   \n",
       "3       0.8      131.0        6  ...       1216      1786  2769    16     8   \n",
       "4       0.6      141.0        2  ...       1208      1212  1411     8     2   \n",
       "...     ...        ...      ...  ...        ...       ...   ...   ...   ...   \n",
       "2995   54.0        0.5      170  ...         17       644   913  2121    14   \n",
       "2996   13.0        0.9      186  ...          2      1152  1632  1933     8   \n",
       "2997    8.0        0.5       80  ...         12       477   825  1223     5   \n",
       "2998   50.0        0.4      171  ...         12        38   832  2509    15   \n",
       "2999   35.0        0.1      140  ...         19       457   608  2828     9   \n",
       "\n",
       "      talk_time  three_g  touch_screen  wifi  price_range  \n",
       "0            19        0             0     1            1  \n",
       "1             7        1             1     0            2  \n",
       "2             9        1             1     0            2  \n",
       "3            11        1             0     0            2  \n",
       "4            15        1             1     0            1  \n",
       "...         ...      ...           ...   ...          ...  \n",
       "2995          8       15             1     1            0  \n",
       "2996          1       19             0     1            1  \n",
       "2997          0       14             1     0            0  \n",
       "2998         11        6             0     1            0  \n",
       "2999          2        3             1     0            1  \n",
       "\n",
       "[3000 rows x 21 columns]"
      ]
     },
     "execution_count": 5,
     "metadata": {},
     "output_type": "execute_result"
    }
   ],
   "source": [
    "input_data"
   ]
  },
  {
   "cell_type": "code",
   "execution_count": 6,
   "metadata": {},
   "outputs": [
    {
     "data": {
      "text/html": [
       "<div>\n",
       "<style scoped>\n",
       "    .dataframe tbody tr th:only-of-type {\n",
       "        vertical-align: middle;\n",
       "    }\n",
       "\n",
       "    .dataframe tbody tr th {\n",
       "        vertical-align: top;\n",
       "    }\n",
       "\n",
       "    .dataframe thead th {\n",
       "        text-align: right;\n",
       "    }\n",
       "</style>\n",
       "<table border=\"1\" class=\"dataframe\">\n",
       "  <thead>\n",
       "    <tr style=\"text-align: right;\">\n",
       "      <th></th>\n",
       "      <th>battery_power</th>\n",
       "      <th>blue</th>\n",
       "      <th>clock_speed</th>\n",
       "      <th>dual_sim</th>\n",
       "      <th>fc</th>\n",
       "      <th>four_g</th>\n",
       "      <th>int_memory</th>\n",
       "      <th>m_dep</th>\n",
       "      <th>mobile_wt</th>\n",
       "      <th>n_cores</th>\n",
       "      <th>...</th>\n",
       "      <th>px_height</th>\n",
       "      <th>px_width</th>\n",
       "      <th>ram</th>\n",
       "      <th>sc_h</th>\n",
       "      <th>sc_w</th>\n",
       "      <th>talk_time</th>\n",
       "      <th>three_g</th>\n",
       "      <th>touch_screen</th>\n",
       "      <th>wifi</th>\n",
       "      <th>price_range</th>\n",
       "    </tr>\n",
       "  </thead>\n",
       "  <tbody>\n",
       "    <tr>\n",
       "      <th>2867</th>\n",
       "      <td>868</td>\n",
       "      <td>1670</td>\n",
       "      <td>0.0</td>\n",
       "      <td>0.5</td>\n",
       "      <td>0</td>\n",
       "      <td>1</td>\n",
       "      <td>1</td>\n",
       "      <td>33.0</td>\n",
       "      <td>0.9</td>\n",
       "      <td>127</td>\n",
       "      <td>...</td>\n",
       "      <td>3</td>\n",
       "      <td>185</td>\n",
       "      <td>807</td>\n",
       "      <td>1830</td>\n",
       "      <td>5</td>\n",
       "      <td>0</td>\n",
       "      <td>6</td>\n",
       "      <td>1</td>\n",
       "      <td>1</td>\n",
       "      <td>1</td>\n",
       "    </tr>\n",
       "    <tr>\n",
       "      <th>2388</th>\n",
       "      <td>389</td>\n",
       "      <td>1197</td>\n",
       "      <td>0.0</td>\n",
       "      <td>2.9</td>\n",
       "      <td>0</td>\n",
       "      <td>6</td>\n",
       "      <td>1</td>\n",
       "      <td>38.0</td>\n",
       "      <td>0.1</td>\n",
       "      <td>83</td>\n",
       "      <td>...</td>\n",
       "      <td>17</td>\n",
       "      <td>1516</td>\n",
       "      <td>1910</td>\n",
       "      <td>3525</td>\n",
       "      <td>13</td>\n",
       "      <td>9</td>\n",
       "      <td>16</td>\n",
       "      <td>1</td>\n",
       "      <td>0</td>\n",
       "      <td>0</td>\n",
       "    </tr>\n",
       "    <tr>\n",
       "      <th>1427</th>\n",
       "      <td>1489</td>\n",
       "      <td>0</td>\n",
       "      <td>2.1</td>\n",
       "      <td>1.0</td>\n",
       "      <td>0</td>\n",
       "      <td>0</td>\n",
       "      <td>9</td>\n",
       "      <td>0.4</td>\n",
       "      <td>169.0</td>\n",
       "      <td>3</td>\n",
       "      <td>...</td>\n",
       "      <td>923</td>\n",
       "      <td>1759</td>\n",
       "      <td>1663</td>\n",
       "      <td>9</td>\n",
       "      <td>3</td>\n",
       "      <td>14</td>\n",
       "      <td>1</td>\n",
       "      <td>0</td>\n",
       "      <td>1</td>\n",
       "      <td>1</td>\n",
       "    </tr>\n",
       "    <tr>\n",
       "      <th>2000</th>\n",
       "      <td>1</td>\n",
       "      <td>1043</td>\n",
       "      <td>1.0</td>\n",
       "      <td>1.8</td>\n",
       "      <td>1</td>\n",
       "      <td>14</td>\n",
       "      <td>0</td>\n",
       "      <td>5.0</td>\n",
       "      <td>0.1</td>\n",
       "      <td>193</td>\n",
       "      <td>...</td>\n",
       "      <td>16</td>\n",
       "      <td>226</td>\n",
       "      <td>1412</td>\n",
       "      <td>3476</td>\n",
       "      <td>12</td>\n",
       "      <td>7</td>\n",
       "      <td>2</td>\n",
       "      <td>0</td>\n",
       "      <td>1</td>\n",
       "      <td>0</td>\n",
       "    </tr>\n",
       "    <tr>\n",
       "      <th>38</th>\n",
       "      <td>790</td>\n",
       "      <td>0</td>\n",
       "      <td>2.0</td>\n",
       "      <td>1.0</td>\n",
       "      <td>16</td>\n",
       "      <td>1</td>\n",
       "      <td>11</td>\n",
       "      <td>0.3</td>\n",
       "      <td>87.0</td>\n",
       "      <td>6</td>\n",
       "      <td>...</td>\n",
       "      <td>347</td>\n",
       "      <td>730</td>\n",
       "      <td>3169</td>\n",
       "      <td>6</td>\n",
       "      <td>1</td>\n",
       "      <td>2</td>\n",
       "      <td>1</td>\n",
       "      <td>0</td>\n",
       "      <td>1</td>\n",
       "      <td>2</td>\n",
       "    </tr>\n",
       "  </tbody>\n",
       "</table>\n",
       "<p>5 rows × 21 columns</p>\n",
       "</div>"
      ],
      "text/plain": [
       "      battery_power  blue  clock_speed  dual_sim  fc  four_g  int_memory  \\\n",
       "2867            868  1670          0.0       0.5   0       1           1   \n",
       "2388            389  1197          0.0       2.9   0       6           1   \n",
       "1427           1489     0          2.1       1.0   0       0           9   \n",
       "2000              1  1043          1.0       1.8   1      14           0   \n",
       "38              790     0          2.0       1.0  16       1          11   \n",
       "\n",
       "      m_dep  mobile_wt  n_cores  ...  px_height  px_width   ram  sc_h  sc_w  \\\n",
       "2867   33.0        0.9      127  ...          3       185   807  1830     5   \n",
       "2388   38.0        0.1       83  ...         17      1516  1910  3525    13   \n",
       "1427    0.4      169.0        3  ...        923      1759  1663     9     3   \n",
       "2000    5.0        0.1      193  ...         16       226  1412  3476    12   \n",
       "38      0.3       87.0        6  ...        347       730  3169     6     1   \n",
       "\n",
       "      talk_time  three_g  touch_screen  wifi  price_range  \n",
       "2867          0        6             1     1            1  \n",
       "2388          9       16             1     0            0  \n",
       "1427         14        1             0     1            1  \n",
       "2000          7        2             0     1            0  \n",
       "38            2        1             0     1            2  \n",
       "\n",
       "[5 rows x 21 columns]"
      ]
     },
     "execution_count": 6,
     "metadata": {},
     "output_type": "execute_result"
    }
   ],
   "source": [
    "# split data into training and test data\n",
    "from sklearn.model_selection import train_test_split\n",
    "train_data, test_data = train_test_split(input_data,test_size=0.2)\n",
    "train_data.head()"
   ]
  },
  {
   "cell_type": "code",
   "execution_count": 8,
   "metadata": {},
   "outputs": [],
   "source": [
    "# Save training data to a csv file \n",
    "train_data.to_csv(\"data/mobile_price_traindata.csv\", index=False)"
   ]
  },
  {
   "cell_type": "code",
   "execution_count": 10,
   "metadata": {},
   "outputs": [
    {
     "data": {
      "text/plain": [
       "{\n",
       "  \"name\": \"workspaceblobstore\",\n",
       "  \"container_name\": \"azureml-blobstore-1896c5be-cb73-4775-bea9-388c806d3d0a\",\n",
       "  \"account_name\": \"mlstrg141462\",\n",
       "  \"protocol\": \"https\",\n",
       "  \"endpoint\": \"core.windows.net\"\n",
       "}"
      ]
     },
     "execution_count": 10,
     "metadata": {},
     "output_type": "execute_result"
    }
   ],
   "source": [
    "data_store = ws.get_default_datastore()\n",
    "data_store"
   ]
  },
  {
   "cell_type": "code",
   "execution_count": 11,
   "metadata": {},
   "outputs": [
    {
     "name": "stdout",
     "output_type": "stream",
     "text": [
      "Uploading an estimated of 1 files\n",
      "Uploading data/mobile_price_traindata.csv\n",
      "Uploaded data/mobile_price_traindata.csv, 1 files out of an estimated total of 1\n",
      "Uploaded 1 files\n"
     ]
    },
    {
     "data": {
      "text/plain": [
       "$AZUREML_DATAREFERENCE_869eab05776a40eb9049b83fce08d37c"
      ]
     },
     "execution_count": 11,
     "metadata": {},
     "output_type": "execute_result"
    }
   ],
   "source": [
    "data_store.upload(src_dir='data/',target_path='pricing', overwrite=True, show_progress=True)\n"
   ]
  },
  {
   "cell_type": "code",
   "execution_count": 12,
   "metadata": {},
   "outputs": [],
   "source": [
    "train_data = Dataset.Tabular.from_delimited_files(path = [(data_store, 'pricing/mobile_price_traindata.csv')])"
   ]
  },
  {
   "cell_type": "code",
   "execution_count": 13,
   "metadata": {},
   "outputs": [
    {
     "data": {
      "text/plain": [
       "{\n",
       "  \"source\": [\n",
       "    \"('workspaceblobstore', 'pricing/mobile_price_traindata.csv')\"\n",
       "  ],\n",
       "  \"definition\": [\n",
       "    \"GetDatastoreFiles\",\n",
       "    \"ParseDelimited\",\n",
       "    \"DropColumns\",\n",
       "    \"SetColumnTypes\"\n",
       "  ]\n",
       "}"
      ]
     },
     "execution_count": 13,
     "metadata": {},
     "output_type": "execute_result"
    }
   ],
   "source": [
    "train_data"
   ]
  },
  {
   "cell_type": "markdown",
   "metadata": {},
   "source": [
    "## AutoML Configuration\n",
    "\n",
    "TODO: Explain why you chose the automl settings and cofiguration you used below."
   ]
  },
  {
   "cell_type": "code",
   "execution_count": 14,
   "metadata": {
    "gather": {
     "logged": 1598429217746
    },
    "jupyter": {
     "outputs_hidden": false,
     "source_hidden": false
    },
    "nteract": {
     "transient": {
      "deleting": false
     }
    }
   },
   "outputs": [],
   "source": [
    "# TODO: Put your automl settings here\n",
    "automl_settings = {\n",
    "    \"experiment_timeout_minutes\": 30,\n",
    "    \"max_concurrent_iterations\": 4,\n",
    "    \"primary_metric\" : 'accuracy'\n",
    "}\n",
    "\n",
    "# TODO: Put your automl config here\n",
    "automl_config = AutoMLConfig(\n",
    "                             compute_target=comp_trget,\n",
    "                             task = \"classification\",\n",
    "                             training_data=train_data,\n",
    "                             label_column_name=\"price_range\",   \n",
    "                             enable_early_stopping= True,\n",
    "                             featurization= 'auto',\n",
    "                             n_cross_validations=5,\n",
    "                             **automl_settings\n",
    ")"
   ]
  },
  {
   "cell_type": "code",
   "execution_count": 15,
   "metadata": {
    "gather": {
     "logged": 1598431107951
    },
    "jupyter": {
     "outputs_hidden": false,
     "source_hidden": false
    },
    "nteract": {
     "transient": {
      "deleting": false
     }
    }
   },
   "outputs": [
    {
     "name": "stdout",
     "output_type": "stream",
     "text": [
      "Running on remote.\n",
      "No run_configuration provided, running on automl-cluster with default configuration\n",
      "Running on remote compute: automl-cluster\n",
      "Parent Run ID: AutoML_88212ace-464b-4cbd-8e59-04f3e08e6a74\n",
      "\n",
      "Current status: FeaturesGeneration. Generating features for the dataset.\n",
      "Current status: DatasetCrossValidationSplit. Generating individually featurized CV splits.\n",
      "Current status: ModelSelection. Beginning model selection.\n",
      "\n",
      "****************************************************************************************************\n",
      "DATA GUARDRAILS: \n",
      "\n",
      "TYPE:         Class balancing detection\n",
      "STATUS:       PASSED\n",
      "DESCRIPTION:  Your inputs were analyzed, and all classes are balanced in your training data.\n",
      "              Learn more about imbalanced data: https://aka.ms/AutomatedMLImbalancedData\n",
      "\n",
      "****************************************************************************************************\n",
      "\n",
      "TYPE:         Missing feature values imputation\n",
      "STATUS:       PASSED\n",
      "DESCRIPTION:  No feature missing values were detected in the training data.\n",
      "              Learn more about missing value imputation: https://aka.ms/AutomatedMLFeaturization\n",
      "\n",
      "****************************************************************************************************\n",
      "\n",
      "TYPE:         High cardinality feature detection\n",
      "STATUS:       PASSED\n",
      "DESCRIPTION:  Your inputs were analyzed, and no high cardinality features were detected.\n",
      "              Learn more about high cardinality feature handling: https://aka.ms/AutomatedMLFeaturization\n",
      "\n",
      "****************************************************************************************************\n",
      "\n",
      "****************************************************************************************************\n",
      "ITERATION: The iteration being evaluated.\n",
      "PIPELINE: A summary description of the pipeline being evaluated.\n",
      "DURATION: Time taken for the current iteration.\n",
      "METRIC: The result of computing score on the fitted pipeline.\n",
      "BEST: The best observed score thus far.\n",
      "****************************************************************************************************\n",
      "\n",
      " ITERATION   PIPELINE                                       DURATION      METRIC      BEST\n",
      "         1   MaxAbsScaler XGBoostClassifier                 0:00:49       0.7479    0.7479\n",
      "         3   MaxAbsScaler RandomForest                      0:00:39       0.5742    0.7479\n",
      "         2   MaxAbsScaler RandomForest                      0:00:50       0.6229    0.7479\n",
      "         0   MaxAbsScaler LightGBM                          0:00:50       0.7658    0.7658\n",
      "         4   MaxAbsScaler RandomForest                      0:01:45       0.5317    0.7658\n",
      "         5   MaxAbsScaler RandomForest                      0:01:45       0.4079    0.7658\n",
      "         6   SparseNormalizer XGBoostClassifier             0:01:51       0.7896    0.7896\n",
      "         7   SparseNormalizer XGBoostClassifier             0:00:49       0.7817    0.7896\n",
      "        10   StandardScalerWrapper RandomForest             0:00:42       0.6992    0.7896\n",
      "         9   MaxAbsScaler GradientBoosting                  0:00:45       0.7054    0.7896\n",
      "        11   MaxAbsScaler RandomForest                      0:00:39       0.6954    0.7896\n",
      "         8   SparseNormalizer XGBoostClassifier             0:00:54       0.7442    0.7896\n",
      "        12   MaxAbsScaler LogisticRegression                0:00:43       0.6217    0.7896\n",
      "        14   MaxAbsScaler LightGBM                          0:00:38       0.6858    0.7896\n",
      "        13   MaxAbsScaler ExtremeRandomTrees                0:00:52       0.6800    0.7896\n",
      "        15   SparseNormalizer XGBoostClassifier             0:00:48       0.7233    0.7896\n",
      "        16   MaxAbsScaler LogisticRegression                0:00:49       0.6342    0.7896\n",
      "        18   MaxAbsScaler LightGBM                          0:00:39       0.6650    0.7896\n",
      "        17   SparseNormalizer XGBoostClassifier             0:01:04       0.7775    0.7896\n",
      "        19   SparseNormalizer LightGBM                      0:00:47       0.6946    0.7896\n",
      "        20   SparseNormalizer RandomForest                  0:00:39       0.6458    0.7896\n",
      "        21   MaxAbsScaler LightGBM                          0:00:43       0.6804    0.7896\n",
      "        22   MaxAbsScaler LightGBM                          0:00:41       0.6725    0.7896\n",
      "        23   MaxAbsScaler ExtremeRandomTrees                0:00:44       0.6771    0.7896\n",
      "        24   SparseNormalizer LightGBM                      0:00:46       0.7496    0.7896\n",
      "        25   StandardScalerWrapper XGBoostClassifier        0:00:46       0.3217    0.7896\n",
      "        26   MaxAbsScaler LightGBM                          0:00:46       0.7479    0.7896\n",
      "        27   StandardScalerWrapper LightGBM                 0:00:48       0.7558    0.7896\n",
      "        28   StandardScalerWrapper ExtremeRandomTrees       0:00:48       0.6492    0.7896\n",
      "        29   StandardScalerWrapper XGBoostClassifier        0:00:48       0.7575    0.7896\n",
      "        30   SparseNormalizer XGBoostClassifier             0:00:51       0.7721    0.7896\n",
      "        31   StandardScalerWrapper XGBoostClassifier        0:00:42       0.6042    0.7896\n",
      "        32   SparseNormalizer XGBoostClassifier             0:00:49       0.7787    0.7896\n",
      "        33   SparseNormalizer XGBoostClassifier             0:00:46          nan    0.7896\n",
      "        34   MaxAbsScaler LightGBM                          0:00:38       0.7213    0.7896\n",
      "        35   StandardScalerWrapper XGBoostClassifier        0:00:34       0.7446    0.7896\n",
      "        36    VotingEnsemble                                0:01:00       0.7929    0.7929\n",
      "        37    StackEnsemble                                 0:01:25       0.7762    0.7929\n"
     ]
    }
   ],
   "source": [
    "# TODO: Submit your experiment\n",
    "remote_run = experiment.submit(automl_config, show_output = True)"
   ]
  },
  {
   "cell_type": "markdown",
   "metadata": {},
   "source": [
    "## Run Details\n",
    "\n",
    "OPTIONAL: Write about the different models trained and their performance. Why do you think some models did better than others?\n",
    "\n",
    "TODO: In the cell below, use the `RunDetails` widget to show the different experiments."
   ]
  },
  {
   "cell_type": "code",
   "execution_count": 16,
   "metadata": {
    "gather": {
     "logged": 1598431121770
    },
    "jupyter": {
     "outputs_hidden": false,
     "source_hidden": false
    },
    "nteract": {
     "transient": {
      "deleting": false
     }
    }
   },
   "outputs": [
    {
     "data": {
      "application/vnd.jupyter.widget-view+json": {
       "model_id": "86ded65c4db042e6923dd4d5f099a6be",
       "version_major": 2,
       "version_minor": 0
      },
      "text/plain": [
       "_AutoMLWidget(widget_settings={'childWidgetDisplay': 'popup', 'send_telemetry': False, 'log_level': 'INFO', 's…"
      ]
     },
     "metadata": {},
     "output_type": "display_data"
    },
    {
     "data": {
      "application/aml.mini.widget.v1": "{\"status\": \"Completed\", \"workbench_run_details_uri\": \"https://ml.azure.com/experiments/mobile_price_prediction/runs/AutoML_88212ace-464b-4cbd-8e59-04f3e08e6a74?wsid=/subscriptions/3d1a56d2-7c81-4118-9790-f85d1acf0c77/resourcegroups/aml-quickstarts-141462/workspaces/quick-starts-ws-141462\", \"run_id\": \"AutoML_88212ace-464b-4cbd-8e59-04f3e08e6a74\", \"run_properties\": {\"run_id\": \"AutoML_88212ace-464b-4cbd-8e59-04f3e08e6a74\", \"created_utc\": \"2021-03-27T20:03:51.439625Z\", \"properties\": {\"num_iterations\": \"1000\", \"training_type\": \"TrainFull\", \"acquisition_function\": \"EI\", \"primary_metric\": \"accuracy\", \"train_split\": \"0\", \"acquisition_parameter\": \"0\", \"num_cross_validation\": \"5\", \"target\": \"automl-cluster\", \"AMLSettingsJsonString\": \"{\\\"path\\\":null,\\\"name\\\":\\\"mobile_price_prediction\\\",\\\"subscription_id\\\":\\\"3d1a56d2-7c81-4118-9790-f85d1acf0c77\\\",\\\"resource_group\\\":\\\"aml-quickstarts-141462\\\",\\\"workspace_name\\\":\\\"quick-starts-ws-141462\\\",\\\"region\\\":\\\"southcentralus\\\",\\\"compute_target\\\":\\\"automl-cluster\\\",\\\"spark_service\\\":null,\\\"azure_service\\\":\\\"remote\\\",\\\"many_models\\\":false,\\\"pipeline_fetch_max_batch_size\\\":1,\\\"enable_batch_run\\\":false,\\\"iterations\\\":1000,\\\"primary_metric\\\":\\\"accuracy\\\",\\\"task_type\\\":\\\"classification\\\",\\\"data_script\\\":null,\\\"validation_size\\\":0.0,\\\"n_cross_validations\\\":5,\\\"y_min\\\":null,\\\"y_max\\\":null,\\\"num_classes\\\":null,\\\"featurization\\\":\\\"auto\\\",\\\"_ignore_package_version_incompatibilities\\\":false,\\\"is_timeseries\\\":false,\\\"max_cores_per_iteration\\\":1,\\\"max_concurrent_iterations\\\":4,\\\"iteration_timeout_minutes\\\":null,\\\"mem_in_mb\\\":null,\\\"enforce_time_on_windows\\\":false,\\\"experiment_timeout_minutes\\\":30,\\\"experiment_exit_score\\\":null,\\\"whitelist_models\\\":null,\\\"blacklist_algos\\\":[\\\"TensorFlowLinearClassifier\\\",\\\"TensorFlowDNN\\\"],\\\"supported_models\\\":[\\\"LinearSVM\\\",\\\"ExtremeRandomTrees\\\",\\\"BernoulliNaiveBayes\\\",\\\"MultinomialNaiveBayes\\\",\\\"GradientBoosting\\\",\\\"RandomForest\\\",\\\"TensorFlowLinearClassifier\\\",\\\"TensorFlowDNN\\\",\\\"SVM\\\",\\\"LogisticRegression\\\",\\\"LightGBM\\\",\\\"DecisionTree\\\",\\\"XGBoostClassifier\\\",\\\"KNN\\\",\\\"AveragedPerceptronClassifier\\\",\\\"SGD\\\"],\\\"private_models\\\":[],\\\"auto_blacklist\\\":true,\\\"blacklist_samples_reached\\\":false,\\\"exclude_nan_labels\\\":true,\\\"verbosity\\\":20,\\\"_debug_log\\\":\\\"azureml_automl.log\\\",\\\"show_warnings\\\":false,\\\"model_explainability\\\":true,\\\"service_url\\\":null,\\\"sdk_url\\\":null,\\\"sdk_packages\\\":null,\\\"enable_onnx_compatible_models\\\":false,\\\"enable_split_onnx_featurizer_estimator_models\\\":false,\\\"vm_type\\\":\\\"STANDARD_DS3_V2\\\",\\\"telemetry_verbosity\\\":20,\\\"send_telemetry\\\":true,\\\"enable_dnn\\\":false,\\\"scenario\\\":\\\"SDK-1.13.0\\\",\\\"environment_label\\\":null,\\\"save_mlflow\\\":false,\\\"force_text_dnn\\\":false,\\\"enable_feature_sweeping\\\":true,\\\"enable_early_stopping\\\":true,\\\"early_stopping_n_iters\\\":10,\\\"metrics\\\":null,\\\"enable_metric_confidence\\\":false,\\\"enable_ensembling\\\":true,\\\"enable_stack_ensembling\\\":true,\\\"ensemble_iterations\\\":15,\\\"enable_tf\\\":false,\\\"enable_subsampling\\\":null,\\\"subsample_seed\\\":null,\\\"enable_nimbusml\\\":false,\\\"enable_streaming\\\":false,\\\"force_streaming\\\":false,\\\"track_child_runs\\\":true,\\\"allowed_private_models\\\":[],\\\"label_column_name\\\":\\\"price_range\\\",\\\"weight_column_name\\\":null,\\\"cv_split_column_names\\\":null,\\\"enable_local_managed\\\":false,\\\"_local_managed_run_id\\\":null,\\\"cost_mode\\\":1,\\\"lag_length\\\":0,\\\"metric_operation\\\":\\\"maximize\\\",\\\"preprocess\\\":true}\", \"DataPrepJsonString\": \"{\\\\\\\"training_data\\\\\\\": \\\\\\\"{\\\\\\\\\\\\\\\"blocks\\\\\\\\\\\\\\\": [{\\\\\\\\\\\\\\\"id\\\\\\\\\\\\\\\": \\\\\\\\\\\\\\\"d2258c4b-0060-42ba-b10f-a086c70b2b74\\\\\\\\\\\\\\\", \\\\\\\\\\\\\\\"type\\\\\\\\\\\\\\\": \\\\\\\\\\\\\\\"Microsoft.DPrep.GetDatastoreFilesBlock\\\\\\\\\\\\\\\", \\\\\\\\\\\\\\\"arguments\\\\\\\\\\\\\\\": {\\\\\\\\\\\\\\\"datastores\\\\\\\\\\\\\\\": [{\\\\\\\\\\\\\\\"datastoreName\\\\\\\\\\\\\\\": \\\\\\\\\\\\\\\"workspaceblobstore\\\\\\\\\\\\\\\", \\\\\\\\\\\\\\\"path\\\\\\\\\\\\\\\": \\\\\\\\\\\\\\\"pricing/mobile_price_traindata.csv\\\\\\\\\\\\\\\", \\\\\\\\\\\\\\\"resourceGroup\\\\\\\\\\\\\\\": \\\\\\\\\\\\\\\"aml-quickstarts-141462\\\\\\\\\\\\\\\", \\\\\\\\\\\\\\\"subscription\\\\\\\\\\\\\\\": \\\\\\\\\\\\\\\"3d1a56d2-7c81-4118-9790-f85d1acf0c77\\\\\\\\\\\\\\\", \\\\\\\\\\\\\\\"workspaceName\\\\\\\\\\\\\\\": \\\\\\\\\\\\\\\"quick-starts-ws-141462\\\\\\\\\\\\\\\"}]}, \\\\\\\\\\\\\\\"localData\\\\\\\\\\\\\\\": {}, \\\\\\\\\\\\\\\"isEnabled\\\\\\\\\\\\\\\": true, \\\\\\\\\\\\\\\"name\\\\\\\\\\\\\\\": null, \\\\\\\\\\\\\\\"annotation\\\\\\\\\\\\\\\": null}, {\\\\\\\\\\\\\\\"id\\\\\\\\\\\\\\\": \\\\\\\\\\\\\\\"ded512cf-235e-4df9-9b5c-6c3e3bda312d\\\\\\\\\\\\\\\", \\\\\\\\\\\\\\\"type\\\\\\\\\\\\\\\": \\\\\\\\\\\\\\\"Microsoft.DPrep.ParseDelimitedBlock\\\\\\\\\\\\\\\", \\\\\\\\\\\\\\\"arguments\\\\\\\\\\\\\\\": {\\\\\\\\\\\\\\\"columnHeadersMode\\\\\\\\\\\\\\\": 3, \\\\\\\\\\\\\\\"fileEncoding\\\\\\\\\\\\\\\": 0, \\\\\\\\\\\\\\\"handleQuotedLineBreaks\\\\\\\\\\\\\\\": false, \\\\\\\\\\\\\\\"preview\\\\\\\\\\\\\\\": false, \\\\\\\\\\\\\\\"separator\\\\\\\\\\\\\\\": \\\\\\\\\\\\\\\",\\\\\\\\\\\\\\\", \\\\\\\\\\\\\\\"skipRows\\\\\\\\\\\\\\\": 0, \\\\\\\\\\\\\\\"skipRowsMode\\\\\\\\\\\\\\\": 0}, \\\\\\\\\\\\\\\"localData\\\\\\\\\\\\\\\": {}, \\\\\\\\\\\\\\\"isEnabled\\\\\\\\\\\\\\\": true, \\\\\\\\\\\\\\\"name\\\\\\\\\\\\\\\": null, \\\\\\\\\\\\\\\"annotation\\\\\\\\\\\\\\\": null}, {\\\\\\\\\\\\\\\"id\\\\\\\\\\\\\\\": \\\\\\\\\\\\\\\"a8132d59-99db-4a99-91dc-3700fa8220f7\\\\\\\\\\\\\\\", \\\\\\\\\\\\\\\"type\\\\\\\\\\\\\\\": \\\\\\\\\\\\\\\"Microsoft.DPrep.DropColumnsBlock\\\\\\\\\\\\\\\", \\\\\\\\\\\\\\\"arguments\\\\\\\\\\\\\\\": {\\\\\\\\\\\\\\\"columns\\\\\\\\\\\\\\\": {\\\\\\\\\\\\\\\"type\\\\\\\\\\\\\\\": 0, \\\\\\\\\\\\\\\"details\\\\\\\\\\\\\\\": {\\\\\\\\\\\\\\\"selectedColumns\\\\\\\\\\\\\\\": [\\\\\\\\\\\\\\\"Path\\\\\\\\\\\\\\\"]}}}, \\\\\\\\\\\\\\\"localData\\\\\\\\\\\\\\\": {}, \\\\\\\\\\\\\\\"isEnabled\\\\\\\\\\\\\\\": true, \\\\\\\\\\\\\\\"name\\\\\\\\\\\\\\\": null, \\\\\\\\\\\\\\\"annotation\\\\\\\\\\\\\\\": null}, {\\\\\\\\\\\\\\\"id\\\\\\\\\\\\\\\": \\\\\\\\\\\\\\\"9a844083-fa3d-487e-bb6f-ec69e9e625f0\\\\\\\\\\\\\\\", \\\\\\\\\\\\\\\"type\\\\\\\\\\\\\\\": \\\\\\\\\\\\\\\"Microsoft.DPrep.SetColumnTypesBlock\\\\\\\\\\\\\\\", \\\\\\\\\\\\\\\"arguments\\\\\\\\\\\\\\\": {\\\\\\\\\\\\\\\"columnConversion\\\\\\\\\\\\\\\": [{\\\\\\\\\\\\\\\"column\\\\\\\\\\\\\\\": {\\\\\\\\\\\\\\\"type\\\\\\\\\\\\\\\": 2, \\\\\\\\\\\\\\\"details\\\\\\\\\\\\\\\": {\\\\\\\\\\\\\\\"selectedColumn\\\\\\\\\\\\\\\": \\\\\\\\\\\\\\\"battery_power\\\\\\\\\\\\\\\"}}, \\\\\\\\\\\\\\\"typeProperty\\\\\\\\\\\\\\\": 2}, {\\\\\\\\\\\\\\\"column\\\\\\\\\\\\\\\": {\\\\\\\\\\\\\\\"type\\\\\\\\\\\\\\\": 2, \\\\\\\\\\\\\\\"details\\\\\\\\\\\\\\\": {\\\\\\\\\\\\\\\"selectedColumn\\\\\\\\\\\\\\\": \\\\\\\\\\\\\\\"blue\\\\\\\\\\\\\\\"}}, \\\\\\\\\\\\\\\"typeProperty\\\\\\\\\\\\\\\": 2}, {\\\\\\\\\\\\\\\"column\\\\\\\\\\\\\\\": {\\\\\\\\\\\\\\\"type\\\\\\\\\\\\\\\": 2, \\\\\\\\\\\\\\\"details\\\\\\\\\\\\\\\": {\\\\\\\\\\\\\\\"selectedColumn\\\\\\\\\\\\\\\": \\\\\\\\\\\\\\\"clock_speed\\\\\\\\\\\\\\\"}}, \\\\\\\\\\\\\\\"typeProperty\\\\\\\\\\\\\\\": 3}, {\\\\\\\\\\\\\\\"column\\\\\\\\\\\\\\\": {\\\\\\\\\\\\\\\"type\\\\\\\\\\\\\\\": 2, \\\\\\\\\\\\\\\"details\\\\\\\\\\\\\\\": {\\\\\\\\\\\\\\\"selectedColumn\\\\\\\\\\\\\\\": \\\\\\\\\\\\\\\"dual_sim\\\\\\\\\\\\\\\"}}, \\\\\\\\\\\\\\\"typeProperty\\\\\\\\\\\\\\\": 3}, {\\\\\\\\\\\\\\\"column\\\\\\\\\\\\\\\": {\\\\\\\\\\\\\\\"type\\\\\\\\\\\\\\\": 2, \\\\\\\\\\\\\\\"details\\\\\\\\\\\\\\\": {\\\\\\\\\\\\\\\"selectedColumn\\\\\\\\\\\\\\\": \\\\\\\\\\\\\\\"fc\\\\\\\\\\\\\\\"}}, \\\\\\\\\\\\\\\"typeProperty\\\\\\\\\\\\\\\": 2}, {\\\\\\\\\\\\\\\"column\\\\\\\\\\\\\\\": {\\\\\\\\\\\\\\\"type\\\\\\\\\\\\\\\": 2, \\\\\\\\\\\\\\\"details\\\\\\\\\\\\\\\": {\\\\\\\\\\\\\\\"selectedColumn\\\\\\\\\\\\\\\": \\\\\\\\\\\\\\\"four_g\\\\\\\\\\\\\\\"}}, \\\\\\\\\\\\\\\"typeProperty\\\\\\\\\\\\\\\": 2}, {\\\\\\\\\\\\\\\"column\\\\\\\\\\\\\\\": {\\\\\\\\\\\\\\\"type\\\\\\\\\\\\\\\": 2, \\\\\\\\\\\\\\\"details\\\\\\\\\\\\\\\": {\\\\\\\\\\\\\\\"selectedColumn\\\\\\\\\\\\\\\": \\\\\\\\\\\\\\\"int_memory\\\\\\\\\\\\\\\"}}, \\\\\\\\\\\\\\\"typeProperty\\\\\\\\\\\\\\\": 2}, {\\\\\\\\\\\\\\\"column\\\\\\\\\\\\\\\": {\\\\\\\\\\\\\\\"type\\\\\\\\\\\\\\\": 2, \\\\\\\\\\\\\\\"details\\\\\\\\\\\\\\\": {\\\\\\\\\\\\\\\"selectedColumn\\\\\\\\\\\\\\\": \\\\\\\\\\\\\\\"m_dep\\\\\\\\\\\\\\\"}}, \\\\\\\\\\\\\\\"typeProperty\\\\\\\\\\\\\\\": 3}, {\\\\\\\\\\\\\\\"column\\\\\\\\\\\\\\\": {\\\\\\\\\\\\\\\"type\\\\\\\\\\\\\\\": 2, \\\\\\\\\\\\\\\"details\\\\\\\\\\\\\\\": {\\\\\\\\\\\\\\\"selectedColumn\\\\\\\\\\\\\\\": \\\\\\\\\\\\\\\"mobile_wt\\\\\\\\\\\\\\\"}}, \\\\\\\\\\\\\\\"typeProperty\\\\\\\\\\\\\\\": 3}, {\\\\\\\\\\\\\\\"column\\\\\\\\\\\\\\\": {\\\\\\\\\\\\\\\"type\\\\\\\\\\\\\\\": 2, \\\\\\\\\\\\\\\"details\\\\\\\\\\\\\\\": {\\\\\\\\\\\\\\\"selectedColumn\\\\\\\\\\\\\\\": \\\\\\\\\\\\\\\"n_cores\\\\\\\\\\\\\\\"}}, \\\\\\\\\\\\\\\"typeProperty\\\\\\\\\\\\\\\": 2}, {\\\\\\\\\\\\\\\"column\\\\\\\\\\\\\\\": {\\\\\\\\\\\\\\\"type\\\\\\\\\\\\\\\": 2, \\\\\\\\\\\\\\\"details\\\\\\\\\\\\\\\": {\\\\\\\\\\\\\\\"selectedColumn\\\\\\\\\\\\\\\": \\\\\\\\\\\\\\\"pc\\\\\\\\\\\\\\\"}}, \\\\\\\\\\\\\\\"typeProperty\\\\\\\\\\\\\\\": 2}, {\\\\\\\\\\\\\\\"column\\\\\\\\\\\\\\\": {\\\\\\\\\\\\\\\"type\\\\\\\\\\\\\\\": 2, \\\\\\\\\\\\\\\"details\\\\\\\\\\\\\\\": {\\\\\\\\\\\\\\\"selectedColumn\\\\\\\\\\\\\\\": \\\\\\\\\\\\\\\"px_height\\\\\\\\\\\\\\\"}}, \\\\\\\\\\\\\\\"typeProperty\\\\\\\\\\\\\\\": 2}, {\\\\\\\\\\\\\\\"column\\\\\\\\\\\\\\\": {\\\\\\\\\\\\\\\"type\\\\\\\\\\\\\\\": 2, \\\\\\\\\\\\\\\"details\\\\\\\\\\\\\\\": {\\\\\\\\\\\\\\\"selectedColumn\\\\\\\\\\\\\\\": \\\\\\\\\\\\\\\"px_width\\\\\\\\\\\\\\\"}}, \\\\\\\\\\\\\\\"typeProperty\\\\\\\\\\\\\\\": 2}, {\\\\\\\\\\\\\\\"column\\\\\\\\\\\\\\\": {\\\\\\\\\\\\\\\"type\\\\\\\\\\\\\\\": 2, \\\\\\\\\\\\\\\"details\\\\\\\\\\\\\\\": {\\\\\\\\\\\\\\\"selectedColumn\\\\\\\\\\\\\\\": \\\\\\\\\\\\\\\"ram\\\\\\\\\\\\\\\"}}, \\\\\\\\\\\\\\\"typeProperty\\\\\\\\\\\\\\\": 2}, {\\\\\\\\\\\\\\\"column\\\\\\\\\\\\\\\": {\\\\\\\\\\\\\\\"type\\\\\\\\\\\\\\\": 2, \\\\\\\\\\\\\\\"details\\\\\\\\\\\\\\\": {\\\\\\\\\\\\\\\"selectedColumn\\\\\\\\\\\\\\\": \\\\\\\\\\\\\\\"sc_h\\\\\\\\\\\\\\\"}}, \\\\\\\\\\\\\\\"typeProperty\\\\\\\\\\\\\\\": 2}, {\\\\\\\\\\\\\\\"column\\\\\\\\\\\\\\\": {\\\\\\\\\\\\\\\"type\\\\\\\\\\\\\\\": 2, \\\\\\\\\\\\\\\"details\\\\\\\\\\\\\\\": {\\\\\\\\\\\\\\\"selectedColumn\\\\\\\\\\\\\\\": \\\\\\\\\\\\\\\"sc_w\\\\\\\\\\\\\\\"}}, \\\\\\\\\\\\\\\"typeProperty\\\\\\\\\\\\\\\": 2}, {\\\\\\\\\\\\\\\"column\\\\\\\\\\\\\\\": {\\\\\\\\\\\\\\\"type\\\\\\\\\\\\\\\": 2, \\\\\\\\\\\\\\\"details\\\\\\\\\\\\\\\": {\\\\\\\\\\\\\\\"selectedColumn\\\\\\\\\\\\\\\": \\\\\\\\\\\\\\\"talk_time\\\\\\\\\\\\\\\"}}, \\\\\\\\\\\\\\\"typeProperty\\\\\\\\\\\\\\\": 2}, {\\\\\\\\\\\\\\\"column\\\\\\\\\\\\\\\": {\\\\\\\\\\\\\\\"type\\\\\\\\\\\\\\\": 2, \\\\\\\\\\\\\\\"details\\\\\\\\\\\\\\\": {\\\\\\\\\\\\\\\"selectedColumn\\\\\\\\\\\\\\\": \\\\\\\\\\\\\\\"three_g\\\\\\\\\\\\\\\"}}, \\\\\\\\\\\\\\\"typeProperty\\\\\\\\\\\\\\\": 2}, {\\\\\\\\\\\\\\\"column\\\\\\\\\\\\\\\": {\\\\\\\\\\\\\\\"type\\\\\\\\\\\\\\\": 2, \\\\\\\\\\\\\\\"details\\\\\\\\\\\\\\\": {\\\\\\\\\\\\\\\"selectedColumn\\\\\\\\\\\\\\\": \\\\\\\\\\\\\\\"touch_screen\\\\\\\\\\\\\\\"}}, \\\\\\\\\\\\\\\"typeProperty\\\\\\\\\\\\\\\": 2}, {\\\\\\\\\\\\\\\"column\\\\\\\\\\\\\\\": {\\\\\\\\\\\\\\\"type\\\\\\\\\\\\\\\": 2, \\\\\\\\\\\\\\\"details\\\\\\\\\\\\\\\": {\\\\\\\\\\\\\\\"selectedColumn\\\\\\\\\\\\\\\": \\\\\\\\\\\\\\\"wifi\\\\\\\\\\\\\\\"}}, \\\\\\\\\\\\\\\"typeProperty\\\\\\\\\\\\\\\": 2}, {\\\\\\\\\\\\\\\"column\\\\\\\\\\\\\\\": {\\\\\\\\\\\\\\\"type\\\\\\\\\\\\\\\": 2, \\\\\\\\\\\\\\\"details\\\\\\\\\\\\\\\": {\\\\\\\\\\\\\\\"selectedColumn\\\\\\\\\\\\\\\": \\\\\\\\\\\\\\\"price_range\\\\\\\\\\\\\\\"}}, \\\\\\\\\\\\\\\"typeProperty\\\\\\\\\\\\\\\": 2}]}, \\\\\\\\\\\\\\\"localData\\\\\\\\\\\\\\\": {}, \\\\\\\\\\\\\\\"isEnabled\\\\\\\\\\\\\\\": true, \\\\\\\\\\\\\\\"name\\\\\\\\\\\\\\\": null, \\\\\\\\\\\\\\\"annotation\\\\\\\\\\\\\\\": null}], \\\\\\\\\\\\\\\"inspectors\\\\\\\\\\\\\\\": [], \\\\\\\\\\\\\\\"meta\\\\\\\\\\\\\\\": {\\\\\\\\\\\\\\\"savedDatasetId\\\\\\\\\\\\\\\": \\\\\\\\\\\\\\\"345cf5f6-5959-42fb-ada8-9325059ac870\\\\\\\\\\\\\\\", \\\\\\\\\\\\\\\"datasetType\\\\\\\\\\\\\\\": \\\\\\\\\\\\\\\"tabular\\\\\\\\\\\\\\\", \\\\\\\\\\\\\\\"subscriptionId\\\\\\\\\\\\\\\": \\\\\\\\\\\\\\\"3d1a56d2-7c81-4118-9790-f85d1acf0c77\\\\\\\\\\\\\\\", \\\\\\\\\\\\\\\"workspaceId\\\\\\\\\\\\\\\": \\\\\\\\\\\\\\\"1896c5be-cb73-4775-bea9-388c806d3d0a\\\\\\\\\\\\\\\", \\\\\\\\\\\\\\\"workspaceLocation\\\\\\\\\\\\\\\": \\\\\\\\\\\\\\\"southcentralus\\\\\\\\\\\\\\\", \\\\\\\\\\\\\\\"partition_keys\\\\\\\\\\\\\\\": \\\\\\\\\\\\\\\"true\\\\\\\\\\\\\\\"}}\\\\\\\", \\\\\\\"activities\\\\\\\": 0}\", \"EnableSubsampling\": null, \"runTemplate\": \"AutoML\", \"azureml.runsource\": \"automl\", \"display_task_type\": \"classification\", \"dependencies_versions\": \"{\\\"azureml-widgets\\\": \\\"1.24.0\\\", \\\"azureml-train\\\": \\\"1.24.0\\\", \\\"azureml-train-restclients-hyperdrive\\\": \\\"1.24.0\\\", \\\"azureml-train-core\\\": \\\"1.24.0\\\", \\\"azureml-train-automl\\\": \\\"1.24.0\\\", \\\"azureml-train-automl-runtime\\\": \\\"1.24.0\\\", \\\"azureml-train-automl-client\\\": \\\"1.24.0\\\", \\\"azureml-tensorboard\\\": \\\"1.24.0\\\", \\\"azureml-telemetry\\\": \\\"1.24.0\\\", \\\"azureml-sdk\\\": \\\"1.24.0\\\", \\\"azureml-samples\\\": \\\"0+unknown\\\", \\\"azureml-pipeline\\\": \\\"1.24.0\\\", \\\"azureml-pipeline-steps\\\": \\\"1.24.0\\\", \\\"azureml-pipeline-core\\\": \\\"1.24.0\\\", \\\"azureml-opendatasets\\\": \\\"1.24.0\\\", \\\"azureml-model-management-sdk\\\": \\\"1.0.1b6.post1\\\", \\\"azureml-mlflow\\\": \\\"1.24.0\\\", \\\"azureml-interpret\\\": \\\"1.24.0\\\", \\\"azureml-explain-model\\\": \\\"1.24.0\\\", \\\"azureml-defaults\\\": \\\"1.24.0\\\", \\\"azureml-dataset-runtime\\\": \\\"1.24.0\\\", \\\"azureml-dataprep\\\": \\\"2.11.1\\\", \\\"azureml-dataprep-rslex\\\": \\\"1.9.0\\\", \\\"azureml-dataprep-native\\\": \\\"30.0.0\\\", \\\"azureml-datadrift\\\": \\\"1.24.0\\\", \\\"azureml-core\\\": \\\"1.24.0\\\", \\\"azureml-contrib-services\\\": \\\"1.24.0\\\", \\\"azureml-contrib-server\\\": \\\"1.24.0\\\", \\\"azureml-contrib-reinforcementlearning\\\": \\\"1.24.0\\\", \\\"azureml-contrib-pipeline-steps\\\": \\\"1.24.0\\\", \\\"azureml-contrib-notebook\\\": \\\"1.24.0\\\", \\\"azureml-contrib-gbdt\\\": \\\"1.24.0\\\", \\\"azureml-contrib-fairness\\\": \\\"1.24.0\\\", \\\"azureml-contrib-dataset\\\": \\\"1.24.0\\\", \\\"azureml-cli-common\\\": \\\"1.24.0\\\", \\\"azureml-automl-runtime\\\": \\\"1.24.0\\\", \\\"azureml-automl-dnn-nlp\\\": \\\"1.24.0\\\", \\\"azureml-automl-core\\\": \\\"1.24.0\\\", \\\"azureml-accel-models\\\": \\\"1.24.0\\\"}\", \"_aml_system_scenario_identification\": \"Remote.Parent\", \"ClientType\": \"SDK\", \"environment_cpu_name\": \"AzureML-AutoML\", \"environment_cpu_label\": \"prod\", \"environment_gpu_name\": \"AzureML-AutoML-GPU\", \"environment_gpu_label\": \"prod\", \"root_attribution\": \"automl\", \"attribution\": \"AutoML\", \"Orchestrator\": \"AutoML\", \"CancelUri\": \"https://southcentralus.experiments.azureml.net/jasmine/v1.0/subscriptions/3d1a56d2-7c81-4118-9790-f85d1acf0c77/resourceGroups/aml-quickstarts-141462/providers/Microsoft.MachineLearningServices/workspaces/quick-starts-ws-141462/experimentids/45e87e02-3d78-49df-af58-672bdcc25bf1/cancel/AutoML_88212ace-464b-4cbd-8e59-04f3e08e6a74\", \"ClientSdkVersion\": \"1.24.0\", \"snapshotId\": \"00000000-0000-0000-0000-000000000000\", \"SetupRunId\": \"AutoML_88212ace-464b-4cbd-8e59-04f3e08e6a74_setup\", \"SetupRunContainerId\": \"dcid.AutoML_88212ace-464b-4cbd-8e59-04f3e08e6a74_setup\", \"FeaturizationRunJsonPath\": \"featurizer_container.json\", \"FeaturizationRunId\": \"AutoML_88212ace-464b-4cbd-8e59-04f3e08e6a74_featurize\", \"ProblemInfoJsonString\": \"{\\\"dataset_num_categorical\\\": 0, \\\"is_sparse\\\": true, \\\"subsampling\\\": false, \\\"dataset_classes\\\": 4, \\\"dataset_features\\\": 137, \\\"dataset_samples\\\": 2400, \\\"single_frequency_class_detected\\\": false}\", \"ModelExplainRunId\": \"AutoML_88212ace-464b-4cbd-8e59-04f3e08e6a74_ModelExplain\"}, \"tags\": {\"model_explain_run\": \"best_run\", \"_aml_system_azureml.automlComponent\": \"AutoML\", \"pipeline_id\": \"\", \"score\": \"\", \"predicted_cost\": \"\", \"fit_time\": \"\", \"training_percent\": \"\", \"iteration\": \"\", \"run_preprocessor\": \"\", \"run_algorithm\": \"\", \"dynamic_whitelisting_iterations\": \"<25>;<30>;<35>;\", \"automl_best_child_run_id\": \"AutoML_88212ace-464b-4cbd-8e59-04f3e08e6a74_36\", \"model_explain_best_run_child_id\": \"AutoML_88212ace-464b-4cbd-8e59-04f3e08e6a74_36\"}, \"end_time_utc\": \"2021-03-27T20:22:03.879409Z\", \"status\": \"Completed\", \"log_files\": {}, \"log_groups\": [], \"run_duration\": \"0:18:12\", \"run_number\": \"1\", \"run_queued_details\": {\"status\": \"Completed\", \"details\": null}}, \"child_runs\": [{\"run_id\": \"AutoML_88212ace-464b-4cbd-8e59-04f3e08e6a74_0\", \"run_number\": 5, \"metric\": null, \"status\": \"Completed\", \"run_type\": \"azureml.scriptrun\", \"training_percent\": \"100\", \"start_time\": \"2021-03-27T20:11:02.556122Z\", \"end_time\": \"2021-03-27T20:11:52.985012Z\", \"created_time\": \"2021-03-27T20:07:36.562214Z\", \"created_time_dt\": \"2021-03-27T20:07:36.562214Z\", \"duration\": \"0:04:16\", \"iteration\": \"0\", \"goal\": \"accuracy_max\", \"run_name\": \"MaxAbsScaler, LightGBM\", \"run_properties\": \"copy=True\", \"primary_metric\": 0.76583333, \"best_metric\": 0.76583333}, {\"run_id\": \"AutoML_88212ace-464b-4cbd-8e59-04f3e08e6a74_3\", \"run_number\": 6, \"metric\": null, \"status\": \"Completed\", \"run_type\": \"azureml.scriptrun\", \"training_percent\": \"100\", \"start_time\": \"2021-03-27T20:08:56.841893Z\", \"end_time\": \"2021-03-27T20:09:35.967239Z\", \"created_time\": \"2021-03-27T20:07:36.697788Z\", \"created_time_dt\": \"2021-03-27T20:07:36.697788Z\", \"duration\": \"0:01:59\", \"iteration\": \"3\", \"goal\": \"accuracy_max\", \"run_name\": \"MaxAbsScaler, RandomForest\", \"run_properties\": \"copy=True\", \"primary_metric\": 0.57416667, \"best_metric\": 0.76583333}, {\"run_id\": \"AutoML_88212ace-464b-4cbd-8e59-04f3e08e6a74_1\", \"run_number\": 7, \"metric\": null, \"status\": \"Completed\", \"run_type\": \"azureml.scriptrun\", \"training_percent\": \"100\", \"start_time\": \"2021-03-27T20:07:50.027702Z\", \"end_time\": \"2021-03-27T20:08:39.18001Z\", \"created_time\": \"2021-03-27T20:07:36.702434Z\", \"created_time_dt\": \"2021-03-27T20:07:36.702434Z\", \"duration\": \"0:01:02\", \"iteration\": \"1\", \"goal\": \"accuracy_max\", \"run_name\": \"MaxAbsScaler, XGBoostClassifier\", \"run_properties\": \"copy=True\", \"primary_metric\": 0.74791667, \"best_metric\": 0.76583333}, {\"run_id\": \"AutoML_88212ace-464b-4cbd-8e59-04f3e08e6a74_2\", \"run_number\": 8, \"metric\": null, \"status\": \"Completed\", \"run_type\": \"azureml.scriptrun\", \"training_percent\": \"100\", \"start_time\": \"2021-03-27T20:09:55.858614Z\", \"end_time\": \"2021-03-27T20:10:45.864936Z\", \"created_time\": \"2021-03-27T20:07:36.823376Z\", \"created_time_dt\": \"2021-03-27T20:07:36.823376Z\", \"duration\": \"0:03:09\", \"iteration\": \"2\", \"goal\": \"accuracy_max\", \"run_name\": \"MaxAbsScaler, RandomForest\", \"run_properties\": \"copy=True\", \"primary_metric\": 0.62291667, \"best_metric\": 0.76583333}, {\"run_id\": \"AutoML_88212ace-464b-4cbd-8e59-04f3e08e6a74_4\", \"run_number\": 9, \"metric\": null, \"status\": \"Completed\", \"run_type\": \"azureml.scriptrun\", \"training_percent\": \"100\", \"start_time\": \"2021-03-27T20:11:05.904316Z\", \"end_time\": \"2021-03-27T20:12:51.39877Z\", \"created_time\": \"2021-03-27T20:08:41.126396Z\", \"created_time_dt\": \"2021-03-27T20:08:41.126396Z\", \"duration\": \"0:04:10\", \"iteration\": \"4\", \"goal\": \"accuracy_max\", \"run_name\": \"MaxAbsScaler, RandomForest\", \"run_properties\": \"copy=True\", \"primary_metric\": 0.53166667, \"best_metric\": 0.76583333}, {\"run_id\": \"AutoML_88212ace-464b-4cbd-8e59-04f3e08e6a74_5\", \"run_number\": 10, \"metric\": null, \"status\": \"Completed\", \"run_type\": \"azureml.scriptrun\", \"training_percent\": \"100\", \"start_time\": \"2021-03-27T20:11:12.920061Z\", \"end_time\": \"2021-03-27T20:12:57.444654Z\", \"created_time\": \"2021-03-27T20:09:39.352347Z\", \"created_time_dt\": \"2021-03-27T20:09:39.352347Z\", \"duration\": \"0:03:18\", \"iteration\": \"5\", \"goal\": \"accuracy_max\", \"run_name\": \"MaxAbsScaler, RandomForest\", \"run_properties\": \"copy=True\", \"primary_metric\": 0.40791667, \"best_metric\": 0.76583333}, {\"run_id\": \"AutoML_88212ace-464b-4cbd-8e59-04f3e08e6a74_6\", \"run_number\": 11, \"metric\": null, \"status\": \"Completed\", \"run_type\": \"azureml.scriptrun\", \"training_percent\": \"100\", \"start_time\": \"2021-03-27T20:11:12.829352Z\", \"end_time\": \"2021-03-27T20:13:04.008182Z\", \"created_time\": \"2021-03-27T20:10:48.187525Z\", \"created_time_dt\": \"2021-03-27T20:10:48.187525Z\", \"duration\": \"0:02:15\", \"iteration\": \"6\", \"goal\": \"accuracy_max\", \"run_name\": \"SparseNormalizer, XGBoostClassifier\", \"run_properties\": \"<azureml.automl.runtime.shared.model_wrappers.SparseNormalizer object at 0x7f5eecd4bf28\", \"primary_metric\": 0.78958333, \"best_metric\": 0.78958333}, {\"run_id\": \"AutoML_88212ace-464b-4cbd-8e59-04f3e08e6a74_7\", \"run_number\": 12, \"metric\": null, \"status\": \"Completed\", \"run_type\": \"azureml.scriptrun\", \"training_percent\": \"100\", \"start_time\": \"2021-03-27T20:12:08.117147Z\", \"end_time\": \"2021-03-27T20:12:56.701476Z\", \"created_time\": \"2021-03-27T20:11:56.303112Z\", \"created_time_dt\": \"2021-03-27T20:11:56.303112Z\", \"duration\": \"0:01:00\", \"iteration\": \"7\", \"goal\": \"accuracy_max\", \"run_name\": \"SparseNormalizer, XGBoostClassifier\", \"run_properties\": \"<azureml.automl.runtime.shared.model_wrappers.SparseNormalizer object at 0x7fd5d503bef0\", \"primary_metric\": 0.78166667, \"best_metric\": 0.78958333}, {\"run_id\": \"AutoML_88212ace-464b-4cbd-8e59-04f3e08e6a74_8\", \"run_number\": 13, \"metric\": null, \"status\": \"Completed\", \"run_type\": \"azureml.scriptrun\", \"training_percent\": \"100\", \"start_time\": \"2021-03-27T20:13:05.394602Z\", \"end_time\": \"2021-03-27T20:13:59.849401Z\", \"created_time\": \"2021-03-27T20:12:54.085013Z\", \"created_time_dt\": \"2021-03-27T20:12:54.085013Z\", \"duration\": \"0:01:05\", \"iteration\": \"8\", \"goal\": \"accuracy_max\", \"run_name\": \"SparseNormalizer, XGBoostClassifier\", \"run_properties\": \"<azureml.automl.runtime.shared.model_wrappers.SparseNormalizer object at 0x7fd138aac5c0\", \"primary_metric\": 0.74416667, \"best_metric\": 0.78958333}, {\"run_id\": \"AutoML_88212ace-464b-4cbd-8e59-04f3e08e6a74_9\", \"run_number\": 14, \"metric\": null, \"status\": \"Completed\", \"run_type\": \"azureml.scriptrun\", \"training_percent\": \"100\", \"start_time\": \"2021-03-27T20:13:11.474594Z\", \"end_time\": \"2021-03-27T20:13:56.892407Z\", \"created_time\": \"2021-03-27T20:12:59.806484Z\", \"created_time_dt\": \"2021-03-27T20:12:59.806484Z\", \"duration\": \"0:00:57\", \"iteration\": \"9\", \"goal\": \"accuracy_max\", \"run_name\": \"MaxAbsScaler, GradientBoosting\", \"run_properties\": \"copy=True\", \"primary_metric\": 0.70541667, \"best_metric\": 0.78958333}, {\"run_id\": \"AutoML_88212ace-464b-4cbd-8e59-04f3e08e6a74_10\", \"run_number\": 15, \"metric\": null, \"status\": \"Completed\", \"run_type\": \"azureml.scriptrun\", \"training_percent\": \"100\", \"start_time\": \"2021-03-27T20:13:13.973409Z\", \"end_time\": \"2021-03-27T20:13:56.155575Z\", \"created_time\": \"2021-03-27T20:13:00.020861Z\", \"created_time_dt\": \"2021-03-27T20:13:00.020861Z\", \"duration\": \"0:00:56\", \"iteration\": \"10\", \"goal\": \"accuracy_max\", \"run_name\": \"StandardScalerWrapper, RandomForest\", \"run_properties\": \"<azureml.automl.runtime.shared.model_wrappers.StandardScalerWrapper object at 0x7f397fca19e8\", \"primary_metric\": 0.69916667, \"best_metric\": 0.78958333}, {\"run_id\": \"AutoML_88212ace-464b-4cbd-8e59-04f3e08e6a74_11\", \"run_number\": 16, \"metric\": null, \"status\": \"Completed\", \"run_type\": \"azureml.scriptrun\", \"training_percent\": \"100\", \"start_time\": \"2021-03-27T20:13:20.898282Z\", \"end_time\": \"2021-03-27T20:13:59.566409Z\", \"created_time\": \"2021-03-27T20:13:06.910841Z\", \"created_time_dt\": \"2021-03-27T20:13:06.910841Z\", \"duration\": \"0:00:52\", \"iteration\": \"11\", \"goal\": \"accuracy_max\", \"run_name\": \"MaxAbsScaler, RandomForest\", \"run_properties\": \"copy=True\", \"primary_metric\": 0.69541667, \"best_metric\": 0.78958333}, {\"run_id\": \"AutoML_88212ace-464b-4cbd-8e59-04f3e08e6a74_12\", \"run_number\": 17, \"metric\": null, \"status\": \"Completed\", \"run_type\": \"azureml.scriptrun\", \"training_percent\": \"100\", \"start_time\": \"2021-03-27T20:14:13.568761Z\", \"end_time\": \"2021-03-27T20:14:56.920729Z\", \"created_time\": \"2021-03-27T20:13:58.172906Z\", \"created_time_dt\": \"2021-03-27T20:13:58.172906Z\", \"duration\": \"0:00:58\", \"iteration\": \"12\", \"goal\": \"accuracy_max\", \"run_name\": \"MaxAbsScaler, LogisticRegression\", \"run_properties\": \"copy=True\", \"primary_metric\": 0.62166667, \"best_metric\": 0.78958333}, {\"run_id\": \"AutoML_88212ace-464b-4cbd-8e59-04f3e08e6a74_15\", \"run_number\": 18, \"metric\": null, \"status\": \"Completed\", \"run_type\": \"azureml.scriptrun\", \"training_percent\": \"100\", \"start_time\": \"2021-03-27T20:14:14.395859Z\", \"end_time\": \"2021-03-27T20:15:02.112824Z\", \"created_time\": \"2021-03-27T20:14:05.40949Z\", \"created_time_dt\": \"2021-03-27T20:14:05.40949Z\", \"duration\": \"0:00:56\", \"iteration\": \"15\", \"goal\": \"accuracy_max\", \"run_name\": \"SparseNormalizer, XGBoostClassifier\", \"run_properties\": \"<azureml.automl.runtime.shared.model_wrappers.SparseNormalizer object at 0x7f1d0740b7f0\", \"primary_metric\": 0.72333333, \"best_metric\": 0.78958333}, {\"run_id\": \"AutoML_88212ace-464b-4cbd-8e59-04f3e08e6a74_13\", \"run_number\": 19, \"metric\": null, \"status\": \"Completed\", \"run_type\": \"azureml.scriptrun\", \"training_percent\": \"100\", \"start_time\": \"2021-03-27T20:14:17.702538Z\", \"end_time\": \"2021-03-27T20:15:09.527385Z\", \"created_time\": \"2021-03-27T20:14:05.548651Z\", \"created_time_dt\": \"2021-03-27T20:14:05.548651Z\", \"duration\": \"0:01:03\", \"iteration\": \"13\", \"goal\": \"accuracy_max\", \"run_name\": \"MaxAbsScaler, ExtremeRandomTrees\", \"run_properties\": \"copy=True\", \"primary_metric\": 0.68, \"best_metric\": 0.78958333}, {\"run_id\": \"AutoML_88212ace-464b-4cbd-8e59-04f3e08e6a74_14\", \"run_number\": 20, \"metric\": null, \"status\": \"Completed\", \"run_type\": \"azureml.scriptrun\", \"training_percent\": \"100\", \"start_time\": \"2021-03-27T20:14:17.352834Z\", \"end_time\": \"2021-03-27T20:14:55.013175Z\", \"created_time\": \"2021-03-27T20:14:05.552259Z\", \"created_time_dt\": \"2021-03-27T20:14:05.552259Z\", \"duration\": \"0:00:49\", \"iteration\": \"14\", \"goal\": \"accuracy_max\", \"run_name\": \"MaxAbsScaler, LightGBM\", \"run_properties\": \"copy=True\", \"primary_metric\": 0.68583333, \"best_metric\": 0.78958333}, {\"run_id\": \"AutoML_88212ace-464b-4cbd-8e59-04f3e08e6a74_16\", \"run_number\": 21, \"metric\": null, \"status\": \"Completed\", \"run_type\": \"azureml.scriptrun\", \"training_percent\": \"100\", \"start_time\": \"2021-03-27T20:15:09.709334Z\", \"end_time\": \"2021-03-27T20:15:59.062473Z\", \"created_time\": \"2021-03-27T20:14:58.429786Z\", \"created_time_dt\": \"2021-03-27T20:14:58.429786Z\", \"duration\": \"0:01:00\", \"iteration\": \"16\", \"goal\": \"accuracy_max\", \"run_name\": \"MaxAbsScaler, LogisticRegression\", \"run_properties\": \"copy=True\", \"primary_metric\": 0.63416667, \"best_metric\": 0.78958333}, {\"run_id\": \"AutoML_88212ace-464b-4cbd-8e59-04f3e08e6a74_18\", \"run_number\": 22, \"metric\": null, \"status\": \"Completed\", \"run_type\": \"azureml.scriptrun\", \"training_percent\": \"100\", \"start_time\": \"2021-03-27T20:15:18.081144Z\", \"end_time\": \"2021-03-27T20:15:56.997724Z\", \"created_time\": \"2021-03-27T20:15:06.088535Z\", \"created_time_dt\": \"2021-03-27T20:15:06.088535Z\", \"duration\": \"0:00:50\", \"iteration\": \"18\", \"goal\": \"accuracy_max\", \"run_name\": \"MaxAbsScaler, LightGBM\", \"run_properties\": \"copy=True\", \"primary_metric\": 0.665, \"best_metric\": 0.78958333}, {\"run_id\": \"AutoML_88212ace-464b-4cbd-8e59-04f3e08e6a74_17\", \"run_number\": 23, \"metric\": null, \"status\": \"Completed\", \"run_type\": \"azureml.scriptrun\", \"training_percent\": \"100\", \"start_time\": \"2021-03-27T20:15:15.589473Z\", \"end_time\": \"2021-03-27T20:16:19.628683Z\", \"created_time\": \"2021-03-27T20:15:06.093845Z\", \"created_time_dt\": \"2021-03-27T20:15:06.093845Z\", \"duration\": \"0:01:13\", \"iteration\": \"17\", \"goal\": \"accuracy_max\", \"run_name\": \"SparseNormalizer, XGBoostClassifier\", \"run_properties\": \"<azureml.automl.runtime.shared.model_wrappers.SparseNormalizer object at 0x7f9b056a0cf8\", \"primary_metric\": 0.7775, \"best_metric\": 0.78958333}, {\"run_id\": \"AutoML_88212ace-464b-4cbd-8e59-04f3e08e6a74_19\", \"run_number\": 24, \"metric\": null, \"status\": \"Completed\", \"run_type\": \"azureml.scriptrun\", \"training_percent\": \"100\", \"start_time\": \"2021-03-27T20:15:21.61089Z\", \"end_time\": \"2021-03-27T20:16:08.798847Z\", \"created_time\": \"2021-03-27T20:15:11.333271Z\", \"created_time_dt\": \"2021-03-27T20:15:11.333271Z\", \"duration\": \"0:00:57\", \"iteration\": \"19\", \"goal\": \"accuracy_max\", \"run_name\": \"SparseNormalizer, LightGBM\", \"run_properties\": \"<azureml.automl.runtime.shared.model_wrappers.SparseNormalizer object at 0x7fa4060420f0\", \"primary_metric\": 0.69458333, \"best_metric\": 0.78958333}, {\"run_id\": \"AutoML_88212ace-464b-4cbd-8e59-04f3e08e6a74_20\", \"run_number\": 25, \"metric\": null, \"status\": \"Completed\", \"run_type\": \"azureml.scriptrun\", \"training_percent\": \"100\", \"start_time\": \"2021-03-27T20:16:11.621095Z\", \"end_time\": \"2021-03-27T20:16:50.568299Z\", \"created_time\": \"2021-03-27T20:15:59.794547Z\", \"created_time_dt\": \"2021-03-27T20:15:59.794547Z\", \"duration\": \"0:00:50\", \"iteration\": \"20\", \"goal\": \"accuracy_max\", \"run_name\": \"SparseNormalizer, RandomForest\", \"run_properties\": \"<azureml.automl.runtime.shared.model_wrappers.SparseNormalizer object at 0x7fce55d90358\", \"primary_metric\": 0.64583333, \"best_metric\": 0.78958333}, {\"run_id\": \"AutoML_88212ace-464b-4cbd-8e59-04f3e08e6a74_21\", \"run_number\": 26, \"metric\": null, \"status\": \"Completed\", \"run_type\": \"azureml.scriptrun\", \"training_percent\": \"100\", \"start_time\": \"2021-03-27T20:16:15.863354Z\", \"end_time\": \"2021-03-27T20:16:58.522574Z\", \"created_time\": \"2021-03-27T20:16:03.669678Z\", \"created_time_dt\": \"2021-03-27T20:16:03.669678Z\", \"duration\": \"0:00:54\", \"iteration\": \"21\", \"goal\": \"accuracy_max\", \"run_name\": \"MaxAbsScaler, LightGBM\", \"run_properties\": \"copy=True\", \"primary_metric\": 0.68041667, \"best_metric\": 0.78958333}, {\"run_id\": \"AutoML_88212ace-464b-4cbd-8e59-04f3e08e6a74_22\", \"run_number\": 27, \"metric\": null, \"status\": \"Completed\", \"run_type\": \"azureml.scriptrun\", \"training_percent\": \"100\", \"start_time\": \"2021-03-27T20:16:22.359341Z\", \"end_time\": \"2021-03-27T20:17:03.821477Z\", \"created_time\": \"2021-03-27T20:16:11.759159Z\", \"created_time_dt\": \"2021-03-27T20:16:11.759159Z\", \"duration\": \"0:00:52\", \"iteration\": \"22\", \"goal\": \"accuracy_max\", \"run_name\": \"MaxAbsScaler, LightGBM\", \"run_properties\": \"copy=True\", \"primary_metric\": 0.6725, \"best_metric\": 0.78958333}, {\"run_id\": \"AutoML_88212ace-464b-4cbd-8e59-04f3e08e6a74_23\", \"run_number\": 28, \"metric\": null, \"status\": \"Completed\", \"run_type\": \"azureml.scriptrun\", \"training_percent\": \"100\", \"start_time\": \"2021-03-27T20:16:36.856604Z\", \"end_time\": \"2021-03-27T20:17:21.009761Z\", \"created_time\": \"2021-03-27T20:16:21.787655Z\", \"created_time_dt\": \"2021-03-27T20:16:21.787655Z\", \"duration\": \"0:00:59\", \"iteration\": \"23\", \"goal\": \"accuracy_max\", \"run_name\": \"MaxAbsScaler, ExtremeRandomTrees\", \"run_properties\": \"copy=True\", \"primary_metric\": 0.67708333, \"best_metric\": 0.78958333}, {\"run_id\": \"AutoML_88212ace-464b-4cbd-8e59-04f3e08e6a74_24\", \"run_number\": 29, \"metric\": null, \"status\": \"Completed\", \"run_type\": \"azureml.scriptrun\", \"training_percent\": \"100\", \"start_time\": \"2021-03-27T20:17:05.695028Z\", \"end_time\": \"2021-03-27T20:17:51.935151Z\", \"created_time\": \"2021-03-27T20:16:53.059102Z\", \"created_time_dt\": \"2021-03-27T20:16:53.059102Z\", \"duration\": \"0:00:58\", \"iteration\": \"24\", \"goal\": \"accuracy_max\", \"run_name\": \"SparseNormalizer, LightGBM\", \"run_properties\": \"<azureml.automl.runtime.shared.model_wrappers.SparseNormalizer object at 0x7f4a7e307898\", \"primary_metric\": 0.74958333, \"best_metric\": 0.78958333}, {\"run_id\": \"AutoML_88212ace-464b-4cbd-8e59-04f3e08e6a74_25\", \"run_number\": 30, \"metric\": null, \"status\": \"Completed\", \"run_type\": \"azureml.scriptrun\", \"training_percent\": \"100\", \"start_time\": \"2021-03-27T20:17:16.010216Z\", \"end_time\": \"2021-03-27T20:18:01.616085Z\", \"created_time\": \"2021-03-27T20:17:01.685167Z\", \"created_time_dt\": \"2021-03-27T20:17:01.685167Z\", \"duration\": \"0:00:59\", \"iteration\": \"25\", \"goal\": \"accuracy_max\", \"run_name\": \"StandardScalerWrapper, XGBoostClassifier\", \"run_properties\": \"<azureml.automl.runtime.shared.model_wrappers.StandardScalerWrapper object at 0x7f2e78b7b9b0\", \"primary_metric\": 0.32166667, \"best_metric\": 0.78958333}, {\"run_id\": \"AutoML_88212ace-464b-4cbd-8e59-04f3e08e6a74_26\", \"run_number\": 31, \"metric\": null, \"status\": \"Completed\", \"run_type\": \"azureml.scriptrun\", \"training_percent\": \"100\", \"start_time\": \"2021-03-27T20:17:19.294341Z\", \"end_time\": \"2021-03-27T20:18:04.87359Z\", \"created_time\": \"2021-03-27T20:17:06.354422Z\", \"created_time_dt\": \"2021-03-27T20:17:06.354422Z\", \"duration\": \"0:00:58\", \"iteration\": \"26\", \"goal\": \"accuracy_max\", \"run_name\": \"MaxAbsScaler, LightGBM\", \"run_properties\": \"copy=True\", \"primary_metric\": 0.74791667, \"best_metric\": 0.78958333}, {\"run_id\": \"AutoML_88212ace-464b-4cbd-8e59-04f3e08e6a74_27\", \"run_number\": 32, \"metric\": null, \"status\": \"Completed\", \"run_type\": \"azureml.scriptrun\", \"training_percent\": \"100\", \"start_time\": \"2021-03-27T20:17:36.03704Z\", \"end_time\": \"2021-03-27T20:18:23.985077Z\", \"created_time\": \"2021-03-27T20:17:23.272644Z\", \"created_time_dt\": \"2021-03-27T20:17:23.272644Z\", \"duration\": \"0:01:00\", \"iteration\": \"27\", \"goal\": \"accuracy_max\", \"run_name\": \"StandardScalerWrapper, LightGBM\", \"run_properties\": \"<azureml.automl.runtime.shared.model_wrappers.StandardScalerWrapper object at 0x7ffb896e4b00\", \"primary_metric\": 0.75583333, \"best_metric\": 0.78958333}, {\"run_id\": \"AutoML_88212ace-464b-4cbd-8e59-04f3e08e6a74_28\", \"run_number\": 33, \"metric\": null, \"status\": \"Completed\", \"run_type\": \"azureml.scriptrun\", \"training_percent\": \"100\", \"start_time\": \"2021-03-27T20:18:07.513435Z\", \"end_time\": \"2021-03-27T20:18:55.859595Z\", \"created_time\": \"2021-03-27T20:17:55.468478Z\", \"created_time_dt\": \"2021-03-27T20:17:55.468478Z\", \"duration\": \"0:01:00\", \"iteration\": \"28\", \"goal\": \"accuracy_max\", \"run_name\": \"StandardScalerWrapper, ExtremeRandomTrees\", \"run_properties\": \"<azureml.automl.runtime.shared.model_wrappers.StandardScalerWrapper object at 0x7f1e66f13780\", \"primary_metric\": 0.64916667, \"best_metric\": 0.78958333}, {\"run_id\": \"AutoML_88212ace-464b-4cbd-8e59-04f3e08e6a74_29\", \"run_number\": 34, \"metric\": null, \"status\": \"Completed\", \"run_type\": \"azureml.scriptrun\", \"training_percent\": \"100\", \"start_time\": \"2021-03-27T20:18:17.637342Z\", \"end_time\": \"2021-03-27T20:19:05.474694Z\", \"created_time\": \"2021-03-27T20:18:04.562531Z\", \"created_time_dt\": \"2021-03-27T20:18:04.562531Z\", \"duration\": \"0:01:00\", \"iteration\": \"29\", \"goal\": \"accuracy_max\", \"run_name\": \"StandardScalerWrapper, XGBoostClassifier\", \"run_properties\": \"<azureml.automl.runtime.shared.model_wrappers.StandardScalerWrapper object at 0x7fa53322dcc0\", \"primary_metric\": 0.7575, \"best_metric\": 0.78958333}, {\"run_id\": \"AutoML_88212ace-464b-4cbd-8e59-04f3e08e6a74_30\", \"run_number\": 35, \"metric\": null, \"status\": \"Completed\", \"run_type\": \"azureml.scriptrun\", \"training_percent\": \"100\", \"start_time\": \"2021-03-27T20:18:22.235764Z\", \"end_time\": \"2021-03-27T20:19:13.120488Z\", \"created_time\": \"2021-03-27T20:18:10.444458Z\", \"created_time_dt\": \"2021-03-27T20:18:10.444458Z\", \"duration\": \"0:01:02\", \"iteration\": \"30\", \"goal\": \"accuracy_max\", \"run_name\": \"SparseNormalizer, XGBoostClassifier\", \"run_properties\": \"<azureml.automl.runtime.shared.model_wrappers.SparseNormalizer object at 0x7f53b6a00a58\", \"primary_metric\": 0.77208333, \"best_metric\": 0.78958333}, {\"run_id\": \"AutoML_88212ace-464b-4cbd-8e59-04f3e08e6a74_31\", \"run_number\": 36, \"metric\": null, \"status\": \"Completed\", \"run_type\": \"azureml.scriptrun\", \"training_percent\": \"100\", \"start_time\": \"2021-03-27T20:18:36.413411Z\", \"end_time\": \"2021-03-27T20:19:18.840828Z\", \"created_time\": \"2021-03-27T20:18:26.380279Z\", \"created_time_dt\": \"2021-03-27T20:18:26.380279Z\", \"duration\": \"0:00:52\", \"iteration\": \"31\", \"goal\": \"accuracy_max\", \"run_name\": \"StandardScalerWrapper, XGBoostClassifier\", \"run_properties\": \"<azureml.automl.runtime.shared.model_wrappers.StandardScalerWrapper object at 0x7fb896b75470\", \"primary_metric\": 0.60416667, \"best_metric\": 0.78958333}, {\"run_id\": \"AutoML_88212ace-464b-4cbd-8e59-04f3e08e6a74_32\", \"run_number\": 37, \"metric\": null, \"status\": \"Completed\", \"run_type\": \"azureml.scriptrun\", \"training_percent\": \"100\", \"start_time\": \"2021-03-27T20:19:11.399445Z\", \"end_time\": \"2021-03-27T20:20:00.173539Z\", \"created_time\": \"2021-03-27T20:18:58.170583Z\", \"created_time_dt\": \"2021-03-27T20:18:58.170583Z\", \"duration\": \"0:01:02\", \"iteration\": \"32\", \"goal\": \"accuracy_max\", \"run_name\": \"SparseNormalizer, XGBoostClassifier\", \"run_properties\": \"<azureml.automl.runtime.shared.model_wrappers.SparseNormalizer object at 0x7f819e0d1898\", \"primary_metric\": 0.77875, \"best_metric\": 0.78958333}, {\"run_id\": \"AutoML_88212ace-464b-4cbd-8e59-04f3e08e6a74_33\", \"run_number\": 38, \"metric\": null, \"status\": \"Canceled\", \"run_type\": \"azureml.scriptrun\", \"training_percent\": \"100\", \"start_time\": \"2021-03-27T20:19:22.28706Z\", \"end_time\": \"2021-03-27T20:20:08.297883Z\", \"created_time\": \"2021-03-27T20:19:07.729455Z\", \"created_time_dt\": \"2021-03-27T20:19:07.729455Z\", \"duration\": \"0:01:00\", \"iteration\": \"33\", \"goal\": null, \"run_name\": \"SparseNormalizer, XGBoostClassifier\", \"run_properties\": null}, {\"run_id\": \"AutoML_88212ace-464b-4cbd-8e59-04f3e08e6a74_34\", \"run_number\": 39, \"metric\": null, \"status\": \"Canceled\", \"run_type\": \"azureml.scriptrun\", \"training_percent\": \"100\", \"start_time\": \"2021-03-27T20:19:30.140111Z\", \"end_time\": \"2021-03-27T20:20:08.199827Z\", \"created_time\": \"2021-03-27T20:19:15.553686Z\", \"created_time_dt\": \"2021-03-27T20:19:15.553686Z\", \"duration\": \"0:00:52\", \"iteration\": \"34\", \"goal\": \"accuracy_max\", \"run_name\": \"MaxAbsScaler, LightGBM\", \"run_properties\": \"copy=True\", \"primary_metric\": 0.72125, \"best_metric\": 0.78958333}, {\"run_id\": \"AutoML_88212ace-464b-4cbd-8e59-04f3e08e6a74_35\", \"run_number\": 40, \"metric\": null, \"status\": \"Canceled\", \"run_type\": \"azureml.scriptrun\", \"training_percent\": \"100\", \"start_time\": \"2021-03-27T20:19:34.262179Z\", \"end_time\": \"2021-03-27T20:20:08.52361Z\", \"created_time\": \"2021-03-27T20:19:22.118215Z\", \"created_time_dt\": \"2021-03-27T20:19:22.118215Z\", \"duration\": \"0:00:46\", \"iteration\": \"35\", \"goal\": \"accuracy_max\", \"run_name\": \"StandardScalerWrapper, XGBoostClassifier\", \"run_properties\": \"<azureml.automl.runtime.shared.model_wrappers.StandardScalerWrapper object at 0x7f909a52a3c8\", \"primary_metric\": 0.74458333, \"best_metric\": 0.78958333}, {\"run_id\": \"AutoML_88212ace-464b-4cbd-8e59-04f3e08e6a74_37\", \"run_number\": 41, \"metric\": null, \"status\": \"Completed\", \"run_type\": \"azureml.scriptrun\", \"training_percent\": \"100\", \"start_time\": \"2021-03-27T20:20:21.615975Z\", \"end_time\": \"2021-03-27T20:21:46.931507Z\", \"created_time\": \"2021-03-27T20:20:11.383772Z\", \"created_time_dt\": \"2021-03-27T20:20:11.383772Z\", \"duration\": \"0:01:35\", \"iteration\": \"37\", \"goal\": \"accuracy_max\", \"run_name\": \"StackEnsemble\", \"run_properties\": \"base_learners=[('6',\\n                                        Pipeline(memory=None,\\n                                                 steps=[('sparsenormalizer',\\n                                                         <azureml.automl.runtime.shared.model_wrappers.SparseNormalizer object at 0x7f93983bbf60>\", \"primary_metric\": 0.77625, \"best_metric\": 0.79291667}, {\"run_id\": \"AutoML_88212ace-464b-4cbd-8e59-04f3e08e6a74_36\", \"run_number\": 42, \"metric\": null, \"status\": \"Completed\", \"run_type\": \"azureml.scriptrun\", \"training_percent\": \"100\", \"start_time\": \"2021-03-27T20:20:22.75827Z\", \"end_time\": \"2021-03-27T20:21:23.150235Z\", \"created_time\": \"2021-03-27T20:20:11.614036Z\", \"created_time_dt\": \"2021-03-27T20:20:11.614036Z\", \"duration\": \"0:01:11\", \"iteration\": \"36\", \"goal\": \"accuracy_max\", \"run_name\": \"VotingEnsemble\", \"run_properties\": \"classification_labels=None,\\n                              estimators=[('6',\\n                                           Pipeline(memory=None,\\n                                                    steps=[('sparsenormalizer',\\n                                                            <azureml.automl.runtime.shared.model_wrappers.SparseNormalizer object at 0x7fa969593320>\", \"primary_metric\": 0.79291667, \"best_metric\": 0.79291667}], \"children_metrics\": {\"categories\": [0], \"series\": {\"AUC_macro\": [{\"categories\": [\"0\", \"1\", \"2\", \"3\", \"4\", \"5\", \"6\", \"7\", \"8\", \"9\", \"10\", \"11\", \"12\", \"13\", \"14\", \"15\", \"16\", \"17\", \"18\", \"19\", \"20\", \"21\", \"22\", \"23\", \"24\", \"25\", \"26\", \"27\", \"28\", \"29\", \"30\", \"31\", \"32\", \"34\", \"35\", \"36\", \"37\"], \"mode\": \"markers\", \"name\": \"AUC_macro\", \"stepped\": false, \"type\": \"scatter\", \"data\": [0.9489223688319388, 0.9428702196616557, 0.8518355852403685, 0.8337361310817893, 0.8543574483211318, 0.7935241705944988, 0.9541501306651817, 0.9519936527000106, 0.934598765204538, 0.916691092680964, 0.8950248433080858, 0.9048806230146738, 0.8557533682353048, 0.905320809068631, 0.9040584798317293, 0.9272740846726982, 0.861302440872765, 0.9539835532205163, 0.9044164557093642, 0.9203269288395157, 0.8836065987656742, 0.9101835997697012, 0.896102631563551, 0.9095807445045201, 0.9393787782369858, 0.5, 0.9424889163641982, 0.9463296011671251, 0.8654992899383622, 0.9425095519850435, 0.9513105938371609, 0.8770210050827394, 0.9545788169660459, 0.9319043048607742, 0.9398091972189924, 0.9543758091108364, 0.9551444237399249]}, {\"categories\": [\"0\", \"1\", \"2\", \"3\", \"4\", \"5\", \"6\", \"7\", \"8\", \"9\", \"10\", \"11\", \"12\", \"13\", \"14\", \"15\", \"16\", \"17\", \"18\", \"19\", \"20\", \"21\", \"22\", \"23\", \"24\", \"25\", \"26\", \"27\", \"28\", \"29\", \"30\", \"31\", \"32\", \"34\", \"35\", \"36\", \"37\"], \"mode\": \"lines\", \"name\": \"AUC_macro_max\", \"stepped\": true, \"type\": \"scatter\", \"data\": [0.9489223688319388, 0.9489223688319388, 0.9489223688319388, 0.9489223688319388, 0.9489223688319388, 0.9489223688319388, 0.9541501306651817, 0.9541501306651817, 0.9541501306651817, 0.9541501306651817, 0.9541501306651817, 0.9541501306651817, 0.9541501306651817, 0.9541501306651817, 0.9541501306651817, 0.9541501306651817, 0.9541501306651817, 0.9541501306651817, 0.9541501306651817, 0.9541501306651817, 0.9541501306651817, 0.9541501306651817, 0.9541501306651817, 0.9541501306651817, 0.9541501306651817, 0.9541501306651817, 0.9541501306651817, 0.9541501306651817, 0.9541501306651817, 0.9541501306651817, 0.9541501306651817, 0.9541501306651817, 0.9545788169660459, 0.9545788169660459, 0.9545788169660459, 0.9545788169660459, 0.9551444237399249]}], \"average_precision_score_weighted\": [{\"categories\": [\"0\", \"1\", \"2\", \"3\", \"4\", \"5\", \"6\", \"7\", \"8\", \"9\", \"10\", \"11\", \"12\", \"13\", \"14\", \"15\", \"16\", \"17\", \"18\", \"19\", \"20\", \"21\", \"22\", \"23\", \"24\", \"25\", \"26\", \"27\", \"28\", \"29\", \"30\", \"31\", \"32\", \"34\", \"35\", \"36\", \"37\"], \"mode\": \"markers\", \"name\": \"average_precision_score_weighted\", \"stepped\": false, \"type\": \"scatter\", \"data\": [0.8730033583225174, 0.8531715787284838, 0.6101710736799394, 0.5680495341639599, 0.607112457485551, 0.4991531334974876, 0.8858884980705055, 0.8846754854471968, 0.8222657580228431, 0.7627923284154987, 0.6970739884242991, 0.7206270425411445, 0.6316315312192285, 0.7376311070402155, 0.7216100615846759, 0.803198909918415, 0.6480522334910997, 0.8850429426862683, 0.7324387764647255, 0.7941946567622988, 0.6888739732916604, 0.7608175126341165, 0.7068445373560114, 0.7448520393526171, 0.8428509215791831, 0.2771666666666667, 0.8527548989776254, 0.8636122005729383, 0.6163149536047968, 0.8454264352145129, 0.8765112930558164, 0.6469389758380307, 0.8864460924546069, 0.8165899834528798, 0.8452839557244098, 0.8843468297946113, 0.8905680445172605]}, {\"categories\": [\"0\", \"1\", \"2\", \"3\", \"4\", \"5\", \"6\", \"7\", \"8\", \"9\", \"10\", \"11\", \"12\", \"13\", \"14\", \"15\", \"16\", \"17\", \"18\", \"19\", \"20\", \"21\", \"22\", \"23\", \"24\", \"25\", \"26\", \"27\", \"28\", \"29\", \"30\", \"31\", \"32\", \"34\", \"35\", \"36\", \"37\"], \"mode\": \"lines\", \"name\": \"average_precision_score_weighted_max\", \"stepped\": true, \"type\": \"scatter\", \"data\": [0.8730033583225174, 0.8730033583225174, 0.8730033583225174, 0.8730033583225174, 0.8730033583225174, 0.8730033583225174, 0.8858884980705055, 0.8858884980705055, 0.8858884980705055, 0.8858884980705055, 0.8858884980705055, 0.8858884980705055, 0.8858884980705055, 0.8858884980705055, 0.8858884980705055, 0.8858884980705055, 0.8858884980705055, 0.8858884980705055, 0.8858884980705055, 0.8858884980705055, 0.8858884980705055, 0.8858884980705055, 0.8858884980705055, 0.8858884980705055, 0.8858884980705055, 0.8858884980705055, 0.8858884980705055, 0.8858884980705055, 0.8858884980705055, 0.8858884980705055, 0.8858884980705055, 0.8858884980705055, 0.8864460924546069, 0.8864460924546069, 0.8864460924546069, 0.8864460924546069, 0.8905680445172605]}], \"matthews_correlation\": [{\"categories\": [\"0\", \"1\", \"2\", \"3\", \"4\", \"5\", \"6\", \"7\", \"8\", \"9\", \"10\", \"11\", \"12\", \"13\", \"14\", \"15\", \"16\", \"17\", \"18\", \"19\", \"20\", \"21\", \"22\", \"23\", \"24\", \"25\", \"26\", \"27\", \"28\", \"29\", \"30\", \"31\", \"32\", \"34\", \"35\", \"36\", \"37\"], \"mode\": \"markers\", \"name\": \"matthews_correlation\", \"stepped\": false, \"type\": \"scatter\", \"data\": [0.6760580499531155, 0.6515068880174035, 0.48336791662031714, 0.4151551947424725, 0.3996420746616511, 0.24747226647256154, 0.7093292463569805, 0.698576615111817, 0.6468364776608589, 0.5929038241264333, 0.584400155528906, 0.5777825600069111, 0.47883962372681677, 0.5595652615199079, 0.5663354681604219, 0.6183430341537633, 0.4947889672537521, 0.6923974826225754, 0.5373450114409462, 0.5938523081589988, 0.5118861669977008, 0.5576132970746175, 0.5487752939995761, 0.5548271248501004, 0.6547040658614697, 0.0, 0.6520573346819976, 0.662569031659349, 0.5186785178479182, 0.6643620812509528, 0.6859046371654809, 0.45994534294959594, 0.6941678926877987, 0.6146881897242021, 0.6471930759069953, 0.7141908948455377, 0.6918225595325043]}, {\"categories\": [\"0\", \"1\", \"2\", \"3\", \"4\", \"5\", \"6\", \"7\", \"8\", \"9\", \"10\", \"11\", \"12\", \"13\", \"14\", \"15\", \"16\", \"17\", \"18\", \"19\", \"20\", \"21\", \"22\", \"23\", \"24\", \"25\", \"26\", \"27\", \"28\", \"29\", \"30\", \"31\", \"32\", \"34\", \"35\", \"36\", \"37\"], \"mode\": \"lines\", \"name\": \"matthews_correlation_max\", \"stepped\": true, \"type\": \"scatter\", \"data\": [0.6760580499531155, 0.6760580499531155, 0.6760580499531155, 0.6760580499531155, 0.6760580499531155, 0.6760580499531155, 0.7093292463569805, 0.7093292463569805, 0.7093292463569805, 0.7093292463569805, 0.7093292463569805, 0.7093292463569805, 0.7093292463569805, 0.7093292463569805, 0.7093292463569805, 0.7093292463569805, 0.7093292463569805, 0.7093292463569805, 0.7093292463569805, 0.7093292463569805, 0.7093292463569805, 0.7093292463569805, 0.7093292463569805, 0.7093292463569805, 0.7093292463569805, 0.7093292463569805, 0.7093292463569805, 0.7093292463569805, 0.7093292463569805, 0.7093292463569805, 0.7093292463569805, 0.7093292463569805, 0.7093292463569805, 0.7093292463569805, 0.7093292463569805, 0.7141908948455377, 0.7141908948455377]}], \"average_precision_score_macro\": [{\"categories\": [\"0\", \"1\", \"2\", \"3\", \"4\", \"5\", \"6\", \"7\", \"8\", \"9\", \"10\", \"11\", \"12\", \"13\", \"14\", \"15\", \"16\", \"17\", \"18\", \"19\", \"20\", \"21\", \"22\", \"23\", \"24\", \"25\", \"26\", \"27\", \"28\", \"29\", \"30\", \"31\", \"32\", \"34\", \"35\", \"36\", \"37\"], \"mode\": \"markers\", \"name\": \"average_precision_score_macro\", \"stepped\": false, \"type\": \"scatter\", \"data\": [0.8952388079036693, 0.8769574253384981, 0.636906981354082, 0.589022657277507, 0.6465013213926947, 0.5020290607850498, 0.9076420241538088, 0.9058040047638165, 0.8418290479493882, 0.7839590358629172, 0.7231067420915528, 0.7196053215147773, 0.6620187614256918, 0.7639995714430392, 0.7448150517834009, 0.817195539390535, 0.6890686903272613, 0.9068148215669456, 0.7536179950331583, 0.8212466245434082, 0.7147535344742069, 0.7739131538198357, 0.7303807569081298, 0.7666740440365699, 0.8644074483109989, 0.25, 0.8759726702976248, 0.8867525716112594, 0.6563253663011814, 0.8654807803083511, 0.8990286291456986, 0.666736166977429, 0.9076211836486017, 0.8420257003273592, 0.8630404348459484, 0.9068491298235827, 0.9132814225341426]}, {\"categories\": [\"0\", \"1\", \"2\", \"3\", \"4\", \"5\", \"6\", \"7\", \"8\", \"9\", \"10\", \"11\", \"12\", \"13\", \"14\", \"15\", \"16\", \"17\", \"18\", \"19\", \"20\", \"21\", \"22\", \"23\", \"24\", \"25\", \"26\", \"27\", \"28\", \"29\", \"30\", \"31\", \"32\", \"34\", \"35\", \"36\", \"37\"], \"mode\": \"lines\", \"name\": \"average_precision_score_macro_max\", \"stepped\": true, \"type\": \"scatter\", \"data\": [0.8952388079036693, 0.8952388079036693, 0.8952388079036693, 0.8952388079036693, 0.8952388079036693, 0.8952388079036693, 0.9076420241538088, 0.9076420241538088, 0.9076420241538088, 0.9076420241538088, 0.9076420241538088, 0.9076420241538088, 0.9076420241538088, 0.9076420241538088, 0.9076420241538088, 0.9076420241538088, 0.9076420241538088, 0.9076420241538088, 0.9076420241538088, 0.9076420241538088, 0.9076420241538088, 0.9076420241538088, 0.9076420241538088, 0.9076420241538088, 0.9076420241538088, 0.9076420241538088, 0.9076420241538088, 0.9076420241538088, 0.9076420241538088, 0.9076420241538088, 0.9076420241538088, 0.9076420241538088, 0.9076420241538088, 0.9076420241538088, 0.9076420241538088, 0.9076420241538088, 0.9132814225341426]}], \"precision_score_weighted\": [{\"categories\": [\"0\", \"1\", \"2\", \"3\", \"4\", \"5\", \"6\", \"7\", \"8\", \"9\", \"10\", \"11\", \"12\", \"13\", \"14\", \"15\", \"16\", \"17\", \"18\", \"19\", \"20\", \"21\", \"22\", \"23\", \"24\", \"25\", \"26\", \"27\", \"28\", \"29\", \"30\", \"31\", \"32\", \"34\", \"35\", \"36\", \"37\"], \"mode\": \"markers\", \"name\": \"precision_score_weighted\", \"stepped\": false, \"type\": \"scatter\", \"data\": [0.7683489904593724, 0.7504668703617031, 0.6275948618839327, 0.5861344726824463, 0.5647409529344628, 0.394808739432, 0.7902515375168158, 0.783154765614879, 0.7467179817171543, 0.7068050268020818, 0.7006454316556769, 0.6955530743530309, 0.6144952962787975, 0.682333847456718, 0.6914559766197075, 0.7263702081981773, 0.6289474709896604, 0.778563181523858, 0.672989851839839, 0.7138975963938741, 0.6455882889954127, 0.68209427826646, 0.6840724717335471, 0.6803488401716347, 0.7526482967642916, 0.10352604166666668, 0.7514409158875512, 0.7578446237607156, 0.6536540556647437, 0.7599708656673778, 0.7733641183721927, 0.5943837220869108, 0.7793432186524678, 0.7228863795585181, 0.7488845140153325, 0.7947053869658504, 0.7790111074110067]}, {\"categories\": [\"0\", \"1\", \"2\", \"3\", \"4\", \"5\", \"6\", \"7\", \"8\", \"9\", \"10\", \"11\", \"12\", \"13\", \"14\", \"15\", \"16\", \"17\", \"18\", \"19\", \"20\", \"21\", \"22\", \"23\", \"24\", \"25\", \"26\", \"27\", \"28\", \"29\", \"30\", \"31\", \"32\", \"34\", \"35\", \"36\", \"37\"], \"mode\": \"lines\", \"name\": \"precision_score_weighted_max\", \"stepped\": true, \"type\": \"scatter\", \"data\": [0.7683489904593724, 0.7683489904593724, 0.7683489904593724, 0.7683489904593724, 0.7683489904593724, 0.7683489904593724, 0.7902515375168158, 0.7902515375168158, 0.7902515375168158, 0.7902515375168158, 0.7902515375168158, 0.7902515375168158, 0.7902515375168158, 0.7902515375168158, 0.7902515375168158, 0.7902515375168158, 0.7902515375168158, 0.7902515375168158, 0.7902515375168158, 0.7902515375168158, 0.7902515375168158, 0.7902515375168158, 0.7902515375168158, 0.7902515375168158, 0.7902515375168158, 0.7902515375168158, 0.7902515375168158, 0.7902515375168158, 0.7902515375168158, 0.7902515375168158, 0.7902515375168158, 0.7902515375168158, 0.7902515375168158, 0.7902515375168158, 0.7902515375168158, 0.7947053869658504, 0.7947053869658504]}], \"f1_score_weighted\": [{\"categories\": [\"0\", \"1\", \"2\", \"3\", \"4\", \"5\", \"6\", \"7\", \"8\", \"9\", \"10\", \"11\", \"12\", \"13\", \"14\", \"15\", \"16\", \"17\", \"18\", \"19\", \"20\", \"21\", \"22\", \"23\", \"24\", \"25\", \"26\", \"27\", \"28\", \"29\", \"30\", \"31\", \"32\", \"34\", \"35\", \"36\", \"37\"], \"mode\": \"markers\", \"name\": \"f1_score_weighted\", \"stepped\": false, \"type\": \"scatter\", \"data\": [0.7663865474787317, 0.7484643554292159, 0.6168025957183747, 0.5577035771168244, 0.5212096339279821, 0.3603202033567339, 0.7894858145998411, 0.7817389071733432, 0.7445440791565884, 0.7050724871213957, 0.6965263243084658, 0.6947819097739953, 0.6147841113126192, 0.6755352768276064, 0.6862757137378217, 0.7234938313238931, 0.6298612670521705, 0.7775192341922829, 0.6643449674188285, 0.6806768709864416, 0.6427410358346869, 0.6786711680817639, 0.6723395303155824, 0.6747688441638844, 0.7497338049735717, 0.15662311483613642, 0.7484311776582177, 0.7562622976548402, 0.6380180418613752, 0.7581636308936319, 0.7716152211788035, 0.5827825076105898, 0.7786585845650775, 0.7215193646021263, 0.7455697879539855, 0.793021332862989, 0.7761335233690897]}, {\"categories\": [\"0\", \"1\", \"2\", \"3\", \"4\", \"5\", \"6\", \"7\", \"8\", \"9\", \"10\", \"11\", \"12\", \"13\", \"14\", \"15\", \"16\", \"17\", \"18\", \"19\", \"20\", \"21\", \"22\", \"23\", \"24\", \"25\", \"26\", \"27\", \"28\", \"29\", \"30\", \"31\", \"32\", \"34\", \"35\", \"36\", \"37\"], \"mode\": \"lines\", \"name\": \"f1_score_weighted_max\", \"stepped\": true, \"type\": \"scatter\", \"data\": [0.7663865474787317, 0.7663865474787317, 0.7663865474787317, 0.7663865474787317, 0.7663865474787317, 0.7663865474787317, 0.7894858145998411, 0.7894858145998411, 0.7894858145998411, 0.7894858145998411, 0.7894858145998411, 0.7894858145998411, 0.7894858145998411, 0.7894858145998411, 0.7894858145998411, 0.7894858145998411, 0.7894858145998411, 0.7894858145998411, 0.7894858145998411, 0.7894858145998411, 0.7894858145998411, 0.7894858145998411, 0.7894858145998411, 0.7894858145998411, 0.7894858145998411, 0.7894858145998411, 0.7894858145998411, 0.7894858145998411, 0.7894858145998411, 0.7894858145998411, 0.7894858145998411, 0.7894858145998411, 0.7894858145998411, 0.7894858145998411, 0.7894858145998411, 0.793021332862989, 0.793021332862989]}], \"precision_score_micro\": [{\"categories\": [\"0\", \"1\", \"2\", \"3\", \"4\", \"5\", \"6\", \"7\", \"8\", \"9\", \"10\", \"11\", \"12\", \"13\", \"14\", \"15\", \"16\", \"17\", \"18\", \"19\", \"20\", \"21\", \"22\", \"23\", \"24\", \"25\", \"26\", \"27\", \"28\", \"29\", \"30\", \"31\", \"32\", \"34\", \"35\", \"36\", \"37\"], \"mode\": \"markers\", \"name\": \"precision_score_micro\", \"stepped\": false, \"type\": \"scatter\", \"data\": [0.7658333333333334, 0.7479166666666668, 0.6229166666666666, 0.5741666666666666, 0.5316666666666666, 0.40791666666666665, 0.7895833333333334, 0.7816666666666666, 0.7441666666666666, 0.7054166666666667, 0.6991666666666667, 0.6954166666666667, 0.6216666666666667, 0.6799999999999999, 0.6858333333333333, 0.7233333333333334, 0.6341666666666667, 0.7775000000000001, 0.665, 0.6945833333333333, 0.6458333333333334, 0.6804166666666667, 0.6725000000000001, 0.6770833333333334, 0.7495833333333334, 0.32166666666666666, 0.7479166666666668, 0.7558333333333332, 0.6491666666666667, 0.7575000000000001, 0.7720833333333335, 0.6041666666666667, 0.7787499999999999, 0.7212500000000001, 0.7445833333333333, 0.7929166666666667, 0.7762499999999999]}, {\"categories\": [\"0\", \"1\", \"2\", \"3\", \"4\", \"5\", \"6\", \"7\", \"8\", \"9\", \"10\", \"11\", \"12\", \"13\", \"14\", \"15\", \"16\", \"17\", \"18\", \"19\", \"20\", \"21\", \"22\", \"23\", \"24\", \"25\", \"26\", \"27\", \"28\", \"29\", \"30\", \"31\", \"32\", \"34\", \"35\", \"36\", \"37\"], \"mode\": \"lines\", \"name\": \"precision_score_micro_max\", \"stepped\": true, \"type\": \"scatter\", \"data\": [0.7658333333333334, 0.7658333333333334, 0.7658333333333334, 0.7658333333333334, 0.7658333333333334, 0.7658333333333334, 0.7895833333333334, 0.7895833333333334, 0.7895833333333334, 0.7895833333333334, 0.7895833333333334, 0.7895833333333334, 0.7895833333333334, 0.7895833333333334, 0.7895833333333334, 0.7895833333333334, 0.7895833333333334, 0.7895833333333334, 0.7895833333333334, 0.7895833333333334, 0.7895833333333334, 0.7895833333333334, 0.7895833333333334, 0.7895833333333334, 0.7895833333333334, 0.7895833333333334, 0.7895833333333334, 0.7895833333333334, 0.7895833333333334, 0.7895833333333334, 0.7895833333333334, 0.7895833333333334, 0.7895833333333334, 0.7895833333333334, 0.7895833333333334, 0.7929166666666667, 0.7929166666666667]}], \"f1_score_macro\": [{\"categories\": [\"0\", \"1\", \"2\", \"3\", \"4\", \"5\", \"6\", \"7\", \"8\", \"9\", \"10\", \"11\", \"12\", \"13\", \"14\", \"15\", \"16\", \"17\", \"18\", \"19\", \"20\", \"21\", \"22\", \"23\", \"24\", \"25\", \"26\", \"27\", \"28\", \"29\", \"30\", \"31\", \"32\", \"34\", \"35\", \"36\", \"37\"], \"mode\": \"markers\", \"name\": \"f1_score_macro\", \"stepped\": false, \"type\": \"scatter\", \"data\": [0.7979301916855629, 0.7818303163767594, 0.6308989360473121, 0.562975556148981, 0.5449834618953476, 0.377069758079859, 0.8225820492916192, 0.8154422040510731, 0.7738524153908121, 0.7203313453420097, 0.7106653490753292, 0.7049840867249331, 0.6360160324340522, 0.6925524452389358, 0.7025316415768739, 0.7497229983761022, 0.6591110301873433, 0.8109025903469224, 0.6825885073787938, 0.7131480627343564, 0.6653830176629285, 0.6956603398121025, 0.6878941447371416, 0.6900595969603154, 0.7792205300969156, 0.12167755462429922, 0.781787759903278, 0.7905058874984731, 0.6468644448200622, 0.7854713901519089, 0.8047752360780317, 0.5836474652957923, 0.8103821164144923, 0.7506336466267984, 0.7704326561584396, 0.824902667900627, 0.8121935895624788]}, {\"categories\": [\"0\", \"1\", \"2\", \"3\", \"4\", \"5\", \"6\", \"7\", \"8\", \"9\", \"10\", \"11\", \"12\", \"13\", \"14\", \"15\", \"16\", \"17\", \"18\", \"19\", \"20\", \"21\", \"22\", \"23\", \"24\", \"25\", \"26\", \"27\", \"28\", \"29\", \"30\", \"31\", \"32\", \"34\", \"35\", \"36\", \"37\"], \"mode\": \"lines\", \"name\": \"f1_score_macro_max\", \"stepped\": true, \"type\": \"scatter\", \"data\": [0.7979301916855629, 0.7979301916855629, 0.7979301916855629, 0.7979301916855629, 0.7979301916855629, 0.7979301916855629, 0.8225820492916192, 0.8225820492916192, 0.8225820492916192, 0.8225820492916192, 0.8225820492916192, 0.8225820492916192, 0.8225820492916192, 0.8225820492916192, 0.8225820492916192, 0.8225820492916192, 0.8225820492916192, 0.8225820492916192, 0.8225820492916192, 0.8225820492916192, 0.8225820492916192, 0.8225820492916192, 0.8225820492916192, 0.8225820492916192, 0.8225820492916192, 0.8225820492916192, 0.8225820492916192, 0.8225820492916192, 0.8225820492916192, 0.8225820492916192, 0.8225820492916192, 0.8225820492916192, 0.8225820492916192, 0.8225820492916192, 0.8225820492916192, 0.824902667900627, 0.824902667900627]}], \"precision_score_macro\": [{\"categories\": [\"0\", \"1\", \"2\", \"3\", \"4\", \"5\", \"6\", \"7\", \"8\", \"9\", \"10\", \"11\", \"12\", \"13\", \"14\", \"15\", \"16\", \"17\", \"18\", \"19\", \"20\", \"21\", \"22\", \"23\", \"24\", \"25\", \"26\", \"27\", \"28\", \"29\", \"30\", \"31\", \"32\", \"34\", \"35\", \"36\", \"37\"], \"mode\": \"markers\", \"name\": \"precision_score_macro\", \"stepped\": false, \"type\": \"scatter\", \"data\": [0.8013410534477279, 0.784605525146428, 0.6442127949934482, 0.602201511623568, 0.5523521198753425, 0.379539480773339, 0.8229127745576956, 0.8164964498676802, 0.7760960415584186, 0.7226838745725458, 0.7182313152629339, 0.7087614621562327, 0.634277382820142, 0.7014399383438057, 0.7088592642101904, 0.7528166447313385, 0.657957776576519, 0.8120777467890642, 0.6969616654672528, 0.7500777653247185, 0.6676094181649146, 0.7031084553524056, 0.703981177092453, 0.6975874600230354, 0.7809078517464045, 0.08041666666666666, 0.7847275840544599, 0.7917825660981879, 0.6714045052614059, 0.7889979444091585, 0.8048910838841907, 0.6012591746202285, 0.8110040875492286, 0.7523904165403782, 0.7746683469545617, 0.8263665289674046, 0.8146162774233983]}, {\"categories\": [\"0\", \"1\", \"2\", \"3\", \"4\", \"5\", \"6\", \"7\", \"8\", \"9\", \"10\", \"11\", \"12\", \"13\", \"14\", \"15\", \"16\", \"17\", \"18\", \"19\", \"20\", \"21\", \"22\", \"23\", \"24\", \"25\", \"26\", \"27\", \"28\", \"29\", \"30\", \"31\", \"32\", \"34\", \"35\", \"36\", \"37\"], \"mode\": \"lines\", \"name\": \"precision_score_macro_max\", \"stepped\": true, \"type\": \"scatter\", \"data\": [0.8013410534477279, 0.8013410534477279, 0.8013410534477279, 0.8013410534477279, 0.8013410534477279, 0.8013410534477279, 0.8229127745576956, 0.8229127745576956, 0.8229127745576956, 0.8229127745576956, 0.8229127745576956, 0.8229127745576956, 0.8229127745576956, 0.8229127745576956, 0.8229127745576956, 0.8229127745576956, 0.8229127745576956, 0.8229127745576956, 0.8229127745576956, 0.8229127745576956, 0.8229127745576956, 0.8229127745576956, 0.8229127745576956, 0.8229127745576956, 0.8229127745576956, 0.8229127745576956, 0.8229127745576956, 0.8229127745576956, 0.8229127745576956, 0.8229127745576956, 0.8229127745576956, 0.8229127745576956, 0.8229127745576956, 0.8229127745576956, 0.8229127745576956, 0.8263665289674046, 0.8263665289674046]}], \"recall_score_macro\": [{\"categories\": [\"0\", \"1\", \"2\", \"3\", \"4\", \"5\", \"6\", \"7\", \"8\", \"9\", \"10\", \"11\", \"12\", \"13\", \"14\", \"15\", \"16\", \"17\", \"18\", \"19\", \"20\", \"21\", \"22\", \"23\", \"24\", \"25\", \"26\", \"27\", \"28\", \"29\", \"30\", \"31\", \"32\", \"34\", \"35\", \"36\", \"37\"], \"mode\": \"markers\", \"name\": \"recall_score_macro\", \"stepped\": false, \"type\": \"scatter\", \"data\": [0.7961984198410816, 0.7805467179053679, 0.6405821832557479, 0.5842128709390352, 0.5982900326291454, 0.4559971024940365, 0.8229820094440001, 0.8154709374195394, 0.773100620181739, 0.7201812526046993, 0.7118251809803583, 0.7030310096511765, 0.6460300284269834, 0.6968063820966138, 0.7005253786059921, 0.748856813684081, 0.6642272054009574, 0.8107657252644689, 0.6777606332871786, 0.7182796138011829, 0.6696938696524979, 0.694766441755954, 0.6828987506934452, 0.6914677856539955, 0.780138936007586, 0.25, 0.7811638082232626, 0.7904655339609761, 0.6588669537311305, 0.7831617639061225, 0.8064630641078899, 0.6036973487330883, 0.8104645791770257, 0.7499801218117321, 0.7683208410979944, 0.8246742679094001, 0.8121927041762147]}, {\"categories\": [\"0\", \"1\", \"2\", \"3\", \"4\", \"5\", \"6\", \"7\", \"8\", \"9\", \"10\", \"11\", \"12\", \"13\", \"14\", \"15\", \"16\", \"17\", \"18\", \"19\", \"20\", \"21\", \"22\", \"23\", \"24\", \"25\", \"26\", \"27\", \"28\", \"29\", \"30\", \"31\", \"32\", \"34\", \"35\", \"36\", \"37\"], \"mode\": \"lines\", \"name\": \"recall_score_macro_max\", \"stepped\": true, \"type\": \"scatter\", \"data\": [0.7961984198410816, 0.7961984198410816, 0.7961984198410816, 0.7961984198410816, 0.7961984198410816, 0.7961984198410816, 0.8229820094440001, 0.8229820094440001, 0.8229820094440001, 0.8229820094440001, 0.8229820094440001, 0.8229820094440001, 0.8229820094440001, 0.8229820094440001, 0.8229820094440001, 0.8229820094440001, 0.8229820094440001, 0.8229820094440001, 0.8229820094440001, 0.8229820094440001, 0.8229820094440001, 0.8229820094440001, 0.8229820094440001, 0.8229820094440001, 0.8229820094440001, 0.8229820094440001, 0.8229820094440001, 0.8229820094440001, 0.8229820094440001, 0.8229820094440001, 0.8229820094440001, 0.8229820094440001, 0.8229820094440001, 0.8229820094440001, 0.8229820094440001, 0.8246742679094001, 0.8246742679094001]}], \"AUC_micro\": [{\"categories\": [\"0\", \"1\", \"2\", \"3\", \"4\", \"5\", \"6\", \"7\", \"8\", \"9\", \"10\", \"11\", \"12\", \"13\", \"14\", \"15\", \"16\", \"17\", \"18\", \"19\", \"20\", \"21\", \"22\", \"23\", \"24\", \"25\", \"26\", \"27\", \"28\", \"29\", \"30\", \"31\", \"32\", \"34\", \"35\", \"36\", \"37\"], \"mode\": \"markers\", \"name\": \"AUC_micro\", \"stepped\": false, \"type\": \"scatter\", \"data\": [0.9604317129629629, 0.9550081018518519, 0.8616753472222223, 0.8411047453703704, 0.8213376736111112, 0.7698755787037037, 0.9655208333333334, 0.964650173611111, 0.947078125, 0.9274534143518519, 0.9037045717592592, 0.9188398437499998, 0.8755792824074072, 0.9114832175925927, 0.9050717592592592, 0.9383987268518517, 0.883494502314815, 0.9652048611111113, 0.9092060185185185, 0.9186620370370371, 0.8978781828703702, 0.9191409143518519, 0.9068509837962964, 0.9193489583333333, 0.9516840277777778, 0.6034722222222222, 0.9547343750000001, 0.9579930555555556, 0.8709667245370369, 0.9518576388888889, 0.9625989583333334, 0.8863072916666667, 0.9654973958333333, 0.9440703124999998, 0.949489872685185, 0.9657358217592593, 0.9661982060185185]}, {\"categories\": [\"0\", \"1\", \"2\", \"3\", \"4\", \"5\", \"6\", \"7\", \"8\", \"9\", \"10\", \"11\", \"12\", \"13\", \"14\", \"15\", \"16\", \"17\", \"18\", \"19\", \"20\", \"21\", \"22\", \"23\", \"24\", \"25\", \"26\", \"27\", \"28\", \"29\", \"30\", \"31\", \"32\", \"34\", \"35\", \"36\", \"37\"], \"mode\": \"lines\", \"name\": \"AUC_micro_max\", \"stepped\": true, \"type\": \"scatter\", \"data\": [0.9604317129629629, 0.9604317129629629, 0.9604317129629629, 0.9604317129629629, 0.9604317129629629, 0.9604317129629629, 0.9655208333333334, 0.9655208333333334, 0.9655208333333334, 0.9655208333333334, 0.9655208333333334, 0.9655208333333334, 0.9655208333333334, 0.9655208333333334, 0.9655208333333334, 0.9655208333333334, 0.9655208333333334, 0.9655208333333334, 0.9655208333333334, 0.9655208333333334, 0.9655208333333334, 0.9655208333333334, 0.9655208333333334, 0.9655208333333334, 0.9655208333333334, 0.9655208333333334, 0.9655208333333334, 0.9655208333333334, 0.9655208333333334, 0.9655208333333334, 0.9655208333333334, 0.9655208333333334, 0.9655208333333334, 0.9655208333333334, 0.9655208333333334, 0.9657358217592593, 0.9661982060185185]}], \"accuracy\": [{\"categories\": [\"0\", \"1\", \"2\", \"3\", \"4\", \"5\", \"6\", \"7\", \"8\", \"9\", \"10\", \"11\", \"12\", \"13\", \"14\", \"15\", \"16\", \"17\", \"18\", \"19\", \"20\", \"21\", \"22\", \"23\", \"24\", \"25\", \"26\", \"27\", \"28\", \"29\", \"30\", \"31\", \"32\", \"34\", \"35\", \"36\", \"37\"], \"mode\": \"markers\", \"name\": \"accuracy\", \"stepped\": false, \"type\": \"scatter\", \"data\": [0.7658333333333334, 0.7479166666666668, 0.6229166666666666, 0.5741666666666666, 0.5316666666666666, 0.40791666666666665, 0.7895833333333334, 0.7816666666666666, 0.7441666666666666, 0.7054166666666667, 0.6991666666666667, 0.6954166666666667, 0.6216666666666667, 0.6799999999999999, 0.6858333333333333, 0.7233333333333334, 0.6341666666666667, 0.7775000000000001, 0.665, 0.6945833333333333, 0.6458333333333334, 0.6804166666666667, 0.6725000000000001, 0.6770833333333334, 0.7495833333333334, 0.32166666666666666, 0.7479166666666668, 0.7558333333333332, 0.6491666666666667, 0.7575000000000001, 0.7720833333333335, 0.6041666666666667, 0.7787499999999999, 0.7212500000000001, 0.7445833333333333, 0.7929166666666667, 0.7762499999999999]}, {\"categories\": [\"0\", \"1\", \"2\", \"3\", \"4\", \"5\", \"6\", \"7\", \"8\", \"9\", \"10\", \"11\", \"12\", \"13\", \"14\", \"15\", \"16\", \"17\", \"18\", \"19\", \"20\", \"21\", \"22\", \"23\", \"24\", \"25\", \"26\", \"27\", \"28\", \"29\", \"30\", \"31\", \"32\", \"34\", \"35\", \"36\", \"37\"], \"mode\": \"lines\", \"name\": \"accuracy_max\", \"stepped\": true, \"type\": \"scatter\", \"data\": [0.7658333333333334, 0.7658333333333334, 0.7658333333333334, 0.7658333333333334, 0.7658333333333334, 0.7658333333333334, 0.7895833333333334, 0.7895833333333334, 0.7895833333333334, 0.7895833333333334, 0.7895833333333334, 0.7895833333333334, 0.7895833333333334, 0.7895833333333334, 0.7895833333333334, 0.7895833333333334, 0.7895833333333334, 0.7895833333333334, 0.7895833333333334, 0.7895833333333334, 0.7895833333333334, 0.7895833333333334, 0.7895833333333334, 0.7895833333333334, 0.7895833333333334, 0.7895833333333334, 0.7895833333333334, 0.7895833333333334, 0.7895833333333334, 0.7895833333333334, 0.7895833333333334, 0.7895833333333334, 0.7895833333333334, 0.7895833333333334, 0.7895833333333334, 0.7929166666666667, 0.7929166666666667]}], \"average_precision_score_micro\": [{\"categories\": [\"0\", \"1\", \"2\", \"3\", \"4\", \"5\", \"6\", \"7\", \"8\", \"9\", \"10\", \"11\", \"12\", \"13\", \"14\", \"15\", \"16\", \"17\", \"18\", \"19\", \"20\", \"21\", \"22\", \"23\", \"24\", \"25\", \"26\", \"27\", \"28\", \"29\", \"30\", \"31\", \"32\", \"34\", \"35\", \"36\", \"37\"], \"mode\": \"markers\", \"name\": \"average_precision_score_micro\", \"stepped\": false, \"type\": \"scatter\", \"data\": [0.8912111395606358, 0.8754790366262423, 0.5683104069970526, 0.5333896604796777, 0.5400418706995641, 0.4571992233638234, 0.9051232650234663, 0.9051592186302881, 0.850576508444847, 0.7927752830233177, 0.6946965150712296, 0.7579338281936007, 0.6217808223758314, 0.7477649793859901, 0.716351675544719, 0.8280257701365544, 0.6337930879464457, 0.90354066734044, 0.742487499028759, 0.7755885935087297, 0.7157127847730645, 0.7782379816134313, 0.7242474118865285, 0.7705795321315775, 0.86576771001378, 0.30514872685185185, 0.8746320493660396, 0.8834667783020997, 0.5530764072406062, 0.8629695301238606, 0.8966948842946658, 0.6755632725716474, 0.9047534232969398, 0.8428027345603054, 0.8598767629273409, 0.9036093265682792, 0.9075939881974289]}, {\"categories\": [\"0\", \"1\", \"2\", \"3\", \"4\", \"5\", \"6\", \"7\", \"8\", \"9\", \"10\", \"11\", \"12\", \"13\", \"14\", \"15\", \"16\", \"17\", \"18\", \"19\", \"20\", \"21\", \"22\", \"23\", \"24\", \"25\", \"26\", \"27\", \"28\", \"29\", \"30\", \"31\", \"32\", \"34\", \"35\", \"36\", \"37\"], \"mode\": \"lines\", \"name\": \"average_precision_score_micro_max\", \"stepped\": true, \"type\": \"scatter\", \"data\": [0.8912111395606358, 0.8912111395606358, 0.8912111395606358, 0.8912111395606358, 0.8912111395606358, 0.8912111395606358, 0.9051232650234663, 0.9051592186302881, 0.9051592186302881, 0.9051592186302881, 0.9051592186302881, 0.9051592186302881, 0.9051592186302881, 0.9051592186302881, 0.9051592186302881, 0.9051592186302881, 0.9051592186302881, 0.9051592186302881, 0.9051592186302881, 0.9051592186302881, 0.9051592186302881, 0.9051592186302881, 0.9051592186302881, 0.9051592186302881, 0.9051592186302881, 0.9051592186302881, 0.9051592186302881, 0.9051592186302881, 0.9051592186302881, 0.9051592186302881, 0.9051592186302881, 0.9051592186302881, 0.9051592186302881, 0.9051592186302881, 0.9051592186302881, 0.9051592186302881, 0.9075939881974289]}], \"f1_score_micro\": [{\"categories\": [\"0\", \"1\", \"2\", \"3\", \"4\", \"5\", \"6\", \"7\", \"8\", \"9\", \"10\", \"11\", \"12\", \"13\", \"14\", \"15\", \"16\", \"17\", \"18\", \"19\", \"20\", \"21\", \"22\", \"23\", \"24\", \"25\", \"26\", \"27\", \"28\", \"29\", \"30\", \"31\", \"32\", \"34\", \"35\", \"36\", \"37\"], \"mode\": \"markers\", \"name\": \"f1_score_micro\", \"stepped\": false, \"type\": \"scatter\", \"data\": [0.7658333333333334, 0.7479166666666667, 0.6229166666666666, 0.5741666666666666, 0.5316666666666666, 0.40791666666666665, 0.7895833333333334, 0.7816666666666666, 0.7441666666666666, 0.7054166666666666, 0.6991666666666667, 0.6954166666666667, 0.6216666666666667, 0.6799999999999999, 0.6858333333333333, 0.7233333333333334, 0.6341666666666667, 0.7775000000000001, 0.665, 0.6945833333333333, 0.6458333333333334, 0.6804166666666667, 0.6725000000000001, 0.6770833333333334, 0.7495833333333334, 0.32166666666666666, 0.7479166666666668, 0.7558333333333334, 0.6491666666666667, 0.7575000000000001, 0.7720833333333333, 0.6041666666666667, 0.77875, 0.7212500000000001, 0.7445833333333333, 0.7929166666666667, 0.7762499999999999]}, {\"categories\": [\"0\", \"1\", \"2\", \"3\", \"4\", \"5\", \"6\", \"7\", \"8\", \"9\", \"10\", \"11\", \"12\", \"13\", \"14\", \"15\", \"16\", \"17\", \"18\", \"19\", \"20\", \"21\", \"22\", \"23\", \"24\", \"25\", \"26\", \"27\", \"28\", \"29\", \"30\", \"31\", \"32\", \"34\", \"35\", \"36\", \"37\"], \"mode\": \"lines\", \"name\": \"f1_score_micro_max\", \"stepped\": true, \"type\": \"scatter\", \"data\": [0.7658333333333334, 0.7658333333333334, 0.7658333333333334, 0.7658333333333334, 0.7658333333333334, 0.7658333333333334, 0.7895833333333334, 0.7895833333333334, 0.7895833333333334, 0.7895833333333334, 0.7895833333333334, 0.7895833333333334, 0.7895833333333334, 0.7895833333333334, 0.7895833333333334, 0.7895833333333334, 0.7895833333333334, 0.7895833333333334, 0.7895833333333334, 0.7895833333333334, 0.7895833333333334, 0.7895833333333334, 0.7895833333333334, 0.7895833333333334, 0.7895833333333334, 0.7895833333333334, 0.7895833333333334, 0.7895833333333334, 0.7895833333333334, 0.7895833333333334, 0.7895833333333334, 0.7895833333333334, 0.7895833333333334, 0.7895833333333334, 0.7895833333333334, 0.7929166666666667, 0.7929166666666667]}], \"recall_score_weighted\": [{\"categories\": [\"0\", \"1\", \"2\", \"3\", \"4\", \"5\", \"6\", \"7\", \"8\", \"9\", \"10\", \"11\", \"12\", \"13\", \"14\", \"15\", \"16\", \"17\", \"18\", \"19\", \"20\", \"21\", \"22\", \"23\", \"24\", \"25\", \"26\", \"27\", \"28\", \"29\", \"30\", \"31\", \"32\", \"34\", \"35\", \"36\", \"37\"], \"mode\": \"markers\", \"name\": \"recall_score_weighted\", \"stepped\": false, \"type\": \"scatter\", \"data\": [0.7658333333333334, 0.7479166666666668, 0.6229166666666666, 0.5741666666666666, 0.5316666666666666, 0.40791666666666665, 0.7895833333333334, 0.7816666666666666, 0.7441666666666666, 0.7054166666666667, 0.6991666666666667, 0.6954166666666667, 0.6216666666666667, 0.6799999999999999, 0.6858333333333333, 0.7233333333333334, 0.6341666666666667, 0.7775000000000001, 0.665, 0.6945833333333333, 0.6458333333333334, 0.6804166666666667, 0.6725000000000001, 0.6770833333333334, 0.7495833333333334, 0.32166666666666666, 0.7479166666666668, 0.7558333333333332, 0.6491666666666667, 0.7575000000000001, 0.7720833333333335, 0.6041666666666667, 0.7787499999999999, 0.7212500000000001, 0.7445833333333333, 0.7929166666666667, 0.7762499999999999]}, {\"categories\": [\"0\", \"1\", \"2\", \"3\", \"4\", \"5\", \"6\", \"7\", \"8\", \"9\", \"10\", \"11\", \"12\", \"13\", \"14\", \"15\", \"16\", \"17\", \"18\", \"19\", \"20\", \"21\", \"22\", \"23\", \"24\", \"25\", \"26\", \"27\", \"28\", \"29\", \"30\", \"31\", \"32\", \"34\", \"35\", \"36\", \"37\"], \"mode\": \"lines\", \"name\": \"recall_score_weighted_max\", \"stepped\": true, \"type\": \"scatter\", \"data\": [0.7658333333333334, 0.7658333333333334, 0.7658333333333334, 0.7658333333333334, 0.7658333333333334, 0.7658333333333334, 0.7895833333333334, 0.7895833333333334, 0.7895833333333334, 0.7895833333333334, 0.7895833333333334, 0.7895833333333334, 0.7895833333333334, 0.7895833333333334, 0.7895833333333334, 0.7895833333333334, 0.7895833333333334, 0.7895833333333334, 0.7895833333333334, 0.7895833333333334, 0.7895833333333334, 0.7895833333333334, 0.7895833333333334, 0.7895833333333334, 0.7895833333333334, 0.7895833333333334, 0.7895833333333334, 0.7895833333333334, 0.7895833333333334, 0.7895833333333334, 0.7895833333333334, 0.7895833333333334, 0.7895833333333334, 0.7895833333333334, 0.7895833333333334, 0.7929166666666667, 0.7929166666666667]}], \"AUC_weighted\": [{\"categories\": [\"0\", \"1\", \"2\", \"3\", \"4\", \"5\", \"6\", \"7\", \"8\", \"9\", \"10\", \"11\", \"12\", \"13\", \"14\", \"15\", \"16\", \"17\", \"18\", \"19\", \"20\", \"21\", \"22\", \"23\", \"24\", \"25\", \"26\", \"27\", \"28\", \"29\", \"30\", \"31\", \"32\", \"34\", \"35\", \"36\", \"37\"], \"mode\": \"markers\", \"name\": \"AUC_weighted\", \"stepped\": false, \"type\": \"scatter\", \"data\": [0.9347339539212751, 0.9273833235981499, 0.8283799196282775, 0.8092218876798348, 0.8260131806766247, 0.7730663752544897, 0.9410882000743026, 0.9395875712585058, 0.9194825250462653, 0.8994532619652371, 0.8743903677101195, 0.8914709588146741, 0.8310709265144887, 0.8856442875726971, 0.8846324431533557, 0.9123957437649516, 0.8327594154583734, 0.9408124507960072, 0.8851799578893484, 0.90056338709072, 0.8613907931121172, 0.893254423206346, 0.8758272677106911, 0.8917991486991109, 0.9239347607807712, 0.5, 0.9270706818795797, 0.9315626188114072, 0.8390388147385514, 0.9282961023998167, 0.9375127087509683, 0.8572092668595932, 0.9415934444687786, 0.9147681425997266, 0.9259184139269478, 0.9411122805504766, 0.9416452442088001]}, {\"categories\": [\"0\", \"1\", \"2\", \"3\", \"4\", \"5\", \"6\", \"7\", \"8\", \"9\", \"10\", \"11\", \"12\", \"13\", \"14\", \"15\", \"16\", \"17\", \"18\", \"19\", \"20\", \"21\", \"22\", \"23\", \"24\", \"25\", \"26\", \"27\", \"28\", \"29\", \"30\", \"31\", \"32\", \"34\", \"35\", \"36\", \"37\"], \"mode\": \"lines\", \"name\": \"AUC_weighted_max\", \"stepped\": true, \"type\": \"scatter\", \"data\": [0.9347339539212751, 0.9347339539212751, 0.9347339539212751, 0.9347339539212751, 0.9347339539212751, 0.9347339539212751, 0.9410882000743026, 0.9410882000743026, 0.9410882000743026, 0.9410882000743026, 0.9410882000743026, 0.9410882000743026, 0.9410882000743026, 0.9410882000743026, 0.9410882000743026, 0.9410882000743026, 0.9410882000743026, 0.9410882000743026, 0.9410882000743026, 0.9410882000743026, 0.9410882000743026, 0.9410882000743026, 0.9410882000743026, 0.9410882000743026, 0.9410882000743026, 0.9410882000743026, 0.9410882000743026, 0.9410882000743026, 0.9410882000743026, 0.9410882000743026, 0.9410882000743026, 0.9410882000743026, 0.9415934444687786, 0.9415934444687786, 0.9415934444687786, 0.9415934444687786, 0.9416452442088001]}], \"weighted_accuracy\": [{\"categories\": [\"0\", \"1\", \"2\", \"3\", \"4\", \"5\", \"6\", \"7\", \"8\", \"9\", \"10\", \"11\", \"12\", \"13\", \"14\", \"15\", \"16\", \"17\", \"18\", \"19\", \"20\", \"21\", \"22\", \"23\", \"24\", \"25\", \"26\", \"27\", \"28\", \"29\", \"30\", \"31\", \"32\", \"34\", \"35\", \"36\", \"37\"], \"mode\": \"markers\", \"name\": \"weighted_accuracy\", \"stepped\": false, \"type\": \"scatter\", \"data\": [0.7413984874908472, 0.7215535703272702, 0.607046668204611, 0.5650742261376013, 0.4783839423111744, 0.3689238096424818, 0.7626064938993606, 0.7542391291938724, 0.7203734103243553, 0.6928209729184874, 0.688135395168422, 0.6888503894134563, 0.6014245067766555, 0.6660059605181678, 0.6732933765821603, 0.7020987098094819, 0.6092739860998133, 0.7508644695401324, 0.6532704812113925, 0.6739574454296473, 0.6259744204696671, 0.6683949628242589, 0.6633086968516236, 0.6645377819226785, 0.7250083022930296, 0.3735350834368085, 0.7213435618519984, 0.7281006938975224, 0.6396600346445027, 0.7369050586306266, 0.7441114115324088, 0.6053763639753832, 0.753090031177602, 0.6977225952602256, 0.7252217885328732, 0.7670944722341211, 0.7468049505337702]}, {\"categories\": [\"0\", \"1\", \"2\", \"3\", \"4\", \"5\", \"6\", \"7\", \"8\", \"9\", \"10\", \"11\", \"12\", \"13\", \"14\", \"15\", \"16\", \"17\", \"18\", \"19\", \"20\", \"21\", \"22\", \"23\", \"24\", \"25\", \"26\", \"27\", \"28\", \"29\", \"30\", \"31\", \"32\", \"34\", \"35\", \"36\", \"37\"], \"mode\": \"lines\", \"name\": \"weighted_accuracy_max\", \"stepped\": true, \"type\": \"scatter\", \"data\": [0.7413984874908472, 0.7413984874908472, 0.7413984874908472, 0.7413984874908472, 0.7413984874908472, 0.7413984874908472, 0.7626064938993606, 0.7626064938993606, 0.7626064938993606, 0.7626064938993606, 0.7626064938993606, 0.7626064938993606, 0.7626064938993606, 0.7626064938993606, 0.7626064938993606, 0.7626064938993606, 0.7626064938993606, 0.7626064938993606, 0.7626064938993606, 0.7626064938993606, 0.7626064938993606, 0.7626064938993606, 0.7626064938993606, 0.7626064938993606, 0.7626064938993606, 0.7626064938993606, 0.7626064938993606, 0.7626064938993606, 0.7626064938993606, 0.7626064938993606, 0.7626064938993606, 0.7626064938993606, 0.7626064938993606, 0.7626064938993606, 0.7626064938993606, 0.7670944722341211, 0.7670944722341211]}], \"balanced_accuracy\": [{\"categories\": [\"0\", \"1\", \"2\", \"3\", \"4\", \"5\", \"6\", \"7\", \"8\", \"9\", \"10\", \"11\", \"12\", \"13\", \"14\", \"15\", \"16\", \"17\", \"18\", \"19\", \"20\", \"21\", \"22\", \"23\", \"24\", \"25\", \"26\", \"27\", \"28\", \"29\", \"30\", \"31\", \"32\", \"34\", \"35\", \"36\", \"37\"], \"mode\": \"markers\", \"name\": \"balanced_accuracy\", \"stepped\": false, \"type\": \"scatter\", \"data\": [0.7961984198410816, 0.7805467179053679, 0.6405821832557479, 0.5842128709390352, 0.5982900326291454, 0.4559971024940365, 0.8229820094440001, 0.8154709374195394, 0.773100620181739, 0.7201812526046993, 0.7118251809803583, 0.7030310096511765, 0.6460300284269834, 0.6968063820966138, 0.7005253786059921, 0.748856813684081, 0.6642272054009574, 0.8107657252644689, 0.6777606332871786, 0.7182796138011829, 0.6696938696524979, 0.694766441755954, 0.6828987506934452, 0.6914677856539955, 0.780138936007586, 0.25, 0.7811638082232626, 0.7904655339609761, 0.6588669537311305, 0.7831617639061225, 0.8064630641078899, 0.6036973487330883, 0.8104645791770257, 0.7499801218117321, 0.7683208410979944, 0.8246742679094001, 0.8121927041762147]}, {\"categories\": [\"0\", \"1\", \"2\", \"3\", \"4\", \"5\", \"6\", \"7\", \"8\", \"9\", \"10\", \"11\", \"12\", \"13\", \"14\", \"15\", \"16\", \"17\", \"18\", \"19\", \"20\", \"21\", \"22\", \"23\", \"24\", \"25\", \"26\", \"27\", \"28\", \"29\", \"30\", \"31\", \"32\", \"34\", \"35\", \"36\", \"37\"], \"mode\": \"lines\", \"name\": \"balanced_accuracy_max\", \"stepped\": true, \"type\": \"scatter\", \"data\": [0.7961984198410816, 0.7961984198410816, 0.7961984198410816, 0.7961984198410816, 0.7961984198410816, 0.7961984198410816, 0.8229820094440001, 0.8229820094440001, 0.8229820094440001, 0.8229820094440001, 0.8229820094440001, 0.8229820094440001, 0.8229820094440001, 0.8229820094440001, 0.8229820094440001, 0.8229820094440001, 0.8229820094440001, 0.8229820094440001, 0.8229820094440001, 0.8229820094440001, 0.8229820094440001, 0.8229820094440001, 0.8229820094440001, 0.8229820094440001, 0.8229820094440001, 0.8229820094440001, 0.8229820094440001, 0.8229820094440001, 0.8229820094440001, 0.8229820094440001, 0.8229820094440001, 0.8229820094440001, 0.8229820094440001, 0.8229820094440001, 0.8229820094440001, 0.8246742679094001, 0.8246742679094001]}], \"norm_macro_recall\": [{\"categories\": [\"0\", \"1\", \"2\", \"3\", \"4\", \"5\", \"6\", \"7\", \"8\", \"9\", \"10\", \"11\", \"12\", \"13\", \"14\", \"15\", \"16\", \"17\", \"18\", \"19\", \"20\", \"21\", \"22\", \"23\", \"24\", \"25\", \"26\", \"27\", \"28\", \"29\", \"30\", \"31\", \"32\", \"34\", \"35\", \"36\", \"37\"], \"mode\": \"markers\", \"name\": \"norm_macro_recall\", \"stepped\": false, \"type\": \"scatter\", \"data\": [0.7282645597881088, 0.7073956238738239, 0.5207762443409971, 0.4456171612520469, 0.46438671017219385, 0.27466280332538195, 0.7639760125920002, 0.7539612498927191, 0.6974674935756521, 0.6269083368062658, 0.6157669079738111, 0.6040413462015686, 0.5280400379026446, 0.5957418427954851, 0.6007005048079894, 0.6651424182454413, 0.5523029405346099, 0.7476876336859585, 0.5703475110495714, 0.6243728184015771, 0.5595918262033306, 0.5930219223412722, 0.577198334257927, 0.5886237142053273, 0.7068519146767814, 0.0, 0.7082184109643503, 0.7206207119479681, 0.5451559383081739, 0.7108823518748301, 0.7419507521438533, 0.471596464977451, 0.7472861055693676, 0.666640162415643, 0.6910944547973259, 0.7662323572125336, 0.7495902722349529]}, {\"categories\": [\"0\", \"1\", \"2\", \"3\", \"4\", \"5\", \"6\", \"7\", \"8\", \"9\", \"10\", \"11\", \"12\", \"13\", \"14\", \"15\", \"16\", \"17\", \"18\", \"19\", \"20\", \"21\", \"22\", \"23\", \"24\", \"25\", \"26\", \"27\", \"28\", \"29\", \"30\", \"31\", \"32\", \"34\", \"35\", \"36\", \"37\"], \"mode\": \"lines\", \"name\": \"norm_macro_recall_max\", \"stepped\": true, \"type\": \"scatter\", \"data\": [0.7282645597881088, 0.7282645597881088, 0.7282645597881088, 0.7282645597881088, 0.7282645597881088, 0.7282645597881088, 0.7639760125920002, 0.7639760125920002, 0.7639760125920002, 0.7639760125920002, 0.7639760125920002, 0.7639760125920002, 0.7639760125920002, 0.7639760125920002, 0.7639760125920002, 0.7639760125920002, 0.7639760125920002, 0.7639760125920002, 0.7639760125920002, 0.7639760125920002, 0.7639760125920002, 0.7639760125920002, 0.7639760125920002, 0.7639760125920002, 0.7639760125920002, 0.7639760125920002, 0.7639760125920002, 0.7639760125920002, 0.7639760125920002, 0.7639760125920002, 0.7639760125920002, 0.7639760125920002, 0.7639760125920002, 0.7639760125920002, 0.7639760125920002, 0.7662323572125336, 0.7662323572125336]}], \"recall_score_micro\": [{\"categories\": [\"0\", \"1\", \"2\", \"3\", \"4\", \"5\", \"6\", \"7\", \"8\", \"9\", \"10\", \"11\", \"12\", \"13\", \"14\", \"15\", \"16\", \"17\", \"18\", \"19\", \"20\", \"21\", \"22\", \"23\", \"24\", \"25\", \"26\", \"27\", \"28\", \"29\", \"30\", \"31\", \"32\", \"34\", \"35\", \"36\", \"37\"], \"mode\": \"markers\", \"name\": \"recall_score_micro\", \"stepped\": false, \"type\": \"scatter\", \"data\": [0.7658333333333334, 0.7479166666666668, 0.6229166666666666, 0.5741666666666666, 0.5316666666666666, 0.40791666666666665, 0.7895833333333334, 0.7816666666666666, 0.7441666666666666, 0.7054166666666667, 0.6991666666666667, 0.6954166666666667, 0.6216666666666667, 0.6799999999999999, 0.6858333333333333, 0.7233333333333334, 0.6341666666666667, 0.7775000000000001, 0.665, 0.6945833333333333, 0.6458333333333334, 0.6804166666666667, 0.6725000000000001, 0.6770833333333334, 0.7495833333333334, 0.32166666666666666, 0.7479166666666668, 0.7558333333333332, 0.6491666666666667, 0.7575000000000001, 0.7720833333333335, 0.6041666666666667, 0.7787499999999999, 0.7212500000000001, 0.7445833333333333, 0.7929166666666667, 0.7762499999999999]}, {\"categories\": [\"0\", \"1\", \"2\", \"3\", \"4\", \"5\", \"6\", \"7\", \"8\", \"9\", \"10\", \"11\", \"12\", \"13\", \"14\", \"15\", \"16\", \"17\", \"18\", \"19\", \"20\", \"21\", \"22\", \"23\", \"24\", \"25\", \"26\", \"27\", \"28\", \"29\", \"30\", \"31\", \"32\", \"34\", \"35\", \"36\", \"37\"], \"mode\": \"lines\", \"name\": \"recall_score_micro_max\", \"stepped\": true, \"type\": \"scatter\", \"data\": [0.7658333333333334, 0.7658333333333334, 0.7658333333333334, 0.7658333333333334, 0.7658333333333334, 0.7658333333333334, 0.7895833333333334, 0.7895833333333334, 0.7895833333333334, 0.7895833333333334, 0.7895833333333334, 0.7895833333333334, 0.7895833333333334, 0.7895833333333334, 0.7895833333333334, 0.7895833333333334, 0.7895833333333334, 0.7895833333333334, 0.7895833333333334, 0.7895833333333334, 0.7895833333333334, 0.7895833333333334, 0.7895833333333334, 0.7895833333333334, 0.7895833333333334, 0.7895833333333334, 0.7895833333333334, 0.7895833333333334, 0.7895833333333334, 0.7895833333333334, 0.7895833333333334, 0.7895833333333334, 0.7895833333333334, 0.7895833333333334, 0.7895833333333334, 0.7929166666666667, 0.7929166666666667]}], \"log_loss\": [{\"categories\": [\"0\", \"1\", \"2\", \"3\", \"4\", \"5\", \"6\", \"7\", \"8\", \"9\", \"10\", \"11\", \"12\", \"13\", \"14\", \"15\", \"16\", \"17\", \"18\", \"19\", \"20\", \"21\", \"22\", \"23\", \"24\", \"25\", \"26\", \"27\", \"28\", \"29\", \"30\", \"31\", \"32\", \"34\", \"35\", \"36\", \"37\"], \"mode\": \"markers\", \"name\": \"log_loss\", \"stepped\": false, \"type\": \"scatter\", \"data\": [0.4373929905771169, 0.4487687635893732, 0.9539439617272467, 1.0135255549015558, 1.0035342330692159, 1.0827013494837963, 0.3883807030611812, 0.4684825704450981, 0.49877084378800307, 0.6229770683477782, 0.7912074249702341, 0.6239533542150089, 0.8025473823342516, 0.8000847194672943, 0.9074753891342017, 0.6212734895854461, 0.764397717270147, 0.39482051302560645, 0.8764258328884406, 0.9239095116078377, 0.7230290280650348, 0.7702705369284543, 0.8207493009046303, 0.6633522923580342, 0.4963490528559176, 1.33343008505936, 0.46007760035948236, 0.43496578398665414, 1.0042182165156874, 0.4870937506602928, 0.4273183802261715, 0.9991745590408858, 0.39123337409968784, 0.5211066042219175, 0.8113526485439879, 0.5312844762123293, 0.39987499781016755]}, {\"categories\": [\"0\", \"1\", \"2\", \"3\", \"4\", \"5\", \"6\", \"7\", \"8\", \"9\", \"10\", \"11\", \"12\", \"13\", \"14\", \"15\", \"16\", \"17\", \"18\", \"19\", \"20\", \"21\", \"22\", \"23\", \"24\", \"25\", \"26\", \"27\", \"28\", \"29\", \"30\", \"31\", \"32\", \"34\", \"35\", \"36\", \"37\"], \"mode\": \"lines\", \"name\": \"log_loss_min\", \"stepped\": true, \"type\": \"scatter\", \"data\": [0.4373929905771169, 0.4373929905771169, 0.4373929905771169, 0.4373929905771169, 0.4373929905771169, 0.4373929905771169, 0.3883807030611812, 0.3883807030611812, 0.3883807030611812, 0.3883807030611812, 0.3883807030611812, 0.3883807030611812, 0.3883807030611812, 0.3883807030611812, 0.3883807030611812, 0.3883807030611812, 0.3883807030611812, 0.3883807030611812, 0.3883807030611812, 0.3883807030611812, 0.3883807030611812, 0.3883807030611812, 0.3883807030611812, 0.3883807030611812, 0.3883807030611812, 0.3883807030611812, 0.3883807030611812, 0.3883807030611812, 0.3883807030611812, 0.3883807030611812, 0.3883807030611812, 0.3883807030611812, 0.3883807030611812, 0.3883807030611812, 0.3883807030611812, 0.3883807030611812, 0.3883807030611812]}]}, \"metricName\": null, \"primaryMetricName\": \"accuracy\", \"showLegend\": false}, \"run_metrics\": [{\"name\": \"experiment_status\", \"run_id\": \"AutoML_88212ace-464b-4cbd-8e59-04f3e08e6a74\", \"categories\": [0, 1, 2, 3, 4, 5, 6, 7, 8, 9, 10, 11, 12, 13], \"series\": [{\"data\": [\"DatasetEvaluation\", \"FeaturesGeneration\", \"DatasetFeaturization\", \"DatasetFeaturizationCompleted\", \"DatasetCrossValidationSplit\", \"ModelSelection\", \"BestRunExplainModel\", \"ModelExplanationDataSetSetup\", \"PickSurrogateModel\", \"EngineeredFeatureExplanations\", \"EngineeredFeatureExplanations\", \"RawFeaturesExplanations\", \"RawFeaturesExplanations\", \"BestRunExplainModel\"]}]}, {\"name\": \"experiment_status_description\", \"run_id\": \"AutoML_88212ace-464b-4cbd-8e59-04f3e08e6a74\", \"categories\": [0, 1, 2, 3, 4, 5, 6, 7, 8, 9, 10, 11, 12, 13], \"series\": [{\"data\": [\"Gathering dataset statistics.\", \"Generating features for the dataset.\", \"Beginning to fit featurizers and featurize the dataset.\", \"Completed fit featurizers and featurizing the dataset.\", \"Generating individually featurized CV splits.\", \"Beginning model selection.\", \"Best run model explanations started\", \"Model explanations data setup completed\", \"Choosing LightGBM as the surrogate model for explanations\", \"Computation of engineered features started\", \"Computation of engineered features completed\", \"Computation of raw features started\", \"Computation of raw features completed\", \"Best run model explanations completed\"]}]}, {\"name\": \"average_precision_score_micro\", \"run_id\": \"AutoML_88212ace-464b-4cbd-8e59-04f3e08e6a74\", \"categories\": [0], \"series\": [{\"data\": [0.9036093265682792]}]}, {\"name\": \"precision_score_macro\", \"run_id\": \"AutoML_88212ace-464b-4cbd-8e59-04f3e08e6a74\", \"categories\": [0], \"series\": [{\"data\": [0.8263665289674046]}]}, {\"name\": \"log_loss\", \"run_id\": \"AutoML_88212ace-464b-4cbd-8e59-04f3e08e6a74\", \"categories\": [0], \"series\": [{\"data\": [0.5312844762123293]}]}, {\"name\": \"weighted_accuracy\", \"run_id\": \"AutoML_88212ace-464b-4cbd-8e59-04f3e08e6a74\", \"categories\": [0], \"series\": [{\"data\": [0.7670944722341211]}]}, {\"name\": \"balanced_accuracy\", \"run_id\": \"AutoML_88212ace-464b-4cbd-8e59-04f3e08e6a74\", \"categories\": [0], \"series\": [{\"data\": [0.8246742679094001]}]}, {\"name\": \"AUC_weighted\", \"run_id\": \"AutoML_88212ace-464b-4cbd-8e59-04f3e08e6a74\", \"categories\": [0], \"series\": [{\"data\": [0.9411122805504766]}]}, {\"name\": \"f1_score_macro\", \"run_id\": \"AutoML_88212ace-464b-4cbd-8e59-04f3e08e6a74\", \"categories\": [0], \"series\": [{\"data\": [0.824902667900627]}]}, {\"name\": \"AUC_macro\", \"run_id\": \"AutoML_88212ace-464b-4cbd-8e59-04f3e08e6a74\", \"categories\": [0], \"series\": [{\"data\": [0.9543758091108364]}]}, {\"name\": \"recall_score_macro\", \"run_id\": \"AutoML_88212ace-464b-4cbd-8e59-04f3e08e6a74\", \"categories\": [0], \"series\": [{\"data\": [0.8246742679094001]}]}, {\"name\": \"AUC_micro\", \"run_id\": \"AutoML_88212ace-464b-4cbd-8e59-04f3e08e6a74\", \"categories\": [0], \"series\": [{\"data\": [0.9657358217592593]}]}, {\"name\": \"f1_score_weighted\", \"run_id\": \"AutoML_88212ace-464b-4cbd-8e59-04f3e08e6a74\", \"categories\": [0], \"series\": [{\"data\": [0.793021332862989]}]}, {\"name\": \"recall_score_micro\", \"run_id\": \"AutoML_88212ace-464b-4cbd-8e59-04f3e08e6a74\", \"categories\": [0], \"series\": [{\"data\": [0.7929166666666667]}]}, {\"name\": \"average_precision_score_macro\", \"run_id\": \"AutoML_88212ace-464b-4cbd-8e59-04f3e08e6a74\", \"categories\": [0], \"series\": [{\"data\": [0.9068491298235827]}]}, {\"name\": \"matthews_correlation\", \"run_id\": \"AutoML_88212ace-464b-4cbd-8e59-04f3e08e6a74\", \"categories\": [0], \"series\": [{\"data\": [0.7141908948455377]}]}, {\"name\": \"precision_score_micro\", \"run_id\": \"AutoML_88212ace-464b-4cbd-8e59-04f3e08e6a74\", \"categories\": [0], \"series\": [{\"data\": [0.7929166666666667]}]}, {\"name\": \"norm_macro_recall\", \"run_id\": \"AutoML_88212ace-464b-4cbd-8e59-04f3e08e6a74\", \"categories\": [0], \"series\": [{\"data\": [0.7662323572125336]}]}, {\"name\": \"recall_score_weighted\", \"run_id\": \"AutoML_88212ace-464b-4cbd-8e59-04f3e08e6a74\", \"categories\": [0], \"series\": [{\"data\": [0.7929166666666667]}]}, {\"name\": \"f1_score_micro\", \"run_id\": \"AutoML_88212ace-464b-4cbd-8e59-04f3e08e6a74\", \"categories\": [0], \"series\": [{\"data\": [0.7929166666666667]}]}, {\"name\": \"accuracy\", \"run_id\": \"AutoML_88212ace-464b-4cbd-8e59-04f3e08e6a74\", \"categories\": [0], \"series\": [{\"data\": [0.7929166666666667]}]}, {\"name\": \"precision_score_weighted\", \"run_id\": \"AutoML_88212ace-464b-4cbd-8e59-04f3e08e6a74\", \"categories\": [0], \"series\": [{\"data\": [0.7947053869658504]}]}, {\"name\": \"average_precision_score_weighted\", \"run_id\": \"AutoML_88212ace-464b-4cbd-8e59-04f3e08e6a74\", \"categories\": [0], \"series\": [{\"data\": [0.8843468297946113]}]}], \"run_logs\": \"\\nRun is completed.\", \"graph\": {}, \"widget_settings\": {\"childWidgetDisplay\": \"popup\", \"send_telemetry\": false, \"log_level\": \"INFO\", \"sdk_version\": \"1.24.0\"}, \"loading\": false}"
     },
     "metadata": {},
     "output_type": "display_data"
    },
    {
     "name": "stdout",
     "output_type": "stream",
     "text": [
      "\n",
      "\n",
      "****************************************************************************************************\n",
      "DATA GUARDRAILS: \n",
      "\n",
      "TYPE:         Class balancing detection\n",
      "STATUS:       PASSED\n",
      "DESCRIPTION:  Your inputs were analyzed, and all classes are balanced in your training data.\n",
      "              Learn more about imbalanced data: https://aka.ms/AutomatedMLImbalancedData\n",
      "\n",
      "****************************************************************************************************\n",
      "\n",
      "TYPE:         Missing feature values imputation\n",
      "STATUS:       PASSED\n",
      "DESCRIPTION:  No feature missing values were detected in the training data.\n",
      "              Learn more about missing value imputation: https://aka.ms/AutomatedMLFeaturization\n",
      "\n",
      "****************************************************************************************************\n",
      "\n",
      "TYPE:         High cardinality feature detection\n",
      "STATUS:       PASSED\n",
      "DESCRIPTION:  Your inputs were analyzed, and no high cardinality features were detected.\n",
      "              Learn more about high cardinality feature handling: https://aka.ms/AutomatedMLFeaturization\n",
      "\n",
      "****************************************************************************************************\n",
      "\n",
      "****************************************************************************************************\n",
      "ITERATION: The iteration being evaluated.\n",
      "PIPELINE: A summary description of the pipeline being evaluated.\n",
      "DURATION: Time taken for the current iteration.\n",
      "METRIC: The result of computing score on the fitted pipeline.\n",
      "BEST: The best observed score thus far.\n",
      "****************************************************************************************************\n",
      "\n",
      " ITERATION   PIPELINE                                       DURATION      METRIC      BEST\n",
      "         0   MaxAbsScaler LightGBM                          0:00:50       0.7658    0.7658\n",
      "         1   MaxAbsScaler XGBoostClassifier                 0:00:49       0.7479    0.7658\n",
      "         2   MaxAbsScaler RandomForest                      0:00:50       0.6229    0.7658\n",
      "         3   MaxAbsScaler RandomForest                      0:00:39       0.5742    0.7658\n",
      "         4   MaxAbsScaler RandomForest                      0:01:45       0.5317    0.7658\n",
      "         5   MaxAbsScaler RandomForest                      0:01:45       0.4079    0.7658\n",
      "         6   SparseNormalizer XGBoostClassifier             0:01:51       0.7896    0.7896\n",
      "         7   SparseNormalizer XGBoostClassifier             0:00:49       0.7817    0.7896\n",
      "        10   StandardScalerWrapper RandomForest             0:00:42       0.6992    0.7896\n",
      "        11   MaxAbsScaler RandomForest                      0:00:39       0.6954    0.7896\n",
      "         8   SparseNormalizer XGBoostClassifier             0:00:54       0.7442    0.7896\n",
      "         9   MaxAbsScaler GradientBoosting                  0:00:45       0.7054    0.7896\n",
      "        12   MaxAbsScaler LogisticRegression                0:00:43       0.6217    0.7896\n",
      "        13   MaxAbsScaler ExtremeRandomTrees                0:00:52       0.6800    0.7896\n",
      "        14   MaxAbsScaler LightGBM                          0:00:38       0.6858    0.7896\n",
      "        15   SparseNormalizer XGBoostClassifier             0:00:48       0.7233    0.7896\n",
      "        16   MaxAbsScaler LogisticRegression                0:00:49       0.6342    0.7896\n",
      "        17   SparseNormalizer XGBoostClassifier             0:01:04       0.7775    0.7896\n",
      "        18   MaxAbsScaler LightGBM                          0:00:39       0.6650    0.7896\n",
      "        19   SparseNormalizer LightGBM                      0:00:47       0.6946    0.7896\n",
      "        20   SparseNormalizer RandomForest                  0:00:39       0.6458    0.7896\n",
      "        21   MaxAbsScaler LightGBM                          0:00:43       0.6804    0.7896\n",
      "        22   MaxAbsScaler LightGBM                          0:00:41       0.6725    0.7896\n",
      "        23   MaxAbsScaler ExtremeRandomTrees                0:00:44       0.6771    0.7896\n",
      "        24   SparseNormalizer LightGBM                      0:00:46       0.7496    0.7896\n",
      "        25   StandardScalerWrapper XGBoostClassifier        0:00:46       0.3217    0.7896\n",
      "        26   MaxAbsScaler LightGBM                          0:00:46       0.7479    0.7896\n",
      "        27   StandardScalerWrapper LightGBM                 0:00:48       0.7558    0.7896\n",
      "        28   StandardScalerWrapper ExtremeRandomTrees       0:00:48       0.6492    0.7896\n",
      "        29   StandardScalerWrapper XGBoostClassifier        0:00:48       0.7575    0.7896\n",
      "        30   SparseNormalizer XGBoostClassifier             0:00:51       0.7721    0.7896\n",
      "        31   StandardScalerWrapper XGBoostClassifier        0:00:42       0.6042    0.7896\n",
      "        32   SparseNormalizer XGBoostClassifier             0:00:49       0.7787    0.7896\n",
      "        33   SparseNormalizer XGBoostClassifier             0:00:46          nan    0.7896\n",
      "        34   MaxAbsScaler LightGBM                          0:00:38       0.7213    0.7896\n",
      "        35   StandardScalerWrapper XGBoostClassifier        0:00:34       0.7446    0.7896\n",
      "        36    VotingEnsemble                                0:01:00       0.7929    0.7929\n",
      "        37    StackEnsemble                                 0:01:25       0.7762    0.7929\n"
     ]
    },
    {
     "data": {
      "text/plain": [
       "{'runId': 'AutoML_88212ace-464b-4cbd-8e59-04f3e08e6a74',\n",
       " 'target': 'automl-cluster',\n",
       " 'status': 'Completed',\n",
       " 'startTimeUtc': '2021-03-27T20:04:12.867695Z',\n",
       " 'endTimeUtc': '2021-03-27T20:22:03.879409Z',\n",
       " 'properties': {'num_iterations': '1000',\n",
       "  'training_type': 'TrainFull',\n",
       "  'acquisition_function': 'EI',\n",
       "  'primary_metric': 'accuracy',\n",
       "  'train_split': '0',\n",
       "  'acquisition_parameter': '0',\n",
       "  'num_cross_validation': '5',\n",
       "  'target': 'automl-cluster',\n",
       "  'AMLSettingsJsonString': '{\"path\":null,\"name\":\"mobile_price_prediction\",\"subscription_id\":\"3d1a56d2-7c81-4118-9790-f85d1acf0c77\",\"resource_group\":\"aml-quickstarts-141462\",\"workspace_name\":\"quick-starts-ws-141462\",\"region\":\"southcentralus\",\"compute_target\":\"automl-cluster\",\"spark_service\":null,\"azure_service\":\"remote\",\"many_models\":false,\"pipeline_fetch_max_batch_size\":1,\"enable_batch_run\":false,\"iterations\":1000,\"primary_metric\":\"accuracy\",\"task_type\":\"classification\",\"data_script\":null,\"validation_size\":0.0,\"n_cross_validations\":5,\"y_min\":null,\"y_max\":null,\"num_classes\":null,\"featurization\":\"auto\",\"_ignore_package_version_incompatibilities\":false,\"is_timeseries\":false,\"max_cores_per_iteration\":1,\"max_concurrent_iterations\":4,\"iteration_timeout_minutes\":null,\"mem_in_mb\":null,\"enforce_time_on_windows\":false,\"experiment_timeout_minutes\":30,\"experiment_exit_score\":null,\"whitelist_models\":null,\"blacklist_algos\":[\"TensorFlowLinearClassifier\",\"TensorFlowDNN\"],\"supported_models\":[\"LinearSVM\",\"ExtremeRandomTrees\",\"BernoulliNaiveBayes\",\"MultinomialNaiveBayes\",\"GradientBoosting\",\"RandomForest\",\"TensorFlowLinearClassifier\",\"TensorFlowDNN\",\"SVM\",\"LogisticRegression\",\"LightGBM\",\"DecisionTree\",\"XGBoostClassifier\",\"KNN\",\"AveragedPerceptronClassifier\",\"SGD\"],\"private_models\":[],\"auto_blacklist\":true,\"blacklist_samples_reached\":false,\"exclude_nan_labels\":true,\"verbosity\":20,\"_debug_log\":\"azureml_automl.log\",\"show_warnings\":false,\"model_explainability\":true,\"service_url\":null,\"sdk_url\":null,\"sdk_packages\":null,\"enable_onnx_compatible_models\":false,\"enable_split_onnx_featurizer_estimator_models\":false,\"vm_type\":\"STANDARD_DS3_V2\",\"telemetry_verbosity\":20,\"send_telemetry\":true,\"enable_dnn\":false,\"scenario\":\"SDK-1.13.0\",\"environment_label\":null,\"save_mlflow\":false,\"force_text_dnn\":false,\"enable_feature_sweeping\":true,\"enable_early_stopping\":true,\"early_stopping_n_iters\":10,\"metrics\":null,\"enable_metric_confidence\":false,\"enable_ensembling\":true,\"enable_stack_ensembling\":true,\"ensemble_iterations\":15,\"enable_tf\":false,\"enable_subsampling\":null,\"subsample_seed\":null,\"enable_nimbusml\":false,\"enable_streaming\":false,\"force_streaming\":false,\"track_child_runs\":true,\"allowed_private_models\":[],\"label_column_name\":\"price_range\",\"weight_column_name\":null,\"cv_split_column_names\":null,\"enable_local_managed\":false,\"_local_managed_run_id\":null,\"cost_mode\":1,\"lag_length\":0,\"metric_operation\":\"maximize\",\"preprocess\":true}',\n",
       "  'DataPrepJsonString': '{\\\\\"training_data\\\\\": \\\\\"{\\\\\\\\\\\\\"blocks\\\\\\\\\\\\\": [{\\\\\\\\\\\\\"id\\\\\\\\\\\\\": \\\\\\\\\\\\\"d2258c4b-0060-42ba-b10f-a086c70b2b74\\\\\\\\\\\\\", \\\\\\\\\\\\\"type\\\\\\\\\\\\\": \\\\\\\\\\\\\"Microsoft.DPrep.GetDatastoreFilesBlock\\\\\\\\\\\\\", \\\\\\\\\\\\\"arguments\\\\\\\\\\\\\": {\\\\\\\\\\\\\"datastores\\\\\\\\\\\\\": [{\\\\\\\\\\\\\"datastoreName\\\\\\\\\\\\\": \\\\\\\\\\\\\"workspaceblobstore\\\\\\\\\\\\\", \\\\\\\\\\\\\"path\\\\\\\\\\\\\": \\\\\\\\\\\\\"pricing/mobile_price_traindata.csv\\\\\\\\\\\\\", \\\\\\\\\\\\\"resourceGroup\\\\\\\\\\\\\": \\\\\\\\\\\\\"aml-quickstarts-141462\\\\\\\\\\\\\", \\\\\\\\\\\\\"subscription\\\\\\\\\\\\\": \\\\\\\\\\\\\"3d1a56d2-7c81-4118-9790-f85d1acf0c77\\\\\\\\\\\\\", \\\\\\\\\\\\\"workspaceName\\\\\\\\\\\\\": \\\\\\\\\\\\\"quick-starts-ws-141462\\\\\\\\\\\\\"}]}, \\\\\\\\\\\\\"localData\\\\\\\\\\\\\": {}, \\\\\\\\\\\\\"isEnabled\\\\\\\\\\\\\": true, \\\\\\\\\\\\\"name\\\\\\\\\\\\\": null, \\\\\\\\\\\\\"annotation\\\\\\\\\\\\\": null}, {\\\\\\\\\\\\\"id\\\\\\\\\\\\\": \\\\\\\\\\\\\"ded512cf-235e-4df9-9b5c-6c3e3bda312d\\\\\\\\\\\\\", \\\\\\\\\\\\\"type\\\\\\\\\\\\\": \\\\\\\\\\\\\"Microsoft.DPrep.ParseDelimitedBlock\\\\\\\\\\\\\", \\\\\\\\\\\\\"arguments\\\\\\\\\\\\\": {\\\\\\\\\\\\\"columnHeadersMode\\\\\\\\\\\\\": 3, \\\\\\\\\\\\\"fileEncoding\\\\\\\\\\\\\": 0, \\\\\\\\\\\\\"handleQuotedLineBreaks\\\\\\\\\\\\\": false, \\\\\\\\\\\\\"preview\\\\\\\\\\\\\": false, \\\\\\\\\\\\\"separator\\\\\\\\\\\\\": \\\\\\\\\\\\\",\\\\\\\\\\\\\", \\\\\\\\\\\\\"skipRows\\\\\\\\\\\\\": 0, \\\\\\\\\\\\\"skipRowsMode\\\\\\\\\\\\\": 0}, \\\\\\\\\\\\\"localData\\\\\\\\\\\\\": {}, \\\\\\\\\\\\\"isEnabled\\\\\\\\\\\\\": true, \\\\\\\\\\\\\"name\\\\\\\\\\\\\": null, \\\\\\\\\\\\\"annotation\\\\\\\\\\\\\": null}, {\\\\\\\\\\\\\"id\\\\\\\\\\\\\": \\\\\\\\\\\\\"a8132d59-99db-4a99-91dc-3700fa8220f7\\\\\\\\\\\\\", \\\\\\\\\\\\\"type\\\\\\\\\\\\\": \\\\\\\\\\\\\"Microsoft.DPrep.DropColumnsBlock\\\\\\\\\\\\\", \\\\\\\\\\\\\"arguments\\\\\\\\\\\\\": {\\\\\\\\\\\\\"columns\\\\\\\\\\\\\": {\\\\\\\\\\\\\"type\\\\\\\\\\\\\": 0, \\\\\\\\\\\\\"details\\\\\\\\\\\\\": {\\\\\\\\\\\\\"selectedColumns\\\\\\\\\\\\\": [\\\\\\\\\\\\\"Path\\\\\\\\\\\\\"]}}}, \\\\\\\\\\\\\"localData\\\\\\\\\\\\\": {}, \\\\\\\\\\\\\"isEnabled\\\\\\\\\\\\\": true, \\\\\\\\\\\\\"name\\\\\\\\\\\\\": null, \\\\\\\\\\\\\"annotation\\\\\\\\\\\\\": null}, {\\\\\\\\\\\\\"id\\\\\\\\\\\\\": \\\\\\\\\\\\\"9a844083-fa3d-487e-bb6f-ec69e9e625f0\\\\\\\\\\\\\", \\\\\\\\\\\\\"type\\\\\\\\\\\\\": \\\\\\\\\\\\\"Microsoft.DPrep.SetColumnTypesBlock\\\\\\\\\\\\\", \\\\\\\\\\\\\"arguments\\\\\\\\\\\\\": {\\\\\\\\\\\\\"columnConversion\\\\\\\\\\\\\": [{\\\\\\\\\\\\\"column\\\\\\\\\\\\\": {\\\\\\\\\\\\\"type\\\\\\\\\\\\\": 2, \\\\\\\\\\\\\"details\\\\\\\\\\\\\": {\\\\\\\\\\\\\"selectedColumn\\\\\\\\\\\\\": \\\\\\\\\\\\\"battery_power\\\\\\\\\\\\\"}}, \\\\\\\\\\\\\"typeProperty\\\\\\\\\\\\\": 2}, {\\\\\\\\\\\\\"column\\\\\\\\\\\\\": {\\\\\\\\\\\\\"type\\\\\\\\\\\\\": 2, \\\\\\\\\\\\\"details\\\\\\\\\\\\\": {\\\\\\\\\\\\\"selectedColumn\\\\\\\\\\\\\": \\\\\\\\\\\\\"blue\\\\\\\\\\\\\"}}, \\\\\\\\\\\\\"typeProperty\\\\\\\\\\\\\": 2}, {\\\\\\\\\\\\\"column\\\\\\\\\\\\\": {\\\\\\\\\\\\\"type\\\\\\\\\\\\\": 2, \\\\\\\\\\\\\"details\\\\\\\\\\\\\": {\\\\\\\\\\\\\"selectedColumn\\\\\\\\\\\\\": \\\\\\\\\\\\\"clock_speed\\\\\\\\\\\\\"}}, \\\\\\\\\\\\\"typeProperty\\\\\\\\\\\\\": 3}, {\\\\\\\\\\\\\"column\\\\\\\\\\\\\": {\\\\\\\\\\\\\"type\\\\\\\\\\\\\": 2, \\\\\\\\\\\\\"details\\\\\\\\\\\\\": {\\\\\\\\\\\\\"selectedColumn\\\\\\\\\\\\\": \\\\\\\\\\\\\"dual_sim\\\\\\\\\\\\\"}}, \\\\\\\\\\\\\"typeProperty\\\\\\\\\\\\\": 3}, {\\\\\\\\\\\\\"column\\\\\\\\\\\\\": {\\\\\\\\\\\\\"type\\\\\\\\\\\\\": 2, \\\\\\\\\\\\\"details\\\\\\\\\\\\\": {\\\\\\\\\\\\\"selectedColumn\\\\\\\\\\\\\": \\\\\\\\\\\\\"fc\\\\\\\\\\\\\"}}, \\\\\\\\\\\\\"typeProperty\\\\\\\\\\\\\": 2}, {\\\\\\\\\\\\\"column\\\\\\\\\\\\\": {\\\\\\\\\\\\\"type\\\\\\\\\\\\\": 2, \\\\\\\\\\\\\"details\\\\\\\\\\\\\": {\\\\\\\\\\\\\"selectedColumn\\\\\\\\\\\\\": \\\\\\\\\\\\\"four_g\\\\\\\\\\\\\"}}, \\\\\\\\\\\\\"typeProperty\\\\\\\\\\\\\": 2}, {\\\\\\\\\\\\\"column\\\\\\\\\\\\\": {\\\\\\\\\\\\\"type\\\\\\\\\\\\\": 2, \\\\\\\\\\\\\"details\\\\\\\\\\\\\": {\\\\\\\\\\\\\"selectedColumn\\\\\\\\\\\\\": \\\\\\\\\\\\\"int_memory\\\\\\\\\\\\\"}}, \\\\\\\\\\\\\"typeProperty\\\\\\\\\\\\\": 2}, {\\\\\\\\\\\\\"column\\\\\\\\\\\\\": {\\\\\\\\\\\\\"type\\\\\\\\\\\\\": 2, \\\\\\\\\\\\\"details\\\\\\\\\\\\\": {\\\\\\\\\\\\\"selectedColumn\\\\\\\\\\\\\": \\\\\\\\\\\\\"m_dep\\\\\\\\\\\\\"}}, \\\\\\\\\\\\\"typeProperty\\\\\\\\\\\\\": 3}, {\\\\\\\\\\\\\"column\\\\\\\\\\\\\": {\\\\\\\\\\\\\"type\\\\\\\\\\\\\": 2, \\\\\\\\\\\\\"details\\\\\\\\\\\\\": {\\\\\\\\\\\\\"selectedColumn\\\\\\\\\\\\\": \\\\\\\\\\\\\"mobile_wt\\\\\\\\\\\\\"}}, \\\\\\\\\\\\\"typeProperty\\\\\\\\\\\\\": 3}, {\\\\\\\\\\\\\"column\\\\\\\\\\\\\": {\\\\\\\\\\\\\"type\\\\\\\\\\\\\": 2, \\\\\\\\\\\\\"details\\\\\\\\\\\\\": {\\\\\\\\\\\\\"selectedColumn\\\\\\\\\\\\\": \\\\\\\\\\\\\"n_cores\\\\\\\\\\\\\"}}, \\\\\\\\\\\\\"typeProperty\\\\\\\\\\\\\": 2}, {\\\\\\\\\\\\\"column\\\\\\\\\\\\\": {\\\\\\\\\\\\\"type\\\\\\\\\\\\\": 2, \\\\\\\\\\\\\"details\\\\\\\\\\\\\": {\\\\\\\\\\\\\"selectedColumn\\\\\\\\\\\\\": \\\\\\\\\\\\\"pc\\\\\\\\\\\\\"}}, \\\\\\\\\\\\\"typeProperty\\\\\\\\\\\\\": 2}, {\\\\\\\\\\\\\"column\\\\\\\\\\\\\": {\\\\\\\\\\\\\"type\\\\\\\\\\\\\": 2, \\\\\\\\\\\\\"details\\\\\\\\\\\\\": {\\\\\\\\\\\\\"selectedColumn\\\\\\\\\\\\\": \\\\\\\\\\\\\"px_height\\\\\\\\\\\\\"}}, \\\\\\\\\\\\\"typeProperty\\\\\\\\\\\\\": 2}, {\\\\\\\\\\\\\"column\\\\\\\\\\\\\": {\\\\\\\\\\\\\"type\\\\\\\\\\\\\": 2, \\\\\\\\\\\\\"details\\\\\\\\\\\\\": {\\\\\\\\\\\\\"selectedColumn\\\\\\\\\\\\\": \\\\\\\\\\\\\"px_width\\\\\\\\\\\\\"}}, \\\\\\\\\\\\\"typeProperty\\\\\\\\\\\\\": 2}, {\\\\\\\\\\\\\"column\\\\\\\\\\\\\": {\\\\\\\\\\\\\"type\\\\\\\\\\\\\": 2, \\\\\\\\\\\\\"details\\\\\\\\\\\\\": {\\\\\\\\\\\\\"selectedColumn\\\\\\\\\\\\\": \\\\\\\\\\\\\"ram\\\\\\\\\\\\\"}}, \\\\\\\\\\\\\"typeProperty\\\\\\\\\\\\\": 2}, {\\\\\\\\\\\\\"column\\\\\\\\\\\\\": {\\\\\\\\\\\\\"type\\\\\\\\\\\\\": 2, \\\\\\\\\\\\\"details\\\\\\\\\\\\\": {\\\\\\\\\\\\\"selectedColumn\\\\\\\\\\\\\": \\\\\\\\\\\\\"sc_h\\\\\\\\\\\\\"}}, \\\\\\\\\\\\\"typeProperty\\\\\\\\\\\\\": 2}, {\\\\\\\\\\\\\"column\\\\\\\\\\\\\": {\\\\\\\\\\\\\"type\\\\\\\\\\\\\": 2, \\\\\\\\\\\\\"details\\\\\\\\\\\\\": {\\\\\\\\\\\\\"selectedColumn\\\\\\\\\\\\\": \\\\\\\\\\\\\"sc_w\\\\\\\\\\\\\"}}, \\\\\\\\\\\\\"typeProperty\\\\\\\\\\\\\": 2}, {\\\\\\\\\\\\\"column\\\\\\\\\\\\\": {\\\\\\\\\\\\\"type\\\\\\\\\\\\\": 2, \\\\\\\\\\\\\"details\\\\\\\\\\\\\": {\\\\\\\\\\\\\"selectedColumn\\\\\\\\\\\\\": \\\\\\\\\\\\\"talk_time\\\\\\\\\\\\\"}}, \\\\\\\\\\\\\"typeProperty\\\\\\\\\\\\\": 2}, {\\\\\\\\\\\\\"column\\\\\\\\\\\\\": {\\\\\\\\\\\\\"type\\\\\\\\\\\\\": 2, \\\\\\\\\\\\\"details\\\\\\\\\\\\\": {\\\\\\\\\\\\\"selectedColumn\\\\\\\\\\\\\": \\\\\\\\\\\\\"three_g\\\\\\\\\\\\\"}}, \\\\\\\\\\\\\"typeProperty\\\\\\\\\\\\\": 2}, {\\\\\\\\\\\\\"column\\\\\\\\\\\\\": {\\\\\\\\\\\\\"type\\\\\\\\\\\\\": 2, \\\\\\\\\\\\\"details\\\\\\\\\\\\\": {\\\\\\\\\\\\\"selectedColumn\\\\\\\\\\\\\": \\\\\\\\\\\\\"touch_screen\\\\\\\\\\\\\"}}, \\\\\\\\\\\\\"typeProperty\\\\\\\\\\\\\": 2}, {\\\\\\\\\\\\\"column\\\\\\\\\\\\\": {\\\\\\\\\\\\\"type\\\\\\\\\\\\\": 2, \\\\\\\\\\\\\"details\\\\\\\\\\\\\": {\\\\\\\\\\\\\"selectedColumn\\\\\\\\\\\\\": \\\\\\\\\\\\\"wifi\\\\\\\\\\\\\"}}, \\\\\\\\\\\\\"typeProperty\\\\\\\\\\\\\": 2}, {\\\\\\\\\\\\\"column\\\\\\\\\\\\\": {\\\\\\\\\\\\\"type\\\\\\\\\\\\\": 2, \\\\\\\\\\\\\"details\\\\\\\\\\\\\": {\\\\\\\\\\\\\"selectedColumn\\\\\\\\\\\\\": \\\\\\\\\\\\\"price_range\\\\\\\\\\\\\"}}, \\\\\\\\\\\\\"typeProperty\\\\\\\\\\\\\": 2}]}, \\\\\\\\\\\\\"localData\\\\\\\\\\\\\": {}, \\\\\\\\\\\\\"isEnabled\\\\\\\\\\\\\": true, \\\\\\\\\\\\\"name\\\\\\\\\\\\\": null, \\\\\\\\\\\\\"annotation\\\\\\\\\\\\\": null}], \\\\\\\\\\\\\"inspectors\\\\\\\\\\\\\": [], \\\\\\\\\\\\\"meta\\\\\\\\\\\\\": {\\\\\\\\\\\\\"savedDatasetId\\\\\\\\\\\\\": \\\\\\\\\\\\\"345cf5f6-5959-42fb-ada8-9325059ac870\\\\\\\\\\\\\", \\\\\\\\\\\\\"datasetType\\\\\\\\\\\\\": \\\\\\\\\\\\\"tabular\\\\\\\\\\\\\", \\\\\\\\\\\\\"subscriptionId\\\\\\\\\\\\\": \\\\\\\\\\\\\"3d1a56d2-7c81-4118-9790-f85d1acf0c77\\\\\\\\\\\\\", \\\\\\\\\\\\\"workspaceId\\\\\\\\\\\\\": \\\\\\\\\\\\\"1896c5be-cb73-4775-bea9-388c806d3d0a\\\\\\\\\\\\\", \\\\\\\\\\\\\"workspaceLocation\\\\\\\\\\\\\": \\\\\\\\\\\\\"southcentralus\\\\\\\\\\\\\", \\\\\\\\\\\\\"partition_keys\\\\\\\\\\\\\": \\\\\\\\\\\\\"true\\\\\\\\\\\\\"}}\\\\\", \\\\\"activities\\\\\": 0}',\n",
       "  'EnableSubsampling': None,\n",
       "  'runTemplate': 'AutoML',\n",
       "  'azureml.runsource': 'automl',\n",
       "  'display_task_type': 'classification',\n",
       "  'dependencies_versions': '{\"azureml-widgets\": \"1.24.0\", \"azureml-train\": \"1.24.0\", \"azureml-train-restclients-hyperdrive\": \"1.24.0\", \"azureml-train-core\": \"1.24.0\", \"azureml-train-automl\": \"1.24.0\", \"azureml-train-automl-runtime\": \"1.24.0\", \"azureml-train-automl-client\": \"1.24.0\", \"azureml-tensorboard\": \"1.24.0\", \"azureml-telemetry\": \"1.24.0\", \"azureml-sdk\": \"1.24.0\", \"azureml-samples\": \"0+unknown\", \"azureml-pipeline\": \"1.24.0\", \"azureml-pipeline-steps\": \"1.24.0\", \"azureml-pipeline-core\": \"1.24.0\", \"azureml-opendatasets\": \"1.24.0\", \"azureml-model-management-sdk\": \"1.0.1b6.post1\", \"azureml-mlflow\": \"1.24.0\", \"azureml-interpret\": \"1.24.0\", \"azureml-explain-model\": \"1.24.0\", \"azureml-defaults\": \"1.24.0\", \"azureml-dataset-runtime\": \"1.24.0\", \"azureml-dataprep\": \"2.11.1\", \"azureml-dataprep-rslex\": \"1.9.0\", \"azureml-dataprep-native\": \"30.0.0\", \"azureml-datadrift\": \"1.24.0\", \"azureml-core\": \"1.24.0\", \"azureml-contrib-services\": \"1.24.0\", \"azureml-contrib-server\": \"1.24.0\", \"azureml-contrib-reinforcementlearning\": \"1.24.0\", \"azureml-contrib-pipeline-steps\": \"1.24.0\", \"azureml-contrib-notebook\": \"1.24.0\", \"azureml-contrib-gbdt\": \"1.24.0\", \"azureml-contrib-fairness\": \"1.24.0\", \"azureml-contrib-dataset\": \"1.24.0\", \"azureml-cli-common\": \"1.24.0\", \"azureml-automl-runtime\": \"1.24.0\", \"azureml-automl-dnn-nlp\": \"1.24.0\", \"azureml-automl-core\": \"1.24.0\", \"azureml-accel-models\": \"1.24.0\"}',\n",
       "  '_aml_system_scenario_identification': 'Remote.Parent',\n",
       "  'ClientType': 'SDK',\n",
       "  'environment_cpu_name': 'AzureML-AutoML',\n",
       "  'environment_cpu_label': 'prod',\n",
       "  'environment_gpu_name': 'AzureML-AutoML-GPU',\n",
       "  'environment_gpu_label': 'prod',\n",
       "  'root_attribution': 'automl',\n",
       "  'attribution': 'AutoML',\n",
       "  'Orchestrator': 'AutoML',\n",
       "  'CancelUri': 'https://southcentralus.experiments.azureml.net/jasmine/v1.0/subscriptions/3d1a56d2-7c81-4118-9790-f85d1acf0c77/resourceGroups/aml-quickstarts-141462/providers/Microsoft.MachineLearningServices/workspaces/quick-starts-ws-141462/experimentids/45e87e02-3d78-49df-af58-672bdcc25bf1/cancel/AutoML_88212ace-464b-4cbd-8e59-04f3e08e6a74',\n",
       "  'ClientSdkVersion': '1.24.0',\n",
       "  'snapshotId': '00000000-0000-0000-0000-000000000000',\n",
       "  'SetupRunId': 'AutoML_88212ace-464b-4cbd-8e59-04f3e08e6a74_setup',\n",
       "  'SetupRunContainerId': 'dcid.AutoML_88212ace-464b-4cbd-8e59-04f3e08e6a74_setup',\n",
       "  'FeaturizationRunJsonPath': 'featurizer_container.json',\n",
       "  'FeaturizationRunId': 'AutoML_88212ace-464b-4cbd-8e59-04f3e08e6a74_featurize',\n",
       "  'ProblemInfoJsonString': '{\"dataset_num_categorical\": 0, \"is_sparse\": true, \"subsampling\": false, \"dataset_classes\": 4, \"dataset_features\": 137, \"dataset_samples\": 2400, \"single_frequency_class_detected\": false}',\n",
       "  'ModelExplainRunId': 'AutoML_88212ace-464b-4cbd-8e59-04f3e08e6a74_ModelExplain'},\n",
       " 'inputDatasets': [{'dataset': {'id': '345cf5f6-5959-42fb-ada8-9325059ac870'}, 'consumptionDetails': {'type': 'RunInput', 'inputName': 'training_data', 'mechanism': 'Direct'}}],\n",
       " 'outputDatasets': [],\n",
       " 'logFiles': {},\n",
       " 'submittedBy': 'ODL_User 141462'}"
      ]
     },
     "execution_count": 16,
     "metadata": {},
     "output_type": "execute_result"
    }
   ],
   "source": [
    "from azureml.widgets import RunDetails\n",
    "RunDetails(remote_run).show()\n",
    "remote_run.wait_for_completion(show_output=True)"
   ]
  },
  {
   "cell_type": "markdown",
   "metadata": {},
   "source": [
    "## Best Model\n",
    "\n",
    "TODO: In the cell below, get the best model from the automl experiments and display all the properties of the model.\n",
    "\n"
   ]
  },
  {
   "cell_type": "code",
   "execution_count": 18,
   "metadata": {},
   "outputs": [
    {
     "name": "stdout",
     "output_type": "stream",
     "text": [
      "Collecting xgboost==0.90\n",
      "  Downloading xgboost-0.90-py2.py3-none-manylinux1_x86_64.whl (142.8 MB)\n",
      "\u001b[K     |████████████████████████████████| 142.8 MB 25 kB/s /s eta 0:00:01\n",
      "\u001b[?25hRequirement already satisfied: scipy in /anaconda/envs/azureml_py36/lib/python3.6/site-packages (from xgboost==0.90) (1.4.1)\n",
      "Requirement already satisfied: numpy in /anaconda/envs/azureml_py36/lib/python3.6/site-packages (from xgboost==0.90) (1.18.5)\n",
      "Installing collected packages: xgboost\n",
      "  Attempting uninstall: xgboost\n",
      "    Found existing installation: xgboost 1.3.3\n",
      "    Uninstalling xgboost-1.3.3:\n",
      "      Successfully uninstalled xgboost-1.3.3\n",
      "Successfully installed xgboost-0.90\n",
      "Note: you may need to restart the kernel to use updated packages.\n"
     ]
    }
   ],
   "source": [
    "pip install xgboost==0.90"
   ]
  },
  {
   "cell_type": "code",
   "execution_count": 20,
   "metadata": {
    "gather": {
     "logged": 1598431425670
    },
    "jupyter": {
     "outputs_hidden": false,
     "source_hidden": false
    },
    "nteract": {
     "transient": {
      "deleting": false
     }
    }
   },
   "outputs": [
    {
     "ename": "ConfigException",
     "evalue": "ConfigException:\n\tMessage: The model you attempted to retrieve requires 'xgboost' to be installed at '==0.90'. You have 'xgboost==1.3.3', please reinstall 'xgboost==0.90' (e.g. `pip install xgboost==0.90`) and rerun the previous command.\n\tInnerException: XGBoostError: [21:01:29] /mnt/xgboost/src/learner.cc:922: Check failed: header == serialisation_header_: \n\n  If you are loading a serialized model (like pickle in Python) generated by older\n  XGBoost, please export the model by calling `Booster.save_model` from that version\n  first, then load it back in current version.  There's a simple script for helping\n  the process. See:\n\n    https://xgboost.readthedocs.io/en/latest/tutorials/saving_model.html\n\n  for reference to the script, and more details about differences between saving model and\n  serializing.\n\n\nStack trace:\n  [bt] (0) /anaconda/envs/azureml_py36/lib/libxgboost.so(dmlc::LogMessageFatal::~LogMessageFatal()+0x7c) [0x7f016187b64c]\n  [bt] (1) /anaconda/envs/azureml_py36/lib/libxgboost.so(xgboost::LearnerIO::Load(dmlc::Stream*)+0x66b) [0x7f0161985f0b]\n  [bt] (2) /anaconda/envs/azureml_py36/lib/libxgboost.so(XGBoosterUnserializeFromBuffer+0x5e) [0x7f016186f7fe]\n  [bt] (3) /anaconda/envs/azureml_py36/lib/python3.6/lib-dynload/../../libffi.so.6(+0x69dd) [0x7f02504399dd]\n  [bt] (4) /anaconda/envs/azureml_py36/lib/python3.6/lib-dynload/../../libffi.so.6(+0x6067) [0x7f0250439067]\n  [bt] (5) /anaconda/envs/azureml_py36/lib/python3.6/lib-dynload/_ctypes.cpython-36m-x86_64-linux-gnu.so(_ctypes_callproc+0x2ce) [0x7f0250451ede]\n  [bt] (6) /anaconda/envs/azureml_py36/lib/python3.6/lib-dynload/_ctypes.cpython-36m-x86_64-linux-gnu.so(+0x13915) [0x7f0250452915]\n  [bt] (7) /anaconda/envs/azureml_py36/bin/python(_PyObject_FastCallDict+0x8b) [0x55723b877e3b]\n  [bt] (8) /anaconda/envs/azureml_py36/bin/python(+0x199c0e) [0x55723b8ffc0e]\n\n\n\tErrorResponse \n{\n    \"error\": {\n        \"code\": \"UserError\",\n        \"message\": \"The model you attempted to retrieve requires 'xgboost' to be installed at '==0.90'. You have 'xgboost==1.3.3', please reinstall 'xgboost==0.90' (e.g. `pip install xgboost==0.90`) and rerun the previous command.\",\n        \"target\": \"get_output\",\n        \"inner_error\": {\n            \"code\": \"NotSupported\",\n            \"inner_error\": {\n                \"code\": \"IncompatibleOrMissingDependency\"\n            }\n        },\n        \"reference_code\": \"910310e6-2433-40cd-b597-9ec2950bc1d8\"\n    }\n}",
     "output_type": "error",
     "traceback": [
      "\u001b[0;31m---------------------------------------------------------------------------\u001b[0m",
      "\u001b[0;31mXGBoostError\u001b[0m                              Traceback (most recent call last)",
      "\u001b[0;32m/anaconda/envs/azureml_py36/lib/python3.6/site-packages/azureml/train/automl/_model_download_utilities.py\u001b[0m in \u001b[0;36m_load_automl_model\u001b[0;34m(model_path, suffix)\u001b[0m\n\u001b[1;32m    176\u001b[0m             \u001b[0;32mwith\u001b[0m \u001b[0mopen\u001b[0m\u001b[0;34m(\u001b[0m\u001b[0mmodel_path\u001b[0m\u001b[0;34m,\u001b[0m \u001b[0;34m\"rb\"\u001b[0m\u001b[0;34m)\u001b[0m \u001b[0;32mas\u001b[0m \u001b[0mmodel_file\u001b[0m\u001b[0;34m:\u001b[0m\u001b[0;34m\u001b[0m\u001b[0;34m\u001b[0m\u001b[0m\n\u001b[0;32m--> 177\u001b[0;31m                 \u001b[0mfitted_model\u001b[0m \u001b[0;34m=\u001b[0m \u001b[0mpickle\u001b[0m\u001b[0;34m.\u001b[0m\u001b[0mload\u001b[0m\u001b[0;34m(\u001b[0m\u001b[0mmodel_file\u001b[0m\u001b[0;34m)\u001b[0m  \u001b[0;31m# type: Optional[Any]\u001b[0m\u001b[0;34m\u001b[0m\u001b[0;34m\u001b[0m\u001b[0m\n\u001b[0m\u001b[1;32m    178\u001b[0m                 \u001b[0;32mreturn\u001b[0m \u001b[0mfitted_model\u001b[0m\u001b[0;34m\u001b[0m\u001b[0;34m\u001b[0m\u001b[0m\n",
      "\u001b[0;32m/anaconda/envs/azureml_py36/lib/python3.6/site-packages/xgboost/core.py\u001b[0m in \u001b[0;36m__setstate__\u001b[0;34m(self, state)\u001b[0m\n\u001b[1;32m   1087\u001b[0m             \u001b[0m_check_call\u001b[0m\u001b[0;34m(\u001b[0m\u001b[0m_LIB\u001b[0m\u001b[0;34m.\u001b[0m\u001b[0mXGBoosterSetParam\u001b[0m\u001b[0;34m(\u001b[0m\u001b[0mself\u001b[0m\u001b[0;34m.\u001b[0m\u001b[0mhandle\u001b[0m\u001b[0;34m,\u001b[0m \u001b[0mc_str\u001b[0m\u001b[0;34m(\u001b[0m\u001b[0mkey\u001b[0m\u001b[0;34m)\u001b[0m\u001b[0;34m,\u001b[0m \u001b[0mc_str\u001b[0m\u001b[0;34m(\u001b[0m\u001b[0mstr\u001b[0m\u001b[0;34m(\u001b[0m\u001b[0mval\u001b[0m\u001b[0;34m)\u001b[0m\u001b[0;34m)\u001b[0m\u001b[0;34m)\u001b[0m\u001b[0;34m)\u001b[0m\u001b[0;34m\u001b[0m\u001b[0;34m\u001b[0m\u001b[0m\n\u001b[0;32m-> 1088\u001b[0;31m \u001b[0;34m\u001b[0m\u001b[0m\n\u001b[0m\u001b[1;32m   1089\u001b[0m     \u001b[0;32mdef\u001b[0m \u001b[0mupdate\u001b[0m\u001b[0;34m(\u001b[0m\u001b[0mself\u001b[0m\u001b[0;34m,\u001b[0m \u001b[0mdtrain\u001b[0m\u001b[0;34m,\u001b[0m \u001b[0miteration\u001b[0m\u001b[0;34m,\u001b[0m \u001b[0mfobj\u001b[0m\u001b[0;34m=\u001b[0m\u001b[0;32mNone\u001b[0m\u001b[0;34m)\u001b[0m\u001b[0;34m:\u001b[0m\u001b[0;34m\u001b[0m\u001b[0;34m\u001b[0m\u001b[0m\n",
      "\u001b[0;32m/anaconda/envs/azureml_py36/lib/python3.6/site-packages/xgboost/core.py\u001b[0m in \u001b[0;36m_check_call\u001b[0;34m(ret)\u001b[0m\n\u001b[1;32m    188\u001b[0m     \u001b[0mctype\u001b[0m \u001b[0;34m=\u001b[0m \u001b[0mNUMPY_TO_CTYPES_MAPPING\u001b[0m\u001b[0;34m[\u001b[0m\u001b[0mdtype\u001b[0m\u001b[0;34m]\u001b[0m\u001b[0;34m\u001b[0m\u001b[0;34m\u001b[0m\u001b[0m\n\u001b[0;32m--> 189\u001b[0;31m     \u001b[0;32mif\u001b[0m \u001b[0;32mnot\u001b[0m \u001b[0misinstance\u001b[0m\u001b[0;34m(\u001b[0m\u001b[0mcptr\u001b[0m\u001b[0;34m,\u001b[0m \u001b[0mctypes\u001b[0m\u001b[0;34m.\u001b[0m\u001b[0mPOINTER\u001b[0m\u001b[0;34m(\u001b[0m\u001b[0mctype\u001b[0m\u001b[0;34m)\u001b[0m\u001b[0;34m)\u001b[0m\u001b[0;34m:\u001b[0m\u001b[0;34m\u001b[0m\u001b[0;34m\u001b[0m\u001b[0m\n\u001b[0m\u001b[1;32m    190\u001b[0m         \u001b[0;32mraise\u001b[0m \u001b[0mRuntimeError\u001b[0m\u001b[0;34m(\u001b[0m\u001b[0;34m'expected {} pointer'\u001b[0m\u001b[0;34m.\u001b[0m\u001b[0mformat\u001b[0m\u001b[0;34m(\u001b[0m\u001b[0mctype\u001b[0m\u001b[0;34m)\u001b[0m\u001b[0;34m)\u001b[0m\u001b[0;34m\u001b[0m\u001b[0;34m\u001b[0m\u001b[0m\n",
      "\u001b[0;31mXGBoostError\u001b[0m: [21:01:29] /mnt/xgboost/src/learner.cc:922: Check failed: header == serialisation_header_: \n\n  If you are loading a serialized model (like pickle in Python) generated by older\n  XGBoost, please export the model by calling `Booster.save_model` from that version\n  first, then load it back in current version.  There's a simple script for helping\n  the process. See:\n\n    https://xgboost.readthedocs.io/en/latest/tutorials/saving_model.html\n\n  for reference to the script, and more details about differences between saving model and\n  serializing.\n\n\nStack trace:\n  [bt] (0) /anaconda/envs/azureml_py36/lib/libxgboost.so(dmlc::LogMessageFatal::~LogMessageFatal()+0x7c) [0x7f016187b64c]\n  [bt] (1) /anaconda/envs/azureml_py36/lib/libxgboost.so(xgboost::LearnerIO::Load(dmlc::Stream*)+0x66b) [0x7f0161985f0b]\n  [bt] (2) /anaconda/envs/azureml_py36/lib/libxgboost.so(XGBoosterUnserializeFromBuffer+0x5e) [0x7f016186f7fe]\n  [bt] (3) /anaconda/envs/azureml_py36/lib/python3.6/lib-dynload/../../libffi.so.6(+0x69dd) [0x7f02504399dd]\n  [bt] (4) /anaconda/envs/azureml_py36/lib/python3.6/lib-dynload/../../libffi.so.6(+0x6067) [0x7f0250439067]\n  [bt] (5) /anaconda/envs/azureml_py36/lib/python3.6/lib-dynload/_ctypes.cpython-36m-x86_64-linux-gnu.so(_ctypes_callproc+0x2ce) [0x7f0250451ede]\n  [bt] (6) /anaconda/envs/azureml_py36/lib/python3.6/lib-dynload/_ctypes.cpython-36m-x86_64-linux-gnu.so(+0x13915) [0x7f0250452915]\n  [bt] (7) /anaconda/envs/azureml_py36/bin/python(_PyObject_FastCallDict+0x8b) [0x55723b877e3b]\n  [bt] (8) /anaconda/envs/azureml_py36/bin/python(+0x199c0e) [0x55723b8ffc0e]\n\n",
      "\nThe above exception was the direct cause of the following exception:\n",
      "\u001b[0;31mConfigException\u001b[0m                           Traceback (most recent call last)",
      "\u001b[0;32m<ipython-input-20-91c479ec6e4e>\u001b[0m in \u001b[0;36m<module>\u001b[0;34m\u001b[0m\n\u001b[0;32m----> 1\u001b[0;31m \u001b[0mbest_automl\u001b[0m\u001b[0;34m,\u001b[0m \u001b[0mbest_fit_model\u001b[0m \u001b[0;34m=\u001b[0m \u001b[0mremote_run\u001b[0m\u001b[0;34m.\u001b[0m\u001b[0mget_output\u001b[0m\u001b[0;34m(\u001b[0m\u001b[0;34m)\u001b[0m\u001b[0;34m\u001b[0m\u001b[0;34m\u001b[0m\u001b[0m\n\u001b[0m\u001b[1;32m      2\u001b[0m \u001b[0mprint\u001b[0m\u001b[0;34m(\u001b[0m\u001b[0mbest_fit_model\u001b[0m\u001b[0;34m)\u001b[0m\u001b[0;34m\u001b[0m\u001b[0;34m\u001b[0m\u001b[0m\n",
      "\u001b[0;32m/anaconda/envs/azureml_py36/lib/python3.6/site-packages/azureml/train/automl/run.py\u001b[0m in \u001b[0;36mget_output\u001b[0;34m(self, iteration, metric, return_onnx_model, return_split_onnx_model, **kwargs)\u001b[0m\n\u001b[1;32m    702\u001b[0m                     \u001b[0mfitted_model\u001b[0m \u001b[0;34m=\u001b[0m \u001b[0m_download_automl_onnx_model\u001b[0m\u001b[0;34m(\u001b[0m\u001b[0mcurr_run\u001b[0m\u001b[0;34m,\u001b[0m \u001b[0mmodel_name\u001b[0m\u001b[0;34m)\u001b[0m\u001b[0;34m\u001b[0m\u001b[0;34m\u001b[0m\u001b[0m\n\u001b[1;32m    703\u001b[0m                 \u001b[0;32melse\u001b[0m\u001b[0;34m:\u001b[0m\u001b[0;34m\u001b[0m\u001b[0;34m\u001b[0m\u001b[0m\n\u001b[0;32m--> 704\u001b[0;31m                     \u001b[0mfitted_model\u001b[0m \u001b[0;34m=\u001b[0m \u001b[0m_download_automl_model\u001b[0m\u001b[0;34m(\u001b[0m\u001b[0mcurr_run\u001b[0m\u001b[0;34m,\u001b[0m \u001b[0mmodel_name\u001b[0m\u001b[0;34m)\u001b[0m\u001b[0;34m\u001b[0m\u001b[0;34m\u001b[0m\u001b[0m\n\u001b[0m\u001b[1;32m    705\u001b[0m \u001b[0;34m\u001b[0m\u001b[0m\n\u001b[1;32m    706\u001b[0m             \u001b[0;32mreturn\u001b[0m \u001b[0mcurr_run\u001b[0m\u001b[0;34m,\u001b[0m \u001b[0mfitted_model\u001b[0m\u001b[0;34m\u001b[0m\u001b[0;34m\u001b[0m\u001b[0m\n",
      "\u001b[0;32m/anaconda/envs/azureml_py36/lib/python3.6/site-packages/azureml/train/automl/_model_download_utilities.py\u001b[0m in \u001b[0;36m_download_automl_model\u001b[0;34m(run, model_name)\u001b[0m\n\u001b[1;32m     89\u001b[0m             \u001b[0;31m# Pass through any exceptions from loading the model.\u001b[0m\u001b[0;34m\u001b[0m\u001b[0;34m\u001b[0m\u001b[0;34m\u001b[0m\u001b[0m\n\u001b[1;32m     90\u001b[0m             \u001b[0;31m# Try is used here to ensure we can cleanup the side effect of model downlad.\u001b[0m\u001b[0;34m\u001b[0m\u001b[0;34m\u001b[0m\u001b[0;34m\u001b[0m\u001b[0m\n\u001b[0;32m---> 91\u001b[0;31m             \u001b[0mmodel\u001b[0m \u001b[0;34m=\u001b[0m \u001b[0m_load_automl_model\u001b[0m\u001b[0;34m(\u001b[0m\u001b[0mmodel_path\u001b[0m\u001b[0;34m,\u001b[0m \u001b[0msuffix\u001b[0m\u001b[0;34m)\u001b[0m\u001b[0;34m\u001b[0m\u001b[0;34m\u001b[0m\u001b[0m\n\u001b[0m\u001b[1;32m     92\u001b[0m             \u001b[0;32mif\u001b[0m \u001b[0mmodel\u001b[0m \u001b[0;32mis\u001b[0m \u001b[0;32mNone\u001b[0m\u001b[0;34m:\u001b[0m\u001b[0;34m\u001b[0m\u001b[0;34m\u001b[0m\u001b[0m\n\u001b[1;32m     93\u001b[0m                 \u001b[0;31m# If we can retrieve the automl runtime version, we do so we can inform the user what to install.\u001b[0m\u001b[0;34m\u001b[0m\u001b[0;34m\u001b[0m\u001b[0;34m\u001b[0m\u001b[0m\n",
      "\u001b[0;32m/anaconda/envs/azureml_py36/lib/python3.6/site-packages/azureml/train/automl/_model_download_utilities.py\u001b[0m in \u001b[0;36m_load_automl_model\u001b[0;34m(model_path, suffix)\u001b[0m\n\u001b[1;32m    279\u001b[0m                 ),\n\u001b[1;32m    280\u001b[0m                 \u001b[0minner_exception\u001b[0m\u001b[0;34m=\u001b[0m\u001b[0me\u001b[0m\u001b[0;34m\u001b[0m\u001b[0;34m\u001b[0m\u001b[0m\n\u001b[0;32m--> 281\u001b[0;31m             ) from e\n\u001b[0m\u001b[1;32m    282\u001b[0m         \u001b[0;31m# If we hit here, we are in new territory - we didn't run into an ImportError\u001b[0m\u001b[0;34m\u001b[0m\u001b[0;34m\u001b[0m\u001b[0;34m\u001b[0m\u001b[0m\n\u001b[1;32m    283\u001b[0m         \u001b[0;31m# and we didn't have a known exception type (XGBoostError).\u001b[0m\u001b[0;34m\u001b[0m\u001b[0;34m\u001b[0m\u001b[0;34m\u001b[0m\u001b[0m\n",
      "\u001b[0;31mConfigException\u001b[0m: ConfigException:\n\tMessage: The model you attempted to retrieve requires 'xgboost' to be installed at '==0.90'. You have 'xgboost==1.3.3', please reinstall 'xgboost==0.90' (e.g. `pip install xgboost==0.90`) and rerun the previous command.\n\tInnerException: XGBoostError: [21:01:29] /mnt/xgboost/src/learner.cc:922: Check failed: header == serialisation_header_: \n\n  If you are loading a serialized model (like pickle in Python) generated by older\n  XGBoost, please export the model by calling `Booster.save_model` from that version\n  first, then load it back in current version.  There's a simple script for helping\n  the process. See:\n\n    https://xgboost.readthedocs.io/en/latest/tutorials/saving_model.html\n\n  for reference to the script, and more details about differences between saving model and\n  serializing.\n\n\nStack trace:\n  [bt] (0) /anaconda/envs/azureml_py36/lib/libxgboost.so(dmlc::LogMessageFatal::~LogMessageFatal()+0x7c) [0x7f016187b64c]\n  [bt] (1) /anaconda/envs/azureml_py36/lib/libxgboost.so(xgboost::LearnerIO::Load(dmlc::Stream*)+0x66b) [0x7f0161985f0b]\n  [bt] (2) /anaconda/envs/azureml_py36/lib/libxgboost.so(XGBoosterUnserializeFromBuffer+0x5e) [0x7f016186f7fe]\n  [bt] (3) /anaconda/envs/azureml_py36/lib/python3.6/lib-dynload/../../libffi.so.6(+0x69dd) [0x7f02504399dd]\n  [bt] (4) /anaconda/envs/azureml_py36/lib/python3.6/lib-dynload/../../libffi.so.6(+0x6067) [0x7f0250439067]\n  [bt] (5) /anaconda/envs/azureml_py36/lib/python3.6/lib-dynload/_ctypes.cpython-36m-x86_64-linux-gnu.so(_ctypes_callproc+0x2ce) [0x7f0250451ede]\n  [bt] (6) /anaconda/envs/azureml_py36/lib/python3.6/lib-dynload/_ctypes.cpython-36m-x86_64-linux-gnu.so(+0x13915) [0x7f0250452915]\n  [bt] (7) /anaconda/envs/azureml_py36/bin/python(_PyObject_FastCallDict+0x8b) [0x55723b877e3b]\n  [bt] (8) /anaconda/envs/azureml_py36/bin/python(+0x199c0e) [0x55723b8ffc0e]\n\n\n\tErrorResponse \n{\n    \"error\": {\n        \"code\": \"UserError\",\n        \"message\": \"The model you attempted to retrieve requires 'xgboost' to be installed at '==0.90'. You have 'xgboost==1.3.3', please reinstall 'xgboost==0.90' (e.g. `pip install xgboost==0.90`) and rerun the previous command.\",\n        \"target\": \"get_output\",\n        \"inner_error\": {\n            \"code\": \"NotSupported\",\n            \"inner_error\": {\n                \"code\": \"IncompatibleOrMissingDependency\"\n            }\n        },\n        \"reference_code\": \"910310e6-2433-40cd-b597-9ec2950bc1d8\"\n    }\n}"
     ]
    }
   ],
   "source": [
    "best_automl, best_fit_model = remote_run.get_output()\n",
    "print(best_fit_model)"
   ]
  },
  {
   "cell_type": "code",
   "execution_count": 21,
   "metadata": {
    "gather": {
     "logged": 1598431426111
    },
    "jupyter": {
     "outputs_hidden": false,
     "source_hidden": false
    },
    "nteract": {
     "transient": {
      "deleting": false
     }
    }
   },
   "outputs": [
    {
     "ename": "NameError",
     "evalue": "name 'best_fit_model' is not defined",
     "output_type": "error",
     "traceback": [
      "\u001b[0;31m---------------------------------------------------------------------------\u001b[0m",
      "\u001b[0;31mNameError\u001b[0m                                 Traceback (most recent call last)",
      "\u001b[0;32m<ipython-input-21-29a561b0963f>\u001b[0m in \u001b[0;36m<module>\u001b[0;34m\u001b[0m\n\u001b[1;32m      1\u001b[0m \u001b[0;31m#TODO: Save the best model\u001b[0m\u001b[0;34m\u001b[0m\u001b[0;34m\u001b[0m\u001b[0;34m\u001b[0m\u001b[0m\n\u001b[0;32m----> 2\u001b[0;31m \u001b[0mjoblib\u001b[0m\u001b[0;34m.\u001b[0m\u001b[0mdump\u001b[0m\u001b[0;34m(\u001b[0m\u001b[0mbest_fit_model\u001b[0m\u001b[0;34m,\u001b[0m \u001b[0;34m'best_fit_automl_model.pkl'\u001b[0m\u001b[0;34m)\u001b[0m\u001b[0;34m\u001b[0m\u001b[0;34m\u001b[0m\u001b[0m\n\u001b[0m",
      "\u001b[0;31mNameError\u001b[0m: name 'best_fit_model' is not defined"
     ]
    }
   ],
   "source": [
    "#TODO: Save the best model\n",
    "joblib.dump(best_fit_model, 'best_fit_automl_model.pkl')"
   ]
  },
  {
   "cell_type": "markdown",
   "metadata": {},
   "source": [
    "## Model Deployment\n",
    "\n",
    "Remember you have to deploy only one of the two models you trained.. Perform the steps in the rest of this notebook only if you wish to deploy this model.\n",
    "\n",
    "TODO: In the cell below, register the model, create an inference config and deploy the model as a web service."
   ]
  },
  {
   "cell_type": "code",
   "execution_count": null,
   "metadata": {
    "gather": {
     "logged": 1598431435189
    },
    "jupyter": {
     "outputs_hidden": false,
     "source_hidden": false
    },
    "nteract": {
     "transient": {
      "deleting": false
     }
    }
   },
   "outputs": [],
   "source": []
  },
  {
   "cell_type": "markdown",
   "metadata": {
    "collapsed": true,
    "gather": {
     "logged": 1598431657736
    },
    "jupyter": {
     "outputs_hidden": false,
     "source_hidden": false
    },
    "nteract": {
     "transient": {
      "deleting": false
     }
    }
   },
   "source": [
    "TODO: In the cell below, send a request to the web service you deployed to test it."
   ]
  },
  {
   "cell_type": "code",
   "execution_count": null,
   "metadata": {
    "gather": {
     "logged": 1598432707604
    },
    "jupyter": {
     "outputs_hidden": false,
     "source_hidden": false
    },
    "nteract": {
     "transient": {
      "deleting": false
     }
    }
   },
   "outputs": [],
   "source": []
  },
  {
   "cell_type": "markdown",
   "metadata": {
    "collapsed": true,
    "gather": {
     "logged": 1598432765711
    },
    "jupyter": {
     "outputs_hidden": false,
     "source_hidden": false
    },
    "nteract": {
     "transient": {
      "deleting": false
     }
    }
   },
   "source": [
    "TODO: In the cell below, print the logs of the web service and delete the service"
   ]
  },
  {
   "cell_type": "code",
   "execution_count": null,
   "metadata": {
    "jupyter": {
     "outputs_hidden": false,
     "source_hidden": false
    },
    "nteract": {
     "transient": {
      "deleting": false
     }
    }
   },
   "outputs": [],
   "source": []
  }
 ],
 "metadata": {
  "kernel_info": {
   "name": "python3"
  },
  "kernelspec": {
   "display_name": "Python 3",
   "language": "python",
   "name": "python3"
  },
  "language_info": {
   "codemirror_mode": {
    "name": "ipython",
    "version": 3
   },
   "file_extension": ".py",
   "mimetype": "text/x-python",
   "name": "python",
   "nbconvert_exporter": "python",
   "pygments_lexer": "ipython3",
   "version": "3.6.9"
  },
  "microsoft": {
   "host": {
    "AzureML": {
     "notebookHasBeenCompleted": true
    }
   }
  },
  "nteract": {
   "version": "nteract-front-end@1.0.0"
  }
 },
 "nbformat": 4,
 "nbformat_minor": 2
}
