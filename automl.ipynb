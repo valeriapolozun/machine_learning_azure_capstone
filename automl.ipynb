{
 "cells": [
  {
   "cell_type": "markdown",
   "metadata": {},
   "source": [
    "# Automated ML\n",
    "\n",
    "TODO: Import Dependencies. In the cell below, import all the dependencies that you will need to complete the project."
   ]
  },
  {
   "cell_type": "code",
   "execution_count": 1,
   "metadata": {
    "gather": {
     "logged": 1598423888013
    },
    "jupyter": {
     "outputs_hidden": false,
     "source_hidden": false
    },
    "nteract": {
     "transient": {
      "deleting": false
     }
    }
   },
   "outputs": [
    {
     "name": "stdout",
     "output_type": "stream",
     "text": [
      "SDK version: 1.26.0\n"
     ]
    }
   ],
   "source": [
    "import logging\n",
    "import os\n",
    "import csv\n",
    "import joblib, pickle\n",
    "\n",
    "from matplotlib import pyplot as plt\n",
    "import numpy as np\n",
    "import pandas as pd\n",
    "\n",
    "import azureml.core\n",
    "from azureml.core.experiment import Experiment\n",
    "from azureml.core.workspace import Workspace\n",
    "from azureml.train.automl import AutoMLConfig\n",
    "from azureml.core.dataset import Dataset\n",
    "from azureml.data.datapath import DataPath\n",
    "from azureml.data.dataset_factory import TabularDatasetFactory\n",
    "\n",
    "# Check core SDK version number\n",
    "print(\"SDK version:\", azureml.core.VERSION)"
   ]
  },
  {
   "cell_type": "markdown",
   "metadata": {},
   "source": [
    "## Dataset\n",
    "\n",
    "### Overview\n",
    "TODO: In this markdown cell, give an overview of the dataset you are using. Also mention the task you will be performing.\n",
    "\n",
    "\n",
    "TODO: Get data. In the cell below, write code to access the data you will be using in this project. Remember that the dataset needs to be external."
   ]
  },
  {
   "cell_type": "code",
   "execution_count": 2,
   "metadata": {
    "gather": {
     "logged": 1598423890461
    },
    "jupyter": {
     "outputs_hidden": false,
     "source_hidden": false
    },
    "nteract": {
     "transient": {
      "deleting": false
     }
    }
   },
   "outputs": [],
   "source": [
    "ws = Workspace.from_config()\n",
    "\n",
    "# choose a name for experiment\n",
    "experiment_name = 'mobile_price_prediction'\n",
    "\n",
    "experiment=Experiment(ws, experiment_name)"
   ]
  },
  {
   "cell_type": "code",
   "execution_count": 3,
   "metadata": {},
   "outputs": [],
   "source": [
    "from azureml.core.compute import ComputeTarget, AmlCompute\n",
    "from azureml.core.compute_target import ComputeTargetException\n",
    "\n",
    "compute_cluster = 'automl-cluster'\n",
    "\n",
    "try:\n",
    "    comp_trget = ComputeTarget(workspace=ws, name=compute_cluster)\n",
    "    print('Cluster already exists')\n",
    "except ComputeTargetException:\n",
    "    compute_confg = AmlCompute.provisioning_configuration(vm_size=\"STANDARD_D3_V2\",max_nodes=4)\n",
    "    comp_trget = ComputeTarget.create(ws,compute_cluster,compute_confg)"
   ]
  },
  {
   "cell_type": "code",
   "execution_count": 4,
   "metadata": {},
   "outputs": [],
   "source": [
    "input_data = pd.read_csv(\"https://raw.githubusercontent.com/valeriapolozun/machine_learning_azure_capstone/803e04124532b8921a0b19d70aa71abaccf74a1f/Mobile_Price_Classification.csv\")"
   ]
  },
  {
   "cell_type": "code",
   "execution_count": null,
   "metadata": {},
   "outputs": [],
   "source": [
    "#input_data=pd.read_csv('Mobile_Price_Classification.csv')"
   ]
  },
  {
   "cell_type": "code",
   "execution_count": 5,
   "metadata": {},
   "outputs": [
    {
     "data": {
      "text/html": [
       "<div>\n",
       "<style scoped>\n",
       "    .dataframe tbody tr th:only-of-type {\n",
       "        vertical-align: middle;\n",
       "    }\n",
       "\n",
       "    .dataframe tbody tr th {\n",
       "        vertical-align: top;\n",
       "    }\n",
       "\n",
       "    .dataframe thead th {\n",
       "        text-align: right;\n",
       "    }\n",
       "</style>\n",
       "<table border=\"1\" class=\"dataframe\">\n",
       "  <thead>\n",
       "    <tr style=\"text-align: right;\">\n",
       "      <th></th>\n",
       "      <th>battery_power</th>\n",
       "      <th>blue</th>\n",
       "      <th>clock_speed</th>\n",
       "      <th>dual_sim</th>\n",
       "      <th>fc</th>\n",
       "      <th>four_g</th>\n",
       "      <th>int_memory</th>\n",
       "      <th>m_dep</th>\n",
       "      <th>mobile_wt</th>\n",
       "      <th>n_cores</th>\n",
       "      <th>...</th>\n",
       "      <th>px_height</th>\n",
       "      <th>px_width</th>\n",
       "      <th>ram</th>\n",
       "      <th>sc_h</th>\n",
       "      <th>sc_w</th>\n",
       "      <th>talk_time</th>\n",
       "      <th>three_g</th>\n",
       "      <th>touch_screen</th>\n",
       "      <th>wifi</th>\n",
       "      <th>price_range</th>\n",
       "    </tr>\n",
       "  </thead>\n",
       "  <tbody>\n",
       "    <tr>\n",
       "      <th>0</th>\n",
       "      <td>842</td>\n",
       "      <td>0</td>\n",
       "      <td>2.2</td>\n",
       "      <td>0.0</td>\n",
       "      <td>1</td>\n",
       "      <td>0</td>\n",
       "      <td>7</td>\n",
       "      <td>0.6</td>\n",
       "      <td>188.0</td>\n",
       "      <td>2</td>\n",
       "      <td>...</td>\n",
       "      <td>20</td>\n",
       "      <td>756</td>\n",
       "      <td>2549</td>\n",
       "      <td>9</td>\n",
       "      <td>7</td>\n",
       "      <td>19</td>\n",
       "      <td>0</td>\n",
       "      <td>0</td>\n",
       "      <td>1</td>\n",
       "      <td>1</td>\n",
       "    </tr>\n",
       "    <tr>\n",
       "      <th>1</th>\n",
       "      <td>1021</td>\n",
       "      <td>1</td>\n",
       "      <td>0.5</td>\n",
       "      <td>1.0</td>\n",
       "      <td>0</td>\n",
       "      <td>1</td>\n",
       "      <td>53</td>\n",
       "      <td>0.7</td>\n",
       "      <td>136.0</td>\n",
       "      <td>3</td>\n",
       "      <td>...</td>\n",
       "      <td>905</td>\n",
       "      <td>1988</td>\n",
       "      <td>2631</td>\n",
       "      <td>17</td>\n",
       "      <td>3</td>\n",
       "      <td>7</td>\n",
       "      <td>1</td>\n",
       "      <td>1</td>\n",
       "      <td>0</td>\n",
       "      <td>2</td>\n",
       "    </tr>\n",
       "    <tr>\n",
       "      <th>2</th>\n",
       "      <td>563</td>\n",
       "      <td>1</td>\n",
       "      <td>0.5</td>\n",
       "      <td>1.0</td>\n",
       "      <td>2</td>\n",
       "      <td>1</td>\n",
       "      <td>41</td>\n",
       "      <td>0.9</td>\n",
       "      <td>145.0</td>\n",
       "      <td>5</td>\n",
       "      <td>...</td>\n",
       "      <td>1263</td>\n",
       "      <td>1716</td>\n",
       "      <td>2603</td>\n",
       "      <td>11</td>\n",
       "      <td>2</td>\n",
       "      <td>9</td>\n",
       "      <td>1</td>\n",
       "      <td>1</td>\n",
       "      <td>0</td>\n",
       "      <td>2</td>\n",
       "    </tr>\n",
       "    <tr>\n",
       "      <th>3</th>\n",
       "      <td>615</td>\n",
       "      <td>1</td>\n",
       "      <td>2.5</td>\n",
       "      <td>0.0</td>\n",
       "      <td>0</td>\n",
       "      <td>0</td>\n",
       "      <td>10</td>\n",
       "      <td>0.8</td>\n",
       "      <td>131.0</td>\n",
       "      <td>6</td>\n",
       "      <td>...</td>\n",
       "      <td>1216</td>\n",
       "      <td>1786</td>\n",
       "      <td>2769</td>\n",
       "      <td>16</td>\n",
       "      <td>8</td>\n",
       "      <td>11</td>\n",
       "      <td>1</td>\n",
       "      <td>0</td>\n",
       "      <td>0</td>\n",
       "      <td>2</td>\n",
       "    </tr>\n",
       "    <tr>\n",
       "      <th>4</th>\n",
       "      <td>1821</td>\n",
       "      <td>1</td>\n",
       "      <td>1.2</td>\n",
       "      <td>0.0</td>\n",
       "      <td>13</td>\n",
       "      <td>1</td>\n",
       "      <td>44</td>\n",
       "      <td>0.6</td>\n",
       "      <td>141.0</td>\n",
       "      <td>2</td>\n",
       "      <td>...</td>\n",
       "      <td>1208</td>\n",
       "      <td>1212</td>\n",
       "      <td>1411</td>\n",
       "      <td>8</td>\n",
       "      <td>2</td>\n",
       "      <td>15</td>\n",
       "      <td>1</td>\n",
       "      <td>1</td>\n",
       "      <td>0</td>\n",
       "      <td>1</td>\n",
       "    </tr>\n",
       "    <tr>\n",
       "      <th>...</th>\n",
       "      <td>...</td>\n",
       "      <td>...</td>\n",
       "      <td>...</td>\n",
       "      <td>...</td>\n",
       "      <td>...</td>\n",
       "      <td>...</td>\n",
       "      <td>...</td>\n",
       "      <td>...</td>\n",
       "      <td>...</td>\n",
       "      <td>...</td>\n",
       "      <td>...</td>\n",
       "      <td>...</td>\n",
       "      <td>...</td>\n",
       "      <td>...</td>\n",
       "      <td>...</td>\n",
       "      <td>...</td>\n",
       "      <td>...</td>\n",
       "      <td>...</td>\n",
       "      <td>...</td>\n",
       "      <td>...</td>\n",
       "      <td>...</td>\n",
       "    </tr>\n",
       "    <tr>\n",
       "      <th>2995</th>\n",
       "      <td>996</td>\n",
       "      <td>1700</td>\n",
       "      <td>1.0</td>\n",
       "      <td>1.9</td>\n",
       "      <td>0</td>\n",
       "      <td>0</td>\n",
       "      <td>1</td>\n",
       "      <td>54.0</td>\n",
       "      <td>0.5</td>\n",
       "      <td>170</td>\n",
       "      <td>...</td>\n",
       "      <td>17</td>\n",
       "      <td>644</td>\n",
       "      <td>913</td>\n",
       "      <td>2121</td>\n",
       "      <td>14</td>\n",
       "      <td>8</td>\n",
       "      <td>15</td>\n",
       "      <td>1</td>\n",
       "      <td>1</td>\n",
       "      <td>0</td>\n",
       "    </tr>\n",
       "    <tr>\n",
       "      <th>2996</th>\n",
       "      <td>997</td>\n",
       "      <td>609</td>\n",
       "      <td>0.0</td>\n",
       "      <td>1.8</td>\n",
       "      <td>1</td>\n",
       "      <td>0</td>\n",
       "      <td>0</td>\n",
       "      <td>13.0</td>\n",
       "      <td>0.9</td>\n",
       "      <td>186</td>\n",
       "      <td>...</td>\n",
       "      <td>2</td>\n",
       "      <td>1152</td>\n",
       "      <td>1632</td>\n",
       "      <td>1933</td>\n",
       "      <td>8</td>\n",
       "      <td>1</td>\n",
       "      <td>19</td>\n",
       "      <td>0</td>\n",
       "      <td>1</td>\n",
       "      <td>1</td>\n",
       "    </tr>\n",
       "    <tr>\n",
       "      <th>2997</th>\n",
       "      <td>998</td>\n",
       "      <td>1185</td>\n",
       "      <td>0.0</td>\n",
       "      <td>1.4</td>\n",
       "      <td>0</td>\n",
       "      <td>1</td>\n",
       "      <td>1</td>\n",
       "      <td>8.0</td>\n",
       "      <td>0.5</td>\n",
       "      <td>80</td>\n",
       "      <td>...</td>\n",
       "      <td>12</td>\n",
       "      <td>477</td>\n",
       "      <td>825</td>\n",
       "      <td>1223</td>\n",
       "      <td>5</td>\n",
       "      <td>0</td>\n",
       "      <td>14</td>\n",
       "      <td>1</td>\n",
       "      <td>0</td>\n",
       "      <td>0</td>\n",
       "    </tr>\n",
       "    <tr>\n",
       "      <th>2998</th>\n",
       "      <td>999</td>\n",
       "      <td>1533</td>\n",
       "      <td>1.0</td>\n",
       "      <td>0.5</td>\n",
       "      <td>1</td>\n",
       "      <td>0</td>\n",
       "      <td>0</td>\n",
       "      <td>50.0</td>\n",
       "      <td>0.4</td>\n",
       "      <td>171</td>\n",
       "      <td>...</td>\n",
       "      <td>12</td>\n",
       "      <td>38</td>\n",
       "      <td>832</td>\n",
       "      <td>2509</td>\n",
       "      <td>15</td>\n",
       "      <td>11</td>\n",
       "      <td>6</td>\n",
       "      <td>0</td>\n",
       "      <td>1</td>\n",
       "      <td>0</td>\n",
       "    </tr>\n",
       "    <tr>\n",
       "      <th>2999</th>\n",
       "      <td>1000</td>\n",
       "      <td>1270</td>\n",
       "      <td>1.0</td>\n",
       "      <td>0.5</td>\n",
       "      <td>0</td>\n",
       "      <td>4</td>\n",
       "      <td>1</td>\n",
       "      <td>35.0</td>\n",
       "      <td>0.1</td>\n",
       "      <td>140</td>\n",
       "      <td>...</td>\n",
       "      <td>19</td>\n",
       "      <td>457</td>\n",
       "      <td>608</td>\n",
       "      <td>2828</td>\n",
       "      <td>9</td>\n",
       "      <td>2</td>\n",
       "      <td>3</td>\n",
       "      <td>1</td>\n",
       "      <td>0</td>\n",
       "      <td>1</td>\n",
       "    </tr>\n",
       "  </tbody>\n",
       "</table>\n",
       "<p>3000 rows × 21 columns</p>\n",
       "</div>"
      ],
      "text/plain": [
       "      battery_power  blue  clock_speed  dual_sim  fc  four_g  int_memory  \\\n",
       "0               842     0          2.2       0.0   1       0           7   \n",
       "1              1021     1          0.5       1.0   0       1          53   \n",
       "2               563     1          0.5       1.0   2       1          41   \n",
       "3               615     1          2.5       0.0   0       0          10   \n",
       "4              1821     1          1.2       0.0  13       1          44   \n",
       "...             ...   ...          ...       ...  ..     ...         ...   \n",
       "2995            996  1700          1.0       1.9   0       0           1   \n",
       "2996            997   609          0.0       1.8   1       0           0   \n",
       "2997            998  1185          0.0       1.4   0       1           1   \n",
       "2998            999  1533          1.0       0.5   1       0           0   \n",
       "2999           1000  1270          1.0       0.5   0       4           1   \n",
       "\n",
       "      m_dep  mobile_wt  n_cores  ...  px_height  px_width   ram  sc_h  sc_w  \\\n",
       "0       0.6      188.0        2  ...         20       756  2549     9     7   \n",
       "1       0.7      136.0        3  ...        905      1988  2631    17     3   \n",
       "2       0.9      145.0        5  ...       1263      1716  2603    11     2   \n",
       "3       0.8      131.0        6  ...       1216      1786  2769    16     8   \n",
       "4       0.6      141.0        2  ...       1208      1212  1411     8     2   \n",
       "...     ...        ...      ...  ...        ...       ...   ...   ...   ...   \n",
       "2995   54.0        0.5      170  ...         17       644   913  2121    14   \n",
       "2996   13.0        0.9      186  ...          2      1152  1632  1933     8   \n",
       "2997    8.0        0.5       80  ...         12       477   825  1223     5   \n",
       "2998   50.0        0.4      171  ...         12        38   832  2509    15   \n",
       "2999   35.0        0.1      140  ...         19       457   608  2828     9   \n",
       "\n",
       "      talk_time  three_g  touch_screen  wifi  price_range  \n",
       "0            19        0             0     1            1  \n",
       "1             7        1             1     0            2  \n",
       "2             9        1             1     0            2  \n",
       "3            11        1             0     0            2  \n",
       "4            15        1             1     0            1  \n",
       "...         ...      ...           ...   ...          ...  \n",
       "2995          8       15             1     1            0  \n",
       "2996          1       19             0     1            1  \n",
       "2997          0       14             1     0            0  \n",
       "2998         11        6             0     1            0  \n",
       "2999          2        3             1     0            1  \n",
       "\n",
       "[3000 rows x 21 columns]"
      ]
     },
     "execution_count": 5,
     "metadata": {},
     "output_type": "execute_result"
    }
   ],
   "source": [
    "input_data"
   ]
  },
  {
   "cell_type": "code",
   "execution_count": 6,
   "metadata": {},
   "outputs": [
    {
     "data": {
      "text/html": [
       "<div>\n",
       "<style scoped>\n",
       "    .dataframe tbody tr th:only-of-type {\n",
       "        vertical-align: middle;\n",
       "    }\n",
       "\n",
       "    .dataframe tbody tr th {\n",
       "        vertical-align: top;\n",
       "    }\n",
       "\n",
       "    .dataframe thead th {\n",
       "        text-align: right;\n",
       "    }\n",
       "</style>\n",
       "<table border=\"1\" class=\"dataframe\">\n",
       "  <thead>\n",
       "    <tr style=\"text-align: right;\">\n",
       "      <th></th>\n",
       "      <th>battery_power</th>\n",
       "      <th>blue</th>\n",
       "      <th>clock_speed</th>\n",
       "      <th>dual_sim</th>\n",
       "      <th>fc</th>\n",
       "      <th>four_g</th>\n",
       "      <th>int_memory</th>\n",
       "      <th>m_dep</th>\n",
       "      <th>mobile_wt</th>\n",
       "      <th>n_cores</th>\n",
       "      <th>...</th>\n",
       "      <th>px_height</th>\n",
       "      <th>px_width</th>\n",
       "      <th>ram</th>\n",
       "      <th>sc_h</th>\n",
       "      <th>sc_w</th>\n",
       "      <th>talk_time</th>\n",
       "      <th>three_g</th>\n",
       "      <th>touch_screen</th>\n",
       "      <th>wifi</th>\n",
       "      <th>price_range</th>\n",
       "    </tr>\n",
       "  </thead>\n",
       "  <tbody>\n",
       "    <tr>\n",
       "      <th>2244</th>\n",
       "      <td>245</td>\n",
       "      <td>1292</td>\n",
       "      <td>1.0</td>\n",
       "      <td>3.0</td>\n",
       "      <td>1</td>\n",
       "      <td>1</td>\n",
       "      <td>1</td>\n",
       "      <td>63.0</td>\n",
       "      <td>0.3</td>\n",
       "      <td>157</td>\n",
       "      <td>...</td>\n",
       "      <td>8</td>\n",
       "      <td>452</td>\n",
       "      <td>1309</td>\n",
       "      <td>1413</td>\n",
       "      <td>13</td>\n",
       "      <td>2</td>\n",
       "      <td>10</td>\n",
       "      <td>1</td>\n",
       "      <td>1</td>\n",
       "      <td>1</td>\n",
       "    </tr>\n",
       "    <tr>\n",
       "      <th>2039</th>\n",
       "      <td>40</td>\n",
       "      <td>567</td>\n",
       "      <td>0.0</td>\n",
       "      <td>2.6</td>\n",
       "      <td>0</td>\n",
       "      <td>0</td>\n",
       "      <td>0</td>\n",
       "      <td>2.0</td>\n",
       "      <td>0.2</td>\n",
       "      <td>87</td>\n",
       "      <td>...</td>\n",
       "      <td>1</td>\n",
       "      <td>181</td>\n",
       "      <td>566</td>\n",
       "      <td>2243</td>\n",
       "      <td>16</td>\n",
       "      <td>6</td>\n",
       "      <td>10</td>\n",
       "      <td>0</td>\n",
       "      <td>1</td>\n",
       "      <td>1</td>\n",
       "    </tr>\n",
       "    <tr>\n",
       "      <th>2867</th>\n",
       "      <td>868</td>\n",
       "      <td>1670</td>\n",
       "      <td>0.0</td>\n",
       "      <td>0.5</td>\n",
       "      <td>0</td>\n",
       "      <td>1</td>\n",
       "      <td>1</td>\n",
       "      <td>33.0</td>\n",
       "      <td>0.9</td>\n",
       "      <td>127</td>\n",
       "      <td>...</td>\n",
       "      <td>3</td>\n",
       "      <td>185</td>\n",
       "      <td>807</td>\n",
       "      <td>1830</td>\n",
       "      <td>5</td>\n",
       "      <td>0</td>\n",
       "      <td>6</td>\n",
       "      <td>1</td>\n",
       "      <td>1</td>\n",
       "      <td>1</td>\n",
       "    </tr>\n",
       "    <tr>\n",
       "      <th>2046</th>\n",
       "      <td>47</td>\n",
       "      <td>1094</td>\n",
       "      <td>0.0</td>\n",
       "      <td>2.3</td>\n",
       "      <td>1</td>\n",
       "      <td>2</td>\n",
       "      <td>0</td>\n",
       "      <td>20.0</td>\n",
       "      <td>0.9</td>\n",
       "      <td>135</td>\n",
       "      <td>...</td>\n",
       "      <td>5</td>\n",
       "      <td>221</td>\n",
       "      <td>610</td>\n",
       "      <td>1413</td>\n",
       "      <td>7</td>\n",
       "      <td>0</td>\n",
       "      <td>16</td>\n",
       "      <td>0</td>\n",
       "      <td>1</td>\n",
       "      <td>1</td>\n",
       "    </tr>\n",
       "    <tr>\n",
       "      <th>2245</th>\n",
       "      <td>246</td>\n",
       "      <td>1927</td>\n",
       "      <td>1.0</td>\n",
       "      <td>2.1</td>\n",
       "      <td>0</td>\n",
       "      <td>0</td>\n",
       "      <td>0</td>\n",
       "      <td>5.0</td>\n",
       "      <td>0.9</td>\n",
       "      <td>139</td>\n",
       "      <td>...</td>\n",
       "      <td>1</td>\n",
       "      <td>603</td>\n",
       "      <td>1228</td>\n",
       "      <td>2913</td>\n",
       "      <td>15</td>\n",
       "      <td>10</td>\n",
       "      <td>8</td>\n",
       "      <td>0</td>\n",
       "      <td>0</td>\n",
       "      <td>0</td>\n",
       "    </tr>\n",
       "  </tbody>\n",
       "</table>\n",
       "<p>5 rows × 21 columns</p>\n",
       "</div>"
      ],
      "text/plain": [
       "      battery_power  blue  clock_speed  dual_sim  fc  four_g  int_memory  \\\n",
       "2244            245  1292          1.0       3.0   1       1           1   \n",
       "2039             40   567          0.0       2.6   0       0           0   \n",
       "2867            868  1670          0.0       0.5   0       1           1   \n",
       "2046             47  1094          0.0       2.3   1       2           0   \n",
       "2245            246  1927          1.0       2.1   0       0           0   \n",
       "\n",
       "      m_dep  mobile_wt  n_cores  ...  px_height  px_width   ram  sc_h  sc_w  \\\n",
       "2244   63.0        0.3      157  ...          8       452  1309  1413    13   \n",
       "2039    2.0        0.2       87  ...          1       181   566  2243    16   \n",
       "2867   33.0        0.9      127  ...          3       185   807  1830     5   \n",
       "2046   20.0        0.9      135  ...          5       221   610  1413     7   \n",
       "2245    5.0        0.9      139  ...          1       603  1228  2913    15   \n",
       "\n",
       "      talk_time  three_g  touch_screen  wifi  price_range  \n",
       "2244          2       10             1     1            1  \n",
       "2039          6       10             0     1            1  \n",
       "2867          0        6             1     1            1  \n",
       "2046          0       16             0     1            1  \n",
       "2245         10        8             0     0            0  \n",
       "\n",
       "[5 rows x 21 columns]"
      ]
     },
     "execution_count": 6,
     "metadata": {},
     "output_type": "execute_result"
    }
   ],
   "source": [
    "# split data into training and test data\n",
    "from sklearn.model_selection import train_test_split\n",
    "train_data, test_data = train_test_split(input_data,test_size=0.2)\n",
    "train_data.head()"
   ]
  },
  {
   "cell_type": "code",
   "execution_count": 8,
   "metadata": {},
   "outputs": [],
   "source": [
    "if \"data\" not in os.listdir():\n",
    "    #os.mkdir(\"./training\")if \"training\" not in os.listdir():\n",
    "    os.mkdir(\"./data\")"
   ]
  },
  {
   "cell_type": "code",
   "execution_count": 12,
   "metadata": {},
   "outputs": [],
   "source": [
    "# Save training data to a csv file \n",
    "train_data.to_csv(\"data/mobile_price_traindata.csv\", index=False)"
   ]
  },
  {
   "cell_type": "code",
   "execution_count": 13,
   "metadata": {},
   "outputs": [
    {
     "data": {
      "text/plain": [
       "{\n",
       "  \"name\": \"workspaceblobstore\",\n",
       "  \"container_name\": \"azureml-blobstore-b0f4c1c7-d8b2-4fdf-892e-1a0e9f0381bd\",\n",
       "  \"account_name\": \"mlstrg142384\",\n",
       "  \"protocol\": \"https\",\n",
       "  \"endpoint\": \"core.windows.net\"\n",
       "}"
      ]
     },
     "execution_count": 13,
     "metadata": {},
     "output_type": "execute_result"
    }
   ],
   "source": [
    "data_store = ws.get_default_datastore()\n",
    "data_store"
   ]
  },
  {
   "cell_type": "code",
   "execution_count": 14,
   "metadata": {},
   "outputs": [
    {
     "name": "stdout",
     "output_type": "stream",
     "text": [
      "Uploading an estimated of 1 files\n",
      "Uploading data/mobile_price_traindata.csv\n",
      "Uploaded data/mobile_price_traindata.csv, 1 files out of an estimated total of 1\n",
      "Uploaded 1 files\n"
     ]
    },
    {
     "data": {
      "text/plain": [
       "$AZUREML_DATAREFERENCE_0569ca4e90b04f05a07ca68a25b676ae"
      ]
     },
     "execution_count": 14,
     "metadata": {},
     "output_type": "execute_result"
    }
   ],
   "source": [
    "data_store.upload(src_dir='data/',target_path='pricing', overwrite=True, show_progress=True)\n"
   ]
  },
  {
   "cell_type": "code",
   "execution_count": 15,
   "metadata": {},
   "outputs": [],
   "source": [
    "train_data = Dataset.Tabular.from_delimited_files(path = [(data_store, 'pricing/mobile_price_traindata.csv')])"
   ]
  },
  {
   "cell_type": "code",
   "execution_count": 16,
   "metadata": {},
   "outputs": [
    {
     "data": {
      "text/plain": [
       "{\n",
       "  \"source\": [\n",
       "    \"('workspaceblobstore', 'pricing/mobile_price_traindata.csv')\"\n",
       "  ],\n",
       "  \"definition\": [\n",
       "    \"GetDatastoreFiles\",\n",
       "    \"ParseDelimited\",\n",
       "    \"DropColumns\",\n",
       "    \"SetColumnTypes\"\n",
       "  ]\n",
       "}"
      ]
     },
     "execution_count": 16,
     "metadata": {},
     "output_type": "execute_result"
    }
   ],
   "source": [
    "train_data"
   ]
  },
  {
   "cell_type": "markdown",
   "metadata": {},
   "source": [
    "## AutoML Configuration\n",
    "\n",
    "TODO: Explain why you chose the automl settings and cofiguration you used below."
   ]
  },
  {
   "cell_type": "code",
   "execution_count": 22,
   "metadata": {
    "gather": {
     "logged": 1598429217746
    },
    "jupyter": {
     "outputs_hidden": false,
     "source_hidden": false
    },
    "nteract": {
     "transient": {
      "deleting": false
     }
    }
   },
   "outputs": [],
   "source": [
    "# TODO: Put your automl settings here\n",
    "automl_settings = {\n",
    "    \"experiment_timeout_minutes\": 30,\n",
    "    \"max_concurrent_iterations\": 4,\n",
    "    \"primary_metric\" : 'accuracy'\n",
    "}\n",
    "\n",
    "# TODO: Put your automl config here\n",
    "automl_config = AutoMLConfig(\n",
    "                             compute_target=comp_trget,\n",
    "                             task = \"classification\",\n",
    "                             training_data=train_data,\n",
    "                             label_column_name=\"price_range\",   \n",
    "                             enable_early_stopping= True,\n",
    "                             featurization= 'auto',\n",
    "                             n_cross_validations=5,\n",
    "                             **automl_settings\n",
    ")"
   ]
  },
  {
   "cell_type": "code",
   "execution_count": 18,
   "metadata": {
    "gather": {
     "logged": 1598431107951
    },
    "jupyter": {
     "outputs_hidden": false,
     "source_hidden": false
    },
    "nteract": {
     "transient": {
      "deleting": false
     }
    }
   },
   "outputs": [
    {
     "name": "stdout",
     "output_type": "stream",
     "text": [
      "Submitting remote run.\n",
      "No run_configuration provided, running on automl-cluster with default configuration\n",
      "Running on remote compute: automl-cluster\n"
     ]
    },
    {
     "data": {
      "text/html": [
       "<table style=\"width:100%\"><tr><th>Experiment</th><th>Id</th><th>Type</th><th>Status</th><th>Details Page</th><th>Docs Page</th></tr><tr><td>mobile_price_prediction</td><td>AutoML_d7a83541-50a4-4b5f-b3fe-f441aa8e2a7d</td><td>automl</td><td>NotStarted</td><td><a href=\"https://ml.azure.com/runs/AutoML_d7a83541-50a4-4b5f-b3fe-f441aa8e2a7d?wsid=/subscriptions/d7f39349-a66b-446e-aba6-0053c2cf1c11/resourcegroups/aml-quickstarts-142384/workspaces/quick-starts-ws-142384&amp;tid=660b3398-b80e-49d2-bc5b-ac1dc93b5254\" target=\"_blank\" rel=\"noopener\">Link to Azure Machine Learning studio</a></td><td><a href=\"https://docs.microsoft.com/en-us/python/api/overview/azure/ml/intro?view=azure-ml-py\" target=\"_blank\" rel=\"noopener\">Link to Documentation</a></td></tr></table>"
      ],
      "text/plain": [
       "<IPython.core.display.HTML object>"
      ]
     },
     "metadata": {},
     "output_type": "display_data"
    },
    {
     "name": "stdout",
     "output_type": "stream",
     "text": [
      "\n",
      "Current status: FeaturesGeneration. Generating features for the dataset.\n",
      "Current status: DatasetCrossValidationSplit. Generating individually featurized CV splits.\n",
      "Current status: ModelSelection. Beginning model selection.\n",
      "\n",
      "****************************************************************************************************\n",
      "DATA GUARDRAILS: \n",
      "\n",
      "TYPE:         Class balancing detection\n",
      "STATUS:       PASSED\n",
      "DESCRIPTION:  Your inputs were analyzed, and all classes are balanced in your training data.\n",
      "              Learn more about imbalanced data: https://aka.ms/AutomatedMLImbalancedData\n",
      "\n",
      "****************************************************************************************************\n",
      "\n",
      "TYPE:         Missing feature values imputation\n",
      "STATUS:       PASSED\n",
      "DESCRIPTION:  No feature missing values were detected in the training data.\n",
      "              Learn more about missing value imputation: https://aka.ms/AutomatedMLFeaturization\n",
      "\n",
      "****************************************************************************************************\n",
      "\n",
      "TYPE:         High cardinality feature detection\n",
      "STATUS:       PASSED\n",
      "DESCRIPTION:  Your inputs were analyzed, and no high cardinality features were detected.\n",
      "              Learn more about high cardinality feature handling: https://aka.ms/AutomatedMLFeaturization\n",
      "\n",
      "****************************************************************************************************\n",
      "\n",
      "****************************************************************************************************\n",
      "ITERATION: The iteration being evaluated.\n",
      "PIPELINE: A summary description of the pipeline being evaluated.\n",
      "DURATION: Time taken for the current iteration.\n",
      "METRIC: The result of computing score on the fitted pipeline.\n",
      "BEST: The best observed score thus far.\n",
      "****************************************************************************************************\n",
      "\n",
      " ITERATION   PIPELINE                                       DURATION      METRIC      BEST\n",
      "         2   MaxAbsScaler RandomForest                      0:00:42       0.6138    0.6138\n",
      "         1   MaxAbsScaler XGBoostClassifier                 0:00:49       0.7412    0.7412\n",
      "         3   MaxAbsScaler RandomForest                      0:00:51       0.5546    0.7412\n",
      "         0   MaxAbsScaler LightGBM                          0:00:56       0.7750    0.7750\n",
      "         7   SparseNormalizer XGBoostClassifier             0:00:54       0.7779    0.7779\n",
      "         8   MaxAbsScaler LogisticRegression                0:00:52       0.6358    0.7779\n",
      "         5   MaxAbsScaler RandomForest                      0:03:07       0.3942    0.7779\n",
      "         4   MaxAbsScaler RandomForest                      0:03:07       0.5067    0.7779\n",
      "         6   SparseNormalizer XGBoostClassifier             0:03:16       0.7829    0.7829\n",
      "         9   MaxAbsScaler RandomForest                      0:01:03       0.6421    0.7829\n",
      "        11   StandardScalerWrapper RandomForest             0:00:47       0.6746    0.7829\n",
      "        10   MaxAbsScaler GradientBoosting                  0:00:51       0.6771    0.7829\n",
      "        12   MaxAbsScaler RandomForest                      0:00:44       0.6696    0.7829\n",
      "        13   MaxAbsScaler RandomForest                      0:00:55       0.6658    0.7829\n",
      "        14   MaxAbsScaler LightGBM                          0:00:45       0.6646    0.7829\n",
      "        15   SparseNormalizer XGBoostClassifier             0:00:53       0.7225    0.7829\n",
      "        16   SparseNormalizer XGBoostClassifier             0:01:04       0.7679    0.7829\n",
      "        17   MaxAbsScaler ExtremeRandomTrees                0:00:53       0.6733    0.7829\n",
      "        18   MaxAbsScaler LogisticRegression                0:00:48       0.6167    0.7829\n",
      "        19   MaxAbsScaler LogisticRegression                0:00:51       0.6358    0.7829\n",
      "        20   SparseNormalizer XGBoostClassifier             0:00:46       0.7658    0.7829\n",
      "        22   MaxAbsScaler LightGBM                          0:00:56       0.7187    0.7829\n",
      "        21   SparseNormalizer XGBoostClassifier             0:00:58       0.7542    0.7829\n",
      "        23   SparseNormalizer LightGBM                      0:00:49       0.7613    0.7829\n",
      "        24   TruncatedSVDWrapper XGBoostClassifier          0:00:51       0.7971    0.7971\n",
      "        25   SparseNormalizer XGBoostClassifier             0:00:48       0.3179    0.7971\n",
      "        26   SparseNormalizer XGBoostClassifier             0:00:58       0.7537    0.7971\n",
      "        27   MaxAbsScaler LightGBM                          0:00:58       0.7421    0.7971\n",
      "        28   MaxAbsScaler LightGBM                          0:00:50       0.6642    0.7971\n",
      "        29   SparseNormalizer XGBoostClassifier             0:01:20       0.7683    0.7971\n",
      "        30   SparseNormalizer XGBoostClassifier             0:01:06       0.7704    0.7971\n",
      "        31   SparseNormalizer XGBoostClassifier             0:02:04       0.7538    0.7971\n",
      "        32   SparseNormalizer XGBoostClassifier             0:01:36       0.7629    0.7971\n",
      "        34   SparseNormalizer LightGBM                      0:00:45       0.7283    0.7971\n",
      "        33   StandardScalerWrapper XGBoostClassifier        0:00:54       0.7025    0.7971\n",
      "        35   TruncatedSVDWrapper XGBoostClassifier          0:00:47       0.7846    0.7971\n",
      "        36   SparseNormalizer XGBoostClassifier             0:00:52       0.7387    0.7971\n",
      "        37   MaxAbsScaler LightGBM                          0:00:48       0.6667    0.7971\n",
      "        38   SparseNormalizer XGBoostClassifier             0:00:55          nan    0.7971\n",
      "        39                                                  0:00:07          nan    0.7971\n",
      "        40                                                  0:00:15          nan    0.7971\n",
      "        41    VotingEnsemble                                0:01:19       0.8008    0.8008\n",
      "        42    StackEnsemble                                 0:02:01       0.8025    0.8025\n"
     ]
    }
   ],
   "source": [
    "# TODO: Submit your experiment\n",
    "remote_run = experiment.submit(automl_config, show_output = True)"
   ]
  },
  {
   "cell_type": "markdown",
   "metadata": {},
   "source": [
    "## Run Details\n",
    "\n",
    "OPTIONAL: Write about the different models trained and their performance. Why do you think some models did better than others?\n",
    "\n",
    "\n",
    "TODO: In the cell below, use the `RunDetails` widget to show the different experiments."
   ]
  },
  {
   "cell_type": "code",
   "execution_count": 23,
   "metadata": {
    "gather": {
     "logged": 1598431121770
    },
    "jupyter": {
     "outputs_hidden": false,
     "source_hidden": false
    },
    "nteract": {
     "transient": {
      "deleting": false
     }
    }
   },
   "outputs": [
    {
     "name": "stdout",
     "output_type": "stream",
     "text": [
      "Submitting remote run.\n",
      "No run_configuration provided, running on automl-cluster with default configuration\n",
      "Running on remote compute: automl-cluster\n"
     ]
    },
    {
     "data": {
      "text/html": [
       "<table style=\"width:100%\"><tr><th>Experiment</th><th>Id</th><th>Type</th><th>Status</th><th>Details Page</th><th>Docs Page</th></tr><tr><td>mobile_price_prediction</td><td>AutoML_53d60ec2-9229-44ac-934f-289e492875b6</td><td>automl</td><td>NotStarted</td><td><a href=\"https://ml.azure.com/runs/AutoML_53d60ec2-9229-44ac-934f-289e492875b6?wsid=/subscriptions/d7f39349-a66b-446e-aba6-0053c2cf1c11/resourcegroups/aml-quickstarts-142384/workspaces/quick-starts-ws-142384&amp;tid=660b3398-b80e-49d2-bc5b-ac1dc93b5254\" target=\"_blank\" rel=\"noopener\">Link to Azure Machine Learning studio</a></td><td><a href=\"https://docs.microsoft.com/en-us/python/api/overview/azure/ml/intro?view=azure-ml-py\" target=\"_blank\" rel=\"noopener\">Link to Documentation</a></td></tr></table>"
      ],
      "text/plain": [
       "<IPython.core.display.HTML object>"
      ]
     },
     "metadata": {},
     "output_type": "display_data"
    },
    {
     "name": "stdout",
     "output_type": "stream",
     "text": [
      "\n",
      "Current status: FeaturesGeneration. Generating features for the dataset.\n",
      "Current status: DatasetCrossValidationSplit. Generating individually featurized CV splits.\n",
      "Current status: ModelSelection. Beginning model selection.\n",
      "\n",
      "****************************************************************************************************\n",
      "DATA GUARDRAILS: \n",
      "\n",
      "TYPE:         Class balancing detection\n",
      "STATUS:       PASSED\n",
      "DESCRIPTION:  Your inputs were analyzed, and all classes are balanced in your training data.\n",
      "              Learn more about imbalanced data: https://aka.ms/AutomatedMLImbalancedData\n",
      "\n",
      "****************************************************************************************************\n",
      "\n",
      "TYPE:         Missing feature values imputation\n",
      "STATUS:       PASSED\n",
      "DESCRIPTION:  No feature missing values were detected in the training data.\n",
      "              Learn more about missing value imputation: https://aka.ms/AutomatedMLFeaturization\n",
      "\n",
      "****************************************************************************************************\n",
      "\n",
      "TYPE:         High cardinality feature detection\n",
      "STATUS:       PASSED\n",
      "DESCRIPTION:  Your inputs were analyzed, and no high cardinality features were detected.\n",
      "              Learn more about high cardinality feature handling: https://aka.ms/AutomatedMLFeaturization\n",
      "\n",
      "****************************************************************************************************\n",
      "\n",
      "****************************************************************************************************\n",
      "ITERATION: The iteration being evaluated.\n",
      "PIPELINE: A summary description of the pipeline being evaluated.\n",
      "DURATION: Time taken for the current iteration.\n",
      "METRIC: The result of computing score on the fitted pipeline.\n",
      "BEST: The best observed score thus far.\n",
      "****************************************************************************************************\n",
      "\n",
      " ITERATION   PIPELINE                                       DURATION      METRIC      BEST\n",
      "         0   MaxAbsScaler LightGBM                          0:00:46       0.7750    0.7750\n",
      "         1   MaxAbsScaler XGBoostClassifier                 0:00:58       0.7412    0.7750\n",
      "         4   MaxAbsScaler RandomForest                      0:00:42       0.5225    0.7750\n",
      "         2   MaxAbsScaler RandomForest                      0:01:41       0.5887    0.7750\n",
      "         5   MaxAbsScaler RandomForest                      0:00:46       0.4225    0.7750\n",
      "         7   SparseNormalizer XGBoostClassifier             0:01:00       0.7829    0.7829\n",
      "         3   MaxAbsScaler RandomForest                      0:03:12       0.5437    0.7829\n",
      "         8   SparseNormalizer XGBoostClassifier             0:00:51       0.7779    0.7829\n",
      "         9   StandardScalerWrapper RandomForest             0:00:52       0.6746    0.7829\n",
      "        10   StandardScalerWrapper XGBoostClassifier        0:00:43       0.6787    0.7829\n",
      "         6   SparseNormalizer XGBoostClassifier             0:02:36       0.7775    0.7829\n",
      "        11   MaxAbsScaler RandomForest                      0:00:47       0.6700    0.7829\n",
      "        12   MaxAbsScaler LogisticRegression                0:00:42       0.6150    0.7829\n",
      "        13   SparseNormalizer LightGBM                      0:00:44       0.7383    0.7829\n",
      "        14   MaxAbsScaler LightGBM                          0:00:45       0.6650    0.7829\n",
      "        15   MaxAbsScaler ExtremeRandomTrees                0:01:01       0.6688    0.7829\n",
      "        16   MaxAbsScaler LightGBM                          0:00:41       0.6633    0.7829\n",
      "        17   MaxAbsScaler ExtremeRandomTrees                0:01:05       0.6908    0.7829\n",
      "        18   SparseNormalizer XGBoostClassifier             0:00:55       0.7450    0.7829\n",
      "        19   StandardScalerWrapper ExtremeRandomTrees       0:00:55       0.6767    0.7829\n",
      "        20   MaxAbsScaler LightGBM                          0:00:59       0.7421    0.7829\n",
      "        21   StandardScalerWrapper LightGBM                 0:00:58       0.6867    0.7829\n",
      "        22   SparseNormalizer GradientBoosting              0:00:54       0.6442    0.7829\n",
      "        23   MaxAbsScaler LogisticRegression                0:00:52       0.6483    0.7829\n",
      "        24   StandardScalerWrapper LightGBM                 0:00:49       0.7488    0.7829\n",
      "        25   StandardScalerWrapper XGBoostClassifier        0:00:43       0.3179    0.7829\n",
      "        26   SparseNormalizer ExtremeRandomTrees            0:00:45       0.6604    0.7829\n",
      "        27   StandardScalerWrapper RandomForest             0:00:53       0.5512    0.7829\n",
      "        28   StandardScalerWrapper LightGBM                 0:00:48       0.6713    0.7829\n",
      "        30   SparseNormalizer XGBoostClassifier             0:00:42       0.3179    0.7829\n",
      "        29   SparseNormalizer XGBoostClassifier             0:00:59       0.7346    0.7829\n",
      "        31   SparseNormalizer XGBoostClassifier             0:01:06       0.7792    0.7829\n",
      "        32   StandardScalerWrapper LightGBM                 0:00:52       0.6329    0.7829\n",
      "        33   SparseNormalizer LightGBM                      0:00:42       0.6912    0.7829\n",
      "        34   MaxAbsScaler LightGBM                          0:00:34       0.7242    0.7829\n",
      "        35    VotingEnsemble                                0:01:06       0.7942    0.7942\n",
      "        36    StackEnsemble                                 0:01:31       0.7871    0.7942\n"
     ]
    },
    {
     "data": {
      "application/vnd.jupyter.widget-view+json": {
       "model_id": "9cb3c0a5200542c8b1f26e5d825d8b2f",
       "version_major": 2,
       "version_minor": 0
      },
      "text/plain": [
       "_AutoMLWidget(widget_settings={'childWidgetDisplay': 'popup', 'send_telemetry': False, 'log_level': 'INFO', 's…"
      ]
     },
     "metadata": {},
     "output_type": "display_data"
    },
    {
     "data": {
      "application/aml.mini.widget.v1": "{\"status\": \"Completed\", \"workbench_run_details_uri\": \"https://ml.azure.com/runs/AutoML_53d60ec2-9229-44ac-934f-289e492875b6?wsid=/subscriptions/d7f39349-a66b-446e-aba6-0053c2cf1c11/resourcegroups/aml-quickstarts-142384/workspaces/quick-starts-ws-142384&tid=660b3398-b80e-49d2-bc5b-ac1dc93b5254\", \"run_id\": \"AutoML_53d60ec2-9229-44ac-934f-289e492875b6\", \"run_properties\": {\"run_id\": \"AutoML_53d60ec2-9229-44ac-934f-289e492875b6\", \"created_utc\": \"2021-04-11T09:06:49.477461Z\", \"properties\": {\"num_iterations\": \"1000\", \"training_type\": \"TrainFull\", \"acquisition_function\": \"EI\", \"primary_metric\": \"accuracy\", \"train_split\": \"0\", \"acquisition_parameter\": \"0\", \"num_cross_validation\": \"5\", \"target\": \"automl-cluster\", \"AMLSettingsJsonString\": \"{\\\"path\\\":null,\\\"name\\\":\\\"mobile_price_prediction\\\",\\\"subscription_id\\\":\\\"d7f39349-a66b-446e-aba6-0053c2cf1c11\\\",\\\"resource_group\\\":\\\"aml-quickstarts-142384\\\",\\\"workspace_name\\\":\\\"quick-starts-ws-142384\\\",\\\"region\\\":\\\"southcentralus\\\",\\\"compute_target\\\":\\\"automl-cluster\\\",\\\"spark_service\\\":null,\\\"azure_service\\\":\\\"remote\\\",\\\"many_models\\\":false,\\\"pipeline_fetch_max_batch_size\\\":1,\\\"enable_batch_run\\\":false,\\\"enable_run_restructure\\\":false,\\\"iterations\\\":1000,\\\"primary_metric\\\":\\\"accuracy\\\",\\\"task_type\\\":\\\"classification\\\",\\\"data_script\\\":null,\\\"test_size\\\":0.0,\\\"validation_size\\\":0.0,\\\"n_cross_validations\\\":5,\\\"y_min\\\":null,\\\"y_max\\\":null,\\\"num_classes\\\":null,\\\"featurization\\\":\\\"auto\\\",\\\"_ignore_package_version_incompatibilities\\\":false,\\\"is_timeseries\\\":false,\\\"max_cores_per_iteration\\\":1,\\\"max_concurrent_iterations\\\":4,\\\"iteration_timeout_minutes\\\":null,\\\"mem_in_mb\\\":null,\\\"enforce_time_on_windows\\\":false,\\\"experiment_timeout_minutes\\\":30,\\\"experiment_exit_score\\\":null,\\\"whitelist_models\\\":null,\\\"blacklist_algos\\\":[\\\"TensorFlowLinearClassifier\\\",\\\"TensorFlowDNN\\\"],\\\"supported_models\\\":[\\\"DecisionTree\\\",\\\"GradientBoosting\\\",\\\"LightGBM\\\",\\\"KNN\\\",\\\"BernoulliNaiveBayes\\\",\\\"TensorFlowLinearClassifier\\\",\\\"RandomForest\\\",\\\"SVM\\\",\\\"ExtremeRandomTrees\\\",\\\"AveragedPerceptronClassifier\\\",\\\"XGBoostClassifier\\\",\\\"LogisticRegression\\\",\\\"MultinomialNaiveBayes\\\",\\\"TensorFlowDNN\\\",\\\"SGD\\\",\\\"LinearSVM\\\"],\\\"private_models\\\":[],\\\"auto_blacklist\\\":true,\\\"blacklist_samples_reached\\\":false,\\\"exclude_nan_labels\\\":true,\\\"verbosity\\\":20,\\\"_debug_log\\\":\\\"azureml_automl.log\\\",\\\"show_warnings\\\":false,\\\"model_explainability\\\":true,\\\"service_url\\\":null,\\\"sdk_url\\\":null,\\\"sdk_packages\\\":null,\\\"enable_onnx_compatible_models\\\":false,\\\"enable_split_onnx_featurizer_estimator_models\\\":false,\\\"vm_type\\\":\\\"STANDARD_D3_V2\\\",\\\"telemetry_verbosity\\\":20,\\\"send_telemetry\\\":true,\\\"enable_dnn\\\":false,\\\"scenario\\\":\\\"SDK-1.13.0\\\",\\\"environment_label\\\":null,\\\"save_mlflow\\\":false,\\\"force_text_dnn\\\":false,\\\"enable_feature_sweeping\\\":true,\\\"enable_early_stopping\\\":true,\\\"early_stopping_n_iters\\\":10,\\\"metrics\\\":null,\\\"enable_metric_confidence\\\":false,\\\"enable_ensembling\\\":true,\\\"enable_stack_ensembling\\\":true,\\\"ensemble_iterations\\\":15,\\\"enable_tf\\\":false,\\\"enable_subsampling\\\":null,\\\"subsample_seed\\\":null,\\\"enable_nimbusml\\\":false,\\\"enable_streaming\\\":false,\\\"force_streaming\\\":false,\\\"track_child_runs\\\":true,\\\"allowed_private_models\\\":[],\\\"label_column_name\\\":\\\"price_range\\\",\\\"weight_column_name\\\":null,\\\"cv_split_column_names\\\":null,\\\"enable_local_managed\\\":false,\\\"_local_managed_run_id\\\":null,\\\"cost_mode\\\":1,\\\"lag_length\\\":0,\\\"metric_operation\\\":\\\"maximize\\\",\\\"preprocess\\\":true}\", \"DataPrepJsonString\": \"{\\\\\\\"training_data\\\\\\\": {\\\\\\\"datasetId\\\\\\\": \\\\\\\"e648d5e6-1796-4541-a68e-529661d3dc01\\\\\\\"}, \\\\\\\"datasets\\\\\\\": 0}\", \"EnableSubsampling\": null, \"runTemplate\": \"AutoML\", \"azureml.runsource\": \"automl\", \"display_task_type\": \"classification\", \"dependencies_versions\": \"{\\\"azureml-widgets\\\": \\\"1.26.0\\\", \\\"azureml-train\\\": \\\"1.26.0\\\", \\\"azureml-train-restclients-hyperdrive\\\": \\\"1.26.0\\\", \\\"azureml-train-core\\\": \\\"1.26.0\\\", \\\"azureml-train-automl\\\": \\\"1.26.0\\\", \\\"azureml-train-automl-runtime\\\": \\\"1.26.0\\\", \\\"azureml-train-automl-client\\\": \\\"1.26.0\\\", \\\"azureml-tensorboard\\\": \\\"1.26.0\\\", \\\"azureml-telemetry\\\": \\\"1.26.0\\\", \\\"azureml-sdk\\\": \\\"1.26.0\\\", \\\"azureml-samples\\\": \\\"0+unknown\\\", \\\"azureml-pipeline\\\": \\\"1.26.0\\\", \\\"azureml-pipeline-steps\\\": \\\"1.26.0\\\", \\\"azureml-pipeline-core\\\": \\\"1.26.0\\\", \\\"azureml-opendatasets\\\": \\\"1.26.0\\\", \\\"azureml-model-management-sdk\\\": \\\"1.0.1b6.post1\\\", \\\"azureml-mlflow\\\": \\\"1.26.0\\\", \\\"azureml-interpret\\\": \\\"1.26.0\\\", \\\"azureml-explain-model\\\": \\\"1.26.0\\\", \\\"azureml-defaults\\\": \\\"1.26.0\\\", \\\"azureml-dataset-runtime\\\": \\\"1.26.0\\\", \\\"azureml-dataprep\\\": \\\"2.13.2\\\", \\\"azureml-dataprep-rslex\\\": \\\"1.11.2\\\", \\\"azureml-dataprep-native\\\": \\\"32.0.0\\\", \\\"azureml-datadrift\\\": \\\"1.26.0\\\", \\\"azureml-core\\\": \\\"1.26.0\\\", \\\"azureml-contrib-services\\\": \\\"1.26.0\\\", \\\"azureml-contrib-server\\\": \\\"1.26.0\\\", \\\"azureml-contrib-reinforcementlearning\\\": \\\"1.26.0\\\", \\\"azureml-contrib-pipeline-steps\\\": \\\"1.26.0\\\", \\\"azureml-contrib-notebook\\\": \\\"1.26.0\\\", \\\"azureml-contrib-gbdt\\\": \\\"1.26.0\\\", \\\"azureml-contrib-fairness\\\": \\\"1.26.0\\\", \\\"azureml-contrib-dataset\\\": \\\"1.26.0\\\", \\\"azureml-cli-common\\\": \\\"1.26.0\\\", \\\"azureml-automl-runtime\\\": \\\"1.26.0\\\", \\\"azureml-automl-dnn-nlp\\\": \\\"1.26.0\\\", \\\"azureml-automl-core\\\": \\\"1.26.0\\\", \\\"azureml-accel-models\\\": \\\"1.26.0\\\"}\", \"_aml_system_scenario_identification\": \"Remote.Parent\", \"ClientType\": \"SDK\", \"environment_cpu_name\": \"AzureML-AutoML\", \"environment_cpu_label\": \"prod\", \"environment_gpu_name\": \"AzureML-AutoML-GPU\", \"environment_gpu_label\": \"prod\", \"root_attribution\": \"automl\", \"attribution\": \"AutoML\", \"Orchestrator\": \"AutoML\", \"CancelUri\": \"https://southcentralus.experiments.azureml.net/jasmine/v1.0/subscriptions/d7f39349-a66b-446e-aba6-0053c2cf1c11/resourceGroups/aml-quickstarts-142384/providers/Microsoft.MachineLearningServices/workspaces/quick-starts-ws-142384/experimentids/085bde66-6ed9-4cbc-9aaa-110013e2d107/cancel/AutoML_53d60ec2-9229-44ac-934f-289e492875b6\", \"ClientSdkVersion\": \"1.25.0\", \"snapshotId\": \"00000000-0000-0000-0000-000000000000\", \"SetupRunId\": \"AutoML_53d60ec2-9229-44ac-934f-289e492875b6_setup\", \"SetupRunContainerId\": \"dcid.AutoML_53d60ec2-9229-44ac-934f-289e492875b6_setup\", \"FeaturizationRunJsonPath\": \"featurizer_container.json\", \"FeaturizationRunId\": \"AutoML_53d60ec2-9229-44ac-934f-289e492875b6_featurize\", \"ProblemInfoJsonString\": \"{\\\"dataset_num_categorical\\\": 0, \\\"is_sparse\\\": true, \\\"subsampling\\\": false, \\\"dataset_classes\\\": 4, \\\"dataset_features\\\": 137, \\\"dataset_samples\\\": 2400, \\\"single_frequency_class_detected\\\": false}\", \"ModelExplainRunId\": \"AutoML_53d60ec2-9229-44ac-934f-289e492875b6_ModelExplain\"}, \"tags\": {\"model_explain_run\": \"best_run\", \"_aml_system_azureml.automlComponent\": \"AutoML\", \"pipeline_id\": \"\", \"score\": \"\", \"predicted_cost\": \"\", \"fit_time\": \"\", \"training_percent\": \"\", \"iteration\": \"\", \"run_preprocessor\": \"\", \"run_algorithm\": \"\", \"dynamic_whitelisting_iterations\": \"<25>;<30>;\", \"automl_best_child_run_id\": \"AutoML_53d60ec2-9229-44ac-934f-289e492875b6_35\", \"model_explain_best_run_child_id\": \"AutoML_53d60ec2-9229-44ac-934f-289e492875b6_35\"}, \"end_time_utc\": \"2021-04-11T09:31:24.249983Z\", \"status\": \"Completed\", \"log_files\": {}, \"log_groups\": [], \"run_duration\": \"0:24:34\", \"run_number\": \"49\", \"run_queued_details\": {\"status\": \"Completed\", \"details\": null}}, \"child_runs\": [{\"run_id\": \"AutoML_53d60ec2-9229-44ac-934f-289e492875b6_2\", \"run_number\": 53, \"metric\": null, \"status\": \"Completed\", \"run_type\": \"azureml.scriptrun\", \"training_percent\": \"100\", \"start_time\": \"2021-04-11T09:18:53.010299Z\", \"end_time\": \"2021-04-11T09:20:33.685275Z\", \"created_time\": \"2021-04-11T09:16:53.834171Z\", \"created_time_dt\": \"2021-04-11T09:16:53.834171Z\", \"duration\": \"0:03:39\", \"iteration\": \"2\", \"goal\": \"accuracy_max\", \"run_name\": \"MaxAbsScaler, RandomForest\", \"run_properties\": \"copy=True\", \"primary_metric\": 0.58875, \"best_metric\": 0.775}, {\"run_id\": \"AutoML_53d60ec2-9229-44ac-934f-289e492875b6_3\", \"run_number\": 54, \"metric\": null, \"status\": \"Completed\", \"run_type\": \"azureml.scriptrun\", \"training_percent\": \"100\", \"start_time\": \"2021-04-11T09:18:52.611623Z\", \"end_time\": \"2021-04-11T09:22:04.357814Z\", \"created_time\": \"2021-04-11T09:16:53.838931Z\", \"created_time_dt\": \"2021-04-11T09:16:53.838931Z\", \"duration\": \"0:05:10\", \"iteration\": \"3\", \"goal\": \"accuracy_max\", \"run_name\": \"MaxAbsScaler, RandomForest\", \"run_properties\": \"copy=True\", \"primary_metric\": 0.54375, \"best_metric\": 0.775}, {\"run_id\": \"AutoML_53d60ec2-9229-44ac-934f-289e492875b6_1\", \"run_number\": 55, \"metric\": null, \"status\": \"Completed\", \"run_type\": \"azureml.scriptrun\", \"training_percent\": \"100\", \"start_time\": \"2021-04-11T09:18:12.072879Z\", \"end_time\": \"2021-04-11T09:19:09.797168Z\", \"created_time\": \"2021-04-11T09:16:53.8574Z\", \"created_time_dt\": \"2021-04-11T09:16:53.8574Z\", \"duration\": \"0:02:15\", \"iteration\": \"1\", \"goal\": \"accuracy_max\", \"run_name\": \"MaxAbsScaler, XGBoostClassifier\", \"run_properties\": \"copy=True\", \"primary_metric\": 0.74125, \"best_metric\": 0.775}, {\"run_id\": \"AutoML_53d60ec2-9229-44ac-934f-289e492875b6_0\", \"run_number\": 56, \"metric\": null, \"status\": \"Completed\", \"run_type\": \"azureml.scriptrun\", \"training_percent\": \"100\", \"start_time\": \"2021-04-11T09:17:08.061013Z\", \"end_time\": \"2021-04-11T09:17:53.685919Z\", \"created_time\": \"2021-04-11T09:16:53.958019Z\", \"created_time_dt\": \"2021-04-11T09:16:53.958019Z\", \"duration\": \"0:00:59\", \"iteration\": \"0\", \"goal\": \"accuracy_max\", \"run_name\": \"MaxAbsScaler, LightGBM\", \"run_properties\": \"copy=True\", \"primary_metric\": 0.775, \"best_metric\": 0.775}, {\"run_id\": \"AutoML_53d60ec2-9229-44ac-934f-289e492875b6_4\", \"run_number\": 57, \"metric\": null, \"status\": \"Completed\", \"run_type\": \"azureml.scriptrun\", \"training_percent\": \"100\", \"start_time\": \"2021-04-11T09:19:28.839709Z\", \"end_time\": \"2021-04-11T09:20:10.584475Z\", \"created_time\": \"2021-04-11T09:17:54.99754Z\", \"created_time_dt\": \"2021-04-11T09:17:54.99754Z\", \"duration\": \"0:02:15\", \"iteration\": \"4\", \"goal\": \"accuracy_max\", \"run_name\": \"MaxAbsScaler, RandomForest\", \"run_properties\": \"copy=True\", \"primary_metric\": 0.5225, \"best_metric\": 0.775}, {\"run_id\": \"AutoML_53d60ec2-9229-44ac-934f-289e492875b6_5\", \"run_number\": 58, \"metric\": null, \"status\": \"Completed\", \"run_type\": \"azureml.scriptrun\", \"training_percent\": \"100\", \"start_time\": \"2021-04-11T09:20:29.743901Z\", \"end_time\": \"2021-04-11T09:21:15.596342Z\", \"created_time\": \"2021-04-11T09:19:11.566154Z\", \"created_time_dt\": \"2021-04-11T09:19:11.566154Z\", \"duration\": \"0:02:04\", \"iteration\": \"5\", \"goal\": \"accuracy_max\", \"run_name\": \"MaxAbsScaler, RandomForest\", \"run_properties\": \"copy=True\", \"primary_metric\": 0.4225, \"best_metric\": 0.775}, {\"run_id\": \"AutoML_53d60ec2-9229-44ac-934f-289e492875b6_6\", \"run_number\": 59, \"metric\": null, \"status\": \"Completed\", \"run_type\": \"azureml.scriptrun\", \"training_percent\": \"100\", \"start_time\": \"2021-04-11T09:20:35.424049Z\", \"end_time\": \"2021-04-11T09:23:11.053931Z\", \"created_time\": \"2021-04-11T09:20:14.045842Z\", \"created_time_dt\": \"2021-04-11T09:20:14.045842Z\", \"duration\": \"0:02:57\", \"iteration\": \"6\", \"goal\": \"accuracy_max\", \"run_name\": \"SparseNormalizer, XGBoostClassifier\", \"run_properties\": \"<azureml.automl.runtime.shared.model_wrappers.SparseNormalizer object at 0x7f589c37eb38\", \"primary_metric\": 0.7775, \"best_metric\": 0.7775}, {\"run_id\": \"AutoML_53d60ec2-9229-44ac-934f-289e492875b6_7\", \"run_number\": 60, \"metric\": null, \"status\": \"Completed\", \"run_type\": \"azureml.scriptrun\", \"training_percent\": \"100\", \"start_time\": \"2021-04-11T09:20:48.520218Z\", \"end_time\": \"2021-04-11T09:21:48.89429Z\", \"created_time\": \"2021-04-11T09:20:37.217465Z\", \"created_time_dt\": \"2021-04-11T09:20:37.217465Z\", \"duration\": \"0:01:11\", \"iteration\": \"7\", \"goal\": \"accuracy_max\", \"run_name\": \"SparseNormalizer, XGBoostClassifier\", \"run_properties\": \"<azureml.automl.runtime.shared.model_wrappers.SparseNormalizer object at 0x7fdfdcae2128\", \"primary_metric\": 0.78291667, \"best_metric\": 0.78291667}, {\"run_id\": \"AutoML_53d60ec2-9229-44ac-934f-289e492875b6_8\", \"run_number\": 61, \"metric\": null, \"status\": \"Completed\", \"run_type\": \"azureml.scriptrun\", \"training_percent\": \"100\", \"start_time\": \"2021-04-11T09:21:29.219016Z\", \"end_time\": \"2021-04-11T09:22:20.000137Z\", \"created_time\": \"2021-04-11T09:21:18.85444Z\", \"created_time_dt\": \"2021-04-11T09:21:18.85444Z\", \"duration\": \"0:01:01\", \"iteration\": \"8\", \"goal\": \"accuracy_max\", \"run_name\": \"SparseNormalizer, XGBoostClassifier\", \"run_properties\": \"<azureml.automl.runtime.shared.model_wrappers.SparseNormalizer object at 0x7f24770230b8\", \"primary_metric\": 0.77791667, \"best_metric\": 0.78291667}, {\"run_id\": \"AutoML_53d60ec2-9229-44ac-934f-289e492875b6_9\", \"run_number\": 62, \"metric\": null, \"status\": \"Completed\", \"run_type\": \"azureml.scriptrun\", \"training_percent\": \"100\", \"start_time\": \"2021-04-11T09:22:05.287056Z\", \"end_time\": \"2021-04-11T09:22:56.875208Z\", \"created_time\": \"2021-04-11T09:21:52.766862Z\", \"created_time_dt\": \"2021-04-11T09:21:52.766862Z\", \"duration\": \"0:01:04\", \"iteration\": \"9\", \"goal\": \"accuracy_max\", \"run_name\": \"StandardScalerWrapper, RandomForest\", \"run_properties\": \"<azureml.automl.runtime.shared.model_wrappers.StandardScalerWrapper object at 0x7f19b6f230f0\", \"primary_metric\": 0.67458333, \"best_metric\": 0.78291667}, {\"run_id\": \"AutoML_53d60ec2-9229-44ac-934f-289e492875b6_10\", \"run_number\": 63, \"metric\": null, \"status\": \"Completed\", \"run_type\": \"azureml.scriptrun\", \"training_percent\": \"100\", \"start_time\": \"2021-04-11T09:22:19.376772Z\", \"end_time\": \"2021-04-11T09:23:01.992881Z\", \"created_time\": \"2021-04-11T09:22:06.753408Z\", \"created_time_dt\": \"2021-04-11T09:22:06.753408Z\", \"duration\": \"0:00:55\", \"iteration\": \"10\", \"goal\": \"accuracy_max\", \"run_name\": \"StandardScalerWrapper, XGBoostClassifier\", \"run_properties\": \"<azureml.automl.runtime.shared.model_wrappers.StandardScalerWrapper object at 0x7fd9dc021208\", \"primary_metric\": 0.67875, \"best_metric\": 0.78291667}, {\"run_id\": \"AutoML_53d60ec2-9229-44ac-934f-289e492875b6_11\", \"run_number\": 64, \"metric\": null, \"status\": \"Completed\", \"run_type\": \"azureml.scriptrun\", \"training_percent\": \"100\", \"start_time\": \"2021-04-11T09:22:33.10279Z\", \"end_time\": \"2021-04-11T09:23:20.351541Z\", \"created_time\": \"2021-04-11T09:22:22.574147Z\", \"created_time_dt\": \"2021-04-11T09:22:22.574147Z\", \"duration\": \"0:00:57\", \"iteration\": \"11\", \"goal\": \"accuracy_max\", \"run_name\": \"MaxAbsScaler, RandomForest\", \"run_properties\": \"copy=True\", \"primary_metric\": 0.67, \"best_metric\": 0.78291667}, {\"run_id\": \"AutoML_53d60ec2-9229-44ac-934f-289e492875b6_12\", \"run_number\": 65, \"metric\": null, \"status\": \"Completed\", \"run_type\": \"azureml.scriptrun\", \"training_percent\": \"100\", \"start_time\": \"2021-04-11T09:23:12.425093Z\", \"end_time\": \"2021-04-11T09:23:54.813804Z\", \"created_time\": \"2021-04-11T09:23:00.067466Z\", \"created_time_dt\": \"2021-04-11T09:23:00.067466Z\", \"duration\": \"0:00:54\", \"iteration\": \"12\", \"goal\": \"accuracy_max\", \"run_name\": \"MaxAbsScaler, LogisticRegression\", \"run_properties\": \"copy=True\", \"primary_metric\": 0.615, \"best_metric\": 0.78291667}, {\"run_id\": \"AutoML_53d60ec2-9229-44ac-934f-289e492875b6_13\", \"run_number\": 66, \"metric\": null, \"status\": \"Completed\", \"run_type\": \"azureml.scriptrun\", \"training_percent\": \"100\", \"start_time\": \"2021-04-11T09:23:18.740838Z\", \"end_time\": \"2021-04-11T09:24:02.94556Z\", \"created_time\": \"2021-04-11T09:23:07.496882Z\", \"created_time_dt\": \"2021-04-11T09:23:07.496882Z\", \"duration\": \"0:00:55\", \"iteration\": \"13\", \"goal\": \"accuracy_max\", \"run_name\": \"SparseNormalizer, LightGBM\", \"run_properties\": \"<azureml.automl.runtime.shared.model_wrappers.SparseNormalizer object at 0x7f2bdac18c88\", \"primary_metric\": 0.73833333, \"best_metric\": 0.78291667}, {\"run_id\": \"AutoML_53d60ec2-9229-44ac-934f-289e492875b6_14\", \"run_number\": 67, \"metric\": null, \"status\": \"Completed\", \"run_type\": \"azureml.scriptrun\", \"training_percent\": \"100\", \"start_time\": \"2021-04-11T09:23:25.642767Z\", \"end_time\": \"2021-04-11T09:24:11.017388Z\", \"created_time\": \"2021-04-11T09:23:13.545276Z\", \"created_time_dt\": \"2021-04-11T09:23:13.545276Z\", \"duration\": \"0:00:57\", \"iteration\": \"14\", \"goal\": \"accuracy_max\", \"run_name\": \"MaxAbsScaler, LightGBM\", \"run_properties\": \"copy=True\", \"primary_metric\": 0.665, \"best_metric\": 0.78291667}, {\"run_id\": \"AutoML_53d60ec2-9229-44ac-934f-289e492875b6_15\", \"run_number\": 68, \"metric\": null, \"status\": \"Completed\", \"run_type\": \"azureml.scriptrun\", \"training_percent\": \"100\", \"start_time\": \"2021-04-11T09:23:38.09604Z\", \"end_time\": \"2021-04-11T09:24:38.880573Z\", \"created_time\": \"2021-04-11T09:23:23.412608Z\", \"created_time_dt\": \"2021-04-11T09:23:23.412608Z\", \"duration\": \"0:01:15\", \"iteration\": \"15\", \"goal\": \"accuracy_max\", \"run_name\": \"MaxAbsScaler, ExtremeRandomTrees\", \"run_properties\": \"copy=True\", \"primary_metric\": 0.66875, \"best_metric\": 0.78291667}, {\"run_id\": \"AutoML_53d60ec2-9229-44ac-934f-289e492875b6_16\", \"run_number\": 69, \"metric\": null, \"status\": \"Completed\", \"run_type\": \"azureml.scriptrun\", \"training_percent\": \"100\", \"start_time\": \"2021-04-11T09:24:13.40195Z\", \"end_time\": \"2021-04-11T09:24:54.441491Z\", \"created_time\": \"2021-04-11T09:23:57.013233Z\", \"created_time_dt\": \"2021-04-11T09:23:57.013233Z\", \"duration\": \"0:00:57\", \"iteration\": \"16\", \"goal\": \"accuracy_max\", \"run_name\": \"MaxAbsScaler, LightGBM\", \"run_properties\": \"copy=True\", \"primary_metric\": 0.66333333, \"best_metric\": 0.78291667}, {\"run_id\": \"AutoML_53d60ec2-9229-44ac-934f-289e492875b6_17\", \"run_number\": 70, \"metric\": null, \"status\": \"Completed\", \"run_type\": \"azureml.scriptrun\", \"training_percent\": \"100\", \"start_time\": \"2021-04-11T09:24:16.565607Z\", \"end_time\": \"2021-04-11T09:25:21.832496Z\", \"created_time\": \"2021-04-11T09:24:05.10559Z\", \"created_time_dt\": \"2021-04-11T09:24:05.10559Z\", \"duration\": \"0:01:16\", \"iteration\": \"17\", \"goal\": \"accuracy_max\", \"run_name\": \"MaxAbsScaler, ExtremeRandomTrees\", \"run_properties\": \"copy=True\", \"primary_metric\": 0.69083333, \"best_metric\": 0.78291667}, {\"run_id\": \"AutoML_53d60ec2-9229-44ac-934f-289e492875b6_18\", \"run_number\": 71, \"metric\": null, \"status\": \"Completed\", \"run_type\": \"azureml.scriptrun\", \"training_percent\": \"100\", \"start_time\": \"2021-04-11T09:24:27.541073Z\", \"end_time\": \"2021-04-11T09:25:22.669478Z\", \"created_time\": \"2021-04-11T09:24:13.903485Z\", \"created_time_dt\": \"2021-04-11T09:24:13.903485Z\", \"duration\": \"0:01:08\", \"iteration\": \"18\", \"goal\": \"accuracy_max\", \"run_name\": \"SparseNormalizer, XGBoostClassifier\", \"run_properties\": \"<azureml.automl.runtime.shared.model_wrappers.SparseNormalizer object at 0x7efcb94437b8\", \"primary_metric\": 0.745, \"best_metric\": 0.78291667}, {\"run_id\": \"AutoML_53d60ec2-9229-44ac-934f-289e492875b6_19\", \"run_number\": 72, \"metric\": null, \"status\": \"Completed\", \"run_type\": \"azureml.scriptrun\", \"training_percent\": \"100\", \"start_time\": \"2021-04-11T09:24:55.760522Z\", \"end_time\": \"2021-04-11T09:25:50.470414Z\", \"created_time\": \"2021-04-11T09:24:41.657493Z\", \"created_time_dt\": \"2021-04-11T09:24:41.657493Z\", \"duration\": \"0:01:08\", \"iteration\": \"19\", \"goal\": \"accuracy_max\", \"run_name\": \"StandardScalerWrapper, ExtremeRandomTrees\", \"run_properties\": \"<azureml.automl.runtime.shared.model_wrappers.StandardScalerWrapper object at 0x7f3f5274ca58\", \"primary_metric\": 0.67666667, \"best_metric\": 0.78291667}, {\"run_id\": \"AutoML_53d60ec2-9229-44ac-934f-289e492875b6_20\", \"run_number\": 73, \"metric\": null, \"status\": \"Completed\", \"run_type\": \"azureml.scriptrun\", \"training_percent\": \"100\", \"start_time\": \"2021-04-11T09:25:12.659266Z\", \"end_time\": \"2021-04-11T09:26:11.813642Z\", \"created_time\": \"2021-04-11T09:24:56.70665Z\", \"created_time_dt\": \"2021-04-11T09:24:56.70665Z\", \"duration\": \"0:01:15\", \"iteration\": \"20\", \"goal\": \"accuracy_max\", \"run_name\": \"MaxAbsScaler, LightGBM\", \"run_properties\": \"copy=True\", \"primary_metric\": 0.74208333, \"best_metric\": 0.78291667}, {\"run_id\": \"AutoML_53d60ec2-9229-44ac-934f-289e492875b6_21\", \"run_number\": 74, \"metric\": null, \"status\": \"Completed\", \"run_type\": \"azureml.scriptrun\", \"training_percent\": \"100\", \"start_time\": \"2021-04-11T09:25:36.365511Z\", \"end_time\": \"2021-04-11T09:26:34.527936Z\", \"created_time\": \"2021-04-11T09:25:24.316549Z\", \"created_time_dt\": \"2021-04-11T09:25:24.316549Z\", \"duration\": \"0:01:10\", \"iteration\": \"21\", \"goal\": \"accuracy_max\", \"run_name\": \"StandardScalerWrapper, LightGBM\", \"run_properties\": \"<azureml.automl.runtime.shared.model_wrappers.StandardScalerWrapper object at 0x7f9203563eb8\", \"primary_metric\": 0.68666667, \"best_metric\": 0.78291667}, {\"run_id\": \"AutoML_53d60ec2-9229-44ac-934f-289e492875b6_22\", \"run_number\": 75, \"metric\": null, \"status\": \"Completed\", \"run_type\": \"azureml.scriptrun\", \"training_percent\": \"100\", \"start_time\": \"2021-04-11T09:25:38.490839Z\", \"end_time\": \"2021-04-11T09:26:32.519603Z\", \"created_time\": \"2021-04-11T09:25:28.136147Z\", \"created_time_dt\": \"2021-04-11T09:25:28.136147Z\", \"duration\": \"0:01:04\", \"iteration\": \"22\", \"goal\": \"accuracy_max\", \"run_name\": \"SparseNormalizer, GradientBoosting\", \"run_properties\": \"<azureml.automl.runtime.shared.model_wrappers.SparseNormalizer object at 0x7fdaf410cba8\", \"primary_metric\": 0.64416667, \"best_metric\": 0.78291667}, {\"run_id\": \"AutoML_53d60ec2-9229-44ac-934f-289e492875b6_23\", \"run_number\": 76, \"metric\": null, \"status\": \"Completed\", \"run_type\": \"azureml.scriptrun\", \"training_percent\": \"100\", \"start_time\": \"2021-04-11T09:26:07.120112Z\", \"end_time\": \"2021-04-11T09:26:59.583519Z\", \"created_time\": \"2021-04-11T09:25:52.794463Z\", \"created_time_dt\": \"2021-04-11T09:25:52.794463Z\", \"duration\": \"0:01:06\", \"iteration\": \"23\", \"goal\": \"accuracy_max\", \"run_name\": \"MaxAbsScaler, LogisticRegression\", \"run_properties\": \"copy=True\", \"primary_metric\": 0.64833333, \"best_metric\": 0.78291667}, {\"run_id\": \"AutoML_53d60ec2-9229-44ac-934f-289e492875b6_24\", \"run_number\": 77, \"metric\": null, \"status\": \"Completed\", \"run_type\": \"azureml.scriptrun\", \"training_percent\": \"100\", \"start_time\": \"2021-04-11T09:26:28.361113Z\", \"end_time\": \"2021-04-11T09:27:17.674111Z\", \"created_time\": \"2021-04-11T09:26:14.095386Z\", \"created_time_dt\": \"2021-04-11T09:26:14.095386Z\", \"duration\": \"0:01:03\", \"iteration\": \"24\", \"goal\": \"accuracy_max\", \"run_name\": \"StandardScalerWrapper, LightGBM\", \"run_properties\": \"<azureml.automl.runtime.shared.model_wrappers.StandardScalerWrapper object at 0x7fadc6fd3e10\", \"primary_metric\": 0.74875, \"best_metric\": 0.78291667}, {\"run_id\": \"AutoML_53d60ec2-9229-44ac-934f-289e492875b6_25\", \"run_number\": 78, \"metric\": null, \"status\": \"Completed\", \"run_type\": \"azureml.scriptrun\", \"training_percent\": \"100\", \"start_time\": \"2021-04-11T09:26:45.916628Z\", \"end_time\": \"2021-04-11T09:27:28.596013Z\", \"created_time\": \"2021-04-11T09:26:35.966202Z\", \"created_time_dt\": \"2021-04-11T09:26:35.966202Z\", \"duration\": \"0:00:52\", \"iteration\": \"25\", \"goal\": \"accuracy_max\", \"run_name\": \"StandardScalerWrapper, XGBoostClassifier\", \"run_properties\": \"<azureml.automl.runtime.shared.model_wrappers.StandardScalerWrapper object at 0x7f3eca63fc88\", \"primary_metric\": 0.31791667, \"best_metric\": 0.78291667}, {\"run_id\": \"AutoML_53d60ec2-9229-44ac-934f-289e492875b6_26\", \"run_number\": 79, \"metric\": null, \"status\": \"Completed\", \"run_type\": \"azureml.scriptrun\", \"training_percent\": \"100\", \"start_time\": \"2021-04-11T09:26:49.743286Z\", \"end_time\": \"2021-04-11T09:27:34.957133Z\", \"created_time\": \"2021-04-11T09:26:41.172773Z\", \"created_time_dt\": \"2021-04-11T09:26:41.172773Z\", \"duration\": \"0:00:53\", \"iteration\": \"26\", \"goal\": \"accuracy_max\", \"run_name\": \"SparseNormalizer, ExtremeRandomTrees\", \"run_properties\": \"<azureml.automl.runtime.shared.model_wrappers.SparseNormalizer object at 0x7f524c6b3dd8\", \"primary_metric\": 0.66041667, \"best_metric\": 0.78291667}, {\"run_id\": \"AutoML_53d60ec2-9229-44ac-934f-289e492875b6_27\", \"run_number\": 80, \"metric\": null, \"status\": \"Completed\", \"run_type\": \"azureml.scriptrun\", \"training_percent\": \"100\", \"start_time\": \"2021-04-11T09:27:16.705296Z\", \"end_time\": \"2021-04-11T09:28:09.296093Z\", \"created_time\": \"2021-04-11T09:27:01.909673Z\", \"created_time_dt\": \"2021-04-11T09:27:01.909673Z\", \"duration\": \"0:01:07\", \"iteration\": \"27\", \"goal\": \"accuracy_max\", \"run_name\": \"StandardScalerWrapper, RandomForest\", \"run_properties\": \"<azureml.automl.runtime.shared.model_wrappers.StandardScalerWrapper object at 0x7f266964e630\", \"primary_metric\": 0.55125, \"best_metric\": 0.78291667}, {\"run_id\": \"AutoML_53d60ec2-9229-44ac-934f-289e492875b6_28\", \"run_number\": 81, \"metric\": null, \"status\": \"Completed\", \"run_type\": \"azureml.scriptrun\", \"training_percent\": \"100\", \"start_time\": \"2021-04-11T09:27:32.326815Z\", \"end_time\": \"2021-04-11T09:28:20.791296Z\", \"created_time\": \"2021-04-11T09:27:19.686338Z\", \"created_time_dt\": \"2021-04-11T09:27:19.686338Z\", \"duration\": \"0:01:01\", \"iteration\": \"28\", \"goal\": \"accuracy_max\", \"run_name\": \"StandardScalerWrapper, LightGBM\", \"run_properties\": \"<azureml.automl.runtime.shared.model_wrappers.StandardScalerWrapper object at 0x7fa21dcc8be0\", \"primary_metric\": 0.67125, \"best_metric\": 0.78291667}, {\"run_id\": \"AutoML_53d60ec2-9229-44ac-934f-289e492875b6_29\", \"run_number\": 82, \"metric\": null, \"status\": \"Completed\", \"run_type\": \"azureml.scriptrun\", \"training_percent\": \"100\", \"start_time\": \"2021-04-11T09:27:45.26543Z\", \"end_time\": \"2021-04-11T09:28:43.77935Z\", \"created_time\": \"2021-04-11T09:27:30.734166Z\", \"created_time_dt\": \"2021-04-11T09:27:30.734166Z\", \"duration\": \"0:01:13\", \"iteration\": \"29\", \"goal\": \"accuracy_max\", \"run_name\": \"SparseNormalizer, XGBoostClassifier\", \"run_properties\": \"<azureml.automl.runtime.shared.model_wrappers.SparseNormalizer object at 0x7fdffabc0518\", \"primary_metric\": 0.73458333, \"best_metric\": 0.78291667}, {\"run_id\": \"AutoML_53d60ec2-9229-44ac-934f-289e492875b6_30\", \"run_number\": 83, \"metric\": null, \"status\": \"Completed\", \"run_type\": \"azureml.scriptrun\", \"training_percent\": \"100\", \"start_time\": \"2021-04-11T09:27:51.473911Z\", \"end_time\": \"2021-04-11T09:28:33.150595Z\", \"created_time\": \"2021-04-11T09:27:38.38755Z\", \"created_time_dt\": \"2021-04-11T09:27:38.38755Z\", \"duration\": \"0:00:54\", \"iteration\": \"30\", \"goal\": \"accuracy_max\", \"run_name\": \"SparseNormalizer, XGBoostClassifier\", \"run_properties\": \"<azureml.automl.runtime.shared.model_wrappers.SparseNormalizer object at 0x7f625ec980b8\", \"primary_metric\": 0.31791667, \"best_metric\": 0.78291667}, {\"run_id\": \"AutoML_53d60ec2-9229-44ac-934f-289e492875b6_31\", \"run_number\": 84, \"metric\": null, \"status\": \"Completed\", \"run_type\": \"azureml.scriptrun\", \"training_percent\": \"100\", \"start_time\": \"2021-04-11T09:28:23.75147Z\", \"end_time\": \"2021-04-11T09:29:29.536402Z\", \"created_time\": \"2021-04-11T09:28:12.341007Z\", \"created_time_dt\": \"2021-04-11T09:28:12.341007Z\", \"duration\": \"0:01:17\", \"iteration\": \"31\", \"goal\": \"accuracy_max\", \"run_name\": \"SparseNormalizer, XGBoostClassifier\", \"run_properties\": \"<azureml.automl.runtime.shared.model_wrappers.SparseNormalizer object at 0x7fe1a41f3ac8\", \"primary_metric\": 0.77916667, \"best_metric\": 0.78291667}, {\"run_id\": \"AutoML_53d60ec2-9229-44ac-934f-289e492875b6_32\", \"run_number\": 85, \"metric\": null, \"status\": \"Completed\", \"run_type\": \"azureml.scriptrun\", \"training_percent\": \"100\", \"start_time\": \"2021-04-11T09:28:37.186685Z\", \"end_time\": \"2021-04-11T09:29:29.362835Z\", \"created_time\": \"2021-04-11T09:28:23.409399Z\", \"created_time_dt\": \"2021-04-11T09:28:23.409399Z\", \"duration\": \"0:01:05\", \"iteration\": \"32\", \"goal\": \"accuracy_max\", \"run_name\": \"StandardScalerWrapper, LightGBM\", \"run_properties\": \"<azureml.automl.runtime.shared.model_wrappers.StandardScalerWrapper object at 0x7facd85be7f0\", \"primary_metric\": 0.63291667, \"best_metric\": 0.78291667}, {\"run_id\": \"AutoML_53d60ec2-9229-44ac-934f-289e492875b6_33\", \"run_number\": 86, \"metric\": null, \"status\": \"Canceled\", \"run_type\": \"azureml.scriptrun\", \"training_percent\": \"100\", \"start_time\": \"2021-04-11T09:28:49.178541Z\", \"end_time\": \"2021-04-11T09:29:31.400593Z\", \"created_time\": \"2021-04-11T09:28:36.4255Z\", \"created_time_dt\": \"2021-04-11T09:28:36.4255Z\", \"duration\": \"0:00:54\", \"iteration\": \"33\", \"goal\": \"accuracy_max\", \"run_name\": \"SparseNormalizer, LightGBM\", \"run_properties\": \"<azureml.automl.runtime.shared.model_wrappers.SparseNormalizer object at 0x7f16482ac9b0\", \"primary_metric\": 0.69125, \"best_metric\": 0.78291667}, {\"run_id\": \"AutoML_53d60ec2-9229-44ac-934f-289e492875b6_34\", \"run_number\": 87, \"metric\": null, \"status\": \"Canceled\", \"run_type\": \"azureml.scriptrun\", \"training_percent\": \"100\", \"start_time\": \"2021-04-11T09:29:03.223527Z\", \"end_time\": \"2021-04-11T09:29:37.003759Z\", \"created_time\": \"2021-04-11T09:28:46.112751Z\", \"created_time_dt\": \"2021-04-11T09:28:46.112751Z\", \"duration\": \"0:00:50\", \"iteration\": \"34\", \"goal\": \"accuracy_max\", \"run_name\": \"MaxAbsScaler, LightGBM\", \"run_properties\": \"copy=True\", \"primary_metric\": 0.72416667, \"best_metric\": 0.78291667}, {\"run_id\": \"AutoML_53d60ec2-9229-44ac-934f-289e492875b6_35\", \"run_number\": 88, \"metric\": null, \"status\": \"Completed\", \"run_type\": \"azureml.scriptrun\", \"training_percent\": \"100\", \"start_time\": \"2021-04-11T09:29:48.759641Z\", \"end_time\": \"2021-04-11T09:30:54.923787Z\", \"created_time\": \"2021-04-11T09:29:38.520787Z\", \"created_time_dt\": \"2021-04-11T09:29:38.520787Z\", \"duration\": \"0:01:16\", \"iteration\": \"35\", \"goal\": \"accuracy_max\", \"run_name\": \"VotingEnsemble\", \"run_properties\": \"classification_labels=None,\\n                              estimators=[('7',\\n                                           Pipeline(memory=None,\\n                                                    steps=[('sparsenormalizer',\\n                                                            <azureml.automl.runtime.shared.model_wrappers.SparseNormalizer object at 0x7feb5028e198>\", \"primary_metric\": 0.79416667, \"best_metric\": 0.79416667}, {\"run_id\": \"AutoML_53d60ec2-9229-44ac-934f-289e492875b6_36\", \"run_number\": 89, \"metric\": null, \"status\": \"Completed\", \"run_type\": \"azureml.scriptrun\", \"training_percent\": \"100\", \"start_time\": \"2021-04-11T09:29:46.355547Z\", \"end_time\": \"2021-04-11T09:31:17.066507Z\", \"created_time\": \"2021-04-11T09:29:38.83221Z\", \"created_time_dt\": \"2021-04-11T09:29:38.83221Z\", \"duration\": \"0:01:38\", \"iteration\": \"36\", \"goal\": \"accuracy_max\", \"run_name\": \"StackEnsemble\", \"run_properties\": \"base_learners=[('7',\\n                                        Pipeline(memory=None,\\n                                                 steps=[('sparsenormalizer',\\n                                                         <azureml.automl.runtime.shared.model_wrappers.SparseNormalizer object at 0x7f70724fc320>\", \"primary_metric\": 0.78708333, \"best_metric\": 0.79416667}], \"children_metrics\": {\"categories\": [0], \"series\": {\"AUC_micro\": [{\"categories\": [\"0\", \"1\", \"2\", \"3\", \"4\", \"5\", \"6\", \"7\", \"8\", \"9\", \"10\", \"11\", \"12\", \"13\", \"14\", \"15\", \"16\", \"17\", \"18\", \"19\", \"20\", \"21\", \"22\", \"23\", \"24\", \"25\", \"26\", \"27\", \"28\", \"29\", \"30\", \"31\", \"32\", \"33\", \"34\", \"35\", \"36\"], \"mode\": \"markers\", \"name\": \"AUC_micro\", \"stepped\": false, \"type\": \"scatter\", \"data\": [0.9604250578703704, 0.9524609375, 0.8536872106481482, 0.8293058449074074, 0.8112097800925925, 0.7650500578703704, 0.9604641203703703, 0.9645494791666668, 0.9641828703703703, 0.9042282986111111, 0.9245086805555556, 0.915339699074074, 0.871068576388889, 0.9473498263888891, 0.9070326967592592, 0.909920138888889, 0.9053353587962963, 0.9189406828703703, 0.9512881944444442, 0.8792867476851851, 0.9528359375000001, 0.9264875578703704, 0.9048787615740741, 0.8912575231481481, 0.9551310763888889, 0.5993055555555555, 0.8996027199074075, 0.8234971064814813, 0.920539351851852, 0.9450827546296295, 0.5993055555555555, 0.9624270833333333, 0.8681255787037037, 0.9210593171296295, 0.9415251736111111, 0.9674189814814815, 0.9653046875]}, {\"categories\": [\"0\", \"1\", \"2\", \"3\", \"4\", \"5\", \"6\", \"7\", \"8\", \"9\", \"10\", \"11\", \"12\", \"13\", \"14\", \"15\", \"16\", \"17\", \"18\", \"19\", \"20\", \"21\", \"22\", \"23\", \"24\", \"25\", \"26\", \"27\", \"28\", \"29\", \"30\", \"31\", \"32\", \"33\", \"34\", \"35\", \"36\"], \"mode\": \"lines\", \"name\": \"AUC_micro_max\", \"stepped\": true, \"type\": \"scatter\", \"data\": [0.9604250578703704, 0.9604250578703704, 0.9604250578703704, 0.9604250578703704, 0.9604250578703704, 0.9604250578703704, 0.9604641203703703, 0.9645494791666668, 0.9645494791666668, 0.9645494791666668, 0.9645494791666668, 0.9645494791666668, 0.9645494791666668, 0.9645494791666668, 0.9645494791666668, 0.9645494791666668, 0.9645494791666668, 0.9645494791666668, 0.9645494791666668, 0.9645494791666668, 0.9645494791666668, 0.9645494791666668, 0.9645494791666668, 0.9645494791666668, 0.9645494791666668, 0.9645494791666668, 0.9645494791666668, 0.9645494791666668, 0.9645494791666668, 0.9645494791666668, 0.9645494791666668, 0.9645494791666668, 0.9645494791666668, 0.9645494791666668, 0.9645494791666668, 0.9674189814814815, 0.9674189814814815]}], \"precision_score_macro\": [{\"categories\": [\"0\", \"1\", \"2\", \"3\", \"4\", \"5\", \"6\", \"7\", \"8\", \"9\", \"10\", \"11\", \"12\", \"13\", \"14\", \"15\", \"16\", \"17\", \"18\", \"19\", \"20\", \"21\", \"22\", \"23\", \"24\", \"25\", \"26\", \"27\", \"28\", \"29\", \"30\", \"31\", \"32\", \"33\", \"34\", \"35\", \"36\"], \"mode\": \"markers\", \"name\": \"precision_score_macro\", \"stepped\": false, \"type\": \"scatter\", \"data\": [0.8079593226135451, 0.7764845325722074, 0.5911669079794443, 0.5502683399925049, 0.556017028462359, 0.4487752051490929, 0.8122294270032036, 0.813985440118991, 0.8124406549212482, 0.6951835127657797, 0.7050297259283397, 0.6911422005782708, 0.6270419265048922, 0.7658657308007719, 0.7069021768789636, 0.6999871881216297, 0.6873650596071033, 0.7164758704136386, 0.7777425789571983, 0.7022029933363372, 0.7781209284677023, 0.7000287931559095, 0.6637273936999156, 0.6627986476895791, 0.7881478126021506, 0.07947916666666666, 0.6921794082242794, 0.6035313294104745, 0.6931382175577455, 0.7663884873915083, 0.07947916666666666, 0.8102547240757941, 0.6848915471706827, 0.7265567244803727, 0.7515711279427896, 0.8292157045089968, 0.8255366296829665]}, {\"categories\": [\"0\", \"1\", \"2\", \"3\", \"4\", \"5\", \"6\", \"7\", \"8\", \"9\", \"10\", \"11\", \"12\", \"13\", \"14\", \"15\", \"16\", \"17\", \"18\", \"19\", \"20\", \"21\", \"22\", \"23\", \"24\", \"25\", \"26\", \"27\", \"28\", \"29\", \"30\", \"31\", \"32\", \"33\", \"34\", \"35\", \"36\"], \"mode\": \"lines\", \"name\": \"precision_score_macro_max\", \"stepped\": true, \"type\": \"scatter\", \"data\": [0.8079593226135451, 0.8079593226135451, 0.8079593226135451, 0.8079593226135451, 0.8079593226135451, 0.8079593226135451, 0.8122294270032036, 0.813985440118991, 0.813985440118991, 0.813985440118991, 0.813985440118991, 0.813985440118991, 0.813985440118991, 0.813985440118991, 0.813985440118991, 0.813985440118991, 0.813985440118991, 0.813985440118991, 0.813985440118991, 0.813985440118991, 0.813985440118991, 0.813985440118991, 0.813985440118991, 0.813985440118991, 0.813985440118991, 0.813985440118991, 0.813985440118991, 0.813985440118991, 0.813985440118991, 0.813985440118991, 0.813985440118991, 0.813985440118991, 0.813985440118991, 0.813985440118991, 0.813985440118991, 0.8292157045089968, 0.8292157045089968]}], \"balanced_accuracy\": [{\"categories\": [\"0\", \"1\", \"2\", \"3\", \"4\", \"5\", \"6\", \"7\", \"8\", \"9\", \"10\", \"11\", \"12\", \"13\", \"14\", \"15\", \"16\", \"17\", \"18\", \"19\", \"20\", \"21\", \"22\", \"23\", \"24\", \"25\", \"26\", \"27\", \"28\", \"29\", \"30\", \"31\", \"32\", \"33\", \"34\", \"35\", \"36\"], \"mode\": \"markers\", \"name\": \"balanced_accuracy\", \"stepped\": false, \"type\": \"scatter\", \"data\": [0.8051975297091364, 0.7752062001346137, 0.6066110240662315, 0.5347152900383599, 0.592701147246657, 0.4683817300902386, 0.8096342575574006, 0.8150275666207035, 0.8116535668638203, 0.6891081124278975, 0.6868092723790389, 0.6816020349192132, 0.6425748225294956, 0.7737729452752113, 0.6806891111853204, 0.6942133151937062, 0.6873218566826994, 0.7102356228799176, 0.7788112155534073, 0.7012819395198469, 0.7776600740582202, 0.7062609985456033, 0.6694304171384614, 0.6787569727964312, 0.7876261190155548, 0.25, 0.6855302498910482, 0.5542656518951564, 0.690904670859948, 0.7629670278363659, 0.25, 0.8087648010427848, 0.6286769860842446, 0.7152106414380485, 0.749934741613781, 0.8278747083806506, 0.8214235343165239]}, {\"categories\": [\"0\", \"1\", \"2\", \"3\", \"4\", \"5\", \"6\", \"7\", \"8\", \"9\", \"10\", \"11\", \"12\", \"13\", \"14\", \"15\", \"16\", \"17\", \"18\", \"19\", \"20\", \"21\", \"22\", \"23\", \"24\", \"25\", \"26\", \"27\", \"28\", \"29\", \"30\", \"31\", \"32\", \"33\", \"34\", \"35\", \"36\"], \"mode\": \"lines\", \"name\": \"balanced_accuracy_max\", \"stepped\": true, \"type\": \"scatter\", \"data\": [0.8051975297091364, 0.8051975297091364, 0.8051975297091364, 0.8051975297091364, 0.8051975297091364, 0.8051975297091364, 0.8096342575574006, 0.8150275666207035, 0.8150275666207035, 0.8150275666207035, 0.8150275666207035, 0.8150275666207035, 0.8150275666207035, 0.8150275666207035, 0.8150275666207035, 0.8150275666207035, 0.8150275666207035, 0.8150275666207035, 0.8150275666207035, 0.8150275666207035, 0.8150275666207035, 0.8150275666207035, 0.8150275666207035, 0.8150275666207035, 0.8150275666207035, 0.8150275666207035, 0.8150275666207035, 0.8150275666207035, 0.8150275666207035, 0.8150275666207035, 0.8150275666207035, 0.8150275666207035, 0.8150275666207035, 0.8150275666207035, 0.8150275666207035, 0.8278747083806506, 0.8278747083806506]}], \"recall_score_weighted\": [{\"categories\": [\"0\", \"1\", \"2\", \"3\", \"4\", \"5\", \"6\", \"7\", \"8\", \"9\", \"10\", \"11\", \"12\", \"13\", \"14\", \"15\", \"16\", \"17\", \"18\", \"19\", \"20\", \"21\", \"22\", \"23\", \"24\", \"25\", \"26\", \"27\", \"28\", \"29\", \"30\", \"31\", \"32\", \"33\", \"34\", \"35\", \"36\"], \"mode\": \"markers\", \"name\": \"recall_score_weighted\", \"stepped\": false, \"type\": \"scatter\", \"data\": [0.775, 0.74125, 0.5887499999999999, 0.54375, 0.5225, 0.42250000000000004, 0.7775000000000001, 0.7829166666666666, 0.7779166666666667, 0.6745833333333333, 0.67875, 0.67, 0.615, 0.7383333333333333, 0.665, 0.6687500000000001, 0.6633333333333333, 0.6908333333333332, 0.7449999999999999, 0.6766666666666666, 0.7420833333333332, 0.6866666666666668, 0.6441666666666668, 0.6483333333333333, 0.74875, 0.3179166666666666, 0.6604166666666667, 0.5512499999999999, 0.67125, 0.7345833333333334, 0.3179166666666666, 0.7791666666666667, 0.6329166666666668, 0.6912499999999999, 0.7241666666666666, 0.7941666666666667, 0.7870833333333335]}, {\"categories\": [\"0\", \"1\", \"2\", \"3\", \"4\", \"5\", \"6\", \"7\", \"8\", \"9\", \"10\", \"11\", \"12\", \"13\", \"14\", \"15\", \"16\", \"17\", \"18\", \"19\", \"20\", \"21\", \"22\", \"23\", \"24\", \"25\", \"26\", \"27\", \"28\", \"29\", \"30\", \"31\", \"32\", \"33\", \"34\", \"35\", \"36\"], \"mode\": \"lines\", \"name\": \"recall_score_weighted_max\", \"stepped\": true, \"type\": \"scatter\", \"data\": [0.775, 0.775, 0.775, 0.775, 0.775, 0.775, 0.7775000000000001, 0.7829166666666666, 0.7829166666666666, 0.7829166666666666, 0.7829166666666666, 0.7829166666666666, 0.7829166666666666, 0.7829166666666666, 0.7829166666666666, 0.7829166666666666, 0.7829166666666666, 0.7829166666666666, 0.7829166666666666, 0.7829166666666666, 0.7829166666666666, 0.7829166666666666, 0.7829166666666666, 0.7829166666666666, 0.7829166666666666, 0.7829166666666666, 0.7829166666666666, 0.7829166666666666, 0.7829166666666666, 0.7829166666666666, 0.7829166666666666, 0.7829166666666666, 0.7829166666666666, 0.7829166666666666, 0.7829166666666666, 0.7941666666666667, 0.7941666666666667]}], \"recall_score_macro\": [{\"categories\": [\"0\", \"1\", \"2\", \"3\", \"4\", \"5\", \"6\", \"7\", \"8\", \"9\", \"10\", \"11\", \"12\", \"13\", \"14\", \"15\", \"16\", \"17\", \"18\", \"19\", \"20\", \"21\", \"22\", \"23\", \"24\", \"25\", \"26\", \"27\", \"28\", \"29\", \"30\", \"31\", \"32\", \"33\", \"34\", \"35\", \"36\"], \"mode\": \"markers\", \"name\": \"recall_score_macro\", \"stepped\": false, \"type\": \"scatter\", \"data\": [0.8051975297091364, 0.7752062001346137, 0.6066110240662315, 0.5347152900383599, 0.592701147246657, 0.4683817300902386, 0.8096342575574006, 0.8150275666207035, 0.8116535668638203, 0.6891081124278975, 0.6868092723790389, 0.6816020349192132, 0.6425748225294956, 0.7737729452752113, 0.6806891111853204, 0.6942133151937062, 0.6873218566826994, 0.7102356228799176, 0.7788112155534073, 0.7012819395198469, 0.7776600740582202, 0.7062609985456033, 0.6694304171384614, 0.6787569727964312, 0.7876261190155548, 0.25, 0.6855302498910482, 0.5542656518951564, 0.690904670859948, 0.7629670278363659, 0.25, 0.8087648010427848, 0.6286769860842446, 0.7152106414380485, 0.749934741613781, 0.8278747083806506, 0.8214235343165239]}, {\"categories\": [\"0\", \"1\", \"2\", \"3\", \"4\", \"5\", \"6\", \"7\", \"8\", \"9\", \"10\", \"11\", \"12\", \"13\", \"14\", \"15\", \"16\", \"17\", \"18\", \"19\", \"20\", \"21\", \"22\", \"23\", \"24\", \"25\", \"26\", \"27\", \"28\", \"29\", \"30\", \"31\", \"32\", \"33\", \"34\", \"35\", \"36\"], \"mode\": \"lines\", \"name\": \"recall_score_macro_max\", \"stepped\": true, \"type\": \"scatter\", \"data\": [0.8051975297091364, 0.8051975297091364, 0.8051975297091364, 0.8051975297091364, 0.8051975297091364, 0.8051975297091364, 0.8096342575574006, 0.8150275666207035, 0.8150275666207035, 0.8150275666207035, 0.8150275666207035, 0.8150275666207035, 0.8150275666207035, 0.8150275666207035, 0.8150275666207035, 0.8150275666207035, 0.8150275666207035, 0.8150275666207035, 0.8150275666207035, 0.8150275666207035, 0.8150275666207035, 0.8150275666207035, 0.8150275666207035, 0.8150275666207035, 0.8150275666207035, 0.8150275666207035, 0.8150275666207035, 0.8150275666207035, 0.8150275666207035, 0.8150275666207035, 0.8150275666207035, 0.8150275666207035, 0.8150275666207035, 0.8150275666207035, 0.8150275666207035, 0.8278747083806506, 0.8278747083806506]}], \"average_precision_score_micro\": [{\"categories\": [\"0\", \"1\", \"2\", \"3\", \"4\", \"5\", \"6\", \"7\", \"8\", \"9\", \"10\", \"11\", \"12\", \"13\", \"14\", \"15\", \"16\", \"17\", \"18\", \"19\", \"20\", \"21\", \"22\", \"23\", \"24\", \"25\", \"26\", \"27\", \"28\", \"29\", \"30\", \"31\", \"32\", \"33\", \"34\", \"35\", \"36\"], \"mode\": \"markers\", \"name\": \"average_precision_score_micro\", \"stepped\": false, \"type\": \"scatter\", \"data\": [0.8913403164312437, 0.8668439052258516, 0.5378461421735903, 0.5121910016342188, 0.5054032800922726, 0.4556142192303441, 0.8902008132485882, 0.9029421918655766, 0.9033545619132244, 0.7012334482285256, 0.7902923870509341, 0.7489219451098162, 0.6071310075461328, 0.8518591284980881, 0.7304264179435845, 0.7377370956774958, 0.7254447886974242, 0.7636946625110477, 0.8653923306455127, 0.5629149588333676, 0.8676212764631737, 0.7947777204178952, 0.7386057247082636, 0.6750341863852556, 0.8759657289316805, 0.303029369212963, 0.7129754456236872, 0.49880057149629026, 0.7743460719329036, 0.845126905092933, 0.303029369212963, 0.896618165631321, 0.6655935523450827, 0.778955138891014, 0.8357071042366908, 0.9097731572680999, 0.9062125251375148]}, {\"categories\": [\"0\", \"1\", \"2\", \"3\", \"4\", \"5\", \"6\", \"7\", \"8\", \"9\", \"10\", \"11\", \"12\", \"13\", \"14\", \"15\", \"16\", \"17\", \"18\", \"19\", \"20\", \"21\", \"22\", \"23\", \"24\", \"25\", \"26\", \"27\", \"28\", \"29\", \"30\", \"31\", \"32\", \"33\", \"34\", \"35\", \"36\"], \"mode\": \"lines\", \"name\": \"average_precision_score_micro_max\", \"stepped\": true, \"type\": \"scatter\", \"data\": [0.8913403164312437, 0.8913403164312437, 0.8913403164312437, 0.8913403164312437, 0.8913403164312437, 0.8913403164312437, 0.8913403164312437, 0.9029421918655766, 0.9033545619132244, 0.9033545619132244, 0.9033545619132244, 0.9033545619132244, 0.9033545619132244, 0.9033545619132244, 0.9033545619132244, 0.9033545619132244, 0.9033545619132244, 0.9033545619132244, 0.9033545619132244, 0.9033545619132244, 0.9033545619132244, 0.9033545619132244, 0.9033545619132244, 0.9033545619132244, 0.9033545619132244, 0.9033545619132244, 0.9033545619132244, 0.9033545619132244, 0.9033545619132244, 0.9033545619132244, 0.9033545619132244, 0.9033545619132244, 0.9033545619132244, 0.9033545619132244, 0.9033545619132244, 0.9097731572680999, 0.9097731572680999]}], \"average_precision_score_macro\": [{\"categories\": [\"0\", \"1\", \"2\", \"3\", \"4\", \"5\", \"6\", \"7\", \"8\", \"9\", \"10\", \"11\", \"12\", \"13\", \"14\", \"15\", \"16\", \"17\", \"18\", \"19\", \"20\", \"21\", \"22\", \"23\", \"24\", \"25\", \"26\", \"27\", \"28\", \"29\", \"30\", \"31\", \"32\", \"33\", \"34\", \"35\", \"36\"], \"mode\": \"markers\", \"name\": \"average_precision_score_macro\", \"stepped\": false, \"type\": \"scatter\", \"data\": [0.8944496825782897, 0.8682131151881567, 0.593714059949666, 0.5442610088069781, 0.6218973861418108, 0.49469957004484416, 0.8977054911072149, 0.9069951355928454, 0.9057428102764339, 0.7320559911617817, 0.7741089107773597, 0.7102003224510878, 0.6500938575148572, 0.8568459107503518, 0.738811828805661, 0.7565054663319728, 0.7402794164255881, 0.7692416384834895, 0.8677767374566004, 0.6709739246712733, 0.8679243851566298, 0.7962165428125934, 0.7269300780082892, 0.6904837937780757, 0.8768070494958808, 0.25, 0.7566275144841779, 0.6095863062398035, 0.7624238014577704, 0.83857797239945, 0.25, 0.9013418517261249, 0.7537718627882848, 0.7940703864857337, 0.8340913559910051, 0.9146342219765735, 0.9140274630851704]}, {\"categories\": [\"0\", \"1\", \"2\", \"3\", \"4\", \"5\", \"6\", \"7\", \"8\", \"9\", \"10\", \"11\", \"12\", \"13\", \"14\", \"15\", \"16\", \"17\", \"18\", \"19\", \"20\", \"21\", \"22\", \"23\", \"24\", \"25\", \"26\", \"27\", \"28\", \"29\", \"30\", \"31\", \"32\", \"33\", \"34\", \"35\", \"36\"], \"mode\": \"lines\", \"name\": \"average_precision_score_macro_max\", \"stepped\": true, \"type\": \"scatter\", \"data\": [0.8944496825782897, 0.8944496825782897, 0.8944496825782897, 0.8944496825782897, 0.8944496825782897, 0.8944496825782897, 0.8977054911072149, 0.9069951355928454, 0.9069951355928454, 0.9069951355928454, 0.9069951355928454, 0.9069951355928454, 0.9069951355928454, 0.9069951355928454, 0.9069951355928454, 0.9069951355928454, 0.9069951355928454, 0.9069951355928454, 0.9069951355928454, 0.9069951355928454, 0.9069951355928454, 0.9069951355928454, 0.9069951355928454, 0.9069951355928454, 0.9069951355928454, 0.9069951355928454, 0.9069951355928454, 0.9069951355928454, 0.9069951355928454, 0.9069951355928454, 0.9069951355928454, 0.9069951355928454, 0.9069951355928454, 0.9069951355928454, 0.9069951355928454, 0.9146342219765735, 0.9146342219765735]}], \"norm_macro_recall\": [{\"categories\": [\"0\", \"1\", \"2\", \"3\", \"4\", \"5\", \"6\", \"7\", \"8\", \"9\", \"10\", \"11\", \"12\", \"13\", \"14\", \"15\", \"16\", \"17\", \"18\", \"19\", \"20\", \"21\", \"22\", \"23\", \"24\", \"25\", \"26\", \"27\", \"28\", \"29\", \"30\", \"31\", \"32\", \"33\", \"34\", \"35\", \"36\"], \"mode\": \"markers\", \"name\": \"norm_macro_recall\", \"stepped\": false, \"type\": \"scatter\", \"data\": [0.7402633729455151, 0.7002749335128182, 0.4754813654216418, 0.3796203867178133, 0.45693486299554265, 0.29117564012031816, 0.7461790100765341, 0.7533700888276045, 0.7488714224850939, 0.5854774832371966, 0.5824123631720519, 0.5754693798922843, 0.5234330967059941, 0.6983639270336152, 0.5742521482470939, 0.592284420258275, 0.5830958089102658, 0.6136474971732234, 0.7050816207378763, 0.6017092526931292, 0.7035467654109604, 0.6083479980608046, 0.5592405561846151, 0.5716759637285749, 0.7168348253540731, 0.0, 0.580706999854731, 0.40568753586020856, 0.5878728944799307, 0.6839560371151545, 0.0, 0.7450197347237129, 0.5049026481123261, 0.6202808552507313, 0.6665796554850414, 0.770499611174201, 0.761898045755365]}, {\"categories\": [\"0\", \"1\", \"2\", \"3\", \"4\", \"5\", \"6\", \"7\", \"8\", \"9\", \"10\", \"11\", \"12\", \"13\", \"14\", \"15\", \"16\", \"17\", \"18\", \"19\", \"20\", \"21\", \"22\", \"23\", \"24\", \"25\", \"26\", \"27\", \"28\", \"29\", \"30\", \"31\", \"32\", \"33\", \"34\", \"35\", \"36\"], \"mode\": \"lines\", \"name\": \"norm_macro_recall_max\", \"stepped\": true, \"type\": \"scatter\", \"data\": [0.7402633729455151, 0.7402633729455151, 0.7402633729455151, 0.7402633729455151, 0.7402633729455151, 0.7402633729455151, 0.7461790100765341, 0.7533700888276045, 0.7533700888276045, 0.7533700888276045, 0.7533700888276045, 0.7533700888276045, 0.7533700888276045, 0.7533700888276045, 0.7533700888276045, 0.7533700888276045, 0.7533700888276045, 0.7533700888276045, 0.7533700888276045, 0.7533700888276045, 0.7533700888276045, 0.7533700888276045, 0.7533700888276045, 0.7533700888276045, 0.7533700888276045, 0.7533700888276045, 0.7533700888276045, 0.7533700888276045, 0.7533700888276045, 0.7533700888276045, 0.7533700888276045, 0.7533700888276045, 0.7533700888276045, 0.7533700888276045, 0.7533700888276045, 0.770499611174201, 0.770499611174201]}], \"f1_score_weighted\": [{\"categories\": [\"0\", \"1\", \"2\", \"3\", \"4\", \"5\", \"6\", \"7\", \"8\", \"9\", \"10\", \"11\", \"12\", \"13\", \"14\", \"15\", \"16\", \"17\", \"18\", \"19\", \"20\", \"21\", \"22\", \"23\", \"24\", \"25\", \"26\", \"27\", \"28\", \"29\", \"30\", \"31\", \"32\", \"33\", \"34\", \"35\", \"36\"], \"mode\": \"markers\", \"name\": \"f1_score_weighted\", \"stepped\": false, \"type\": \"scatter\", \"data\": [0.7753109071400728, 0.7406968760656799, 0.5831208789203887, 0.5371774492881742, 0.5029344311905951, 0.38674176129440085, 0.7777794882483821, 0.782828042205485, 0.7779677053603576, 0.6679725883936729, 0.6797169507143633, 0.6693341053170763, 0.6077189100416942, 0.7366935679832726, 0.6624401332308223, 0.6642116168872461, 0.6601150349115688, 0.6894632488262322, 0.7443083794194953, 0.6710307464092198, 0.7416316720981615, 0.6850012500302397, 0.6410079791973338, 0.6443286900817433, 0.7483584009060571, 0.15348938196765685, 0.6523371549579018, 0.5229605850597713, 0.669347463090009, 0.7347457945470794, 0.15348938196765685, 0.7793162856840351, 0.6262478054252644, 0.6904899746980442, 0.7232935828022582, 0.7943546137859397, 0.7873457137219729]}, {\"categories\": [\"0\", \"1\", \"2\", \"3\", \"4\", \"5\", \"6\", \"7\", \"8\", \"9\", \"10\", \"11\", \"12\", \"13\", \"14\", \"15\", \"16\", \"17\", \"18\", \"19\", \"20\", \"21\", \"22\", \"23\", \"24\", \"25\", \"26\", \"27\", \"28\", \"29\", \"30\", \"31\", \"32\", \"33\", \"34\", \"35\", \"36\"], \"mode\": \"lines\", \"name\": \"f1_score_weighted_max\", \"stepped\": true, \"type\": \"scatter\", \"data\": [0.7753109071400728, 0.7753109071400728, 0.7753109071400728, 0.7753109071400728, 0.7753109071400728, 0.7753109071400728, 0.7777794882483821, 0.782828042205485, 0.782828042205485, 0.782828042205485, 0.782828042205485, 0.782828042205485, 0.782828042205485, 0.782828042205485, 0.782828042205485, 0.782828042205485, 0.782828042205485, 0.782828042205485, 0.782828042205485, 0.782828042205485, 0.782828042205485, 0.782828042205485, 0.782828042205485, 0.782828042205485, 0.782828042205485, 0.782828042205485, 0.782828042205485, 0.782828042205485, 0.782828042205485, 0.782828042205485, 0.782828042205485, 0.782828042205485, 0.782828042205485, 0.782828042205485, 0.782828042205485, 0.7943546137859397, 0.7943546137859397]}], \"weighted_accuracy\": [{\"categories\": [\"0\", \"1\", \"2\", \"3\", \"4\", \"5\", \"6\", \"7\", \"8\", \"9\", \"10\", \"11\", \"12\", \"13\", \"14\", \"15\", \"16\", \"17\", \"18\", \"19\", \"20\", \"21\", \"22\", \"23\", \"24\", \"25\", \"26\", \"27\", \"28\", \"29\", \"30\", \"31\", \"32\", \"33\", \"34\", \"35\", \"36\"], \"mode\": \"markers\", \"name\": \"weighted_accuracy\", \"stepped\": false, \"type\": \"scatter\", \"data\": [0.7502493230470201, 0.7132572846710391, 0.5748382073453229, 0.5514583911680436, 0.46372691142524874, 0.3837605811724759, 0.7511948051870816, 0.756690616510611, 0.7503374897714145, 0.6631109630188032, 0.6720265127633387, 0.6606244510982312, 0.5929010688057366, 0.7092438985197023, 0.6519422569171989, 0.647139462379701, 0.6431232473316036, 0.6744999628220472, 0.7167811147732287, 0.6558229244728064, 0.712536002914822, 0.6706839467556055, 0.6230101639014698, 0.6240918700121147, 0.716503370811437, 0.36652883714580947, 0.6392343320138176, 0.547889490985174, 0.6553171815729629, 0.7110979179580891, 0.36652883714580947, 0.7549833242324075, 0.6357845425567702, 0.6709249555871925, 0.7026893102904491, 0.7667997970573486, 0.7589109340243061]}, {\"categories\": [\"0\", \"1\", \"2\", \"3\", \"4\", \"5\", \"6\", \"7\", \"8\", \"9\", \"10\", \"11\", \"12\", \"13\", \"14\", \"15\", \"16\", \"17\", \"18\", \"19\", \"20\", \"21\", \"22\", \"23\", \"24\", \"25\", \"26\", \"27\", \"28\", \"29\", \"30\", \"31\", \"32\", \"33\", \"34\", \"35\", \"36\"], \"mode\": \"lines\", \"name\": \"weighted_accuracy_max\", \"stepped\": true, \"type\": \"scatter\", \"data\": [0.7502493230470201, 0.7502493230470201, 0.7502493230470201, 0.7502493230470201, 0.7502493230470201, 0.7502493230470201, 0.7511948051870816, 0.756690616510611, 0.756690616510611, 0.756690616510611, 0.756690616510611, 0.756690616510611, 0.756690616510611, 0.756690616510611, 0.756690616510611, 0.756690616510611, 0.756690616510611, 0.756690616510611, 0.756690616510611, 0.756690616510611, 0.756690616510611, 0.756690616510611, 0.756690616510611, 0.756690616510611, 0.756690616510611, 0.756690616510611, 0.756690616510611, 0.756690616510611, 0.756690616510611, 0.756690616510611, 0.756690616510611, 0.756690616510611, 0.756690616510611, 0.756690616510611, 0.756690616510611, 0.7667997970573486, 0.7667997970573486]}], \"AUC_weighted\": [{\"categories\": [\"0\", \"1\", \"2\", \"3\", \"4\", \"5\", \"6\", \"7\", \"8\", \"9\", \"10\", \"11\", \"12\", \"13\", \"14\", \"15\", \"16\", \"17\", \"18\", \"19\", \"20\", \"21\", \"22\", \"23\", \"24\", \"25\", \"26\", \"27\", \"28\", \"29\", \"30\", \"31\", \"32\", \"33\", \"34\", \"35\", \"36\"], \"mode\": \"markers\", \"name\": \"AUC_weighted\", \"stepped\": false, \"type\": \"scatter\", \"data\": [0.9365180679232259, 0.9251460608232491, 0.8209634683345802, 0.8004300981157362, 0.8204945561146799, 0.76332862018924, 0.9359097368616907, 0.9405239797272229, 0.9407346340695545, 0.8802287187074919, 0.8991702227482918, 0.8865564759245762, 0.8260173659720651, 0.916310138325619, 0.8826481868820857, 0.8839380381338134, 0.8805194460362953, 0.8922138590753704, 0.9259024536004418, 0.8464699619132909, 0.9238753075391106, 0.9040423565091317, 0.8728917166005858, 0.8512669069869887, 0.9267806443390615, 0.5, 0.8779056560292174, 0.8163684810629211, 0.8907620183390204, 0.9193073955347966, 0.5, 0.938745029012461, 0.8831647354084708, 0.8981805234934983, 0.9158321206855817, 0.9440286623497777, 0.9435272549255419]}, {\"categories\": [\"0\", \"1\", \"2\", \"3\", \"4\", \"5\", \"6\", \"7\", \"8\", \"9\", \"10\", \"11\", \"12\", \"13\", \"14\", \"15\", \"16\", \"17\", \"18\", \"19\", \"20\", \"21\", \"22\", \"23\", \"24\", \"25\", \"26\", \"27\", \"28\", \"29\", \"30\", \"31\", \"32\", \"33\", \"34\", \"35\", \"36\"], \"mode\": \"lines\", \"name\": \"AUC_weighted_max\", \"stepped\": true, \"type\": \"scatter\", \"data\": [0.9365180679232259, 0.9365180679232259, 0.9365180679232259, 0.9365180679232259, 0.9365180679232259, 0.9365180679232259, 0.9365180679232259, 0.9405239797272229, 0.9407346340695545, 0.9407346340695545, 0.9407346340695545, 0.9407346340695545, 0.9407346340695545, 0.9407346340695545, 0.9407346340695545, 0.9407346340695545, 0.9407346340695545, 0.9407346340695545, 0.9407346340695545, 0.9407346340695545, 0.9407346340695545, 0.9407346340695545, 0.9407346340695545, 0.9407346340695545, 0.9407346340695545, 0.9407346340695545, 0.9407346340695545, 0.9407346340695545, 0.9407346340695545, 0.9407346340695545, 0.9407346340695545, 0.9407346340695545, 0.9407346340695545, 0.9407346340695545, 0.9407346340695545, 0.9440286623497777, 0.9440286623497777]}], \"average_precision_score_weighted\": [{\"categories\": [\"0\", \"1\", \"2\", \"3\", \"4\", \"5\", \"6\", \"7\", \"8\", \"9\", \"10\", \"11\", \"12\", \"13\", \"14\", \"15\", \"16\", \"17\", \"18\", \"19\", \"20\", \"21\", \"22\", \"23\", \"24\", \"25\", \"26\", \"27\", \"28\", \"29\", \"30\", \"31\", \"32\", \"33\", \"34\", \"35\", \"36\"], \"mode\": \"markers\", \"name\": \"average_precision_score_weighted\", \"stepped\": false, \"type\": \"scatter\", \"data\": [0.8738890104146574, 0.8443320783050645, 0.5753029062236039, 0.5372247041653282, 0.5881960618697932, 0.4978155620528669, 0.8741004120191599, 0.8852533677363239, 0.8859178278339783, 0.7117281448374209, 0.763467161945577, 0.7087524476807395, 0.6192454400811365, 0.8278744690301931, 0.7170905682166517, 0.7293383964510008, 0.7169167022992108, 0.7435169370316019, 0.8466233860575271, 0.6288265157915565, 0.8424362069308959, 0.7843413096753501, 0.7086484715637906, 0.6592968143771692, 0.8529670086280536, 0.2759184027777778, 0.7294744035736829, 0.5801326393759003, 0.7402936012833352, 0.8207244523718297, 0.2759184027777778, 0.8800318452525369, 0.7400435225879297, 0.773004495180657, 0.8163223642372964, 0.8929011654047206, 0.8932161943251439]}, {\"categories\": [\"0\", \"1\", \"2\", \"3\", \"4\", \"5\", \"6\", \"7\", \"8\", \"9\", \"10\", \"11\", \"12\", \"13\", \"14\", \"15\", \"16\", \"17\", \"18\", \"19\", \"20\", \"21\", \"22\", \"23\", \"24\", \"25\", \"26\", \"27\", \"28\", \"29\", \"30\", \"31\", \"32\", \"33\", \"34\", \"35\", \"36\"], \"mode\": \"lines\", \"name\": \"average_precision_score_weighted_max\", \"stepped\": true, \"type\": \"scatter\", \"data\": [0.8738890104146574, 0.8738890104146574, 0.8738890104146574, 0.8738890104146574, 0.8738890104146574, 0.8738890104146574, 0.8741004120191599, 0.8852533677363239, 0.8859178278339783, 0.8859178278339783, 0.8859178278339783, 0.8859178278339783, 0.8859178278339783, 0.8859178278339783, 0.8859178278339783, 0.8859178278339783, 0.8859178278339783, 0.8859178278339783, 0.8859178278339783, 0.8859178278339783, 0.8859178278339783, 0.8859178278339783, 0.8859178278339783, 0.8859178278339783, 0.8859178278339783, 0.8859178278339783, 0.8859178278339783, 0.8859178278339783, 0.8859178278339783, 0.8859178278339783, 0.8859178278339783, 0.8859178278339783, 0.8859178278339783, 0.8859178278339783, 0.8859178278339783, 0.8929011654047206, 0.8932161943251439]}], \"accuracy\": [{\"categories\": [\"0\", \"1\", \"2\", \"3\", \"4\", \"5\", \"6\", \"7\", \"8\", \"9\", \"10\", \"11\", \"12\", \"13\", \"14\", \"15\", \"16\", \"17\", \"18\", \"19\", \"20\", \"21\", \"22\", \"23\", \"24\", \"25\", \"26\", \"27\", \"28\", \"29\", \"30\", \"31\", \"32\", \"33\", \"34\", \"35\", \"36\"], \"mode\": \"markers\", \"name\": \"accuracy\", \"stepped\": false, \"type\": \"scatter\", \"data\": [0.775, 0.74125, 0.5887499999999999, 0.54375, 0.5225, 0.42250000000000004, 0.7775000000000001, 0.7829166666666666, 0.7779166666666667, 0.6745833333333333, 0.67875, 0.67, 0.615, 0.7383333333333333, 0.665, 0.6687500000000001, 0.6633333333333333, 0.6908333333333332, 0.7449999999999999, 0.6766666666666666, 0.7420833333333332, 0.6866666666666668, 0.6441666666666668, 0.6483333333333333, 0.74875, 0.3179166666666666, 0.6604166666666667, 0.5512499999999999, 0.67125, 0.7345833333333334, 0.3179166666666666, 0.7791666666666667, 0.6329166666666668, 0.6912499999999999, 0.7241666666666666, 0.7941666666666667, 0.7870833333333335]}, {\"categories\": [\"0\", \"1\", \"2\", \"3\", \"4\", \"5\", \"6\", \"7\", \"8\", \"9\", \"10\", \"11\", \"12\", \"13\", \"14\", \"15\", \"16\", \"17\", \"18\", \"19\", \"20\", \"21\", \"22\", \"23\", \"24\", \"25\", \"26\", \"27\", \"28\", \"29\", \"30\", \"31\", \"32\", \"33\", \"34\", \"35\", \"36\"], \"mode\": \"lines\", \"name\": \"accuracy_max\", \"stepped\": true, \"type\": \"scatter\", \"data\": [0.775, 0.775, 0.775, 0.775, 0.775, 0.775, 0.7775000000000001, 0.7829166666666666, 0.7829166666666666, 0.7829166666666666, 0.7829166666666666, 0.7829166666666666, 0.7829166666666666, 0.7829166666666666, 0.7829166666666666, 0.7829166666666666, 0.7829166666666666, 0.7829166666666666, 0.7829166666666666, 0.7829166666666666, 0.7829166666666666, 0.7829166666666666, 0.7829166666666666, 0.7829166666666666, 0.7829166666666666, 0.7829166666666666, 0.7829166666666666, 0.7829166666666666, 0.7829166666666666, 0.7829166666666666, 0.7829166666666666, 0.7829166666666666, 0.7829166666666666, 0.7829166666666666, 0.7829166666666666, 0.7941666666666667, 0.7941666666666667]}], \"log_loss\": [{\"categories\": [\"0\", \"1\", \"2\", \"3\", \"4\", \"5\", \"6\", \"7\", \"8\", \"9\", \"10\", \"11\", \"12\", \"13\", \"14\", \"15\", \"16\", \"17\", \"18\", \"19\", \"20\", \"21\", \"22\", \"23\", \"24\", \"25\", \"26\", \"27\", \"28\", \"29\", \"30\", \"31\", \"32\", \"33\", \"34\", \"35\", \"36\"], \"mode\": \"markers\", \"name\": \"log_loss\", \"stepped\": false, \"type\": \"scatter\", \"data\": [0.4381369037811604, 0.46351846644009564, 0.9867328555499407, 1.0561490219638365, 1.0221440111551645, 1.092683896878518, 0.4973311691318626, 0.3911302276597949, 0.4716392803399227, 0.7735656831329835, 0.6282810947015479, 0.6353547959570686, 0.8147485527875181, 0.5830635359181705, 0.8885956437180967, 0.8009008625350325, 0.8670138765354631, 0.6908874307043815, 0.6227452822779462, 0.9692470725778419, 0.4762447914799381, 0.5768969001068058, 0.7274842874063873, 0.7494056261510488, 0.4425443935832991, 1.3380823029156468, 0.8399001055334153, 1.1217347392358799, 0.6834474864313587, 0.5113367770518069, 1.3493376365372327, 0.41422272663852355, 1.0632223293536307, 0.8548559970133714, 0.5384712588912814, 0.40547482026336396, 0.5604539762850914]}, {\"categories\": [\"0\", \"1\", \"2\", \"3\", \"4\", \"5\", \"6\", \"7\", \"8\", \"9\", \"10\", \"11\", \"12\", \"13\", \"14\", \"15\", \"16\", \"17\", \"18\", \"19\", \"20\", \"21\", \"22\", \"23\", \"24\", \"25\", \"26\", \"27\", \"28\", \"29\", \"30\", \"31\", \"32\", \"33\", \"34\", \"35\", \"36\"], \"mode\": \"lines\", \"name\": \"log_loss_min\", \"stepped\": true, \"type\": \"scatter\", \"data\": [0.4381369037811604, 0.4381369037811604, 0.4381369037811604, 0.4381369037811604, 0.4381369037811604, 0.4381369037811604, 0.4381369037811604, 0.3911302276597949, 0.3911302276597949, 0.3911302276597949, 0.3911302276597949, 0.3911302276597949, 0.3911302276597949, 0.3911302276597949, 0.3911302276597949, 0.3911302276597949, 0.3911302276597949, 0.3911302276597949, 0.3911302276597949, 0.3911302276597949, 0.3911302276597949, 0.3911302276597949, 0.3911302276597949, 0.3911302276597949, 0.3911302276597949, 0.3911302276597949, 0.3911302276597949, 0.3911302276597949, 0.3911302276597949, 0.3911302276597949, 0.3911302276597949, 0.3911302276597949, 0.3911302276597949, 0.3911302276597949, 0.3911302276597949, 0.3911302276597949, 0.3911302276597949]}], \"AUC_macro\": [{\"categories\": [\"0\", \"1\", \"2\", \"3\", \"4\", \"5\", \"6\", \"7\", \"8\", \"9\", \"10\", \"11\", \"12\", \"13\", \"14\", \"15\", \"16\", \"17\", \"18\", \"19\", \"20\", \"21\", \"22\", \"23\", \"24\", \"25\", \"26\", \"27\", \"28\", \"29\", \"30\", \"31\", \"32\", \"33\", \"34\", \"35\", \"36\"], \"mode\": \"markers\", \"name\": \"AUC_macro\", \"stepped\": false, \"type\": \"scatter\", \"data\": [0.9492991361713663, 0.9402492419164454, 0.8419455678596421, 0.8194593508767116, 0.8464605907240774, 0.780038282765335, 0.9498886833547523, 0.9535982056153426, 0.9527712131808915, 0.8979405763265941, 0.9138150265550751, 0.900895086211786, 0.8510268799165344, 0.9337714131230317, 0.9017518234383385, 0.9033828112832349, 0.8992105422461616, 0.9105972199570948, 0.9402602031022795, 0.871676716199117, 0.9398210882659418, 0.9185225147610915, 0.8911582955470816, 0.8757094847884288, 0.9423002916734411, 0.5, 0.8967478172173061, 0.8408437827561797, 0.908785885768754, 0.9335988677522, 0.5, 0.9518897092531404, 0.900648701545712, 0.9153926310194167, 0.9310866340329866, 0.9566752106206525, 0.9556961058358956]}, {\"categories\": [\"0\", \"1\", \"2\", \"3\", \"4\", \"5\", \"6\", \"7\", \"8\", \"9\", \"10\", \"11\", \"12\", \"13\", \"14\", \"15\", \"16\", \"17\", \"18\", \"19\", \"20\", \"21\", \"22\", \"23\", \"24\", \"25\", \"26\", \"27\", \"28\", \"29\", \"30\", \"31\", \"32\", \"33\", \"34\", \"35\", \"36\"], \"mode\": \"lines\", \"name\": \"AUC_macro_max\", \"stepped\": true, \"type\": \"scatter\", \"data\": [0.9492991361713663, 0.9492991361713663, 0.9492991361713663, 0.9492991361713663, 0.9492991361713663, 0.9492991361713663, 0.9498886833547523, 0.9535982056153426, 0.9535982056153426, 0.9535982056153426, 0.9535982056153426, 0.9535982056153426, 0.9535982056153426, 0.9535982056153426, 0.9535982056153426, 0.9535982056153426, 0.9535982056153426, 0.9535982056153426, 0.9535982056153426, 0.9535982056153426, 0.9535982056153426, 0.9535982056153426, 0.9535982056153426, 0.9535982056153426, 0.9535982056153426, 0.9535982056153426, 0.9535982056153426, 0.9535982056153426, 0.9535982056153426, 0.9535982056153426, 0.9535982056153426, 0.9535982056153426, 0.9535982056153426, 0.9535982056153426, 0.9535982056153426, 0.9566752106206525, 0.9566752106206525]}], \"f1_score_macro\": [{\"categories\": [\"0\", \"1\", \"2\", \"3\", \"4\", \"5\", \"6\", \"7\", \"8\", \"9\", \"10\", \"11\", \"12\", \"13\", \"14\", \"15\", \"16\", \"17\", \"18\", \"19\", \"20\", \"21\", \"22\", \"23\", \"24\", \"25\", \"26\", \"27\", \"28\", \"29\", \"30\", \"31\", \"32\", \"33\", \"34\", \"35\", \"36\"], \"mode\": \"markers\", \"name\": \"f1_score_macro\", \"stepped\": false, \"type\": \"scatter\", \"data\": [0.8059260316308151, 0.7740720330520215, 0.5928579710882547, 0.5292324376810662, 0.5340394638748046, 0.4023904856230286, 0.8098711834559393, 0.8138933745639161, 0.8110738704797262, 0.6815657652174304, 0.6933012070730129, 0.6828830289379553, 0.6317079166763865, 0.7688510054623974, 0.6829147757822224, 0.6878843749991651, 0.6829137535647677, 0.7080772380450917, 0.7756539489321452, 0.693326164066808, 0.7767022835891624, 0.7016250114918134, 0.6626556152244153, 0.6691433272842182, 0.7862572281117142, 0.12058598784141913, 0.6729641764958234, 0.525674767808327, 0.6887979596299725, 0.7636877298994305, 0.12058598784141913, 0.8090052604042162, 0.6342417310495482, 0.7168141154317724, 0.7489952372602731, 0.8280351556005255, 0.8222419630120094]}, {\"categories\": [\"0\", \"1\", \"2\", \"3\", \"4\", \"5\", \"6\", \"7\", \"8\", \"9\", \"10\", \"11\", \"12\", \"13\", \"14\", \"15\", \"16\", \"17\", \"18\", \"19\", \"20\", \"21\", \"22\", \"23\", \"24\", \"25\", \"26\", \"27\", \"28\", \"29\", \"30\", \"31\", \"32\", \"33\", \"34\", \"35\", \"36\"], \"mode\": \"lines\", \"name\": \"f1_score_macro_max\", \"stepped\": true, \"type\": \"scatter\", \"data\": [0.8059260316308151, 0.8059260316308151, 0.8059260316308151, 0.8059260316308151, 0.8059260316308151, 0.8059260316308151, 0.8098711834559393, 0.8138933745639161, 0.8138933745639161, 0.8138933745639161, 0.8138933745639161, 0.8138933745639161, 0.8138933745639161, 0.8138933745639161, 0.8138933745639161, 0.8138933745639161, 0.8138933745639161, 0.8138933745639161, 0.8138933745639161, 0.8138933745639161, 0.8138933745639161, 0.8138933745639161, 0.8138933745639161, 0.8138933745639161, 0.8138933745639161, 0.8138933745639161, 0.8138933745639161, 0.8138933745639161, 0.8138933745639161, 0.8138933745639161, 0.8138933745639161, 0.8138933745639161, 0.8138933745639161, 0.8138933745639161, 0.8138933745639161, 0.8280351556005255, 0.8280351556005255]}], \"precision_score_micro\": [{\"categories\": [\"0\", \"1\", \"2\", \"3\", \"4\", \"5\", \"6\", \"7\", \"8\", \"9\", \"10\", \"11\", \"12\", \"13\", \"14\", \"15\", \"16\", \"17\", \"18\", \"19\", \"20\", \"21\", \"22\", \"23\", \"24\", \"25\", \"26\", \"27\", \"28\", \"29\", \"30\", \"31\", \"32\", \"33\", \"34\", \"35\", \"36\"], \"mode\": \"markers\", \"name\": \"precision_score_micro\", \"stepped\": false, \"type\": \"scatter\", \"data\": [0.775, 0.74125, 0.5887499999999999, 0.54375, 0.5225, 0.42250000000000004, 0.7775000000000001, 0.7829166666666666, 0.7779166666666667, 0.6745833333333333, 0.67875, 0.67, 0.615, 0.7383333333333333, 0.665, 0.6687500000000001, 0.6633333333333333, 0.6908333333333332, 0.7449999999999999, 0.6766666666666666, 0.7420833333333332, 0.6866666666666668, 0.6441666666666668, 0.6483333333333333, 0.74875, 0.3179166666666666, 0.6604166666666667, 0.5512499999999999, 0.67125, 0.7345833333333334, 0.3179166666666666, 0.7791666666666667, 0.6329166666666668, 0.6912499999999999, 0.7241666666666666, 0.7941666666666667, 0.7870833333333335]}, {\"categories\": [\"0\", \"1\", \"2\", \"3\", \"4\", \"5\", \"6\", \"7\", \"8\", \"9\", \"10\", \"11\", \"12\", \"13\", \"14\", \"15\", \"16\", \"17\", \"18\", \"19\", \"20\", \"21\", \"22\", \"23\", \"24\", \"25\", \"26\", \"27\", \"28\", \"29\", \"30\", \"31\", \"32\", \"33\", \"34\", \"35\", \"36\"], \"mode\": \"lines\", \"name\": \"precision_score_micro_max\", \"stepped\": true, \"type\": \"scatter\", \"data\": [0.775, 0.775, 0.775, 0.775, 0.775, 0.775, 0.7775000000000001, 0.7829166666666666, 0.7829166666666666, 0.7829166666666666, 0.7829166666666666, 0.7829166666666666, 0.7829166666666666, 0.7829166666666666, 0.7829166666666666, 0.7829166666666666, 0.7829166666666666, 0.7829166666666666, 0.7829166666666666, 0.7829166666666666, 0.7829166666666666, 0.7829166666666666, 0.7829166666666666, 0.7829166666666666, 0.7829166666666666, 0.7829166666666666, 0.7829166666666666, 0.7829166666666666, 0.7829166666666666, 0.7829166666666666, 0.7829166666666666, 0.7829166666666666, 0.7829166666666666, 0.7829166666666666, 0.7829166666666666, 0.7941666666666667, 0.7941666666666667]}], \"precision_score_weighted\": [{\"categories\": [\"0\", \"1\", \"2\", \"3\", \"4\", \"5\", \"6\", \"7\", \"8\", \"9\", \"10\", \"11\", \"12\", \"13\", \"14\", \"15\", \"16\", \"17\", \"18\", \"19\", \"20\", \"21\", \"22\", \"23\", \"24\", \"25\", \"26\", \"27\", \"28\", \"29\", \"30\", \"31\", \"32\", \"33\", \"34\", \"35\", \"36\"], \"mode\": \"markers\", \"name\": \"precision_score_weighted\", \"stepped\": false, \"type\": \"scatter\", \"data\": [0.7770134287168359, 0.7443762171703019, 0.5875331699025589, 0.5534514048932783, 0.5652849863821008, 0.47821998582712644, 0.7804596820511789, 0.78404036998147, 0.7802891657803751, 0.676850915390226, 0.6860674603306351, 0.6757175302519018, 0.606162312604675, 0.7372020802847372, 0.6853378141027676, 0.6802555399240628, 0.6660736814740981, 0.6989959322069615, 0.7497722300030598, 0.6805043532470588, 0.7440505408909479, 0.6861903830965173, 0.646148873724908, 0.6432299061238271, 0.7519598397667913, 0.10119704861111112, 0.67136377084893, 0.57802093919499, 0.6722654206057902, 0.7370370569341832, 0.10119704861111112, 0.7806006640547426, 0.6595568729267987, 0.6976385683403296, 0.7261107256224237, 0.795618227509476, 0.7905158729519934]}, {\"categories\": [\"0\", \"1\", \"2\", \"3\", \"4\", \"5\", \"6\", \"7\", \"8\", \"9\", \"10\", \"11\", \"12\", \"13\", \"14\", \"15\", \"16\", \"17\", \"18\", \"19\", \"20\", \"21\", \"22\", \"23\", \"24\", \"25\", \"26\", \"27\", \"28\", \"29\", \"30\", \"31\", \"32\", \"33\", \"34\", \"35\", \"36\"], \"mode\": \"lines\", \"name\": \"precision_score_weighted_max\", \"stepped\": true, \"type\": \"scatter\", \"data\": [0.7770134287168359, 0.7770134287168359, 0.7770134287168359, 0.7770134287168359, 0.7770134287168359, 0.7770134287168359, 0.7804596820511789, 0.78404036998147, 0.78404036998147, 0.78404036998147, 0.78404036998147, 0.78404036998147, 0.78404036998147, 0.78404036998147, 0.78404036998147, 0.78404036998147, 0.78404036998147, 0.78404036998147, 0.78404036998147, 0.78404036998147, 0.78404036998147, 0.78404036998147, 0.78404036998147, 0.78404036998147, 0.78404036998147, 0.78404036998147, 0.78404036998147, 0.78404036998147, 0.78404036998147, 0.78404036998147, 0.78404036998147, 0.78404036998147, 0.78404036998147, 0.78404036998147, 0.78404036998147, 0.795618227509476, 0.795618227509476]}], \"recall_score_micro\": [{\"categories\": [\"0\", \"1\", \"2\", \"3\", \"4\", \"5\", \"6\", \"7\", \"8\", \"9\", \"10\", \"11\", \"12\", \"13\", \"14\", \"15\", \"16\", \"17\", \"18\", \"19\", \"20\", \"21\", \"22\", \"23\", \"24\", \"25\", \"26\", \"27\", \"28\", \"29\", \"30\", \"31\", \"32\", \"33\", \"34\", \"35\", \"36\"], \"mode\": \"markers\", \"name\": \"recall_score_micro\", \"stepped\": false, \"type\": \"scatter\", \"data\": [0.775, 0.74125, 0.5887499999999999, 0.54375, 0.5225, 0.42250000000000004, 0.7775000000000001, 0.7829166666666666, 0.7779166666666667, 0.6745833333333333, 0.67875, 0.67, 0.615, 0.7383333333333333, 0.665, 0.6687500000000001, 0.6633333333333333, 0.6908333333333332, 0.7449999999999999, 0.6766666666666666, 0.7420833333333332, 0.6866666666666668, 0.6441666666666668, 0.6483333333333333, 0.74875, 0.3179166666666666, 0.6604166666666667, 0.5512499999999999, 0.67125, 0.7345833333333334, 0.3179166666666666, 0.7791666666666667, 0.6329166666666668, 0.6912499999999999, 0.7241666666666666, 0.7941666666666667, 0.7870833333333335]}, {\"categories\": [\"0\", \"1\", \"2\", \"3\", \"4\", \"5\", \"6\", \"7\", \"8\", \"9\", \"10\", \"11\", \"12\", \"13\", \"14\", \"15\", \"16\", \"17\", \"18\", \"19\", \"20\", \"21\", \"22\", \"23\", \"24\", \"25\", \"26\", \"27\", \"28\", \"29\", \"30\", \"31\", \"32\", \"33\", \"34\", \"35\", \"36\"], \"mode\": \"lines\", \"name\": \"recall_score_micro_max\", \"stepped\": true, \"type\": \"scatter\", \"data\": [0.775, 0.775, 0.775, 0.775, 0.775, 0.775, 0.7775000000000001, 0.7829166666666666, 0.7829166666666666, 0.7829166666666666, 0.7829166666666666, 0.7829166666666666, 0.7829166666666666, 0.7829166666666666, 0.7829166666666666, 0.7829166666666666, 0.7829166666666666, 0.7829166666666666, 0.7829166666666666, 0.7829166666666666, 0.7829166666666666, 0.7829166666666666, 0.7829166666666666, 0.7829166666666666, 0.7829166666666666, 0.7829166666666666, 0.7829166666666666, 0.7829166666666666, 0.7829166666666666, 0.7829166666666666, 0.7829166666666666, 0.7829166666666666, 0.7829166666666666, 0.7829166666666666, 0.7829166666666666, 0.7941666666666667, 0.7941666666666667]}], \"matthews_correlation\": [{\"categories\": [\"0\", \"1\", \"2\", \"3\", \"4\", \"5\", \"6\", \"7\", \"8\", \"9\", \"10\", \"11\", \"12\", \"13\", \"14\", \"15\", \"16\", \"17\", \"18\", \"19\", \"20\", \"21\", \"22\", \"23\", \"24\", \"25\", \"26\", \"27\", \"28\", \"29\", \"30\", \"31\", \"32\", \"33\", \"34\", \"35\", \"36\"], \"mode\": \"markers\", \"name\": \"matthews_correlation\", \"stepped\": false, \"type\": \"scatter\", \"data\": [0.6897105597195072, 0.6447067690656649, 0.438160475816184, 0.3723954699044242, 0.3930626915669214, 0.2623751371219526, 0.6937463948233239, 0.7009058922765563, 0.6943742580460981, 0.5525096707673087, 0.5560873334482619, 0.5453974794468438, 0.47137181655847715, 0.6403788554572188, 0.5435138999060898, 0.5501232298573526, 0.5384901172358767, 0.5767980439775932, 0.6510394237042265, 0.5584005963726636, 0.6452577483274318, 0.5689263911765645, 0.5128901060134745, 0.5172787665271269, 0.6551659724706224, 0.0, 0.5393301113809461, 0.3897959762845757, 0.5463621433212472, 0.6342369473353718, 0.0, 0.6953939776988151, 0.49747301964121604, 0.5753360553339736, 0.6205907894272348, 0.7160948136853672, 0.7070728021580727]}, {\"categories\": [\"0\", \"1\", \"2\", \"3\", \"4\", \"5\", \"6\", \"7\", \"8\", \"9\", \"10\", \"11\", \"12\", \"13\", \"14\", \"15\", \"16\", \"17\", \"18\", \"19\", \"20\", \"21\", \"22\", \"23\", \"24\", \"25\", \"26\", \"27\", \"28\", \"29\", \"30\", \"31\", \"32\", \"33\", \"34\", \"35\", \"36\"], \"mode\": \"lines\", \"name\": \"matthews_correlation_max\", \"stepped\": true, \"type\": \"scatter\", \"data\": [0.6897105597195072, 0.6897105597195072, 0.6897105597195072, 0.6897105597195072, 0.6897105597195072, 0.6897105597195072, 0.6937463948233239, 0.7009058922765563, 0.7009058922765563, 0.7009058922765563, 0.7009058922765563, 0.7009058922765563, 0.7009058922765563, 0.7009058922765563, 0.7009058922765563, 0.7009058922765563, 0.7009058922765563, 0.7009058922765563, 0.7009058922765563, 0.7009058922765563, 0.7009058922765563, 0.7009058922765563, 0.7009058922765563, 0.7009058922765563, 0.7009058922765563, 0.7009058922765563, 0.7009058922765563, 0.7009058922765563, 0.7009058922765563, 0.7009058922765563, 0.7009058922765563, 0.7009058922765563, 0.7009058922765563, 0.7009058922765563, 0.7009058922765563, 0.7160948136853672, 0.7160948136853672]}], \"f1_score_micro\": [{\"categories\": [\"0\", \"1\", \"2\", \"3\", \"4\", \"5\", \"6\", \"7\", \"8\", \"9\", \"10\", \"11\", \"12\", \"13\", \"14\", \"15\", \"16\", \"17\", \"18\", \"19\", \"20\", \"21\", \"22\", \"23\", \"24\", \"25\", \"26\", \"27\", \"28\", \"29\", \"30\", \"31\", \"32\", \"33\", \"34\", \"35\", \"36\"], \"mode\": \"markers\", \"name\": \"f1_score_micro\", \"stepped\": false, \"type\": \"scatter\", \"data\": [0.775, 0.74125, 0.5887499999999999, 0.54375, 0.5225, 0.42250000000000004, 0.7775000000000001, 0.7829166666666666, 0.7779166666666667, 0.6745833333333333, 0.67875, 0.67, 0.615, 0.7383333333333333, 0.665, 0.6687500000000001, 0.6633333333333333, 0.6908333333333332, 0.7449999999999999, 0.6766666666666666, 0.7420833333333333, 0.6866666666666668, 0.6441666666666668, 0.6483333333333333, 0.74875, 0.3179166666666666, 0.6604166666666667, 0.5512499999999999, 0.67125, 0.7345833333333334, 0.3179166666666666, 0.7791666666666667, 0.6329166666666668, 0.6912499999999999, 0.7241666666666667, 0.7941666666666667, 0.7870833333333334]}, {\"categories\": [\"0\", \"1\", \"2\", \"3\", \"4\", \"5\", \"6\", \"7\", \"8\", \"9\", \"10\", \"11\", \"12\", \"13\", \"14\", \"15\", \"16\", \"17\", \"18\", \"19\", \"20\", \"21\", \"22\", \"23\", \"24\", \"25\", \"26\", \"27\", \"28\", \"29\", \"30\", \"31\", \"32\", \"33\", \"34\", \"35\", \"36\"], \"mode\": \"lines\", \"name\": \"f1_score_micro_max\", \"stepped\": true, \"type\": \"scatter\", \"data\": [0.775, 0.775, 0.775, 0.775, 0.775, 0.775, 0.7775000000000001, 0.7829166666666666, 0.7829166666666666, 0.7829166666666666, 0.7829166666666666, 0.7829166666666666, 0.7829166666666666, 0.7829166666666666, 0.7829166666666666, 0.7829166666666666, 0.7829166666666666, 0.7829166666666666, 0.7829166666666666, 0.7829166666666666, 0.7829166666666666, 0.7829166666666666, 0.7829166666666666, 0.7829166666666666, 0.7829166666666666, 0.7829166666666666, 0.7829166666666666, 0.7829166666666666, 0.7829166666666666, 0.7829166666666666, 0.7829166666666666, 0.7829166666666666, 0.7829166666666666, 0.7829166666666666, 0.7829166666666666, 0.7941666666666667, 0.7941666666666667]}]}, \"metricName\": null, \"primaryMetricName\": \"accuracy\", \"showLegend\": false}, \"run_metrics\": [{\"name\": \"experiment_status\", \"run_id\": \"AutoML_53d60ec2-9229-44ac-934f-289e492875b6\", \"categories\": [0, 1, 2, 3, 4, 5, 6, 7, 8, 9, 10, 11, 12, 13], \"series\": [{\"data\": [\"DatasetEvaluation\", \"FeaturesGeneration\", \"DatasetFeaturization\", \"DatasetFeaturizationCompleted\", \"DatasetCrossValidationSplit\", \"ModelSelection\", \"BestRunExplainModel\", \"ModelExplanationDataSetSetup\", \"PickSurrogateModel\", \"EngineeredFeatureExplanations\", \"EngineeredFeatureExplanations\", \"RawFeaturesExplanations\", \"RawFeaturesExplanations\", \"BestRunExplainModel\"]}]}, {\"name\": \"experiment_status_description\", \"run_id\": \"AutoML_53d60ec2-9229-44ac-934f-289e492875b6\", \"categories\": [0, 1, 2, 3, 4, 5, 6, 7, 8, 9, 10, 11, 12, 13], \"series\": [{\"data\": [\"Gathering dataset statistics.\", \"Generating features for the dataset.\", \"Beginning to fit featurizers and featurize the dataset.\", \"Completed fit featurizers and featurizing the dataset.\", \"Generating individually featurized CV splits.\", \"Beginning model selection.\", \"Best run model explanations started\", \"Model explanations data setup completed\", \"Choosing LightGBM as the surrogate model for explanations\", \"Computation of engineered features started\", \"Computation of engineered features completed\", \"Computation of raw features started\", \"Computation of raw features completed\", \"Best run model explanations completed\"]}]}, {\"name\": \"f1_score_micro\", \"run_id\": \"AutoML_53d60ec2-9229-44ac-934f-289e492875b6\", \"categories\": [0], \"series\": [{\"data\": [0.7941666666666667]}]}, {\"name\": \"recall_score_macro\", \"run_id\": \"AutoML_53d60ec2-9229-44ac-934f-289e492875b6\", \"categories\": [0], \"series\": [{\"data\": [0.8278747083806506]}]}, {\"name\": \"log_loss\", \"run_id\": \"AutoML_53d60ec2-9229-44ac-934f-289e492875b6\", \"categories\": [0], \"series\": [{\"data\": [0.40547482026336396]}]}, {\"name\": \"AUC_micro\", \"run_id\": \"AutoML_53d60ec2-9229-44ac-934f-289e492875b6\", \"categories\": [0], \"series\": [{\"data\": [0.9674189814814815]}]}, {\"name\": \"recall_score_micro\", \"run_id\": \"AutoML_53d60ec2-9229-44ac-934f-289e492875b6\", \"categories\": [0], \"series\": [{\"data\": [0.7941666666666667]}]}, {\"name\": \"norm_macro_recall\", \"run_id\": \"AutoML_53d60ec2-9229-44ac-934f-289e492875b6\", \"categories\": [0], \"series\": [{\"data\": [0.770499611174201]}]}, {\"name\": \"balanced_accuracy\", \"run_id\": \"AutoML_53d60ec2-9229-44ac-934f-289e492875b6\", \"categories\": [0], \"series\": [{\"data\": [0.8278747083806506]}]}, {\"name\": \"weighted_accuracy\", \"run_id\": \"AutoML_53d60ec2-9229-44ac-934f-289e492875b6\", \"categories\": [0], \"series\": [{\"data\": [0.7667997970573486]}]}, {\"name\": \"AUC_weighted\", \"run_id\": \"AutoML_53d60ec2-9229-44ac-934f-289e492875b6\", \"categories\": [0], \"series\": [{\"data\": [0.9440286623497777]}]}, {\"name\": \"accuracy\", \"run_id\": \"AutoML_53d60ec2-9229-44ac-934f-289e492875b6\", \"categories\": [0], \"series\": [{\"data\": [0.7941666666666667]}]}, {\"name\": \"average_precision_score_weighted\", \"run_id\": \"AutoML_53d60ec2-9229-44ac-934f-289e492875b6\", \"categories\": [0], \"series\": [{\"data\": [0.8929011654047206]}]}, {\"name\": \"f1_score_macro\", \"run_id\": \"AutoML_53d60ec2-9229-44ac-934f-289e492875b6\", \"categories\": [0], \"series\": [{\"data\": [0.8280351556005255]}]}, {\"name\": \"average_precision_score_micro\", \"run_id\": \"AutoML_53d60ec2-9229-44ac-934f-289e492875b6\", \"categories\": [0], \"series\": [{\"data\": [0.9097731572680999]}]}, {\"name\": \"precision_score_macro\", \"run_id\": \"AutoML_53d60ec2-9229-44ac-934f-289e492875b6\", \"categories\": [0], \"series\": [{\"data\": [0.8292157045089968]}]}, {\"name\": \"f1_score_weighted\", \"run_id\": \"AutoML_53d60ec2-9229-44ac-934f-289e492875b6\", \"categories\": [0], \"series\": [{\"data\": [0.7943546137859397]}]}, {\"name\": \"precision_score_weighted\", \"run_id\": \"AutoML_53d60ec2-9229-44ac-934f-289e492875b6\", \"categories\": [0], \"series\": [{\"data\": [0.795618227509476]}]}, {\"name\": \"average_precision_score_macro\", \"run_id\": \"AutoML_53d60ec2-9229-44ac-934f-289e492875b6\", \"categories\": [0], \"series\": [{\"data\": [0.9146342219765735]}]}, {\"name\": \"precision_score_micro\", \"run_id\": \"AutoML_53d60ec2-9229-44ac-934f-289e492875b6\", \"categories\": [0], \"series\": [{\"data\": [0.7941666666666667]}]}, {\"name\": \"AUC_macro\", \"run_id\": \"AutoML_53d60ec2-9229-44ac-934f-289e492875b6\", \"categories\": [0], \"series\": [{\"data\": [0.9566752106206525]}]}, {\"name\": \"recall_score_weighted\", \"run_id\": \"AutoML_53d60ec2-9229-44ac-934f-289e492875b6\", \"categories\": [0], \"series\": [{\"data\": [0.7941666666666667]}]}, {\"name\": \"matthews_correlation\", \"run_id\": \"AutoML_53d60ec2-9229-44ac-934f-289e492875b6\", \"categories\": [0], \"series\": [{\"data\": [0.7160948136853672]}]}], \"run_logs\": \"\\nRun is completed.\", \"graph\": {}, \"widget_settings\": {\"childWidgetDisplay\": \"popup\", \"send_telemetry\": false, \"log_level\": \"INFO\", \"sdk_version\": \"1.26.0\"}, \"loading\": false}"
     },
     "metadata": {},
     "output_type": "display_data"
    },
    {
     "data": {
      "text/html": [
       "<table style=\"width:100%\"><tr><th>Experiment</th><th>Id</th><th>Type</th><th>Status</th><th>Details Page</th><th>Docs Page</th></tr><tr><td>mobile_price_prediction</td><td>AutoML_53d60ec2-9229-44ac-934f-289e492875b6</td><td>automl</td><td>Completed</td><td><a href=\"https://ml.azure.com/runs/AutoML_53d60ec2-9229-44ac-934f-289e492875b6?wsid=/subscriptions/d7f39349-a66b-446e-aba6-0053c2cf1c11/resourcegroups/aml-quickstarts-142384/workspaces/quick-starts-ws-142384&amp;tid=660b3398-b80e-49d2-bc5b-ac1dc93b5254\" target=\"_blank\" rel=\"noopener\">Link to Azure Machine Learning studio</a></td><td><a href=\"https://docs.microsoft.com/en-us/python/api/overview/azure/ml/intro?view=azure-ml-py\" target=\"_blank\" rel=\"noopener\">Link to Documentation</a></td></tr></table>"
      ],
      "text/plain": [
       "<IPython.core.display.HTML object>"
      ]
     },
     "metadata": {},
     "output_type": "display_data"
    },
    {
     "name": "stdout",
     "output_type": "stream",
     "text": [
      "\n",
      "\n",
      "****************************************************************************************************\n",
      "DATA GUARDRAILS: \n",
      "\n",
      "TYPE:         Class balancing detection\n",
      "STATUS:       PASSED\n",
      "DESCRIPTION:  Your inputs were analyzed, and all classes are balanced in your training data.\n",
      "              Learn more about imbalanced data: https://aka.ms/AutomatedMLImbalancedData\n",
      "\n",
      "****************************************************************************************************\n",
      "\n",
      "TYPE:         Missing feature values imputation\n",
      "STATUS:       PASSED\n",
      "DESCRIPTION:  No feature missing values were detected in the training data.\n",
      "              Learn more about missing value imputation: https://aka.ms/AutomatedMLFeaturization\n",
      "\n",
      "****************************************************************************************************\n",
      "\n",
      "TYPE:         High cardinality feature detection\n",
      "STATUS:       PASSED\n",
      "DESCRIPTION:  Your inputs were analyzed, and no high cardinality features were detected.\n",
      "              Learn more about high cardinality feature handling: https://aka.ms/AutomatedMLFeaturization\n",
      "\n",
      "****************************************************************************************************\n",
      "\n",
      "****************************************************************************************************\n",
      "ITERATION: The iteration being evaluated.\n",
      "PIPELINE: A summary description of the pipeline being evaluated.\n",
      "DURATION: Time taken for the current iteration.\n",
      "METRIC: The result of computing score on the fitted pipeline.\n",
      "BEST: The best observed score thus far.\n",
      "****************************************************************************************************\n",
      "\n",
      " ITERATION   PIPELINE                                       DURATION      METRIC      BEST\n",
      "         0   MaxAbsScaler LightGBM                          0:00:46       0.7750    0.7750\n",
      "         1   MaxAbsScaler XGBoostClassifier                 0:00:58       0.7412    0.7750\n",
      "         2   MaxAbsScaler RandomForest                      0:01:41       0.5887    0.7750\n",
      "         3   MaxAbsScaler RandomForest                      0:03:12       0.5437    0.7750\n",
      "         4   MaxAbsScaler RandomForest                      0:00:42       0.5225    0.7750\n",
      "         5   MaxAbsScaler RandomForest                      0:00:46       0.4225    0.7750\n",
      "         6   SparseNormalizer XGBoostClassifier             0:02:36       0.7775    0.7775\n",
      "         7   SparseNormalizer XGBoostClassifier             0:01:00       0.7829    0.7829\n",
      "        10   StandardScalerWrapper XGBoostClassifier        0:00:43       0.6787    0.7829\n",
      "        11   MaxAbsScaler RandomForest                      0:00:47       0.6700    0.7829\n",
      "         8   SparseNormalizer XGBoostClassifier             0:00:51       0.7779    0.7829\n",
      "         9   StandardScalerWrapper RandomForest             0:00:52       0.6746    0.7829\n",
      "        12   MaxAbsScaler LogisticRegression                0:00:42       0.6150    0.7829\n",
      "        13   SparseNormalizer LightGBM                      0:00:44       0.7383    0.7829\n",
      "        14   MaxAbsScaler LightGBM                          0:00:45       0.6650    0.7829\n",
      "        15   MaxAbsScaler ExtremeRandomTrees                0:01:01       0.6688    0.7829\n",
      "        16   MaxAbsScaler LightGBM                          0:00:41       0.6633    0.7829\n",
      "        17   MaxAbsScaler ExtremeRandomTrees                0:01:05       0.6908    0.7829\n",
      "        18   SparseNormalizer XGBoostClassifier             0:00:55       0.7450    0.7829\n",
      "        19   StandardScalerWrapper ExtremeRandomTrees       0:00:55       0.6767    0.7829\n",
      "        20   MaxAbsScaler LightGBM                          0:00:59       0.7421    0.7829\n",
      "        21   StandardScalerWrapper LightGBM                 0:00:58       0.6867    0.7829\n",
      "        22   SparseNormalizer GradientBoosting              0:00:54       0.6442    0.7829\n",
      "        23   MaxAbsScaler LogisticRegression                0:00:52       0.6483    0.7829\n",
      "        24   StandardScalerWrapper LightGBM                 0:00:49       0.7488    0.7829\n",
      "        25   StandardScalerWrapper XGBoostClassifier        0:00:43       0.3179    0.7829\n",
      "        26   SparseNormalizer ExtremeRandomTrees            0:00:45       0.6604    0.7829\n",
      "        27   StandardScalerWrapper RandomForest             0:00:53       0.5512    0.7829\n",
      "        28   StandardScalerWrapper LightGBM                 0:00:48       0.6713    0.7829\n",
      "        29   SparseNormalizer XGBoostClassifier             0:00:59       0.7346    0.7829\n",
      "        30   SparseNormalizer XGBoostClassifier             0:00:42       0.3179    0.7829\n",
      "        31   SparseNormalizer XGBoostClassifier             0:01:06       0.7792    0.7829\n",
      "Received interrupt. Returning now."
     ]
    },
    {
     "data": {
      "text/plain": [
       "{'runId': 'AutoML_53d60ec2-9229-44ac-934f-289e492875b6',\n",
       " 'target': 'automl-cluster',\n",
       " 'status': 'Completed',\n",
       " 'startTimeUtc': '2021-04-11T09:07:03.819819Z',\n",
       " 'endTimeUtc': '2021-04-11T09:31:24.249983Z',\n",
       " 'properties': {'num_iterations': '1000',\n",
       "  'training_type': 'TrainFull',\n",
       "  'acquisition_function': 'EI',\n",
       "  'primary_metric': 'accuracy',\n",
       "  'train_split': '0',\n",
       "  'acquisition_parameter': '0',\n",
       "  'num_cross_validation': '5',\n",
       "  'target': 'automl-cluster',\n",
       "  'AMLSettingsJsonString': '{\"path\":null,\"name\":\"mobile_price_prediction\",\"subscription_id\":\"d7f39349-a66b-446e-aba6-0053c2cf1c11\",\"resource_group\":\"aml-quickstarts-142384\",\"workspace_name\":\"quick-starts-ws-142384\",\"region\":\"southcentralus\",\"compute_target\":\"automl-cluster\",\"spark_service\":null,\"azure_service\":\"remote\",\"many_models\":false,\"pipeline_fetch_max_batch_size\":1,\"enable_batch_run\":false,\"enable_run_restructure\":false,\"iterations\":1000,\"primary_metric\":\"accuracy\",\"task_type\":\"classification\",\"data_script\":null,\"test_size\":0.0,\"validation_size\":0.0,\"n_cross_validations\":5,\"y_min\":null,\"y_max\":null,\"num_classes\":null,\"featurization\":\"auto\",\"_ignore_package_version_incompatibilities\":false,\"is_timeseries\":false,\"max_cores_per_iteration\":1,\"max_concurrent_iterations\":4,\"iteration_timeout_minutes\":null,\"mem_in_mb\":null,\"enforce_time_on_windows\":false,\"experiment_timeout_minutes\":30,\"experiment_exit_score\":null,\"whitelist_models\":null,\"blacklist_algos\":[\"TensorFlowLinearClassifier\",\"TensorFlowDNN\"],\"supported_models\":[\"DecisionTree\",\"GradientBoosting\",\"LightGBM\",\"KNN\",\"BernoulliNaiveBayes\",\"TensorFlowLinearClassifier\",\"RandomForest\",\"SVM\",\"ExtremeRandomTrees\",\"AveragedPerceptronClassifier\",\"XGBoostClassifier\",\"LogisticRegression\",\"MultinomialNaiveBayes\",\"TensorFlowDNN\",\"SGD\",\"LinearSVM\"],\"private_models\":[],\"auto_blacklist\":true,\"blacklist_samples_reached\":false,\"exclude_nan_labels\":true,\"verbosity\":20,\"_debug_log\":\"azureml_automl.log\",\"show_warnings\":false,\"model_explainability\":true,\"service_url\":null,\"sdk_url\":null,\"sdk_packages\":null,\"enable_onnx_compatible_models\":false,\"enable_split_onnx_featurizer_estimator_models\":false,\"vm_type\":\"STANDARD_D3_V2\",\"telemetry_verbosity\":20,\"send_telemetry\":true,\"enable_dnn\":false,\"scenario\":\"SDK-1.13.0\",\"environment_label\":null,\"save_mlflow\":false,\"force_text_dnn\":false,\"enable_feature_sweeping\":true,\"enable_early_stopping\":true,\"early_stopping_n_iters\":10,\"metrics\":null,\"enable_metric_confidence\":false,\"enable_ensembling\":true,\"enable_stack_ensembling\":true,\"ensemble_iterations\":15,\"enable_tf\":false,\"enable_subsampling\":null,\"subsample_seed\":null,\"enable_nimbusml\":false,\"enable_streaming\":false,\"force_streaming\":false,\"track_child_runs\":true,\"allowed_private_models\":[],\"label_column_name\":\"price_range\",\"weight_column_name\":null,\"cv_split_column_names\":null,\"enable_local_managed\":false,\"_local_managed_run_id\":null,\"cost_mode\":1,\"lag_length\":0,\"metric_operation\":\"maximize\",\"preprocess\":true}',\n",
       "  'DataPrepJsonString': '{\\\\\"training_data\\\\\": {\\\\\"datasetId\\\\\": \\\\\"e648d5e6-1796-4541-a68e-529661d3dc01\\\\\"}, \\\\\"datasets\\\\\": 0}',\n",
       "  'EnableSubsampling': None,\n",
       "  'runTemplate': 'AutoML',\n",
       "  'azureml.runsource': 'automl',\n",
       "  'display_task_type': 'classification',\n",
       "  'dependencies_versions': '{\"azureml-widgets\": \"1.26.0\", \"azureml-train\": \"1.26.0\", \"azureml-train-restclients-hyperdrive\": \"1.26.0\", \"azureml-train-core\": \"1.26.0\", \"azureml-train-automl\": \"1.26.0\", \"azureml-train-automl-runtime\": \"1.26.0\", \"azureml-train-automl-client\": \"1.26.0\", \"azureml-tensorboard\": \"1.26.0\", \"azureml-telemetry\": \"1.26.0\", \"azureml-sdk\": \"1.26.0\", \"azureml-samples\": \"0+unknown\", \"azureml-pipeline\": \"1.26.0\", \"azureml-pipeline-steps\": \"1.26.0\", \"azureml-pipeline-core\": \"1.26.0\", \"azureml-opendatasets\": \"1.26.0\", \"azureml-model-management-sdk\": \"1.0.1b6.post1\", \"azureml-mlflow\": \"1.26.0\", \"azureml-interpret\": \"1.26.0\", \"azureml-explain-model\": \"1.26.0\", \"azureml-defaults\": \"1.26.0\", \"azureml-dataset-runtime\": \"1.26.0\", \"azureml-dataprep\": \"2.13.2\", \"azureml-dataprep-rslex\": \"1.11.2\", \"azureml-dataprep-native\": \"32.0.0\", \"azureml-datadrift\": \"1.26.0\", \"azureml-core\": \"1.26.0\", \"azureml-contrib-services\": \"1.26.0\", \"azureml-contrib-server\": \"1.26.0\", \"azureml-contrib-reinforcementlearning\": \"1.26.0\", \"azureml-contrib-pipeline-steps\": \"1.26.0\", \"azureml-contrib-notebook\": \"1.26.0\", \"azureml-contrib-gbdt\": \"1.26.0\", \"azureml-contrib-fairness\": \"1.26.0\", \"azureml-contrib-dataset\": \"1.26.0\", \"azureml-cli-common\": \"1.26.0\", \"azureml-automl-runtime\": \"1.26.0\", \"azureml-automl-dnn-nlp\": \"1.26.0\", \"azureml-automl-core\": \"1.26.0\", \"azureml-accel-models\": \"1.26.0\"}',\n",
       "  '_aml_system_scenario_identification': 'Remote.Parent',\n",
       "  'ClientType': 'SDK',\n",
       "  'environment_cpu_name': 'AzureML-AutoML',\n",
       "  'environment_cpu_label': 'prod',\n",
       "  'environment_gpu_name': 'AzureML-AutoML-GPU',\n",
       "  'environment_gpu_label': 'prod',\n",
       "  'root_attribution': 'automl',\n",
       "  'attribution': 'AutoML',\n",
       "  'Orchestrator': 'AutoML',\n",
       "  'CancelUri': 'https://southcentralus.experiments.azureml.net/jasmine/v1.0/subscriptions/d7f39349-a66b-446e-aba6-0053c2cf1c11/resourceGroups/aml-quickstarts-142384/providers/Microsoft.MachineLearningServices/workspaces/quick-starts-ws-142384/experimentids/085bde66-6ed9-4cbc-9aaa-110013e2d107/cancel/AutoML_53d60ec2-9229-44ac-934f-289e492875b6',\n",
       "  'ClientSdkVersion': '1.25.0',\n",
       "  'snapshotId': '00000000-0000-0000-0000-000000000000',\n",
       "  'SetupRunId': 'AutoML_53d60ec2-9229-44ac-934f-289e492875b6_setup',\n",
       "  'SetupRunContainerId': 'dcid.AutoML_53d60ec2-9229-44ac-934f-289e492875b6_setup',\n",
       "  'FeaturizationRunJsonPath': 'featurizer_container.json',\n",
       "  'FeaturizationRunId': 'AutoML_53d60ec2-9229-44ac-934f-289e492875b6_featurize',\n",
       "  'ProblemInfoJsonString': '{\"dataset_num_categorical\": 0, \"is_sparse\": true, \"subsampling\": false, \"dataset_classes\": 4, \"dataset_features\": 137, \"dataset_samples\": 2400, \"single_frequency_class_detected\": false}',\n",
       "  'ModelExplainRunId': 'AutoML_53d60ec2-9229-44ac-934f-289e492875b6_ModelExplain'},\n",
       " 'inputDatasets': [{'dataset': {'id': 'e648d5e6-1796-4541-a68e-529661d3dc01'}, 'consumptionDetails': {'type': 'RunInput', 'inputName': 'training_data', 'mechanism': 'Direct'}}],\n",
       " 'outputDatasets': [],\n",
       " 'logFiles': {},\n",
       " 'submittedBy': 'ODL_User 142384'}"
      ]
     },
     "execution_count": 23,
     "metadata": {},
     "output_type": "execute_result"
    }
   ],
   "source": [
    "remote_run = experiment.submit(automl_config, show_output = True)\n",
    "\n",
    "from azureml.widgets import RunDetails\n",
    "\n",
    "RunDetails(remote_run).show()\n",
    "remote_run.wait_for_completion(show_output=True)"
   ]
  },
  {
   "cell_type": "markdown",
   "metadata": {},
   "source": [
    "## Best Model\n",
    "\n",
    "TODO: In the cell below, get the best model from the automl experiments and display all the properties of the model.\n",
    "\n"
   ]
  },
  {
   "cell_type": "code",
   "execution_count": 18,
   "metadata": {},
   "outputs": [
    {
     "name": "stdout",
     "output_type": "stream",
     "text": [
      "Collecting xgboost==0.90\n",
      "  Downloading xgboost-0.90-py2.py3-none-manylinux1_x86_64.whl (142.8 MB)\n",
      "\u001b[K     |████████████████████████████████| 142.8 MB 25 kB/s /s eta 0:00:01\n",
      "\u001b[?25hRequirement already satisfied: scipy in /anaconda/envs/azureml_py36/lib/python3.6/site-packages (from xgboost==0.90) (1.4.1)\n",
      "Requirement already satisfied: numpy in /anaconda/envs/azureml_py36/lib/python3.6/site-packages (from xgboost==0.90) (1.18.5)\n",
      "Installing collected packages: xgboost\n",
      "  Attempting uninstall: xgboost\n",
      "    Found existing installation: xgboost 1.3.3\n",
      "    Uninstalling xgboost-1.3.3:\n",
      "      Successfully uninstalled xgboost-1.3.3\n",
      "Successfully installed xgboost-0.90\n",
      "Note: you may need to restart the kernel to use updated packages.\n"
     ]
    }
   ],
   "source": [
    "##pip install xgboost==0.90"
   ]
  },
  {
   "cell_type": "code",
   "execution_count": 24,
   "metadata": {
    "gather": {
     "logged": 1598431425670
    },
    "jupyter": {
     "outputs_hidden": false,
     "source_hidden": false
    },
    "nteract": {
     "transient": {
      "deleting": false
     }
    }
   },
   "outputs": [
    {
     "name": "stdout",
     "output_type": "stream",
     "text": [
      "Pipeline(memory=None,\n",
      "         steps=[('datatransformer',\n",
      "                 DataTransformer(enable_dnn=None, enable_feature_sweeping=None,\n",
      "                                 feature_sweeping_config=None,\n",
      "                                 feature_sweeping_timeout=None,\n",
      "                                 featurization_config=None, force_text_dnn=None,\n",
      "                                 is_cross_validation=None,\n",
      "                                 is_onnx_compatible=None, logger=None,\n",
      "                                 observer=None, task=None, working_dir=None)),\n",
      "                ('prefittedsoftvotingclassifier',...\n",
      "                                                                                               objective='multi:softprob',\n",
      "                                                                                               random_state=0,\n",
      "                                                                                               reg_alpha=0,\n",
      "                                                                                               reg_lambda=0.3125,\n",
      "                                                                                               scale_pos_weight=1,\n",
      "                                                                                               seed=None,\n",
      "                                                                                               silent=None,\n",
      "                                                                                               subsample=0.6,\n",
      "                                                                                               tree_method='hist',\n",
      "                                                                                               verbose=-10,\n",
      "                                                                                               verbosity=0))],\n",
      "                                                                     verbose=False))],\n",
      "                                               flatten_transform=None,\n",
      "                                               weights=[0.14285714285714285,\n",
      "                                                        0.14285714285714285,\n",
      "                                                        0.14285714285714285,\n",
      "                                                        0.14285714285714285,\n",
      "                                                        0.2857142857142857,\n",
      "                                                        0.14285714285714285]))],\n",
      "         verbose=False)\n"
     ]
    }
   ],
   "source": [
    "best_automl, best_fit_model = remote_run.get_output()\n",
    "print(best_fit_model)"
   ]
  },
  {
   "cell_type": "code",
   "execution_count": 25,
   "metadata": {
    "gather": {
     "logged": 1598431426111
    },
    "jupyter": {
     "outputs_hidden": false,
     "source_hidden": false
    },
    "nteract": {
     "transient": {
      "deleting": false
     }
    }
   },
   "outputs": [
    {
     "data": {
      "text/plain": [
       "['best_fit_automl_model.pkl']"
      ]
     },
     "execution_count": 25,
     "metadata": {},
     "output_type": "execute_result"
    }
   ],
   "source": [
    "#TODO: Save the best model\n",
    "joblib.dump(best_fit_model, 'best_fit_automl_model.pkl')"
   ]
  },
  {
   "cell_type": "markdown",
   "metadata": {},
   "source": [
    "## Model Deployment\n",
    "\n",
    "Remember you have to deploy only one of the two models you trained.. Perform the steps in the rest of this notebook only if you wish to deploy this model.\n",
    "\n",
    "TODO: In the cell below, register the model, create an inference config and deploy the model as a web service."
   ]
  },
  {
   "cell_type": "code",
   "execution_count": 28,
   "metadata": {
    "gather": {
     "logged": 1598431435189
    },
    "jupyter": {
     "outputs_hidden": false,
     "source_hidden": false
    },
    "nteract": {
     "transient": {
      "deleting": false
     }
    }
   },
   "outputs": [
    {
     "name": "stdout",
     "output_type": "stream",
     "text": [
      "automl_model version: 1\n",
      "\t Training context : Auto ML\n",
      "\t Accuracy : 0.7941666666666667\n",
      "\n",
      "\n",
      "hyperdrive_best_run.pkl version: 1\n",
      "\n",
      "\n"
     ]
    }
   ],
   "source": [
    "from azureml.core import Model\n",
    "\n",
    "# Register model\n",
    "best_automl.register_model(model_path='outputs/model.pkl', model_name='automl_model',\n",
    "                        tags={'Training context':'Auto ML'},\n",
    "                        properties={'Accuracy': best_automl.get_metrics()['accuracy']})\n",
    "\n"
   ]
  },
  {
   "cell_type": "code",
   "execution_count": 40,
   "metadata": {},
   "outputs": [
    {
     "name": "stdout",
     "output_type": "stream",
     "text": [
      "automl_model version: 1\n",
      "\t Training context : Auto ML\n",
      "\t Accuracy : 0.7941666666666667\n",
      "\n",
      "\n"
     ]
    }
   ],
   "source": [
    "# List registered models\n",
    "for model in Model.list(ws):\n",
    "    print(model.name, 'version:', model.version)\n",
    "    for tag_name in model.tags:\n",
    "        tag = model.tags[tag_name]\n",
    "        print ('\\t',tag_name, ':', tag)\n",
    "    for prop_name in model.properties:\n",
    "        prop = model.properties[prop_name]\n",
    "        print ('\\t',prop_name, ':', prop)\n",
    "    print('\\n')"
   ]
  },
  {
   "cell_type": "code",
   "execution_count": 41,
   "metadata": {},
   "outputs": [],
   "source": [
    "from azureml.automl.core.shared import constants\n",
    "best_automl.download_file(constants.CONDA_ENV_FILE_PATH, 'myenv.yml')"
   ]
  },
  {
   "cell_type": "code",
   "execution_count": 42,
   "metadata": {},
   "outputs": [],
   "source": [
    "# create inference_config\n",
    "from azureml.core.model import InferenceConfig\n",
    "from azureml.core.environment import Environment\n",
    "\n",
    "\n",
    "env=Environment.from_conda_specification(name='myenv',file_path='myenv.yml')\n",
    "inference_config = InferenceConfig(entry_script=\"scoring.py\",environment=env)"
   ]
  },
  {
   "cell_type": "code",
   "execution_count": 43,
   "metadata": {},
   "outputs": [],
   "source": [
    "\n",
    "from azureml.core.webservice import Webservice, AciWebservice\n",
    "deployment_config = AciWebservice.deploy_configuration(cpu_cores=1, memory_gb = 1)\n"
   ]
  },
  {
   "cell_type": "code",
   "execution_count": null,
   "metadata": {},
   "outputs": [
    {
     "name": "stdout",
     "output_type": "stream",
     "text": [
      "Tips: You can try get_logs(): https://aka.ms/debugimage#dockerlog or local deployment: https://aka.ms/debugimage#debug-locally to debug if deployment takes longer than 10 minutes.\n",
      "Running\n",
      "2021-04-11 10:23:22+00:00 Registering the environment.\n",
      "2021-04-11 10:23:23+00:00 Use the existing image.\n",
      "2021-04-11 10:23:23+00:00 Generating deployment configuration.\n",
      "2021-04-11 10:23:24+00:00 Submitting deployment to compute.\n",
      "2021-04-11 10:23:27+00:00 Checking the status of deployment mobile-price-deploy-service."
     ]
    }
   ],
   "source": [
    "#deploy the model\n",
    "service=Model.deploy(workspace=ws,\n",
    "                    name=\"mobile-price-deploy-service\",\n",
    "                    models=[model],\n",
    "                    inference_config=inference_config,\n",
    "                    deployment_config=deployment_config)\n",
    "service.wait_for_deployment(show_output=True)#deploy the model"
   ]
  },
  {
   "cell_type": "code",
   "execution_count": null,
   "metadata": {},
   "outputs": [],
   "source": []
  },
  {
   "cell_type": "markdown",
   "metadata": {
    "collapsed": true,
    "gather": {
     "logged": 1598431657736
    },
    "jupyter": {
     "outputs_hidden": false,
     "source_hidden": false
    },
    "nteract": {
     "transient": {
      "deleting": false
     }
    }
   },
   "source": [
    "TODO: In the cell below, send a request to the web service you deployed to test it."
   ]
  },
  {
   "cell_type": "code",
   "execution_count": null,
   "metadata": {
    "gather": {
     "logged": 1598432707604
    },
    "jupyter": {
     "outputs_hidden": false,
     "source_hidden": false
    },
    "nteract": {
     "transient": {
      "deleting": false
     }
    }
   },
   "outputs": [],
   "source": [
    "scoring_uri = service.scoring_uri\n",
    "\n",
    "print(f'\\nservice state: {service.state}\\n')\n",
    "print(f'scoring URI: \\n{service.scoring_uri}\\n')\n",
    "print(f'swagger URI: \\n{service.swagger_uri}\\n')\n",
    "\n",
    "print(service.scoring_uri)\n",
    "print(service.swagger_uri)"
   ]
  },
  {
   "cell_type": "code",
   "execution_count": null,
   "metadata": {},
   "outputs": [],
   "source": [
    "import requests\n",
    "import json\n",
    "\n",
    "data={\"data\":\n",
    "  [{'age': 87.0,\n",
    "  'anaemia': 0,\n",
    "  'creatinine_phosphokinase': 981,\n",
    "  'diabetes': 0,\n",
    "  'ejection_fraction': 55,\n",
    "  'high_blood_pressure': 1,\n",
    "  'platelets': 368000,\n",
    "  'serum_creatinine': 3.5,\n",
    "  'serum_sodium': 137,\n",
    "  'sex': 0,\n",
    "  'smoking': 0,\n",
    "  'time': 4}]\n",
    "  }\n",
    "\n",
    "input_data=json.dumps(data)\n",
    "\n",
    "with open(\"data.json\",\"w\") as file:\n",
    "    file.write(input_data)\n",
    "\n",
    "headers={\"Content-Type\":\"application/json\"}\n",
    "\n",
    "result=requests.post(scoring_uri, input_data, headers=headers)\n",
    "print(\"The output is: \",result.json())input_data=json.dumps(data)\n",
    "\n"
   ]
  },
  {
   "cell_type": "markdown",
   "metadata": {
    "collapsed": true,
    "gather": {
     "logged": 1598432765711
    },
    "jupyter": {
     "outputs_hidden": false,
     "source_hidden": false
    },
    "nteract": {
     "transient": {
      "deleting": false
     }
    }
   },
   "source": [
    "TODO: In the cell below, print the logs of the web service and delete the service"
   ]
  },
  {
   "cell_type": "code",
   "execution_count": null,
   "metadata": {
    "jupyter": {
     "outputs_hidden": false,
     "source_hidden": false
    },
    "nteract": {
     "transient": {
      "deleting": false
     }
    }
   },
   "outputs": [],
   "source": [
    "print(service.get_logs())"
   ]
  },
  {
   "cell_type": "code",
   "execution_count": null,
   "metadata": {},
   "outputs": [],
   "source": [
    "\n",
    "service.delete()\n",
    "compute_target.delete()\n",
    "model.delete()"
   ]
  }
 ],
 "metadata": {
  "kernel_info": {
   "name": "python3"
  },
  "kernelspec": {
   "display_name": "Python 3",
   "language": "python",
   "name": "python3"
  },
  "language_info": {
   "codemirror_mode": {
    "name": "ipython",
    "version": 3
   },
   "file_extension": ".py",
   "mimetype": "text/x-python",
   "name": "python",
   "nbconvert_exporter": "python",
   "pygments_lexer": "ipython3",
   "version": "3.6.9"
  },
  "microsoft": {
   "host": {
    "AzureML": {
     "notebookHasBeenCompleted": true
    }
   }
  },
  "nteract": {
   "version": "nteract-front-end@1.0.0"
  }
 },
 "nbformat": 4,
 "nbformat_minor": 2
}
